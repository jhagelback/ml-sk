{
 "cells": [
  {
   "cell_type": "markdown",
   "metadata": {},
   "source": [
    "<h2>Load data</h2>"
   ]
  },
  {
   "cell_type": "code",
   "execution_count": 1,
   "metadata": {},
   "outputs": [],
   "source": [
    "from numpy import loadtxt\n",
    "\n",
    "# load data\n",
    "import pandas as pd\n",
    "# training data\n",
    "df = pd.read_csv('data_mnist/mnist_train_scaled_avg.csv')\n",
    "np_data = df.values\n",
    "# split data into X and y\n",
    "X = np_data[:,0:-1]\n",
    "Y = np_data[:,-1]\n",
    "\n",
    "# test data\n",
    "df_test = pd.read_csv('data_mnist/mnist_test_scaled_avg.csv')\n",
    "np_data_test = df_test.values\n",
    "# split data into X and y\n",
    "X_test = np_data_test[:,0:-1]\n",
    "Y_test = np_data_test[:,-1]\n",
    "\n",
    "# set seed to randomizer\n",
    "seed = 7"
   ]
  },
  {
   "cell_type": "markdown",
   "metadata": {},
   "source": [
    "<h2>Function for evaluating model accuracy</h2>"
   ]
  },
  {
   "cell_type": "code",
   "execution_count": 2,
   "metadata": {},
   "outputs": [],
   "source": [
    "from sklearn.metrics import accuracy_score\n",
    "from sklearn.model_selection import cross_val_predict\n",
    "from sklearn.metrics import confusion_matrix\n",
    "%matplotlib inline\n",
    "import matplotlib\n",
    "import matplotlib.pyplot as plt\n",
    "\n",
    "def evaluate(model):\n",
    "    print(\"-- Training data --\")\n",
    "    # train model on training dataset\n",
    "    model.fit(X, Y)\n",
    "    # evaluate dataset\n",
    "    y_pred = model.predict(X)\n",
    "    predictions = [round(value) for value in y_pred]\n",
    "    # calculate accuracy\n",
    "    accuracy = accuracy_score(Y, predictions)\n",
    "    print(\"Accuracy: %.2f%%\" % (accuracy * 100.0))\n",
    "    # confusion matrix\n",
    "    print(\"Confusion Matrix:\")\n",
    "    conf_mx = confusion_matrix(Y, y_pred)\n",
    "    print(conf_mx)\n",
    "    # Visualize (normalized) confusion matrix\n",
    "    row_sums = conf_mx.sum(axis=1, keepdims=True)\n",
    "    norm_conf_mx = conf_mx / row_sums\n",
    "    plt.matshow(norm_conf_mx, cmap=plt.cm.gray)\n",
    "    plt.show()\n",
    "    \n",
    "    print(\"\")\n",
    "    print(\"-- Test data --\")\n",
    "    # evaluate dataset\n",
    "    y_pred = model.predict(X_test)\n",
    "    predictions = [round(value) for value in y_pred]\n",
    "    # calculate accuracy\n",
    "    accuracy = accuracy_score(Y_test, predictions)\n",
    "    print(\"Accuracy: %.2f%%\" % (accuracy * 100.0))\n",
    "    # confusion matrix\n",
    "    print(\"Confusion Matrix:\")\n",
    "    conf_mx = confusion_matrix(Y_test, y_pred)\n",
    "    print(conf_mx)\n",
    "    # Visualize (normalized) confusion matrix\n",
    "    row_sums = conf_mx.sum(axis=1, keepdims=True)\n",
    "    norm_conf_mx = conf_mx / row_sums\n",
    "    plt.matshow(norm_conf_mx, cmap=plt.cm.gray)\n",
    "    plt.show()"
   ]
  },
  {
   "cell_type": "markdown",
   "metadata": {},
   "source": [
    "<h2>Linear classifier</h2>"
   ]
  },
  {
   "cell_type": "code",
   "execution_count": 3,
   "metadata": {},
   "outputs": [
    {
     "name": "stdout",
     "output_type": "stream",
     "text": [
      "-- Training data --\n",
      "Accuracy: 85.55%\n",
      "Confusion Matrix:\n",
      "[[5785    3   23   19   21   20   21   10   21    0]\n",
      " [   2 6597   33   10   14   39    3    7   37    0]\n",
      " [  41   60 5370   87  109   49   43   75  120    4]\n",
      " [  25   66  272 5223   48  297   30   57   98   15]\n",
      " [  44   41   35    3 5613   16   24   18   14   34]\n",
      " [  68   40   52  162  142 4531   86   60  254   26]\n",
      " [  46   34   88    5   65  127 5531    7   15    0]\n",
      " [  32   80   99   30  119   22    3 5822    8   50]\n",
      " [  84  453  141  142  278  626   58   51 3989   29]\n",
      " [  95  101   44   79 1719  363    0  662   15 2871]]\n"
     ]
    },
    {
     "data": {
      "image/png": "[encoded data removed]",
      "text/plain": [
       "<Figure size 288x288 with 1 Axes>"
      ]
     },
     "metadata": {},
     "output_type": "display_data"
    },
    {
     "name": "stdout",
     "output_type": "stream",
     "text": [
      "\n",
      "-- Test data --\n",
      "Accuracy: 85.84%\n",
      "Confusion Matrix:\n",
      "[[ 966    0    1    4    0    3    2    1    3    0]\n",
      " [   0 1117    3    1    0    4    2    1    7    0]\n",
      " [   7   13  916   18   19    8    8   12   30    1]\n",
      " [   3    3   34  877    5   57    2   13   13    3]\n",
      " [   6    2    5    1  945    2    8    1    6    6]\n",
      " [  11    5    8   27   28  743   15   16   38    1]\n",
      " [  14    3   14    2   12   30  883    0    0    0]\n",
      " [   3   19   26   10   17    2    0  944    1    6]\n",
      " [  14   42   19   17   64   93   17   17  686    5]\n",
      " [  15   14    3   11  283   70    0  104    2  507]]\n"
     ]
    },
    {
     "data": {
      "image/png": "[encoded data removed]",
      "text/plain": [
       "<Figure size 288x288 with 1 Axes>"
      ]
     },
     "metadata": {},
     "output_type": "display_data"
    }
   ],
   "source": [
    "from sklearn import linear_model\n",
    "\n",
    "# train model\n",
    "model = linear_model.SGDClassifier(max_iter=80, random_state=seed)\n",
    "evaluate(model)"
   ]
  },
  {
   "cell_type": "markdown",
   "metadata": {},
   "source": [
    "<h2>Neural Network classifier</h2>"
   ]
  },
  {
   "cell_type": "code",
   "execution_count": 4,
   "metadata": {},
   "outputs": [
    {
     "name": "stdout",
     "output_type": "stream",
     "text": [
      "-- Training data --\n",
      "Accuracy: 99.32%\n",
      "Confusion Matrix:\n",
      "[[5870    2    4    2    3    6   23    1    6    6]\n",
      " [   0 6741    0    0    0    1    0    0    0    0]\n",
      " [   2   13 5896   15    0    2    0   19    9    2]\n",
      " [   0    0    1 6107    0    6    1    7    6    3]\n",
      " [   0   10    1    2 5791    0    4    2    1   31]\n",
      " [   0    2    0   21    2 5390    1    3    2    0]\n",
      " [   3    0    2    0    2   14 5896    0    1    0]\n",
      " [   0   18    1    8    2    0    0 6227    0    9]\n",
      " [   1   25    1   15    1    7   10    0 5788    3]\n",
      " [   0    0    0   31    4    2    0   17    9 5886]]\n"
     ]
    },
    {
     "data": {
      "image/png": "[encoded data removed]",
      "text/plain": [
       "<Figure size 288x288 with 1 Axes>"
      ]
     },
     "metadata": {},
     "output_type": "display_data"
    },
    {
     "name": "stdout",
     "output_type": "stream",
     "text": [
      "\n",
      "-- Test data --\n",
      "Accuracy: 96.96%\n",
      "Confusion Matrix:\n",
      "[[ 961    0    1    3    1    3    5    3    1    2]\n",
      " [   0 1126    1    3    1    0    1    0    3    0]\n",
      " [   2    9  991   10    0    2    2   13    3    0]\n",
      " [   0    1    4  985    0   10    0    3    3    4]\n",
      " [   2    3    5    2  945    1    3    0    0   21]\n",
      " [   2    0    0   16    1  863    4    1    4    1]\n",
      " [   1    3    0    1    8    8  934    0    3    0]\n",
      " [   0    8    7    3    2    1    0  997    0   10]\n",
      " [   1    6    2    8    5    7    3    3  936    3]\n",
      " [   1    6    2   18   15    2    0    4    3  958]]\n"
     ]
    },
    {
     "data": {
      "image/png": "[encoded data removed]",
      "text/plain": [
       "<Figure size 288x288 with 1 Axes>"
      ]
     },
     "metadata": {},
     "output_type": "display_data"
    }
   ],
   "source": [
    "from sklearn.neural_network import MLPClassifier\n",
    "\n",
    "# train model\n",
    "model = MLPClassifier(random_state=seed)\n",
    "evaluate(model)"
   ]
  },
  {
   "cell_type": "markdown",
   "metadata": {},
   "source": [
    "<h2>XGBoost classifier</h2>"
   ]
  },
  {
   "cell_type": "code",
   "execution_count": 5,
   "metadata": {},
   "outputs": [
    {
     "name": "stdout",
     "output_type": "stream",
     "text": [
      "-- Training data --\n",
      "Accuracy: 94.52%\n",
      "Confusion Matrix:\n",
      "[[5800    2    6    7   12    9   19    5   58    5]\n",
      " [   2 6618   29   28   11   12   11   10   13    8]\n",
      " [  35   26 5609   51   50    6   34   72   61   14]\n",
      " [  15   38   98 5636    8  108   15   56   93   64]\n",
      " [  12   16   19    2 5497    5   35   15   32  209]\n",
      " [  34   22   12  113   22 5020   79   10   52   57]\n",
      " [  24   12   14    2   32   79 5710    1   43    1]\n",
      " [  14   28   73   25   57    4    0 5917   12  135]\n",
      " [  25   61   48   80   30   56   31    7 5406  107]\n",
      " [  24   21   19   72  121   32    3  123   38 5496]]\n"
     ]
    },
    {
     "data": {
      "image/png": "[encoded data removed]",
      "text/plain": [
       "<Figure size 288x288 with 1 Axes>"
      ]
     },
     "metadata": {},
     "output_type": "display_data"
    },
    {
     "name": "stdout",
     "output_type": "stream",
     "text": [
      "\n",
      "-- Test data --\n",
      "Accuracy: 93.97%\n",
      "Confusion Matrix:\n",
      "[[ 966    0    1    0    0    1    5    1    5    1]\n",
      " [   0 1119    3    1    0    2    4    2    4    0]\n",
      " [  11    2  957   15   10    0    8   11   14    4]\n",
      " [   5    2   12  930    1   12    3   14   20   11]\n",
      " [   1    0    2    0  905    2    9    3   12   48]\n",
      " [   7    2    2   24    3  811   14    4   16    9]\n",
      " [   8    4    2    0    4   12  917    2    8    1]\n",
      " [   3    5   21    4    4    0    0  962    5   24]\n",
      " [   6    4    6   12    5    8   10    6  897   20]\n",
      " [   7    7    3   12   17    7    0    8   15  933]]\n"
     ]
    },
    {
     "data": {
      "image/png": "[encoded data removed]",
      "text/plain": [
       "<Figure size 288x288 with 1 Axes>"
      ]
     },
     "metadata": {},
     "output_type": "display_data"
    }
   ],
   "source": [
    "from xgboost import XGBClassifier\n",
    "\n",
    "# Ignore deprecation warnings\n",
    "import warnings\n",
    "warnings.filterwarnings(\"ignore\", category=DeprecationWarning)\n",
    "\n",
    "# train model\n",
    "model = XGBClassifier(random_state=seed)\n",
    "evaluate(model)"
   ]
  },
  {
   "cell_type": "code",
   "execution_count": null,
   "metadata": {},
   "outputs": [],
   "source": []
  }
 ],
 "metadata": {
  "kernelspec": {
   "display_name": "Python 3",
   "language": "python",
   "name": "python3"
  },
  "language_info": {
   "codemirror_mode": {
    "name": "ipython",
    "version": 3
   },
   "file_extension": ".py",
   "mimetype": "text/x-python",
   "name": "python",
   "nbconvert_exporter": "python",
   "pygments_lexer": "ipython3",
   "version": "3.6.0b3"
  }
 },
 "nbformat": 4,
 "nbformat_minor": 2
}
