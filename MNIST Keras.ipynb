{
 "cells": [
  {
   "cell_type": "markdown",
   "metadata": {},
   "source": [
    "<h2>MNIST dataset in Keras library</h2>\n",
    "This code is a modified version of the code from this tutorial at <a href=\"https://elitedatascience.com/keras-tutorial-deep-learning-in-python\">EliteDataScience</a>."
   ]
  },
  {
   "cell_type": "markdown",
   "metadata": {},
   "source": [
    "<h2>Load data</h2>"
   ]
  },
  {
   "cell_type": "code",
   "execution_count": 1,
   "metadata": {},
   "outputs": [
    {
     "name": "stderr",
     "output_type": "stream",
     "text": [
      "Using TensorFlow backend.\n"
     ]
    },
    {
     "name": "stdout",
     "output_type": "stream",
     "text": [
      "Training instances: 60000\n",
      "Test instances: 10000\n",
      "\n",
      "Structure of training set: (60000, 28, 28)\n",
      "Structure of labels set: (60000,)\n"
     ]
    }
   ],
   "source": [
    "# set randomizer seed\n",
    "from numpy.random import seed\n",
    "seed(42)\n",
    "from tensorflow import set_random_seed\n",
    "set_random_seed(42)\n",
    "\n",
    "# Ignore future warnings\n",
    "import warnings\n",
    "warnings.filterwarnings(\"ignore\", category=FutureWarning)\n",
    "\n",
    "from keras.utils import np_utils\n",
    "from keras.datasets import mnist\n",
    "import numpy as np\n",
    "import tensorflow as tf\n",
    "\n",
    "# Load pre-shuffled MNIST data into train and test sets\n",
    "(X_train_raw, y_train_raw), (X_test_raw, y_test_raw) = mnist.load_data()\n",
    "\n",
    "print(\"Training instances: {}\".format(X_train_raw.shape[0]))\n",
    "print(\"Test instances: {}\".format(X_test_raw.shape[0]))\n",
    "print()\n",
    "print(\"Structure of training set: {}\".format(X_train_raw.shape))\n",
    "print(\"Structure of labels set: {}\".format(y_train_raw.shape))"
   ]
  },
  {
   "cell_type": "markdown",
   "metadata": {},
   "source": [
    "<h2>Build models</h2>"
   ]
  },
  {
   "cell_type": "code",
   "execution_count": 2,
   "metadata": {},
   "outputs": [],
   "source": [
    "from keras.models import Sequential\n",
    "from keras.layers import Dense, Dropout, Activation, Flatten\n",
    "from keras.layers import Convolution2D, MaxPooling2D\n",
    "import time\n",
    "\n",
    "def build_model(X_train, Y_train, type='Linear'):\n",
    "    # Start timer\n",
    "    start = time.time()\n",
    "\n",
    "    model = Sequential()\n",
    "    \n",
    "    # define models\n",
    "    if type == 'Linear':\n",
    "        # Linear Softmax\n",
    "        print(\"Using model Linear\")\n",
    "        model.add(Dense(10, input_dim=784, activation='softmax'))\n",
    "    if type == 'NN':\n",
    "        # NN with 1 hidden layer\n",
    "        print(\"Using model NN\")\n",
    "        model.add(Dense(256, input_dim=784, activation='relu'))\n",
    "        model.add(Dropout(0.2))\n",
    "        model.add(Dense(10, activation='softmax'))\n",
    "    if (type == 'ConvNet'):\n",
    "        # Convolutional Neural Network\n",
    "        print(\"Using model ConvNet\")\n",
    "        # TensorFlow uses: input_shape=(28,28,1)\n",
    "        # Theano uses: input_shape=(1,28,28)\n",
    "        model.add(Convolution2D(32, (5,5), activation='relu', input_shape=(28,28,1)))\n",
    "        model.add(MaxPooling2D(pool_size=(2,2))) #reduces size to 14x14\n",
    "        model.add(Convolution2D(32, (5,5), activation='relu'))\n",
    "        model.add(MaxPooling2D(pool_size=(2,2))) #reduces size to 7x7\n",
    "        #fully connected layers\n",
    "        model.add(Flatten())\n",
    "        model.add(Dense(256, activation='relu'))\n",
    "        model.add(Dropout(0.3))\n",
    "        model.add(Dense(10, activation='softmax'))\n",
    "\n",
    "    # Compile model\n",
    "    model.compile(loss='categorical_crossentropy', optimizer='adam', metrics=['accuracy'])\n",
    "\n",
    "    # Train model on training data\n",
    "    model.fit(X_train, Y_train, batch_size=100, epochs=20, verbose=1)\n",
    " \n",
    "    # Evaluate model on test data\n",
    "    loss, acc = model.evaluate(X_test, Y_test, verbose=0)\n",
    "\n",
    "    # Stop timer\n",
    "    end = time.time()\n",
    "\n",
    "    # Print results\n",
    "    print(\"\\nTest Accuracy: {0:0.2f}%\".format(acc * 100))\n",
    "    print(\"Test Loss: {0:0.4f}\".format(loss))\n",
    "    print(\"Time elapsed: {0:0.2f} sec\".format(end - start))\n",
    "    \n",
    "    return model"
   ]
  },
  {
   "cell_type": "markdown",
   "metadata": {},
   "source": [
    "<h2>Linear Softmax model</h2>"
   ]
  },
  {
   "cell_type": "code",
   "execution_count": 3,
   "metadata": {},
   "outputs": [
    {
     "name": "stdout",
     "output_type": "stream",
     "text": [
      "Using model Linear\n",
      "Epoch 1/20\n",
      "60000/60000 [==============================] - 1s 15us/step - loss: 0.6322 - acc: 0.8417\n",
      "Epoch 2/20\n",
      "60000/60000 [==============================] - 1s 23us/step - loss: 0.3466 - acc: 0.9058\n",
      "Epoch 3/20\n",
      "60000/60000 [==============================] - 1s 16us/step - loss: 0.3096 - acc: 0.9141\n",
      "Epoch 4/20\n",
      "60000/60000 [==============================] - 1s 12us/step - loss: 0.2923 - acc: 0.9182\n",
      "Epoch 5/20\n",
      "60000/60000 [==============================] - 1s 12us/step - loss: 0.2821 - acc: 0.9217\n",
      "Epoch 6/20\n",
      "60000/60000 [==============================] - 1s 14us/step - loss: 0.2744 - acc: 0.9235\n",
      "Epoch 7/20\n",
      "60000/60000 [==============================] - 1s 14us/step - loss: 0.2700 - acc: 0.9254\n",
      "Epoch 8/20\n",
      "60000/60000 [==============================] - 1s 15us/step - loss: 0.2652 - acc: 0.9264\n",
      "Epoch 9/20\n",
      "60000/60000 [==============================] - 1s 12us/step - loss: 0.2620 - acc: 0.9276\n",
      "Epoch 10/20\n",
      "60000/60000 [==============================] - 1s 12us/step - loss: 0.2592 - acc: 0.9276\n",
      "Epoch 11/20\n",
      "60000/60000 [==============================] - 1s 12us/step - loss: 0.2567 - acc: 0.9292\n",
      "Epoch 12/20\n",
      "60000/60000 [==============================] - 1s 12us/step - loss: 0.2547 - acc: 0.9296\n",
      "Epoch 13/20\n",
      "60000/60000 [==============================] - 1s 12us/step - loss: 0.2527 - acc: 0.9298\n",
      "Epoch 14/20\n",
      "60000/60000 [==============================] - 1s 12us/step - loss: 0.2511 - acc: 0.9303\n",
      "Epoch 15/20\n",
      "60000/60000 [==============================] - 1s 12us/step - loss: 0.2494 - acc: 0.9309\n",
      "Epoch 16/20\n",
      "60000/60000 [==============================] - 1s 14us/step - loss: 0.2481 - acc: 0.9317\n",
      "Epoch 17/20\n",
      "60000/60000 [==============================] - 1s 15us/step - loss: 0.2469 - acc: 0.9319\n",
      "Epoch 18/20\n",
      "60000/60000 [==============================] - 1s 12us/step - loss: 0.2459 - acc: 0.9323\n",
      "Epoch 19/20\n",
      "60000/60000 [==============================] - 1s 12us/step - loss: 0.2447 - acc: 0.9327\n",
      "Epoch 20/20\n",
      "60000/60000 [==============================] - 1s 13us/step - loss: 0.2439 - acc: 0.9330\n",
      "\n",
      "Test Accuracy: 92.85%\n",
      "Test Loss: 0.2607\n",
      "Time elapsed: 16.41 sec\n"
     ]
    }
   ],
   "source": [
    "# Preprocess input data\n",
    "X_train = X_train_raw.reshape(X_train_raw.shape[0], 784)\n",
    "X_test = X_test_raw.reshape(X_test_raw.shape[0], 784)\n",
    "\n",
    "X_train = X_train.astype('float32')\n",
    "X_test = X_test.astype('float32')\n",
    "# Normalize values to 0...1\n",
    "X_train /= 255 \n",
    "X_test /= 255\n",
    " \n",
    "# Preprocess class labels\n",
    "# Convert labels to 10-dimensional one-hot vectors\n",
    "Y_train = np_utils.to_categorical(y_train_raw, 10)\n",
    "Y_test = np_utils.to_categorical(y_test_raw, 10)\n",
    "\n",
    "# build and evaluate model\n",
    "model = build_model(X_train, Y_train, 'Linear')"
   ]
  },
  {
   "cell_type": "markdown",
   "metadata": {},
   "source": [
    "<h2>Neural Network model</h2>"
   ]
  },
  {
   "cell_type": "code",
   "execution_count": 4,
   "metadata": {},
   "outputs": [
    {
     "name": "stdout",
     "output_type": "stream",
     "text": [
      "Using model NN\n",
      "Epoch 1/20\n",
      "60000/60000 [==============================] - 3s 42us/step - loss: 0.3162 - acc: 0.9106\n",
      "Epoch 2/20\n",
      "60000/60000 [==============================] - 2s 39us/step - loss: 0.1432 - acc: 0.9582\n",
      "Epoch 3/20\n",
      "60000/60000 [==============================] - 2s 39us/step - loss: 0.1028 - acc: 0.9697\n",
      "Epoch 4/20\n",
      "60000/60000 [==============================] - 2s 40us/step - loss: 0.0805 - acc: 0.9755\n",
      "Epoch 5/20\n",
      "60000/60000 [==============================] - 3s 47us/step - loss: 0.0663 - acc: 0.9794\n",
      "Epoch 6/20\n",
      "60000/60000 [==============================] - 2s 39us/step - loss: 0.0542 - acc: 0.9837\n",
      "Epoch 7/20\n",
      "60000/60000 [==============================] - 2s 39us/step - loss: 0.0478 - acc: 0.9848\n",
      "Epoch 8/20\n",
      "60000/60000 [==============================] - 2s 38us/step - loss: 0.0400 - acc: 0.9876\n",
      "Epoch 9/20\n",
      "60000/60000 [==============================] - 2s 39us/step - loss: 0.0359 - acc: 0.9888\n",
      "Epoch 10/20\n",
      "60000/60000 [==============================] - 2s 39us/step - loss: 0.0293 - acc: 0.9908\n",
      "Epoch 11/20\n",
      "60000/60000 [==============================] - 2s 39us/step - loss: 0.0279 - acc: 0.9909\n",
      "Epoch 12/20\n",
      "60000/60000 [==============================] - 2s 39us/step - loss: 0.0245 - acc: 0.9921\n",
      "Epoch 13/20\n",
      "60000/60000 [==============================] - 3s 47us/step - loss: 0.0239 - acc: 0.9921\n",
      "Epoch 14/20\n",
      "60000/60000 [==============================] - 3s 42us/step - loss: 0.0208 - acc: 0.9933\n",
      "Epoch 15/20\n",
      "60000/60000 [==============================] - 2s 40us/step - loss: 0.0166 - acc: 0.9945\n",
      "Epoch 16/20\n",
      "60000/60000 [==============================] - 2s 40us/step - loss: 0.0177 - acc: 0.9945\n",
      "Epoch 17/20\n",
      "60000/60000 [==============================] - 2s 40us/step - loss: 0.0170 - acc: 0.9940\n",
      "Epoch 18/20\n",
      "60000/60000 [==============================] - 3s 44us/step - loss: 0.0154 - acc: 0.9949\n",
      "Epoch 19/20\n",
      "60000/60000 [==============================] - 2s 41us/step - loss: 0.0150 - acc: 0.9948\n",
      "Epoch 20/20\n",
      "60000/60000 [==============================] - 3s 43us/step - loss: 0.0114 - acc: 0.9965\n",
      "\n",
      "Test Accuracy: 98.15%\n",
      "Test Loss: 0.0695\n",
      "Time elapsed: 49.58 sec\n"
     ]
    }
   ],
   "source": [
    "# Preprocess input data\n",
    "X_train = X_train_raw.reshape(X_train_raw.shape[0], 784)\n",
    "X_test = X_test_raw.reshape(X_test_raw.shape[0], 784)\n",
    "\n",
    "X_train = X_train.astype('float32')\n",
    "X_test = X_test.astype('float32')\n",
    "# Normalize values to 0...1\n",
    "X_train /= 255 \n",
    "X_test /= 255\n",
    " \n",
    "# Preprocess class labels\n",
    "# Convert labels to 10-dimensional one-hot vectors\n",
    "Y_train = np_utils.to_categorical(y_train_raw, 10)\n",
    "Y_test = np_utils.to_categorical(y_test_raw, 10)\n",
    "\n",
    "# build and evaluate model\n",
    "model = build_model(X_train, Y_train, 'NN')"
   ]
  },
  {
   "cell_type": "markdown",
   "metadata": {},
   "source": [
    "<h2>ConvNet model</h2>"
   ]
  },
  {
   "cell_type": "code",
   "execution_count": 5,
   "metadata": {},
   "outputs": [
    {
     "name": "stdout",
     "output_type": "stream",
     "text": [
      "Using model ConvNet\n",
      "Epoch 1/20\n",
      "60000/60000 [==============================] - 36s 596us/step - loss: 0.2097 - acc: 0.9363\n",
      "Epoch 2/20\n",
      "60000/60000 [==============================] - 41s 675us/step - loss: 0.0573 - acc: 0.9827\n",
      "Epoch 3/20\n",
      "60000/60000 [==============================] - 40s 665us/step - loss: 0.0403 - acc: 0.9877\n",
      "Epoch 4/20\n",
      "60000/60000 [==============================] - 40s 666us/step - loss: 0.0310 - acc: 0.9902\n",
      "Epoch 5/20\n",
      "60000/60000 [==============================] - 40s 671us/step - loss: 0.0261 - acc: 0.9918\n",
      "Epoch 6/20\n",
      "60000/60000 [==============================] - 41s 684us/step - loss: 0.0225 - acc: 0.9931\n",
      "Epoch 7/20\n",
      "60000/60000 [==============================] - 40s 666us/step - loss: 0.0186 - acc: 0.9940\n",
      "Epoch 8/20\n",
      "60000/60000 [==============================] - 39s 645us/step - loss: 0.0160 - acc: 0.9950\n",
      "Epoch 9/20\n",
      "60000/60000 [==============================] - 39s 644us/step - loss: 0.0144 - acc: 0.9956\n",
      "Epoch 10/20\n",
      "60000/60000 [==============================] - 39s 649us/step - loss: 0.0129 - acc: 0.9959\n",
      "Epoch 11/20\n",
      "60000/60000 [==============================] - 39s 645us/step - loss: 0.0115 - acc: 0.9961\n",
      "Epoch 12/20\n",
      "60000/60000 [==============================] - 42s 698us/step - loss: 0.0109 - acc: 0.9963\n",
      "Epoch 13/20\n",
      "60000/60000 [==============================] - 39s 647us/step - loss: 0.0088 - acc: 0.9970\n",
      "Epoch 14/20\n",
      "60000/60000 [==============================] - 40s 675us/step - loss: 0.0090 - acc: 0.9972\n",
      "Epoch 15/20\n",
      "60000/60000 [==============================] - 39s 653us/step - loss: 0.0083 - acc: 0.9972\n",
      "Epoch 16/20\n",
      "60000/60000 [==============================] - 39s 646us/step - loss: 0.0064 - acc: 0.9979\n",
      "Epoch 17/20\n",
      "60000/60000 [==============================] - 39s 648us/step - loss: 0.0075 - acc: 0.9974\n",
      "Epoch 18/20\n",
      "60000/60000 [==============================] - 39s 649us/step - loss: 0.0060 - acc: 0.9980\n",
      "Epoch 19/20\n",
      "60000/60000 [==============================] - 39s 649us/step - loss: 0.0065 - acc: 0.9979\n",
      "Epoch 20/20\n",
      "60000/60000 [==============================] - 39s 644us/step - loss: 0.0058 - acc: 0.9979\n",
      "\n",
      "Test Accuracy: 99.28%\n",
      "Test Loss: 0.0315\n",
      "Time elapsed: 789.73 sec\n"
     ]
    }
   ],
   "source": [
    "from keras.models import Sequential\n",
    "from keras.layers import Dense, Dropout, Activation, Flatten\n",
    "from keras.layers import Convolution2D, MaxPooling2D\n",
    "import time\n",
    "\n",
    "# Start timer\n",
    "start = time.time()\n",
    "\n",
    "# Preprocess input data\n",
    "# Depending on the backend we need to set different image dimensions\n",
    "# TensorFlow uses: X_train.reshape(X_train.shape[0], 28, 28, 1)\n",
    "# Theano uses: X_train.reshape(X_train.shape[0], 1, 28, 28)\n",
    "X_train = X_train_raw.reshape(X_train_raw.shape[0], 28, 28, 1)\n",
    "X_test = X_test_raw.reshape(X_test_raw.shape[0], 28, 28, 1)\n",
    "\n",
    "X_train = X_train.astype('float32')\n",
    "X_test = X_test.astype('float32')\n",
    "# Normalize values to 0...1\n",
    "X_train /= 255 \n",
    "X_test /= 255\n",
    " \n",
    "# Preprocess class labels\n",
    "# Convert labels to 10-dimensional one-hot vectors\n",
    "Y_train = np_utils.to_categorical(y_train_raw, 10)\n",
    "Y_test = np_utils.to_categorical(y_test_raw, 10)\n",
    "\n",
    "# build and evaluate model\n",
    "model = build_model(X_train, Y_train, 'ConvNet')"
   ]
  },
  {
   "cell_type": "markdown",
   "metadata": {},
   "source": [
    "<h2>Plot examples</h2>"
   ]
  },
  {
   "cell_type": "code",
   "execution_count": 5,
   "metadata": {},
   "outputs": [
    {
     "name": "stdout",
     "output_type": "stream",
     "text": [
      "Label: 5\n"
     ]
    },
    {
     "data": {
      "image/png": "[encoded data removed]",
      "text/plain": [
       "<Figure size 432x288 with 1 Axes>"
      ]
     },
     "metadata": {},
     "output_type": "display_data"
    },
    {
     "name": "stdout",
     "output_type": "stream",
     "text": [
      "Label: 0\n"
     ]
    },
    {
     "data": {
      "image/png": "[encoded data removed]",
      "text/plain": [
       "<Figure size 432x288 with 1 Axes>"
      ]
     },
     "metadata": {},
     "output_type": "display_data"
    },
    {
     "name": "stdout",
     "output_type": "stream",
     "text": [
      "Label: 4\n"
     ]
    },
    {
     "data": {
      "image/png": "[encoded data removed]",
      "text/plain": [
       "<Figure size 432x288 with 1 Axes>"
      ]
     },
     "metadata": {},
     "output_type": "display_data"
    },
    {
     "name": "stdout",
     "output_type": "stream",
     "text": [
      "Label: 1\n"
     ]
    },
    {
     "data": {
      "image/png": "[encoded data removed]",
      "text/plain": [
       "<Figure size 432x288 with 1 Axes>"
      ]
     },
     "metadata": {},
     "output_type": "display_data"
    },
    {
     "name": "stdout",
     "output_type": "stream",
     "text": [
      "Label: 9\n"
     ]
    },
    {
     "data": {
      "image/png": "[encoded data removed]",
      "text/plain": [
       "<Figure size 432x288 with 1 Axes>"
      ]
     },
     "metadata": {},
     "output_type": "display_data"
    }
   ],
   "source": [
    "from matplotlib import pyplot as plt\n",
    "\n",
    "# Plot 5 first images\n",
    "for i in range(5):\n",
    "    print(\"Label: {}\".format(y_train_raw[i]))\n",
    "    plt.imshow(X_train_raw[i], cmap=plt.cm.Blues)\n",
    "    plt.show()"
   ]
  },
  {
   "cell_type": "code",
   "execution_count": 13,
   "metadata": {},
   "outputs": [
    {
     "name": "stdout",
     "output_type": "stream",
     "text": [
      "Label: 6\n"
     ]
    },
    {
     "data": {
      "image/png": "[encoded data removed]",
      "text/plain": [
       "<Figure size 432x288 with 1 Axes>"
      ]
     },
     "metadata": {},
     "output_type": "display_data"
    },
    {
     "name": "stdout",
     "output_type": "stream",
     "text": [
      "Predicted 834 :  6\n",
      "Actual 834 : 6\n"
     ]
    }
   ],
   "source": [
    "from matplotlib import pyplot as plt\n",
    "\n",
    "i = 834\n",
    "print(\"Label: {}\".format(y_test_raw[i]))\n",
    "plt.imshow(X_test_raw[i], cmap=plt.cm.Blues)\n",
    "plt.show()\n",
    "\n",
    "X_p = np.asarray([X_test[i]])\n",
    "pred = model.predict(X_p)\n",
    "predicted_label = np.argmax(pred[0])\n",
    "print(\"Predicted\", i, \": \", predicted_label)\n",
    "print(\"Actual\", i, \":\", y_test_raw[i])"
   ]
  },
  {
   "cell_type": "code",
   "execution_count": null,
   "metadata": {},
   "outputs": [],
   "source": []
  }
 ],
 "metadata": {
  "kernelspec": {
   "display_name": "Python 3",
   "language": "python",
   "name": "python3"
  },
  "language_info": {
   "codemirror_mode": {
    "name": "ipython",
    "version": 3
   },
   "file_extension": ".py",
   "mimetype": "text/x-python",
   "name": "python",
   "nbconvert_exporter": "python",
   "pygments_lexer": "ipython3",
   "version": "3.7.2"
  }
 },
 "nbformat": 4,
 "nbformat_minor": 2
}
