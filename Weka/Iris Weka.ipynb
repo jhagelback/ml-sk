{
 "cells": [
  {
   "cell_type": "markdown",
   "metadata": {},
   "source": [
    "# Iris dataset in Weka"
   ]
  },
  {
   "cell_type": "markdown",
   "metadata": {},
   "source": [
    "### Import weka and libraries"
   ]
  },
  {
   "cell_type": "code",
   "execution_count": 1,
   "metadata": {},
   "outputs": [],
   "source": [
    "%maven nz.ac.waikato.cms.weka:weka-stable:3.8.3\n",
    "\n",
    "import java.text.DecimalFormat;\n",
    "import weka.core.*;\n",
    "import weka.core.converters.ConverterUtils;\n",
    "import weka.classifiers.bayes.*;\n",
    "import weka.classifiers.trees.*;\n",
    "import weka.classifiers.lazy.IBk;\n",
    "import weka.classifiers.*;"
   ]
  },
  {
   "cell_type": "markdown",
   "metadata": {},
   "source": [
    "### Read data"
   ]
  },
  {
   "cell_type": "code",
   "execution_count": 2,
   "metadata": {},
   "outputs": [],
   "source": [
    "// Read data file\n",
    "ConverterUtils.DataSource source = new ConverterUtils.DataSource(\"../data/iris.arff\");\n",
    "Instances data = source.getDataSet();\n",
    "// Set class index to last\n",
    "data.setClassIndex(data.numAttributes() - 1);"
   ]
  },
  {
   "cell_type": "markdown",
   "metadata": {},
   "source": [
    "### Build classifier"
   ]
  },
  {
   "cell_type": "code",
   "execution_count": 3,
   "metadata": {},
   "outputs": [],
   "source": [
    "Classifier cl = new RandomForest();\n",
    "cl.buildClassifier(data);     "
   ]
  },
  {
   "cell_type": "markdown",
   "metadata": {},
   "source": [
    "### Evaluate results"
   ]
  },
  {
   "cell_type": "code",
   "execution_count": 4,
   "metadata": {},
   "outputs": [
    {
     "name": "stdout",
     "output_type": "stream",
     "text": [
      "\n",
      "Correctly Classified Instances         144               96      %\n",
      "Incorrectly Classified Instances         6                4      %\n",
      "Kappa statistic                          0.94  \n",
      "Mean absolute error                      0.0393\n",
      "Root mean squared error                  0.1555\n",
      "Relative absolute error                  8.85   %\n",
      "Root relative squared error             32.9785 %\n",
      "Total Number of Instances              150     \n",
      "\n",
      "=== Confusion Matrix ===\n",
      "\n",
      "  a  b  c   <-- classified as\n",
      " 50  0  0 |  a = Iris-setosa\n",
      "  0 47  3 |  b = Iris-versicolor\n",
      "  0  3 47 |  c = Iris-virginica\n",
      "\n"
     ]
    }
   ],
   "source": [
    "Evaluation eval = new Evaluation(data);\n",
    "eval.crossValidateModel(cl, data, 5, new java.util.Random(1));\n",
    "         \n",
    "// Outputs all accuracy metrics and confusion matrix\n",
    "System.out.println(eval.toSummaryString());\n",
    "System.out.println(eval.toMatrixString());     "
   ]
  },
  {
   "cell_type": "code",
   "execution_count": null,
   "metadata": {},
   "outputs": [],
   "source": []
  }
 ],
 "metadata": {
  "kernelspec": {
   "display_name": "Java",
   "language": "java",
   "name": "java"
  },
  "language_info": {
   "codemirror_mode": "java",
   "file_extension": ".jshell",
   "mimetype": "text/x-java-source",
   "name": "Java",
   "pygments_lexer": "java",
   "version": "11.0.4+11-LTS"
  }
 },
 "nbformat": 4,
 "nbformat_minor": 2
}
