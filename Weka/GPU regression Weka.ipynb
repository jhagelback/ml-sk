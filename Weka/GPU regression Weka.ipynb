{
 "cells": [
  {
   "cell_type": "markdown",
   "metadata": {},
   "source": [
    "# Regression on the GPUbenchmark dataset in Weka"
   ]
  },
  {
   "cell_type": "markdown",
   "metadata": {},
   "source": [
    "### Import weka and libraries"
   ]
  },
  {
   "cell_type": "code",
   "execution_count": 1,
   "metadata": {},
   "outputs": [],
   "source": [
    "%maven nz.ac.waikato.cms.weka:weka-stable:3.8.3\n",
    "\n",
    "import java.text.DecimalFormat;\n",
    "import weka.core.*;\n",
    "import weka.core.converters.ConverterUtils;\n",
    "import weka.classifiers.bayes.*;\n",
    "import weka.classifiers.trees.*;\n",
    "import weka.classifiers.lazy.IBk;\n",
    "import weka.classifiers.*;"
   ]
  },
  {
   "cell_type": "markdown",
   "metadata": {},
   "source": [
    "### Read data"
   ]
  },
  {
   "cell_type": "code",
   "execution_count": 2,
   "metadata": {},
   "outputs": [],
   "source": [
    "static Instances readData() {\n",
    "    try {\n",
    "        // Read data file\n",
    "        ConverterUtils.DataSource source = new ConverterUtils.DataSource(\"../data/GPUbenchmark.arff\");\n",
    "        Instances data = source.getDataSet();\n",
    "        // Set class index to last\n",
    "        data.setClassIndex(data.numAttributes() - 1);\n",
    "        // Return dataset\n",
    "        return data;\n",
    "    }\n",
    "    catch (Exception ex) {\n",
    "        ex.printStackTrace();\n",
    "        return null;\n",
    "    }\n",
    "}"
   ]
  },
  {
   "cell_type": "markdown",
   "metadata": {},
   "source": [
    "### Test regression"
   ]
  },
  {
   "cell_type": "code",
   "execution_count": 4,
   "metadata": {},
   "outputs": [
    {
     "name": "stdout",
     "output_type": "stream",
     "text": [
      "Predicted: 112,97 (actual 158.0) -> Diff 45,03 (28,50%)\n",
      "Predicted: 123,63 (actual 126.0) -> Diff 2,37 (1,88%)\n",
      "Predicted: 52,27 (actual 76.0) -> Diff 23,73 (31,23%)\n",
      "Predicted: 69,17 (actual 98.7) -> Diff 29,53 (29,92%)\n",
      "Predicted: 97,37 (actual 114.0) -> Diff 16,63 (14,59%)\n",
      "Predicted: 102,40 (actual 98.9) -> Diff 3,50 (3,54%)\n",
      "Predicted: 69,23 (actual 70.6) -> Diff 1,37 (1,94%)\n",
      "Predicted: 57,43 (actual 67.2) -> Diff 9,77 (14,53%)\n",
      "Predicted: 56,33 (actual 63.8) -> Diff 7,47 (11,70%)\n",
      "Predicted: 51,67 (actual 60.9) -> Diff 9,23 (15,16%)\n",
      "Predicted: 48,70 (actual 48.1) -> Diff 0,60 (1,25%)\n",
      "Predicted: 37,80 (actual 44.9) -> Diff 7,10 (15,81%)\n",
      "Predicted: 39,57 (actual 40.3) -> Diff 0,73 (1,82%)\n",
      "Predicted: 39,60 (actual 39.5) -> Diff 0,10 (0,25%)\n",
      "Predicted: 36,03 (actual 38.8) -> Diff 2,77 (7,13%)\n",
      "Predicted: 40,30 (actual 37.4) -> Diff 2,90 (7,75%)\n",
      "Predicted: 40,60 (actual 36.5) -> Diff 4,10 (11,23%)\n",
      "Predicted: 48,77 (actual 34.6) -> Diff 14,17 (40,94%)\n",
      "Predicted: 38,07 (actual 33.2) -> Diff 4,87 (14,66%)\n",
      "Average diff: 9,79 Squared diff: 15,05 (13,36%)\n"
     ]
    }
   ],
   "source": [
    "double avg_diff = 0.0;\n",
    "double sq_diff = 0.0;\n",
    "double avg_diff_perc = 0.0;\n",
    "DecimalFormat df = new DecimalFormat(\"0.00\"); \n",
    "\n",
    "try {\n",
    "    for (int i = 0; i < 19; i++) {\n",
    "        //Read data\n",
    "        Instances data = readData();\n",
    "                \n",
    "        //Optional: remove unnecessary attributes\n",
    "        //data.deleteAttributeAt(1);\n",
    "\n",
    "        //Remove instance\n",
    "        Instance inst = data.remove(i);\n",
    "\n",
    "        Classifier cl = new IBk(3);\n",
    "        cl.buildClassifier(data);\n",
    "\n",
    "        //Actual and predicted benchmark values\n",
    "        double estimated = cl.classifyInstance(inst);\n",
    "        double actual = inst.classValue();\n",
    "\n",
    "        //Diffs\n",
    "        double diff = Math.abs(estimated - actual);\n",
    "        sq_diff += Math.pow(estimated - actual, 2);\n",
    "        avg_diff += diff;\n",
    "        double diff_perc = diff / actual * 100.0;\n",
    "        avg_diff_perc += diff_perc;\n",
    "\n",
    "        //Output\n",
    "        System.out.println(\"Predicted: \" + df.format(estimated) + \" (actual \" + actual + \") -> Diff \" + df.format(diff) + \" (\" + df.format(diff_perc) + \"%)\");\n",
    "    }\n",
    "    avg_diff /= 19;\n",
    "    sq_diff = Math.sqrt(sq_diff / 19);\n",
    "    avg_diff_perc /= 19;\n",
    "    System.out.println(\"Average diff: \" + df.format(avg_diff) + \" Squared diff: \" + df.format(sq_diff) + \" (\" + df.format(avg_diff_perc) + \"%)\");\n",
    "} \n",
    "catch (Exception ex) {\n",
    "    ex.printStackTrace();\n",
    "}"
   ]
  },
  {
   "cell_type": "code",
   "execution_count": null,
   "metadata": {},
   "outputs": [],
   "source": []
  }
 ],
 "metadata": {
  "kernelspec": {
   "display_name": "Java",
   "language": "java",
   "name": "java"
  },
  "language_info": {
   "codemirror_mode": "java",
   "file_extension": ".jshell",
   "mimetype": "text/x-java-source",
   "name": "Java",
   "pygments_lexer": "java",
   "version": "11.0.3+12-LTS"
  }
 },
 "nbformat": 4,
 "nbformat_minor": 2
}
