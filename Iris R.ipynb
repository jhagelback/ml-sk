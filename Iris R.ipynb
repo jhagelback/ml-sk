{
 "cells": [
  {
   "cell_type": "markdown",
   "metadata": {
    "kernel": "R"
   },
   "source": [
    "# Iris dataset in R"
   ]
  },
  {
   "cell_type": "markdown",
   "metadata": {
    "kernel": "SoS"
   },
   "source": [
    "### Load data"
   ]
  },
  {
   "cell_type": "code",
   "execution_count": 2,
   "metadata": {
    "kernel": "R"
   },
   "outputs": [],
   "source": [
    "# Load the ML library\n",
    "library(caret)\n",
    "library(randomForest)\n",
    "\n",
    "# Read the dataset\n",
    "dataset <- read.csv(\"data/iris.csv\")\n",
    "\n",
    "# Split into 20% validation and 80% training\n",
    "val_index <- createDataPartition(dataset$species, p=0.80, list=FALSE)\n",
    "validation <- dataset[-val_index,]\n",
    "training <- dataset[val_index,]\n",
    "\n",
    "# Train ML models and estimate accuracy on test data\n",
    "# Setup 10-fold cross validation\n",
    "control <- trainControl(method=\"cv\", number=10)\n",
    "metric <- \"Accuracy\"\n",
    "\n",
    "# Set randomizer seed\n",
    "set.seed(7)"
   ]
  },
  {
   "cell_type": "markdown",
   "metadata": {
    "kernel": "R"
   },
   "source": [
    "### Train classifiers "
   ]
  },
  {
   "cell_type": "code",
   "execution_count": 3,
   "metadata": {
    "kernel": "R"
   },
   "outputs": [],
   "source": [
    "# Classification and Regression Trees (CART)\n",
    "fit.cart <- train(species~., data=training, method=\"rpart\", metric=metric, trControl=control)\n",
    "# k-Nearest Neighbors (kNN)\n",
    "fit.knn <- train(species~., data=training, method=\"knn\", metric=metric, trControl=control)\n",
    "# Random Forest\n",
    "fit.rf <- train(species~., data=training, method=\"rf\", metric=metric, trControl=control)"
   ]
  },
  {
   "cell_type": "markdown",
   "metadata": {
    "kernel": "R"
   },
   "source": [
    "### Evaluate results"
   ]
  },
  {
   "cell_type": "code",
   "execution_count": 4,
   "metadata": {
    "kernel": "R"
   },
   "outputs": [
    {
     "data": {
      "text/plain": [
       "\n",
       "Call:\n",
       "summary.resamples(object = results)\n",
       "\n",
       "Models: cart, knn, rf \n",
       "Number of resamples: 10 \n",
       "\n",
       "Accuracy \n",
       "          Min.   1st Qu.    Median      Mean   3rd Qu. Max. NA's\n",
       "cart 0.9166667 0.9166667 0.9166667 0.9416667 0.9791667    1    0\n",
       "knn  0.9166667 0.9166667 1.0000000 0.9666667 1.0000000    1    0\n",
       "rf   0.8333333 0.9166667 1.0000000 0.9583333 1.0000000    1    0\n",
       "\n",
       "Kappa \n",
       "      Min. 1st Qu. Median   Mean 3rd Qu. Max. NA's\n",
       "cart 0.875   0.875  0.875 0.9125 0.96875    1    0\n",
       "knn  0.875   0.875  1.000 0.9500 1.00000    1    0\n",
       "rf   0.750   0.875  1.000 0.9375 1.00000    1    0\n"
      ]
     },
     "metadata": {},
     "output_type": "display_data"
    }
   ],
   "source": [
    "# Evaluate the models and check which one is best\n",
    "# Summarize accuracy of the models\n",
    "results <- resamples(list(cart=fit.cart, knn=fit.knn, rf=fit.rf))\n",
    "summary(results)"
   ]
  },
  {
   "cell_type": "markdown",
   "metadata": {
    "kernel": "R"
   },
   "source": [
    "### Evaluate best model on validation set"
   ]
  },
  {
   "cell_type": "code",
   "execution_count": 6,
   "metadata": {
    "kernel": "R"
   },
   "outputs": [
    {
     "data": {
      "text/plain": [
       "Confusion Matrix and Statistics\n",
       "\n",
       "                 Reference\n",
       "Prediction        Iris-setosa Iris-versicolor Iris-virginica\n",
       "  Iris-setosa              10               0              0\n",
       "  Iris-versicolor           0               9              1\n",
       "  Iris-virginica            0               1              9\n",
       "\n",
       "Overall Statistics\n",
       "                                          \n",
       "               Accuracy : 0.9333          \n",
       "                 95% CI : (0.7793, 0.9918)\n",
       "    No Information Rate : 0.3333          \n",
       "    P-Value [Acc > NIR] : 8.747e-12       \n",
       "                                          \n",
       "                  Kappa : 0.9             \n",
       " Mcnemar's Test P-Value : NA              \n",
       "\n",
       "Statistics by Class:\n",
       "\n",
       "                     Class: Iris-setosa Class: Iris-versicolor\n",
       "Sensitivity                      1.0000                 0.9000\n",
       "Specificity                      1.0000                 0.9500\n",
       "Pos Pred Value                   1.0000                 0.9000\n",
       "Neg Pred Value                   1.0000                 0.9500\n",
       "Prevalence                       0.3333                 0.3333\n",
       "Detection Rate                   0.3333                 0.3000\n",
       "Detection Prevalence             0.3333                 0.3333\n",
       "Balanced Accuracy                1.0000                 0.9250\n",
       "                     Class: Iris-virginica\n",
       "Sensitivity                         0.9000\n",
       "Specificity                         0.9500\n",
       "Pos Pred Value                      0.9000\n",
       "Neg Pred Value                      0.9500\n",
       "Prevalence                          0.3333\n",
       "Detection Rate                      0.3000\n",
       "Detection Prevalence                0.3333\n",
       "Balanced Accuracy                   0.9250"
      ]
     },
     "metadata": {},
     "output_type": "display_data"
    }
   ],
   "source": [
    "# Use the best model and evaluate on the validation dataset\n",
    "predictions <- predict(fit.knn, validation)\n",
    "confusionMatrix(predictions, validation$species)"
   ]
  },
  {
   "cell_type": "code",
   "execution_count": null,
   "metadata": {
    "kernel": "R"
   },
   "outputs": [],
   "source": []
  }
 ],
 "metadata": {
  "kernelspec": {
   "display_name": "R",
   "language": "R",
   "name": "ir"
  },
  "language_info": {
   "codemirror_mode": "sos",
   "file_extension": ".sos",
   "mimetype": "text/x-sos",
   "name": "sos",
   "nbconvert_exporter": "sos_notebook.converter.SoS_Exporter",
   "pygments_lexer": "sos"
  },
  "sos": {
   "kernels": [
    [
     "R",
     "ir",
     "R",
     "#DCDCDA",
     "r"
    ]
   ],
   "panel": {
    "displayed": false,
    "height": 0
   },
   "version": "0.19.9"
  }
 },
 "nbformat": 4,
 "nbformat_minor": 2
}
