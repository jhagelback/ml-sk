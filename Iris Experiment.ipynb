{
 "cells": [
  {
   "cell_type": "markdown",
   "metadata": {},
   "source": [
    "## Load data"
   ]
  },
  {
   "cell_type": "code",
   "execution_count": 1,
   "metadata": {},
   "outputs": [
    {
     "name": "stdout",
     "output_type": "stream",
     "text": [
      "Attributes: 4\n",
      "Examples: 150\n",
      "Unique labels: [0 1 2]\n"
     ]
    }
   ],
   "source": [
    "import pandas as pd\n",
    "import numpy as np\n",
    "from sklearn.utils import shuffle\n",
    "from sklearn.preprocessing import LabelEncoder\n",
    "\n",
    "# Load data\n",
    "data = pd.read_csv('data-A4/iris.csv').values\n",
    "\n",
    "# Split data into X and y\n",
    "X = data[:,0:-1].astype(float)\n",
    "y_raw = data[:,-1]\n",
    "\n",
    "# Converts label strings to integers\n",
    "encoder = LabelEncoder()\n",
    "encoder.fit(y_raw)\n",
    "y = encoder.transform(y_raw)\n",
    "\n",
    "print(\"Attributes: {}\".format(X.shape[1]))\n",
    "print(\"Examples: {}\".format(X.shape[0]))\n",
    "print(\"Unique labels: {}\".format(np.unique(y)))"
   ]
  },
  {
   "cell_type": "markdown",
   "metadata": {},
   "source": [
    "## Iris classifier\n",
    "Iris classifier using hand-crafted rules"
   ]
  },
  {
   "cell_type": "code",
   "execution_count": 4,
   "metadata": {},
   "outputs": [],
   "source": [
    "#\n",
    "# Manually defined rule-based Iris classifier\n",
    "#\n",
    "class IrisClassifier():\n",
    "    def __init__(self):\n",
    "        self.means = [0, 0, 0]\n",
    "        self.stdevs = [0, 0, 0]\n",
    "        \n",
    "    # Trains a model on inputs X and labels y\n",
    "    def fit(self, X, y):\n",
    "        # Split into species\n",
    "        X_set = X[0:50]\n",
    "        X_ver = X[50:100]\n",
    "        X_vir = X[100:150]\n",
    "        \n",
    "        self.means[0] = np.mean(X_set, axis=0)\n",
    "        self.means[1] = np.mean(X_ver, axis=0)\n",
    "        self.means[2] = np.mean(X_vir, axis=0)\n",
    "        self.stdevs[0] = np.std(X_set, axis=0)\n",
    "        self.stdevs[1] = np.std(X_ver, axis=0)\n",
    "        self.stdevs[2] = np.std(X_vir, axis=0)\n",
    "        \n",
    "        self.print_attr(\"Setosa\", 0)\n",
    "        self.print_attr(\"Versicolor\", 1)\n",
    "        self.print_attr(\"Virginica\", 2)\n",
    "        \n",
    "        print(\"\\nRules:\")\n",
    "        print(\"\\t    if: (petal_width < 1.0) → Setosa\")\n",
    "        print(\"\\telseif: (petal_length < 4.87 and petal_width < 1.64) → Versicolor\")\n",
    "        print(\"\\t  else:  → Virginica\")\n",
    "    \n",
    "    # Prints statistics for a species\n",
    "    def print_attr(self, label, i):\n",
    "        print(label + \":\")\n",
    "        print(\"\\tsepal_length: {0:.3f} ±{1:.3f} ({2:.3f} to {3:.3f})\".format(self.means[i][0], self.stdevs[i][0], self.means[i][0] - self.stdevs[i][0], self.means[i][0] + self.stdevs[i][0]))\n",
    "        print(\"\\tsepal_width:  {0:.3f} ±{1:.3f} ({2:.3f} to {3:.3f})\".format(self.means[i][1], self.stdevs[i][1], self.means[i][1] - self.stdevs[i][1], self.means[i][1] + self.stdevs[i][1]))\n",
    "        print(\"\\tpetal_length: {0:.3f} ±{1:.3f} ({2:.3f} to {3:.3f})\".format(self.means[i][2], self.stdevs[i][2], self.means[i][2] - self.stdevs[i][2], self.means[i][2] + self.stdevs[i][2]))\n",
    "        print(\"\\tpetal_width:  {0:.3f} ±{1:.3f} ({2:.3f} to {3:.3f})\".format(self.means[i][3], self.stdevs[i][3], self.means[i][3] - self.stdevs[i][3], self.means[i][3] + self.stdevs[i][3]))\n",
    "        \n",
    "    # Predicts a list of input examples\n",
    "    def predict(self, X):\n",
    "        preds = []\n",
    "        for r in range(0, len(X)):\n",
    "            xi = X[r]\n",
    "            \n",
    "            # Rule 1: Setosa has very low petal width\n",
    "            if xi[3] < 1.0:\n",
    "                preds.append(0)\n",
    "            # Rule 2: Versicolor has lower petal length and width\n",
    "            # compared to Virginica\n",
    "            elif xi[2] < 4.87 and xi[3] < 1.64:\n",
    "                preds.append(1)\n",
    "            # Rule 3: If not Rule 1 or 2 applies, predict as Virginica\n",
    "            else:\n",
    "                preds.append(2)\n",
    "            \n",
    "        return preds"
   ]
  },
  {
   "cell_type": "markdown",
   "metadata": {},
   "source": [
    "## Evaluation"
   ]
  },
  {
   "cell_type": "code",
   "execution_count": 5,
   "metadata": {
    "scrolled": true
   },
   "outputs": [
    {
     "name": "stdout",
     "output_type": "stream",
     "text": [
      "Setosa:\n",
      "\tsepal_length: 5.006 ±0.349 (4.657 to 5.355)\n",
      "\tsepal_width:  3.418 ±0.377 (3.041 to 3.795)\n",
      "\tpetal_length: 1.464 ±0.172 (1.292 to 1.636)\n",
      "\tpetal_width:  0.244 ±0.106 (0.138 to 0.350)\n",
      "Versicolor:\n",
      "\tsepal_length: 5.936 ±0.511 (5.425 to 6.447)\n",
      "\tsepal_width:  2.770 ±0.311 (2.459 to 3.081)\n",
      "\tpetal_length: 4.260 ±0.465 (3.795 to 4.725)\n",
      "\tpetal_width:  1.326 ±0.196 (1.130 to 1.522)\n",
      "Virginica:\n",
      "\tsepal_length: 6.588 ±0.629 (5.959 to 7.217)\n",
      "\tsepal_width:  2.974 ±0.319 (2.655 to 3.293)\n",
      "\tpetal_length: 5.552 ±0.546 (5.006 to 6.098)\n",
      "\tpetal_width:  2.026 ±0.272 (1.754 to 2.298)\n",
      "\n",
      "Rules:\n",
      "\t    if: (petal_width < 1.0) → Setosa\n",
      "\telseif: (petal_length < 4.87 and petal_width < 1.64) → Versicolor\n",
      "\t  else:  → Virginica\n",
      "\n",
      "Accuracy: 96.67%\n",
      "\n",
      "Confusion Matrix:\n",
      "[[50  0  0]\n",
      " [ 0 45  5]\n",
      " [ 0  0 50]]\n"
     ]
    }
   ],
   "source": [
    "from sklearn.metrics import accuracy_score\n",
    "from sklearn.metrics import confusion_matrix\n",
    "\n",
    "# Init and train classifier\n",
    "model = IrisClassifier()\n",
    "model.fit(X, y)\n",
    "\n",
    "# Predict all data\n",
    "preds = model.predict(X)\n",
    "\n",
    "# Calculate accuracy score\n",
    "accuracy = accuracy_score(y, preds)\n",
    "print(\"\\nAccuracy: {0:.2f}%\".format(accuracy*100))\n",
    "\n",
    "# Confusion Matrix\n",
    "print(\"\\nConfusion Matrix:\")\n",
    "print(confusion_matrix(y, preds))"
   ]
  },
  {
   "cell_type": "code",
   "execution_count": null,
   "metadata": {},
   "outputs": [],
   "source": []
  }
 ],
 "metadata": {
  "kernelspec": {
   "display_name": "Python 3",
   "language": "python",
   "name": "python3"
  },
  "language_info": {
   "codemirror_mode": {
    "name": "ipython",
    "version": 3
   },
   "file_extension": ".py",
   "mimetype": "text/x-python",
   "name": "python",
   "nbconvert_exporter": "python",
   "pygments_lexer": "ipython3",
   "version": "3.7.3"
  }
 },
 "nbformat": 4,
 "nbformat_minor": 2
}
