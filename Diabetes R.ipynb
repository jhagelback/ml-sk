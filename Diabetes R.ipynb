{
 "cells": [
  {
   "cell_type": "markdown",
   "metadata": {},
   "source": [
    "# Diabetes dataset in R"
   ]
  },
  {
   "cell_type": "markdown",
   "metadata": {},
   "source": [
    "### Load data"
   ]
  },
  {
   "cell_type": "code",
   "execution_count": 6,
   "metadata": {},
   "outputs": [],
   "source": [
    "# Load the ML library\n",
    "library(caret)\n",
    "library(randomForest)\n",
    "\n",
    "# Read the dataset\n",
    "dataset <- read.csv(\"data/diabetes.csv\")\n",
    "\n",
    "# Split into 20% validation and 80% training\n",
    "val_index <- createDataPartition(dataset$Diabetes, p=0.80, list=FALSE)\n",
    "validation <- dataset[-val_index,]\n",
    "training <- dataset[val_index,]\n",
    "\n",
    "# Train ML models and estimate accuracy on test data\n",
    "# Setup 10-fold cross validation\n",
    "control <- trainControl(method=\"cv\", number=10)\n",
    "metric <- \"Accuracy\"\n",
    "\n",
    "# Set randomizer seed\n",
    "set.seed(7)"
   ]
  },
  {
   "cell_type": "markdown",
   "metadata": {},
   "source": [
    "### Train classifiers"
   ]
  },
  {
   "cell_type": "code",
   "execution_count": 10,
   "metadata": {},
   "outputs": [],
   "source": [
    "# Support Vector Machines\n",
    "fit.svm <- train(Diabetes~., data=training, method=\"svmRadial\", metric=metric, trControl=control)\n",
    "# k-Nearest Neighbors (kNN)\n",
    "fit.nn <- train(Diabetes~., data=training, method=\"nnet\", metric=metric, trControl=control, trace=FALSE)\n",
    "# Random Forest\n",
    "fit.rf <- train(Diabetes~., data=training, method=\"rf\", metric=metric, trControl=control)"
   ]
  },
  {
   "cell_type": "markdown",
   "metadata": {},
   "source": [
    "### Evaluate results"
   ]
  },
  {
   "cell_type": "code",
   "execution_count": 11,
   "metadata": {},
   "outputs": [
    {
     "data": {
      "text/plain": [
       "\n",
       "Call:\n",
       "summary.resamples(object = results)\n",
       "\n",
       "Models: svm, nn, rf \n",
       "Number of resamples: 10 \n",
       "\n",
       "Accuracy \n",
       "         Min.   1st Qu.    Median      Mean   3rd Qu.      Max. NA's\n",
       "svm 0.6612903 0.6734532 0.6774194 0.6895029 0.7049180 0.7377049    0\n",
       "nn  0.6065574 0.6316103 0.7071655 0.7056584 0.7812665 0.8196721    0\n",
       "rf  0.6774194 0.7550899 0.7741935 0.7643046 0.7894632 0.8360656    0\n",
       "\n",
       "Kappa \n",
       "          Min.   1st Qu.    Median      Mean   3rd Qu.      Max. NA's\n",
       "svm 0.17771883 0.2014659 0.2301454 0.2408175 0.2721525 0.3612565    0\n",
       "nn  0.07575758 0.1546760 0.3098351 0.3288915 0.5011757 0.5960265    0\n",
       "rf  0.29545455 0.4594563 0.4801791 0.4705629 0.5235120 0.6369048    0\n"
      ]
     },
     "metadata": {},
     "output_type": "display_data"
    }
   ],
   "source": [
    "# Evaluate the models and check which one is best\n",
    "# Summarize accuracy of the models\n",
    "results <- resamples(list(svm=fit.svm, nn=fit.nn, rf=fit.rf))\n",
    "summary(results)"
   ]
  },
  {
   "cell_type": "markdown",
   "metadata": {},
   "source": [
    "### Evaluate best model on validation set"
   ]
  },
  {
   "cell_type": "code",
   "execution_count": 12,
   "metadata": {},
   "outputs": [
    {
     "data": {
      "text/plain": [
       "Confusion Matrix and Statistics\n",
       "\n",
       "          Reference\n",
       "Prediction NO YES\n",
       "       NO  84  21\n",
       "       YES 16  32\n",
       "                                          \n",
       "               Accuracy : 0.7582          \n",
       "                 95% CI : (0.6824, 0.8237)\n",
       "    No Information Rate : 0.6536          \n",
       "    P-Value [Acc > NIR] : 0.003479        \n",
       "                                          \n",
       "                  Kappa : 0.4538          \n",
       " Mcnemar's Test P-Value : 0.510798        \n",
       "                                          \n",
       "            Sensitivity : 0.8400          \n",
       "            Specificity : 0.6038          \n",
       "         Pos Pred Value : 0.8000          \n",
       "         Neg Pred Value : 0.6667          \n",
       "             Prevalence : 0.6536          \n",
       "         Detection Rate : 0.5490          \n",
       "   Detection Prevalence : 0.6863          \n",
       "      Balanced Accuracy : 0.7219          \n",
       "                                          \n",
       "       'Positive' Class : NO              \n",
       "                                          "
      ]
     },
     "metadata": {},
     "output_type": "display_data"
    }
   ],
   "source": [
    "# Use the best model and evaluate on the validation dataset\n",
    "predictions <- predict(fit.rf, validation)\n",
    "confusionMatrix(predictions, validation$Diabetes)"
   ]
  },
  {
   "cell_type": "code",
   "execution_count": null,
   "metadata": {},
   "outputs": [],
   "source": []
  }
 ],
 "metadata": {
  "kernelspec": {
   "display_name": "R",
   "language": "R",
   "name": "ir"
  },
  "language_info": {
   "codemirror_mode": "r",
   "file_extension": ".r",
   "mimetype": "text/x-r-source",
   "name": "R",
   "pygments_lexer": "r",
   "version": "3.4.2"
  }
 },
 "nbformat": 4,
 "nbformat_minor": 2
}
