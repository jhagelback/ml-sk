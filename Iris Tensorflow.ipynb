{
 "cells": [
  {
   "cell_type": "markdown",
   "metadata": {},
   "source": [
    "<h2>Load data</h2>\n",
    "CSV files are easiest to read using pandas"
   ]
  },
  {
   "cell_type": "code",
   "execution_count": 1,
   "metadata": {},
   "outputs": [],
   "source": [
    "from numpy import loadtxt\n",
    "from __future__ import absolute_import\n",
    "from __future__ import division\n",
    "from __future__ import print_function\n",
    "\n",
    "import os\n",
    "import numpy as np\n",
    "import tensorflow as tf\n",
    "\n",
    "# load data\n",
    "import pandas as pd\n",
    "df_train = pd.read_csv('data/iris_training.csv')\n",
    "df_test = pd.read_csv('data/iris_test.csv')\n",
    "\n",
    "# split data into X and y\n",
    "X_train = np.float32(df_train.values[:,0:-1])\n",
    "Y_train = np.int32(df_train.values[:,-1])\n",
    "X_test = np.float32(df_test.values[:,0:-1])\n",
    "Y_test = np.int32(df_test.values[:,-1])\n",
    "\n",
    "# Specify that all features have real-value data\n",
    "feature_columns = [tf.feature_column.numeric_column(\"x\", shape=[4])]\n",
    "\n",
    "# Disable the extensive logging info\n",
    "tf.logging.set_verbosity(tf.logging.ERROR)"
   ]
  },
  {
   "cell_type": "markdown",
   "metadata": {},
   "source": [
    "<h2>Function for training and evaluating a classifier</h2>"
   ]
  },
  {
   "cell_type": "code",
   "execution_count": 2,
   "metadata": {},
   "outputs": [],
   "source": [
    "def evaluate(classifier):\n",
    "    # Define the training inputs\n",
    "    train_input_fn = tf.estimator.inputs.numpy_input_fn(\n",
    "      x={\"x\": X_train},\n",
    "      y=Y_train,\n",
    "      num_epochs=None,\n",
    "      shuffle=True)\n",
    "\n",
    "    # Train model.\n",
    "    classifier.train(input_fn=train_input_fn, steps=3000)\n",
    "\n",
    "    # Define the test inputs\n",
    "    test_input_fn = tf.estimator.inputs.numpy_input_fn(\n",
    "      x={\"x\": X_test},\n",
    "      y=Y_test,\n",
    "      num_epochs=1,\n",
    "      shuffle=False)\n",
    "\n",
    "    tr_input_fn = tf.estimator.inputs.numpy_input_fn(\n",
    "      x={\"x\": X_train},\n",
    "      y=Y_train,\n",
    "      num_epochs=1,\n",
    "      shuffle=False)\n",
    "\n",
    "    # Evaluate accuracy\n",
    "    train_accuracy = classifier.evaluate(input_fn=tr_input_fn)[\"accuracy\"]\n",
    "    test_accuracy = classifier.evaluate(input_fn=test_input_fn)[\"accuracy\"]\n",
    "    # Print results\n",
    "    print(\"Training Accuracy: {0:0.2f}%\".format(train_accuracy * 100))\n",
    "    print(\"Test Accuracy: {0:0.2f}%\".format(test_accuracy * 100))"
   ]
  },
  {
   "cell_type": "markdown",
   "metadata": {},
   "source": [
    "<h2>Linear classifier</h2>"
   ]
  },
  {
   "cell_type": "code",
   "execution_count": 6,
   "metadata": {},
   "outputs": [
    {
     "name": "stdout",
     "output_type": "stream",
     "text": [
      "Training Accuracy: 98.33%\n",
      "Test Accuracy: 96.67%\n"
     ]
    }
   ],
   "source": [
    "# Build a linear classifier\n",
    "classifier = tf.estimator.LinearClassifier(feature_columns=feature_columns,n_classes=3,model_dir=\"/tmp/iris-linear_model\")\n",
    "evaluate(classifier)"
   ]
  },
  {
   "cell_type": "markdown",
   "metadata": {},
   "source": [
    "<h2>Deep Neural Network</h2>"
   ]
  },
  {
   "cell_type": "code",
   "execution_count": 5,
   "metadata": {},
   "outputs": [
    {
     "name": "stdout",
     "output_type": "stream",
     "text": [
      "Training Accuracy: 99.17%\n",
      "Test Accuracy: 96.67%\n"
     ]
    }
   ],
   "source": [
    "# Build 3 layer DNN with 10, 20, 10 units\n",
    "classifier = tf.estimator.DNNClassifier(feature_columns=feature_columns,hidden_units=[10, 20, 10],n_classes=3,model_dir=\"/tmp/iris-dnn_model\")\n",
    "evaluate(classifier)"
   ]
  },
  {
   "cell_type": "code",
   "execution_count": null,
   "metadata": {},
   "outputs": [],
   "source": []
  }
 ],
 "metadata": {
  "kernelspec": {
   "display_name": "Python 3",
   "language": "python",
   "name": "python3"
  },
  "language_info": {
   "codemirror_mode": {
    "name": "ipython",
    "version": 3
   },
   "file_extension": ".py",
   "mimetype": "text/x-python",
   "name": "python",
   "nbconvert_exporter": "python",
   "pygments_lexer": "ipython3",
   "version": "3.6.0b3"
  }
 },
 "nbformat": 4,
 "nbformat_minor": 2
}
