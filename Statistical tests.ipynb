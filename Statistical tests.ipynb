{
 "cells": [
  {
   "cell_type": "markdown",
   "metadata": {},
   "source": [
    "<h1>Normality Tests</h1>\n",
    "Tests whether a data sample has a Gaussian distribution.\n",
    "\n",
    "Assumptions\n",
    "\n",
    "<ul><li>Observations in each sample are independent and identically distributed (iid).</li></ul>\n",
    "\n",
    "Interpretation\n",
    "\n",
    "<ul><li>H0: the sample has a Gaussian distribution.</li>\n",
    "    <li>H1: the sample does not have a Gaussian distribution.</li></ul>"
   ]
  },
  {
   "cell_type": "markdown",
   "metadata": {},
   "source": [
    "<h3>Shapiro-Wilk Test</h3>"
   ]
  },
  {
   "cell_type": "code",
   "execution_count": 1,
   "metadata": {},
   "outputs": [
    {
     "name": "stdout",
     "output_type": "stream",
     "text": [
      "H0 is accepted with p=0.922\n",
      "The data is normally distributed\n"
     ]
    }
   ],
   "source": [
    "#Example of normally distributed data\n",
    "data1 = [65.0, 61.0, 63.0, 86.0, 70.0, 55.0, 74.0, 35.0, 72.0, 68.0, 45.0, 58.0]\n",
    "#Example of not-normally distributed data\n",
    "#data1 = [1.0, 10.0, 1.0, 10.0, 1.0, 10.0, 1.0, -10.0, 1.0, -10.0, 1.0, 1.0]\n",
    "\n",
    "from scipy.stats import shapiro\n",
    "stat, p = shapiro(data1)\n",
    "if (p > 0.05):\n",
    "    print(\"H0 is accepted with p=%.3f\" %(p))\n",
    "    print(\"The data is normally distributed\")\n",
    "else:\n",
    "    print(\"H0 is rejected with p=%.3f\" %(p))\n",
    "    print(\"The data is not normally distributed\")"
   ]
  },
  {
   "cell_type": "markdown",
   "metadata": {},
   "source": [
    "<h3>D’Agostino’s K^2 Test</h3>\n",
    "Requires a samplesize of n>=20"
   ]
  },
  {
   "cell_type": "code",
   "execution_count": 2,
   "metadata": {},
   "outputs": [
    {
     "name": "stdout",
     "output_type": "stream",
     "text": [
      "H0 is accepted with p=0.514\n",
      "The data is normally distributed\n"
     ]
    },
    {
     "name": "stderr",
     "output_type": "stream",
     "text": [
      "/opt/conda/lib/python3.7/site-packages/scipy/stats/stats.py:1450: UserWarning: kurtosistest only valid for n>=20 ... continuing anyway, n=12\n",
      "  \"anyway, n=%i\" % int(n))\n"
     ]
    }
   ],
   "source": [
    "#Example of normally distributed data\n",
    "data1 = [65.0, 61.0, 63.0, 86.0, 70.0, 55.0, 74.0, 35.0, 72.0, 68.0, 45.0, 58.0]\n",
    "#Example of not-normally distributed data\n",
    "#data1 = [1.0, 10.0, 1.0, 10.0, 1.0, 10.0, 1.0, -10.0, 1.0, -10.0, 1.0, 1.0]\n",
    "\n",
    "from scipy.stats import normaltest\n",
    "stat, p = normaltest(data1)\n",
    "if (p > 0.05):\n",
    "    print(\"H0 is accepted with p=%.3f\" %(p))\n",
    "    print(\"The data is normally distributed\")\n",
    "else:\n",
    "    print(\"H0 is rejected with p=%.3f\" %(p))\n",
    "    print(\"The data is not normally distributed\")"
   ]
  },
  {
   "cell_type": "markdown",
   "metadata": {},
   "source": [
    "<h1>Correlation Tests</h1>\n",
    "This section lists statistical tests that you can use to check if two samples are related."
   ]
  },
  {
   "cell_type": "markdown",
   "metadata": {},
   "source": [
    "<h3>Pearson’s Correlation Coefficient</h3>\n",
    "\n",
    "Tests whether two samples have a monotonic relationship.\n",
    "\n",
    "Assumptions\n",
    "\n",
    "<ul>\n",
    "    <li>Observations in each sample are independent and identically distributed (iid).</li>\n",
    "    <li>Observations in each sample are normally distributed.</li>\n",
    "    <li>Observations in each sample have the same variance.</li>\n",
    "    </ul>\n",
    "    \n",
    "Interpretation\n",
    "\n",
    "<ul>\n",
    "    <li>H0: the two samples are independent.</li>\n",
    "    <li>H1: there is a dependency between the samples.</li>\n",
    "    </ul>"
   ]
  },
  {
   "cell_type": "code",
   "execution_count": 3,
   "metadata": {},
   "outputs": [
    {
     "name": "stdout",
     "output_type": "stream",
     "text": [
      "H1 is accepted with p=0.027\n",
      "There is a correlation between the datasets with R=0.862\n"
     ]
    }
   ],
   "source": [
    "from scipy.stats import pearsonr\n",
    "\n",
    "#Example of correlated data\n",
    "data1 = [3.0, 5.0, 4.0, 4.0, 2.0, 3.0]\n",
    "data2 = [86.0, 95.0, 92.0, 83.0, 78.0, 82.0]\n",
    "\n",
    "#Example of not-correlated data\n",
    "#data1 = [3.0, 5.0, 4.0, 4.0, 2.0, 3.0]\n",
    "#data2 = [6.0, 2.0, 7.0, 2.0, 2.0, 6.0]\n",
    "\n",
    "corr, p = pearsonr(data1, data2)\n",
    "\n",
    "if (p < 0.05):\n",
    "    print(\"H1 is accepted with p=%.3f\" %(p))\n",
    "    print(\"There is a correlation between the datasets with R=%.3f\" % (corr))\n",
    "else:\n",
    "    print(\"H1 is rejected with p=%.3f\" %(p))\n",
    "    print(\"There is no correlation between the datasets (R=%.3f)\" % (corr))"
   ]
  },
  {
   "cell_type": "markdown",
   "metadata": {},
   "source": [
    "<h3>Spearman’s Rank Correlation</h3>\n",
    "\n",
    "Tests whether two samples have a monotonic relationship.\n",
    "\n",
    "Assumptions\n",
    "\n",
    "<ul>\n",
    "    <li>Observations in each sample are independent and identically distributed (iid).</li>\n",
    "    <li>Observations in each sample can be ranked.</li>\n",
    "</ul>\n",
    "   \n",
    "Interpretation\n",
    "\n",
    "<ul>\n",
    "    <li>H0: the two samples are independent.</li>\n",
    "    <li>H1: there is a dependency between the samples.</li>\n",
    "</ul>"
   ]
  },
  {
   "cell_type": "code",
   "execution_count": 4,
   "metadata": {},
   "outputs": [
    {
     "name": "stdout",
     "output_type": "stream",
     "text": [
      "H1 is accepted with p=0.031\n",
      "There is a correlation between the datasets with R=0.853\n"
     ]
    }
   ],
   "source": [
    "from scipy.stats import spearmanr\n",
    "\n",
    "#Example of correlated data\n",
    "data1 = [3.0, 5.0, 4.0, 4.0, 2.0, 3.0]\n",
    "data2 = [86.0, 95.0, 92.0, 83.0, 78.0, 82.0]\n",
    "\n",
    "#Example of not-correlated data\n",
    "#data1 = [3.0, 5.0, 4.0, 4.0, 2.0, 3.0]\n",
    "#data2 = [6.0, 2.0, 7.0, 2.0, 2.0, 6.0]\n",
    "\n",
    "corr, p = spearmanr(data1, data2)\n",
    "\n",
    "if (p < 0.05):\n",
    "    print(\"H1 is accepted with p=%.3f\" %(p))\n",
    "    print(\"There is a correlation between the datasets with R=%.3f\" % (corr))\n",
    "else:\n",
    "    print(\"H1 is rejected with p=%.3f\" %(p))\n",
    "    print(\"There is no correlation between the datasets (R=%.3f)\" % (corr))"
   ]
  },
  {
   "cell_type": "markdown",
   "metadata": {},
   "source": [
    "<h1>Equal Variances Tests</h1>"
   ]
  },
  {
   "cell_type": "markdown",
   "metadata": {},
   "source": [
    "<h3>Levene’s Test</h3>\n",
    "The Levene test tests the null hypothesis that all input samples are from populations with equal variances.\n",
    "\n",
    "Interpretation\n",
    "\n",
    "<ul>\n",
    "    <li>H0: all input samples are from populations with equal variances.</li>\n",
    "    <li>H1: all input samples are from populations with unequal variances.</li>\n",
    "</ul>"
   ]
  },
  {
   "cell_type": "code",
   "execution_count": 5,
   "metadata": {},
   "outputs": [
    {
     "name": "stdout",
     "output_type": "stream",
     "text": [
      "H1 is rejected with p=0.773\n",
      "The datasets have equal variances\n"
     ]
    }
   ],
   "source": [
    "from scipy.stats import levene\n",
    "\n",
    "#Example of datasets with equal variances\n",
    "data1 = [13, 17, 19, 11, 20, 15, 18, 9, 12, 16]\n",
    "data2 = [12, 8, 6, 16, 12, 14, 10, 18, 4, 11]\n",
    "\n",
    "#Example of datasets with unequal variances\n",
    "#data1 = [13, 17, 19, 11, 20, 15, 18, 9, 12, 16]\n",
    "#data2 = [12, 13, 12, 12, 12, 14, 12, 11, 12, 11]\n",
    "\n",
    "stat, p = levene(data1, data2)\n",
    "\n",
    "if (p < 0.05):\n",
    "    print(\"H1 is accepted with p=%.3f\" %(p))\n",
    "    print(\"The datasets have unequal variances\")\n",
    "else:\n",
    "    print(\"H1 is rejected with p=%.3f\" %(p))\n",
    "    print(\"The datasets have equal variances\")"
   ]
  },
  {
   "cell_type": "markdown",
   "metadata": {},
   "source": [
    "<h1>Parametric Statistical Hypothesis Tests</h1>\n",
    "This section lists statistical tests that you can use to compare data samples."
   ]
  },
  {
   "cell_type": "markdown",
   "metadata": {},
   "source": [
    "<h3>T-test</h3>\n",
    "(Student’s t-test)\n",
    "\n",
    "Tests whether the means of two independent samples are significantly different.\n",
    "\n",
    "Assumptions\n",
    "\n",
    "<ul>\n",
    "    <li>Observations in each sample are independent and identically distributed (iid).</li>\n",
    "    <li>Observations in each sample are normally distributed.</li>\n",
    "    <li>Observations in each sample have the same variance.</li>\n",
    "</ul>\n",
    "\n",
    "Interpretation\n",
    "\n",
    "<ul>\n",
    "    <li>H0: the means of the samples are equal.</li>\n",
    "    <li>H1: the means of the samples are unequal.</li>\n",
    "</ul>"
   ]
  },
  {
   "cell_type": "code",
   "execution_count": 6,
   "metadata": {},
   "outputs": [
    {
     "name": "stdout",
     "output_type": "stream",
     "text": [
      "Mean set 1: 15.000\n",
      "Mean set 2: 11.100\n",
      "\n",
      "H1 is accepted with p=0.043\n",
      "There is a significant difference between the means of the datasets\n"
     ]
    }
   ],
   "source": [
    "from scipy.stats import ttest_ind\n",
    "\n",
    "#Example of datasets with difference between the means\n",
    "data1 = [13.0, 17.0, 19.0, 11.0, 20.0, 15.0, 18.0, 9.0, 12.0, 16.0]\n",
    "data2 = [12.0, 8.0, 6.0, 16.0, 12.0, 14.0, 10.0, 18.0, 4.0, 11.0]\n",
    "\n",
    "#Example of datasets with no difference between the means\n",
    "#data1 = [13.0, 17.0, 19.0, 11.0, 20.0, 15.0, 18.0, 9.0, 12.0, 16.0]\n",
    "#data2 = [14.0, 16.0, 18.0, 12.0, 20.0, 15.0, 19.0, 7.0, 14.0, 16.0]\n",
    "\n",
    "stat, p = ttest_ind(data1, data2)\n",
    "\n",
    "import numpy as np\n",
    "print(\"Mean set 1: %.3f\" %(np.array(data1).mean()))\n",
    "print(\"Mean set 2: %.3f\" %(np.array(data2).mean()))\n",
    "print(\"\")\n",
    "\n",
    "if (p < 0.05):\n",
    "    print(\"H1 is accepted with p=%.3f\" %(p))\n",
    "    print(\"There is a significant difference between the means of the datasets\")\n",
    "else:\n",
    "    print(\"H1 is rejected with p=%.3f\" %(p))\n",
    "    print(\"There is no significant difference between the datasets\")"
   ]
  },
  {
   "cell_type": "markdown",
   "metadata": {},
   "source": [
    "<h3>Paired t-test</h3>\n",
    "(Paired Student’s t-test)\n",
    "\n",
    "Tests whether the means of two paired samples are significantly different.\n",
    "\n",
    "Assumptions\n",
    "\n",
    "<ul>\n",
    "    <li>Observations in each sample are independent and identically distributed (iid).</li>\n",
    "    <li>Observations in each sample are normally distributed.</li>\n",
    "    <li>Observations in each sample have the same variance.</li>\n",
    "    <li>Observations across each sample are paired.</li>\n",
    "</ul>\n",
    "\n",
    "Interpretation\n",
    "\n",
    "<ul>\n",
    "    <li>H0: the means of the samples are equal.</li>\n",
    "    <li>H1: the means of the samples are unequal.</li>\n",
    "</ul>"
   ]
  },
  {
   "cell_type": "code",
   "execution_count": 64,
   "metadata": {},
   "outputs": [
    {
     "name": "stdout",
     "output_type": "stream",
     "text": [
      "Mean set 1: 207.933\n",
      "Mean set 2: 197.000\n",
      "\n",
      "H1 is accepted with p=0.000\n",
      "There is a significant difference between the means of the datasets\n"
     ]
    }
   ],
   "source": [
    "from scipy.stats import ttest_rel\n",
    "\n",
    "#Example of datasets with difference between the means\n",
    "data1 = [210.0, 205.0, 193.0, 182.0, 259.0, 239.0, 164.0, 197.0, 222.0, 211.0, 187.0, 175.0, 186.0, 243.0, 246.0]\n",
    "data2 = [197.0, 195.0, 191.0, 174.0, 236.0, 226.0, 157.0, 196.0, 201.0, 196.0, 181.0, 164.0, 181.0, 229.0, 231.0]\n",
    "\n",
    "#Example of datasets with no difference between the means\n",
    "#data1 = [210.0, 205.0, 193.0, 182.0, 259.0, 239.0, 164.0, 197.0, 222.0, 211.0, 187.0, 175.0, 186.0, 243.0, 246.0]\n",
    "#data2 = [207.0, 211.0, 196.0, 179.0, 256.0, 243.0, 160.0, 204.0, 226.0, 209.0, 184.0, 174.0, 184.0, 240.0, 241.0]\n",
    "\n",
    "stat, p = ttest_rel(data1, data2)\n",
    "\n",
    "import numpy as np\n",
    "print(\"Mean set 1: %.3f\" %(np.array(data1).mean()))\n",
    "print(\"Mean set 2: %.3f\" %(np.array(data2).mean()))\n",
    "print(\"\")\n",
    "\n",
    "if (p < 0.05):\n",
    "    print(\"H1 is accepted with p=%.3f\" %(p))\n",
    "    print(\"There is a significant difference between the means of the datasets\")\n",
    "else:\n",
    "    print(\"H1 is rejected with p=%.3f\" %(p))\n",
    "    print(\"There is no significant difference between the datasets\")"
   ]
  },
  {
   "cell_type": "markdown",
   "metadata": {},
   "source": [
    "<h3>Analysis of Variance Test (ANOVA)</h3>\n",
    "\n",
    "Tests whether the means of two or more independent samples are significantly different.\n",
    "\n",
    "Assumptions\n",
    "\n",
    "<ul>\n",
    "    <li>Observations in each sample are independent and identically distributed (iid).</li>\n",
    "    <li>Observations in each sample are normally distributed.</li>\n",
    "    <li>Observations in each sample have the same variance.</li>\n",
    "</ul>\n",
    "\n",
    "Interpretation\n",
    "\n",
    "<ul>\n",
    "    <li>H0: the means of the samples are equal.</li>\n",
    "    <li>H1: one or more of the means of the samples are unequal.</li>\n",
    "</ul>"
   ]
  },
  {
   "cell_type": "code",
   "execution_count": 33,
   "metadata": {},
   "outputs": [
    {
     "name": "stdout",
     "output_type": "stream",
     "text": [
      "Mean set 1: 48.333\n",
      "Mean set 2: 60.000\n",
      "Mean set 3: 44.778\n",
      "\n",
      "H1 is accepted with p=0.000\n",
      "There is a significant difference between the means of the datasets\n"
     ]
    }
   ],
   "source": [
    "from scipy.stats import f_oneway\n",
    "\n",
    "#Example of datasets with difference between the means\n",
    "data1 = [42.0, 53.0, 49.0, 53.0, 43.0, 44.0, 45.0, 52.0, 54.0]\n",
    "data2 = [69.0, 54.0, 58.0, 64.0, 64.0, 55.0, 56.0]\n",
    "data3 = [35.0, 40.0, 53.0, 42.0, 50.0, 49.0, 55.0, 39.0, 40.0]\n",
    "\n",
    "#Example of datasets with no difference between the means\n",
    "#data1 = [42.0, 53.0, 49.0, 53.0, 43.0, 44.0, 45.0, 52.0, 54.0]\n",
    "#data2 = [41.0, 54.0, 48.0, 54.0, 41.0, 45.0, 46.0, 51.0, 54.0]\n",
    "#data3 = [40.0, 55.0, 49.0, 52.0, 42.0, 43.0, 44.0, 53.0, 54.0]\n",
    "\n",
    "stat, p = f_oneway(data1, data2, data3)\n",
    "\n",
    "import numpy as np\n",
    "print(\"Mean set 1: %.3f\" %(np.array(data1).mean()))\n",
    "print(\"Mean set 2: %.3f\" %(np.array(data2).mean()))\n",
    "print(\"Mean set 3: %.3f\" %(np.array(data3).mean()))\n",
    "print(\"\")\n",
    "\n",
    "if (p < 0.05):\n",
    "    print(\"H1 is accepted with p=%.3f\" %(p))\n",
    "    print(\"There is a significant difference between the means of the datasets\")\n",
    "else:\n",
    "    print(\"H1 is rejected with p=%.3f\" %(p))\n",
    "    print(\"There is no significant difference between the datasets\")"
   ]
  },
  {
   "cell_type": "markdown",
   "metadata": {},
   "source": [
    "<h3>Fisher’s Least Significant Difference (LSD) Test</h3>\n",
    "Conduct multiple t-tests."
   ]
  },
  {
   "cell_type": "code",
   "execution_count": 34,
   "metadata": {},
   "outputs": [
    {
     "name": "stdout",
     "output_type": "stream",
     "text": [
      "Col1\tCol2\t Difference(p=0.001)\n",
      "Col1\tCol3\t No Difference(p=0.231)\n",
      "Col2\tCol3\t Difference(p=0.000)\n"
     ]
    }
   ],
   "source": [
    "from scipy.stats import ttest_ind\n",
    "stats, p12 = ttest_ind(data1, data2)\n",
    "stats, p13 = ttest_ind(data1, data3)\n",
    "stats, p23 = ttest_ind(data2, data3)\n",
    "\n",
    "if (p12 < 0.05):\n",
    "    print(\"Col1\\tCol2\\t Difference(p=%.3f)\" %(p12))\n",
    "else:\n",
    "    print(\"Col1\\tCol2\\t No Difference(p=%.3f)\" %(p12))\n",
    "if (p13 < 0.05):\n",
    "    print(\"Col1\\tCol3\\t Difference(p=%.3f)\" %(p13))\n",
    "else:\n",
    "    print(\"Col1\\tCol3\\t No Difference(p=%.3f)\" %(p13))\n",
    "if (p23 < 0.05):\n",
    "    print(\"Col2\\tCol3\\t Difference(p=%.3f)\" %(p23))\n",
    "else:\n",
    "    print(\"Col2\\tCol3\\t No Difference(p=%.3f)\" %(p23))    "
   ]
  },
  {
   "cell_type": "markdown",
   "metadata": {},
   "source": [
    "<h3>Bonferroni correction</h3>\n",
    "Conduct multiple t-tests, but divide the p-value by the number of planned comparisons (accounts for familywise error rate)."
   ]
  },
  {
   "cell_type": "code",
   "execution_count": 35,
   "metadata": {},
   "outputs": [
    {
     "name": "stdout",
     "output_type": "stream",
     "text": [
      "Using corrected p-value=0.017\n",
      "Col1\tCol2\t Difference(p=0.001)\n",
      "Col1\tCol3\t No Difference(p=0.231)\n",
      "Col2\tCol3\t Difference(p=0.000)\n"
     ]
    }
   ],
   "source": [
    "from scipy.stats import ttest_ind\n",
    "stats, p12 = ttest_ind(data1, data2)\n",
    "stats, p13 = ttest_ind(data1, data3)\n",
    "stats, p23 = ttest_ind(data2, data3)\n",
    "\n",
    "p = 0.05 / 3\n",
    "print(\"Using corrected p-value=%.3f\" % (p))\n",
    "if (p12 < p):\n",
    "    print(\"Col1\\tCol2\\t Difference(p=%.3f)\" %(p12))\n",
    "else:\n",
    "    print(\"Col1\\tCol2\\t No Difference(p=%.3f)\" %(p12))\n",
    "if (p13 < p):\n",
    "    print(\"Col1\\tCol3\\t Difference(p=%.3f)\" %(p13))\n",
    "else:\n",
    "    print(\"Col1\\tCol3\\t No Difference(p=%.3f)\" %(p13))\n",
    "if (p23 < p):\n",
    "    print(\"Col2\\tCol3\\t Difference(p=%.3f)\" %(p23))\n",
    "else:\n",
    "    print(\"Col2\\tCol3\\t No Difference(p=%.3f)\" %(p23))  "
   ]
  },
  {
   "cell_type": "markdown",
   "metadata": {},
   "source": [
    "<h3>Tukey’s HSD</h3>\n",
    "This test is not available in Scipy, and requires the somewhat messy to use Statsmodels library."
   ]
  },
  {
   "cell_type": "code",
   "execution_count": 32,
   "metadata": {},
   "outputs": [
    {
     "name": "stdout",
     "output_type": "stream",
     "text": [
      "Multiple Comparison of Means - Tukey HSD,FWER=0.05\n",
      "==============================================\n",
      "group1 group2 meandiff  lower    upper  reject\n",
      "----------------------------------------------\n",
      " col1   col2   9.8889   2.7491  17.0287  True \n",
      " col1   col3  -3.5556  -10.6953  3.5842 False \n",
      " col2   col3  -13.4444 -20.5842 -6.3047  True \n",
      "----------------------------------------------\n"
     ]
    }
   ],
   "source": [
    "from statsmodels.stats.multicomp import pairwise_tukeyhsd\n",
    "\n",
    "d = {\"columns\": [\"col1\", \"col1\", \"col1\", \"col1\", \"col1\", \"col1\", \"col1\", \"col1\", \"col1\", \"col2\", \"col2\", \"col2\", \"col2\", \"col2\", \"col2\", \"col2\", \"col2\", \"col2\", \"col3\", \"col3\", \"col3\", \"col3\", \"col3\", \"col3\", \"col3\", \"col3\", \"col3\"],\n",
    "     \"values\": [42.0, 53.0, 49.0, 53.0, 43.0, 44.0, 45.0, 52.0, 54.0, 69.0, 54.0, 58.0, 64.0, 64.0, 55.0, 56.0, 51.0, 53.0, 35.0, 40.0, 53.0, 42.0, 50.0, 49.0, 55.0, 39.0, 40.0]}\n",
    "\n",
    "mc = pairwise_tukeyhsd(d['values'], d['columns'])\n",
    "print(mc)"
   ]
  },
  {
   "cell_type": "markdown",
   "metadata": {},
   "source": [
    "<h1>Nonparametric Statistical Hypothesis Tests</h1>"
   ]
  },
  {
   "cell_type": "markdown",
   "metadata": {},
   "source": [
    "<h3>Mann-Whitney U Test</h3>\n",
    "(also called Wilcoxon Rank-sum)\n",
    "\n",
    "Tests whether the distributions of two independent samples are equal or not.\n",
    "\n",
    "Assumptions\n",
    "\n",
    "<ul>\n",
    "    <li>Observations in each sample are independent and identically distributed (iid).</li>\n",
    "    <li>Observations in each sample can be ranked.</li>\n",
    "</ul>\n",
    "\n",
    "Interpretation\n",
    "\n",
    "<ul>\n",
    "    <li>H0: the distributions of both samples are equal.</li>\n",
    "    <li>H1: the distributions of both samples are not equal.</li>\n",
    "</ul>"
   ]
  },
  {
   "cell_type": "code",
   "execution_count": 72,
   "metadata": {},
   "outputs": [
    {
     "name": "stdout",
     "output_type": "stream",
     "text": [
      "Mean set 1: 100.556\n",
      "Mean set 2: 94.222\n",
      "\n",
      "H1 is accepted with p=0.026\n",
      "There is a significant difference between the means of the datasets\n"
     ]
    }
   ],
   "source": [
    "from scipy.stats import mannwhitneyu\n",
    "\n",
    "#Example of datasets with difference between the means\n",
    "data1 = [105.0, 119.0, 100.0, 97.0, 96.0, 101.0, 94.0, 95.0, 98.0]\n",
    "data2 = [96.0, 99.0, 94.0, 89.0, 96.0, 93.0, 88.0, 105.0, 88.0]\n",
    "\n",
    "#Example of datasets with no difference between the means\n",
    "#data1 = [105.0, 119.0, 100.0, 97.0, 96.0, 101.0, 94.0, 95.0, 98.0]\n",
    "#data2 = [99.0, 107.0, 94.0, 89.0, 96.0, 98.0, 92.0, 102.0, 92.0]\n",
    "\n",
    "stat, p = mannwhitneyu(data1, data2)\n",
    "\n",
    "import numpy as np\n",
    "print(\"Mean set 1: %.3f\" %(np.array(data1).mean()))\n",
    "print(\"Mean set 2: %.3f\" %(np.array(data2).mean()))\n",
    "print(\"\")\n",
    "\n",
    "if (p < 0.05):\n",
    "    print(\"H1 is accepted with p=%.3f\" %(p))\n",
    "    print(\"There is a significant difference between the means of the datasets\")\n",
    "else:\n",
    "    print(\"H1 is rejected with p=%.3f\" %(p))\n",
    "    print(\"There is no significant difference between the datasets\")"
   ]
  },
  {
   "cell_type": "markdown",
   "metadata": {},
   "source": [
    "<h3>Wilcoxon Signed-Rank Test</h3>\n",
    "\n",
    "Tests whether the distributions of two paired samples are equal or not.\n",
    "\n",
    "Assumptions\n",
    "\n",
    "<ul>\n",
    "    <li>Observations in each sample are independent and identically distributed (iid).</li>\n",
    "    <li>Observations in each sample can be ranked.</li>\n",
    "    <li>Observations across each sample are paired.</li>\n",
    "</ul>\n",
    "\n",
    "Interpretation\n",
    "\n",
    "<ul>\n",
    "    <li>H0: the distributions of both samples are equal.</li>\n",
    "    <li>H1: the distributions of both samples are not equal.</li>\n",
    "</ul>"
   ]
  },
  {
   "cell_type": "code",
   "execution_count": 75,
   "metadata": {},
   "outputs": [
    {
     "name": "stdout",
     "output_type": "stream",
     "text": [
      "Mean set 1: 180.000\n",
      "Mean set 2: 171.556\n",
      "\n",
      "H1 is accepted with p=0.008\n",
      "There is a significant difference between the means of the datasets\n"
     ]
    },
    {
     "name": "stderr",
     "output_type": "stream",
     "text": [
      "/Library/Frameworks/Python.framework/Versions/3.6/lib/python3.6/site-packages/scipy/stats/morestats.py:2385: UserWarning: Warning: sample size too small for normal approximation.\n",
      "  warnings.warn(\"Warning: sample size too small for normal approximation.\")\n"
     ]
    }
   ],
   "source": [
    "from scipy.stats import wilcoxon\n",
    "\n",
    "#Example of datasets with difference between the means\n",
    "data1 = [190.0, 175.0, 189.0, 160.0, 184.0, 178.0, 184.0, 179.0, 181.0]\n",
    "data2 = [171.0, 170.0, 182.0, 158.0, 173.0, 163.0, 179.0, 173.0, 175.0]\n",
    "\n",
    "#Example of datasets with no difference between the means\n",
    "#data1 = [190.0, 175.0, 189.0, 160.0, 184.0, 178.0, 184.0, 179.0, 181.0]\n",
    "#data2 = [176.0, 176.0, 189.0, 171.0, 173.0, 163.0, 170.0, 173.0, 175.0]\n",
    "\n",
    "stat, p = wilcoxon(data1, data2)\n",
    "\n",
    "import numpy as np\n",
    "print(\"Mean set 1: %.3f\" %(np.array(data1).mean()))\n",
    "print(\"Mean set 2: %.3f\" %(np.array(data2).mean()))\n",
    "print(\"\")\n",
    "\n",
    "if (p < 0.05):\n",
    "    print(\"H1 is accepted with p=%.3f\" %(p))\n",
    "    print(\"There is a significant difference between the means of the datasets\")\n",
    "else:\n",
    "    print(\"H1 is rejected with p=%.3f\" %(p))\n",
    "    print(\"There is no significant difference between the datasets\")"
   ]
  },
  {
   "cell_type": "markdown",
   "metadata": {},
   "source": [
    "<h3>Kruskal-Wallis H Test</h3>\n",
    "\n",
    "Tests whether the distributions of two or more independent samples are equal or not.\n",
    "\n",
    "Assumptions\n",
    "\n",
    "<ul>\n",
    "    <li>Observations in each sample are independent and identically distributed (iid).</li>\n",
    "    <li>Observations in each sample can be ranked.</li>\n",
    "</ul>\n",
    "\n",
    "Interpretation\n",
    "\n",
    "<ul>\n",
    "    <li>H0: the distributions of all samples are equal.</li>\n",
    "    <li>H1: the distributions of one or more samples are not equal.</li>\n",
    "</ul>"
   ]
  },
  {
   "cell_type": "code",
   "execution_count": 5,
   "metadata": {},
   "outputs": [
    {
     "name": "stdout",
     "output_type": "stream",
     "text": [
      "Mean set 1: 527.200\n",
      "Mean set 2: 425.800\n",
      "Mean set 3: 595.000\n",
      "\n",
      "H1 is accepted with p=0.016\n",
      "There is a significant difference between the means of the datasets\n"
     ]
    }
   ],
   "source": [
    "from scipy.stats import kruskal\n",
    "\n",
    "#Example of datasets with difference between the means\n",
    "data1 = [498.0, 582.0, 527.0, 480.0, 549.0]\n",
    "data2 = [435.0, 360.0, 372.0, 413.0, 549.0]\n",
    "data3 = [608.0, 515.0, 661.0, 637.0, 554.0]\n",
    "\n",
    "#Example of datasets with no difference between the means\n",
    "#data1 = [498.0, 582.0, 527.0, 480.0, 549.0]\n",
    "#data2 = [535.0, 560.0, 572.0, 513.0, 549.0]\n",
    "#data3 = [608.0, 515.0, 661.0, 637.0, 554.0]\n",
    "\n",
    "stat, p = kruskal(data1, data2, data3)\n",
    "\n",
    "import numpy as np\n",
    "print(\"Mean set 1: %.3f\" %(np.array(data1).mean()))\n",
    "print(\"Mean set 2: %.3f\" %(np.array(data2).mean()))\n",
    "print(\"Mean set 3: %.3f\" %(np.array(data3).mean()))\n",
    "print(\"\")\n",
    "\n",
    "if (p < 0.05):\n",
    "    print(\"H1 is accepted with p=%.3f\" %(p))\n",
    "    print(\"There is a significant difference between the means of the datasets\")\n",
    "else:\n",
    "    print(\"H1 is rejected with p=%.3f\" %(p))\n",
    "    print(\"There is no significant difference between the datasets\")"
   ]
  },
  {
   "cell_type": "markdown",
   "metadata": {},
   "source": [
    "<h3>Friedman Test</h3>\n",
    "\n",
    "Tests whether the distributions of two or more paired samples are equal or not.\n",
    "\n",
    "Assumptions\n",
    "\n",
    "<ul>\n",
    "    <li>Observations in each sample are independent and identically distributed (iid).</li>\n",
    "    <li>Observations in each sample can be ranked.</li>\n",
    "    <li>Observations across each sample are paired.</li>\n",
    "</ul>\n",
    "\n",
    "Interpretation\n",
    "\n",
    "<ul>\n",
    "    <li>H0: the distributions of all samples are equal.</li>\n",
    "    <li>H1: the distributions of one or more samples are not equal.</li>\n",
    "</ul>"
   ]
  },
  {
   "cell_type": "code",
   "execution_count": 81,
   "metadata": {},
   "outputs": [
    {
     "name": "stdout",
     "output_type": "stream",
     "text": [
      "Mean set 1: 516.000\n",
      "Mean set 2: 408.143\n",
      "Mean set 3: 555.714\n",
      "\n",
      "H1 is accepted with p=0.004\n",
      "There is a significant difference between the means of the datasets\n"
     ]
    }
   ],
   "source": [
    "from scipy.stats import friedmanchisquare\n",
    "\n",
    "#Example of datasets with difference between the means\n",
    "data1 = [498.0, 582.0, 527.0, 480.0, 549.0, 486.0, 490.0]\n",
    "data2 = [435.0, 360.0, 372.0, 413.0, 512.0, 390.0, 375.0]\n",
    "data3 = [608.0, 515.0, 661.0, 637.0, 554.0, 425.0, 490.0]\n",
    "\n",
    "#Example of datasets with no difference between the means\n",
    "#data1 = [498.0, 582.0, 527.0, 480.0, 549.0, 486.0, 490.0]\n",
    "#data2 = [535.0, 560.0, 572.0, 493.0, 532.0, 490.0, 475.0]\n",
    "#data3 = [608.0, 515.0, 661.0, 637.0, 554.0, 425.0, 490.0]\n",
    "\n",
    "stat, p = friedmanchisquare(data1, data2, data3)\n",
    "\n",
    "import numpy as np\n",
    "print(\"Mean set 1: %.3f\" %(np.array(data1).mean()))\n",
    "print(\"Mean set 2: %.3f\" %(np.array(data2).mean()))\n",
    "print(\"Mean set 3: %.3f\" %(np.array(data3).mean()))\n",
    "print(\"\")\n",
    "\n",
    "if (p < 0.05):\n",
    "    print(\"H1 is accepted with p=%.3f\" %(p))\n",
    "    print(\"There is a significant difference between the means of the datasets\")\n",
    "else:\n",
    "    print(\"H1 is rejected with p=%.3f\" %(p))\n",
    "    print(\"There is no significant difference between the datasets\")"
   ]
  },
  {
   "cell_type": "code",
   "execution_count": null,
   "metadata": {},
   "outputs": [],
   "source": []
  }
 ],
 "metadata": {
  "kernelspec": {
   "display_name": "Python 3",
   "language": "python",
   "name": "python3"
  },
  "language_info": {
   "codemirror_mode": {
    "name": "ipython",
    "version": 3
   },
   "file_extension": ".py",
   "mimetype": "text/x-python",
   "name": "python",
   "nbconvert_exporter": "python",
   "pygments_lexer": "ipython3",
   "version": "3.7.3"
  }
 },
 "nbformat": 4,
 "nbformat_minor": 2
}
