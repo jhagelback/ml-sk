{
 "cells": [
  {
   "cell_type": "markdown",
   "metadata": {},
   "source": [
    "<h2>Glass dataset in Keras library</h2> \n",
    "This code is a modified version of the code from this tutorial at <a href=\"https://machinelearningmastery.com/multi-class-classification-tutorial-keras-deep-learning-library/\">MachineLearningMastery</a>."
   ]
  },
  {
   "cell_type": "markdown",
   "metadata": {},
   "source": [
    "<h2>Load data</h2>"
   ]
  },
  {
   "cell_type": "code",
   "execution_count": 24,
   "metadata": {},
   "outputs": [
    {
     "name": "stdout",
     "output_type": "stream",
     "text": [
      "Attributes: 9\n",
      "Labels: 6\n"
     ]
    }
   ],
   "source": [
    "# Ignore future warnings\n",
    "import warnings\n",
    "warnings.filterwarnings(\"ignore\", category=FutureWarning)\n",
    "\n",
    "import pandas as pd\n",
    "import numpy as np\n",
    "import tensorflow as tf\n",
    "from keras.utils import np_utils\n",
    "from sklearn.preprocessing import LabelEncoder\n",
    "\n",
    "# set randomizer seed\n",
    "# Note that setting seed for Keras with TensorFlow backend seems to be problematic\n",
    "tf.set_random_seed(42)\n",
    "np.random.seed(42)\n",
    "\n",
    "# Load data\n",
    "df = pd.read_csv('data/glass.csv')\n",
    "np_data = df.values\n",
    "\n",
    "# Split data into X and y\n",
    "X = np_data[:,0:-1]\n",
    "Y_raw = np_data[:,-1]\n",
    "# Convert class label strings to integers\n",
    "encoder = LabelEncoder()\n",
    "encoder.fit(Y_raw)\n",
    "Y = encoder.transform(Y_raw)\n",
    "\n",
    "# Convert labels to one-hot vectors\n",
    "Y = np_utils.to_categorical(Y, 6)\n",
    "\n",
    "# normalize inputs\n",
    "X = X.astype('float64')\n",
    "X = np_utils.normalize(X, axis=-1, order=2)\n",
    "\n",
    "print(\"Attributes: {}\".format(X.shape[1]))\n",
    "print(\"Labels: {}\".format(Y.shape[1]))"
   ]
  },
  {
   "cell_type": "markdown",
   "metadata": {},
   "source": [
    "<h2>Define and evaluate model</h2>"
   ]
  },
  {
   "cell_type": "code",
   "execution_count": 52,
   "metadata": {},
   "outputs": [
    {
     "name": "stdout",
     "output_type": "stream",
     "text": [
      "Result from iteration 1\n",
      "  Acc: 83.64%  Time: 63.24 sec\n"
     ]
    }
   ],
   "source": [
    "from keras.models import Sequential\n",
    "from keras.layers import Dense\n",
    "from keras.layers import Dropout\n",
    "from keras.optimizers import Adam\n",
    "import time\n",
    "from sklearn.metrics import accuracy_score\n",
    "\n",
    "def build_model():\n",
    "    # Create model\n",
    "    model = Sequential()\n",
    "    model.add(Dense(72, input_dim=9, activation='relu'))\n",
    "    model.add(Dropout(0.2))\n",
    "    model.add(Dense(36, activation='relu'))\n",
    "    model.add(Dropout(0.2))\n",
    "    model.add(Dense(6, activation='softmax'))\n",
    "\n",
    "    # Compile model\n",
    "    model.compile(loss='categorical_crossentropy', optimizer='adam', metrics=['accuracy'])\n",
    "    return model\n",
    "\n",
    "def evaluate_model():\n",
    "    # Start timer\n",
    "    start = time.time()\n",
    "\n",
    "    # Build model\n",
    "    model = build_model()\n",
    "    # Train the model\n",
    "    model.fit(X, Y, epochs=3000, batch_size=20, verbose=0)\n",
    "    # Evaluate accuracy\n",
    "    score = model.evaluate(X, Y, verbose=0)\n",
    "\n",
    "    # Stop timer\n",
    "    end = time.time()\n",
    "\n",
    "    # Print results\n",
    "    print(\"  Acc: %.2f%%  Time: %.2f sec\" % (score[1] * 100, end - start))\n",
    "\n",
    "# Note that the classifier gives a slightly different result for each run\n",
    "# since we cannot solve all seed issues with Keras using TensorFlow backend\n",
    "for i in range(1):\n",
    "    print(\"Result from iteration {}\".format(i+1))\n",
    "    evaluate_model()"
   ]
  },
  {
   "cell_type": "markdown",
   "metadata": {},
   "source": [
    "<h2>10-fold Cross Validation</h2>"
   ]
  },
  {
   "cell_type": "code",
   "execution_count": 7,
   "metadata": {},
   "outputs": [
    {
     "name": "stdout",
     "output_type": "stream",
     "text": [
      "Average accuracy: 97.33% (stdev = 4.42%)\n"
     ]
    }
   ],
   "source": [
    "from sklearn.model_selection import cross_val_score\n",
    "from sklearn.model_selection import KFold\n",
    "from keras.wrappers.scikit_learn import KerasClassifier\n",
    "\n",
    "# Build classifier\n",
    "estimator = KerasClassifier(build_fn=build_model, epochs=400, batch_size=20, verbose=0)\n",
    "\n",
    "# Create folds\n",
    "kfold = KFold(n_splits=10, shuffle=True, random_state=42)\n",
    "\n",
    "# Calculate cross validation score\n",
    "results = cross_val_score(estimator, X, Y, cv=kfold)\n",
    "print(\"Average accuracy: %.2f%% (stdev = %.2f%%)\" % (results.mean() * 100, results.std() * 100))"
   ]
  },
  {
   "cell_type": "markdown",
   "metadata": {},
   "source": [
    "<h2>Confusion Matrix</h2>"
   ]
  },
  {
   "cell_type": "code",
   "execution_count": 39,
   "metadata": {},
   "outputs": [
    {
     "name": "stdout",
     "output_type": "stream",
     "text": [
      "Accuracy: 81.78%\n",
      "Confusion Matrix:\n",
      "[[61  9  0  0  0  0]\n",
      " [12 64  0  0  0  0]\n",
      " [16  1  0  0  0  0]\n",
      " [ 0  0  0 13  0  0]\n",
      " [ 1  0  0  0 28  0]\n",
      " [ 0  0  0  0  0  9]]\n"
     ]
    },
    {
     "data": {
      "image/png": "[encoded data removed]",
      "text/plain": [
       "<Figure size 288x288 with 1 Axes>"
      ]
     },
     "metadata": {},
     "output_type": "display_data"
    }
   ],
   "source": [
    "from sklearn.metrics import accuracy_score\n",
    "from sklearn.metrics import confusion_matrix\n",
    "%matplotlib inline\n",
    "import matplotlib\n",
    "import matplotlib.pyplot as plt\n",
    "\n",
    "# Build model\n",
    "model = build_model()\n",
    "# Train the model\n",
    "model.fit(X, Y, epochs=3000, batch_size=20, verbose=0)\n",
    "    \n",
    "# Predict training data\n",
    "predictions = model.predict(X)\n",
    "# Predictions and labels (Y) are one-hot vectors, so we need to convert\n",
    "# them to single values using the argmax function\n",
    "accuracy = accuracy_score(Y.argmax(1), predictions.argmax(1))\n",
    "print(\"Accuracy: {0:0.2f}%\".format(accuracy*100))\n",
    "\n",
    "# confusion matrix\n",
    "print(\"Confusion Matrix:\")\n",
    "conf_mx = confusion_matrix(Y.argmax(1), predictions.argmax(1))\n",
    "print(conf_mx)\n",
    "# Visualize (normalized) confusion matrix\n",
    "row_sums = conf_mx.sum(axis=1, keepdims=True)\n",
    "norm_conf_mx = conf_mx / row_sums\n",
    "plt.matshow(norm_conf_mx, cmap=plt.cm.gray)\n",
    "plt.show()"
   ]
  },
  {
   "cell_type": "code",
   "execution_count": null,
   "metadata": {},
   "outputs": [],
   "source": []
  }
 ],
 "metadata": {
  "kernelspec": {
   "display_name": "Python 3",
   "language": "python",
   "name": "python3"
  },
  "language_info": {
   "codemirror_mode": {
    "name": "ipython",
    "version": 3
   },
   "file_extension": ".py",
   "mimetype": "text/x-python",
   "name": "python",
   "nbconvert_exporter": "python",
   "pygments_lexer": "ipython3",
   "version": "3.6.0b3"
  }
 },
 "nbformat": 4,
 "nbformat_minor": 2
}
