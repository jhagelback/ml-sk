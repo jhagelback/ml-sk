{
 "cells": [
  {
   "cell_type": "markdown",
   "metadata": {},
   "source": [
    "<h2>Diabetes dataset in Keras library</h2> \n",
    "This code is a modified version of the code from this tutorial at <a href=\"https://machinelearningmastery.com/multi-class-classification-tutorial-keras-deep-learning-library/\">MachineLearningMastery</a>."
   ]
  },
  {
   "cell_type": "markdown",
   "metadata": {},
   "source": [
    "<h2>Load data</h2>"
   ]
  },
  {
   "cell_type": "code",
   "execution_count": 1,
   "metadata": {},
   "outputs": [
    {
     "name": "stderr",
     "output_type": "stream",
     "text": [
      "Using TensorFlow backend.\n"
     ]
    }
   ],
   "source": [
    "# Ignore future warnings\n",
    "import warnings\n",
    "warnings.filterwarnings(\"ignore\", category=FutureWarning)\n",
    "\n",
    "import pandas as pd\n",
    "import numpy as np\n",
    "import tensorflow as tf\n",
    "from keras.utils import np_utils\n",
    "from sklearn.preprocessing import LabelEncoder\n",
    "\n",
    "# set randomizer seed\n",
    "# Note that setting seed for Keras with TensorFlow backend seems to be problematic\n",
    "tf.set_random_seed(42)\n",
    "np.random.seed(42)\n",
    "\n",
    "# Load data\n",
    "df = pd.read_csv('data/iris.csv')\n",
    "np_data = df.values\n",
    "\n",
    "# Split data into X and y\n",
    "X = np_data[:,0:-1]\n",
    "Y_raw = np_data[:,-1]\n",
    "# Convert class label strings to integers\n",
    "encoder = LabelEncoder()\n",
    "encoder.fit(Y_raw)\n",
    "Y = encoder.transform(Y_raw)\n",
    "\n",
    "# Convert 1D label array to 3D label matrix (one-hot vector)\n",
    "Y = np_utils.to_categorical(Y, 3)"
   ]
  },
  {
   "cell_type": "markdown",
   "metadata": {},
   "source": [
    "<h2>Define and evaluate model</h2>"
   ]
  },
  {
   "cell_type": "code",
   "execution_count": 2,
   "metadata": {},
   "outputs": [
    {
     "name": "stdout",
     "output_type": "stream",
     "text": [
      "\n",
      "Accuracy: 97.33%\n",
      "Time elapsed: 3.90 sec\n"
     ]
    }
   ],
   "source": [
    "from keras.models import Sequential\n",
    "from keras.layers import Dense\n",
    "import time\n",
    "from sklearn.metrics import accuracy_score\n",
    "\n",
    "def build_model():\n",
    "    # Create model\n",
    "    model = Sequential()\n",
    "    model.add(Dense(12, input_dim=4, activation='relu'))\n",
    "    model.add(Dense(8, activation='relu'))\n",
    "    model.add(Dense(3, activation='softmax'))\n",
    "\n",
    "    # Compile model\n",
    "    model.compile(loss='categorical_crossentropy', optimizer='adam', metrics=['accuracy'])\n",
    "    return model\n",
    "\n",
    "# Start timer\n",
    "start = time.time()\n",
    "\n",
    "# Build model\n",
    "model = build_model()\n",
    "# Train the model\n",
    "model.fit(X, Y, epochs=300, batch_size=20, verbose=0)\n",
    "# Evaluate accuracy\n",
    "score = model.evaluate(X, Y, verbose=0)\n",
    "\n",
    "# Stop timer\n",
    "end = time.time()\n",
    "\n",
    "# Evaluate accuracy\n",
    "score = model.evaluate(X, Y, verbose=0)\n",
    "# Print results\n",
    "print(\"\\nAccuracy: {0:0.2f}%\".format(score[1] * 100))\n",
    "print(\"Time elapsed: {0:0.2f} sec\".format(end - start))"
   ]
  },
  {
   "cell_type": "markdown",
   "metadata": {},
   "source": [
    "<h2>10-fold Cross Validation</h2>"
   ]
  },
  {
   "cell_type": "code",
   "execution_count": 3,
   "metadata": {},
   "outputs": [
    {
     "name": "stdout",
     "output_type": "stream",
     "text": [
      "Average accuracy: 98.00% (stdev = 3.06%)\n"
     ]
    }
   ],
   "source": [
    "from sklearn.model_selection import cross_val_score\n",
    "from sklearn.model_selection import KFold\n",
    "from keras.wrappers.scikit_learn import KerasClassifier\n",
    "\n",
    "# Build classifier\n",
    "estimator = KerasClassifier(build_fn=build_model, epochs=300, batch_size=20, verbose=0)\n",
    "\n",
    "# Create folds\n",
    "kfold = KFold(n_splits=10, shuffle=True, random_state=42)\n",
    "\n",
    "# Calculate cross validation score\n",
    "results = cross_val_score(estimator, X, Y, cv=kfold)\n",
    "print(\"Average accuracy: %.2f%% (stdev = %.2f%%)\" % (results.mean() * 100, results.std() * 100))"
   ]
  },
  {
   "cell_type": "markdown",
   "metadata": {},
   "source": [
    "<h2>Predictions</h2>"
   ]
  },
  {
   "cell_type": "code",
   "execution_count": 4,
   "metadata": {},
   "outputs": [
    {
     "name": "stdout",
     "output_type": "stream",
     "text": [
      "Accuracy: 97.33%\n"
     ]
    }
   ],
   "source": [
    "from sklearn.metrics import accuracy_score\n",
    "\n",
    "# Predict training data\n",
    "predictions = model.predict(X)\n",
    "# Predictions and labels (Y) are one-hot vectors, so we need to convert\n",
    "# them to single values using the argmax function\n",
    "accuracy = accuracy_score(Y.argmax(1), predictions.argmax(1))\n",
    "print(\"Accuracy: {0:0.2f}%\".format(accuracy*100))"
   ]
  },
  {
   "cell_type": "code",
   "execution_count": null,
   "metadata": {},
   "outputs": [],
   "source": []
  }
 ],
 "metadata": {
  "kernelspec": {
   "display_name": "Python 3",
   "language": "python",
   "name": "python3"
  },
  "language_info": {
   "codemirror_mode": {
    "name": "ipython",
    "version": 3
   },
   "file_extension": ".py",
   "mimetype": "text/x-python",
   "name": "python",
   "nbconvert_exporter": "python",
   "pygments_lexer": "ipython3",
   "version": "3.6.0b3"
  }
 },
 "nbformat": 4,
 "nbformat_minor": 2
}
