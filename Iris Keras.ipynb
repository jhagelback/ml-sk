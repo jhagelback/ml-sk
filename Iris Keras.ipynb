{
 "cells": [
  {
   "cell_type": "markdown",
   "metadata": {},
   "source": [
    "<h2>Iris dataset in Keras library</h2> \n",
    "This code is a modified version of the code from this tutorial at <a href=\"https://machinelearningmastery.com/multi-class-classification-tutorial-keras-deep-learning-library/\">MachineLearningMastery</a>."
   ]
  },
  {
   "cell_type": "markdown",
   "metadata": {},
   "source": [
    "<h2>Load data</h2>"
   ]
  },
  {
   "cell_type": "code",
   "execution_count": 1,
   "metadata": {},
   "outputs": [
    {
     "name": "stderr",
     "output_type": "stream",
     "text": [
      "Using TensorFlow backend.\n"
     ]
    },
    {
     "name": "stdout",
     "output_type": "stream",
     "text": [
      "Example instance:\n",
      "[-0.05250608 -0.58776353  0.76275864  1.57942861] -> Iris-setosa = [0. 0. 1.]\n",
      "\n",
      "Data shape: (150, 4)\n"
     ]
    }
   ],
   "source": [
    "import pandas as pd\n",
    "from keras.utils import np_utils\n",
    "from sklearn.utils import shuffle\n",
    "from sklearn.preprocessing import LabelEncoder\n",
    "from sklearn.preprocessing import StandardScaler\n",
    "\n",
    "# Load data\n",
    "np_data = pd.read_csv(\"data/iris.csv\").values\n",
    "\n",
    "# Split data into X and y\n",
    "X = np_data[:,0:-1].astype(float)\n",
    "y_raw = np_data[:,-1]\n",
    "\n",
    "# Convert class label strings to integers\n",
    "encoder = LabelEncoder()\n",
    "encoder.fit(y_raw)\n",
    "y = encoder.transform(y_raw)\n",
    "\n",
    "# Normalize data to avoid high input values\n",
    "scaler = StandardScaler()\n",
    "scaler.fit(X)\n",
    "X = scaler.transform(X)\n",
    "\n",
    "# Shuffle data\n",
    "X, y = shuffle(X, y, random_state=0)\n",
    "\n",
    "# Convert labels to one-hot vector\n",
    "y = np_utils.to_categorical(y, 3)\n",
    "\n",
    "# Print some stuff\n",
    "print(\"Example instance:\")\n",
    "print(X[0], \"->\", y_raw[0], \"=\", y[0])\n",
    "print(\"\")\n",
    "print(\"Data shape:\", X.shape)"
   ]
  },
  {
   "cell_type": "markdown",
   "metadata": {},
   "source": [
    "<h2>Train-test split</h2>"
   ]
  },
  {
   "cell_type": "code",
   "execution_count": 2,
   "metadata": {},
   "outputs": [
    {
     "name": "stdout",
     "output_type": "stream",
     "text": [
      "Training data shape: (120, 4)\n",
      "Testing data shape: (30, 4)\n"
     ]
    }
   ],
   "source": [
    "from sklearn.model_selection import train_test_split\n",
    "\n",
    "# Split data into 80% training and 20% testing\n",
    "X_train, X_test, y_train, y_test = train_test_split(X, y, test_size=0.20)\n",
    "\n",
    "# Print some stuff\n",
    "print(\"Training data shape:\", X_train.shape)\n",
    "print(\"Testing data shape:\", X_test.shape)"
   ]
  },
  {
   "cell_type": "markdown",
   "metadata": {},
   "source": [
    "<h2>Define model</h2>"
   ]
  },
  {
   "cell_type": "code",
   "execution_count": 3,
   "metadata": {},
   "outputs": [],
   "source": [
    "from keras.models import Sequential\n",
    "from keras.layers import Dense\n",
    "from sklearn.metrics import accuracy_score\n",
    "\n",
    "# Create neural network model\n",
    "model = Sequential()\n",
    "model.add(Dense(8, input_dim=4, activation=\"relu\"))\n",
    "model.add(Dense(3, activation=\"softmax\"))\n",
    "\n",
    "# Compile model\n",
    "model.compile(loss=\"categorical_crossentropy\", optimizer=\"adam\", metrics=[\"accuracy\"])"
   ]
  },
  {
   "cell_type": "markdown",
   "metadata": {},
   "source": [
    "<h2>Train and test model on training data</h2>"
   ]
  },
  {
   "cell_type": "code",
   "execution_count": 4,
   "metadata": {},
   "outputs": [
    {
     "name": "stdout",
     "output_type": "stream",
     "text": [
      "Accuracy: 98.33%\n"
     ]
    }
   ],
   "source": [
    "# Train the model\n",
    "model.fit(X_train, y_train, epochs=200, batch_size=10, verbose=0)\n",
    "# Evaluate accuracy\n",
    "score = model.evaluate(X_train, y_train, verbose=0)\n",
    "# Print results\n",
    "print(\"Accuracy: {0:.2f}%\".format(score[1]*100))"
   ]
  },
  {
   "cell_type": "markdown",
   "metadata": {},
   "source": [
    "<h2>Evaluate on test data</h2>"
   ]
  },
  {
   "cell_type": "code",
   "execution_count": 5,
   "metadata": {},
   "outputs": [
    {
     "name": "stdout",
     "output_type": "stream",
     "text": [
      "Accuracy: 93.33%\n"
     ]
    }
   ],
   "source": [
    "# Evaluate accuracy\n",
    "score = model.evaluate(X_test, y_test, verbose=0)\n",
    "# Print results\n",
    "print(\"Accuracy: {0:.2f}%\".format(score[1]*100))"
   ]
  },
  {
   "cell_type": "code",
   "execution_count": null,
   "metadata": {},
   "outputs": [],
   "source": []
  }
 ],
 "metadata": {
  "kernelspec": {
   "display_name": "Python 3",
   "language": "python",
   "name": "python3"
  },
  "language_info": {
   "codemirror_mode": {
    "name": "ipython",
    "version": 3
   },
   "file_extension": ".py",
   "mimetype": "text/x-python",
   "name": "python",
   "nbconvert_exporter": "python",
   "pygments_lexer": "ipython3",
   "version": "3.7.2"
  }
 },
 "nbformat": 4,
 "nbformat_minor": 2
}
