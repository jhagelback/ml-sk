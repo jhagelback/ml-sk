{
 "cells": [
  {
   "cell_type": "markdown",
   "metadata": {},
   "source": [
    "# Topic Modelling\n",
    "Automatic topic modelling using LDA.\n",
    "Some related reading:\n",
    "* <a href=\"http://www.cse.chalmers.se/~richajo/dit862/L13/LDA%20with%20gensim%20(small%20example).html\">LDA with gensim</a>\n",
    "* <a href=\"https://radimrehurek.com/gensim/corpora/textcorpus.html\">TextCorpus</a>\n",
    "* <a href=\"https://radimrehurek.com/gensim/models/ldamodel.html\">LDAmodel</a>\n"
   ]
  },
  {
   "cell_type": "markdown",
   "metadata": {},
   "source": [
    "## Imports"
   ]
  },
  {
   "cell_type": "code",
   "execution_count": 1,
   "metadata": {},
   "outputs": [],
   "source": [
    "import gensim\n",
    "import numpy as np\n",
    "import pandas as pd\n",
    "from sklearn.preprocessing import LabelEncoder"
   ]
  },
  {
   "cell_type": "markdown",
   "metadata": {},
   "source": [
    "## Load data"
   ]
  },
  {
   "cell_type": "code",
   "execution_count": 2,
   "metadata": {},
   "outputs": [
    {
     "name": "stdout",
     "output_type": "stream",
     "text": [
      "Encodings:\n",
      "\t0: Games\n",
      "\t1: Programming\n",
      "Examples: 300\n"
     ]
    }
   ],
   "source": [
    "# Load data\n",
    "data_raw = pd.read_csv(\"../data/wikipedia_300.csv\").values\n",
    "\n",
    "# Get the text data (X) and labels (y)\n",
    "X = data_raw[:,0:-1]\n",
    "# Convert class label strings to integers\n",
    "y_raw = data_raw[:,-1]\n",
    "encoder = LabelEncoder()\n",
    "encoder.fit(y_raw)\n",
    "y = encoder.transform(y_raw)\n",
    "\n",
    "# Encoded labels\n",
    "print(\"Encodings:\")\n",
    "print(\"\\t0:\", encoder.inverse_transform([0])[0])\n",
    "print(\"\\t1:\", encoder.inverse_transform([1])[0])\n",
    "\n",
    "# Flatten input matrix to vector\n",
    "X = X.ravel()\n",
    "print(\"Examples: {}\".format(X.shape[0]))"
   ]
  },
  {
   "cell_type": "markdown",
   "metadata": {},
   "source": [
    "## Load and create the corpus"
   ]
  },
  {
   "cell_type": "code",
   "execution_count": 3,
   "metadata": {},
   "outputs": [],
   "source": [
    "corpus = gensim.corpora.textcorpus.TextCorpus(\"../data/wikipedia_300.csv\")"
   ]
  },
  {
   "cell_type": "markdown",
   "metadata": {},
   "source": [
    "## Generate LDA model"
   ]
  },
  {
   "cell_type": "code",
   "execution_count": 4,
   "metadata": {},
   "outputs": [],
   "source": [
    "model = gensim.models.LdaModel(corpus, \n",
    "                               id2word=corpus.dictionary, \n",
    "                               alpha='auto', \n",
    "                               minimum_probability=0.01,\n",
    "                               iterations=100, \n",
    "                               num_topics=2,\n",
    "                               random_state=0,\n",
    "                               passes=6)"
   ]
  },
  {
   "cell_type": "markdown",
   "metadata": {},
   "source": [
    "## Show top 10 words in all the topics"
   ]
  },
  {
   "cell_type": "code",
   "execution_count": 5,
   "metadata": {},
   "outputs": [
    {
     "name": "stdout",
     "output_type": "stream",
     "text": [
      "0:\n",
      "\t0.0113:  software\n",
      "\t0.0073:  design\n",
      "\t0.0057:  development\n",
      "\t0.0050:  game\n",
      "\t0.0041:  programming\n",
      "\t0.0040:  code\n",
      "\t0.0039:  engineering\n",
      "\t0.0038:  systems\n",
      "\t0.0036:  process\n",
      "\t0.0034:  model\n",
      "1:\n",
      "\t0.0197:  game\n",
      "\t0.0170:  games\n",
      "\t0.0102:  video\n",
      "\t0.0030:  series\n",
      "\t0.0029:  list\n",
      "\t0.0029:  use\n",
      "\t0.0027:  console\n",
      "\t0.0025:  million\n",
      "\t0.0024:  time\n",
      "\t0.0024:  nintendo\n"
     ]
    }
   ],
   "source": [
    "for topic_id in range(model.num_topics):\n",
    "    print(\"{}:\".format(topic_id))\n",
    "    topk = model.show_topic(topic_id, 10)\n",
    "    for wp in topk:\n",
    "        print(\"\\t{0:.4f}:  {1}\".format(wp[1], wp[0]))"
   ]
  },
  {
   "cell_type": "markdown",
   "metadata": {},
   "source": [
    "## Evaluate prediction accuracy"
   ]
  },
  {
   "cell_type": "code",
   "execution_count": 6,
   "metadata": {},
   "outputs": [
    {
     "name": "stdout",
     "output_type": "stream",
     "text": [
      "Accuracy: 82.3%\n"
     ]
    }
   ],
   "source": [
    "no_corr = 0\n",
    "tot = len(X)\n",
    "for i in range(0,tot):\n",
    "    doc = X[i].split()\n",
    "    doc_vector = model.id2word.doc2bow(doc)\n",
    "    doc_topics = model[doc_vector]\n",
    "    \n",
    "    # Get label\n",
    "    p = -1\n",
    "    label = -1\n",
    "    for dt in doc_topics:\n",
    "        if dt[1] > p:\n",
    "            p = dt[1]\n",
    "            label = dt[0]\n",
    "    \n",
    "    if label != y[i]:\n",
    "        no_corr += 1\n",
    "    \n",
    "acc = no_corr / tot\n",
    "print(\"Accuracy: {0:.1f}%\".format(acc * 100))"
   ]
  },
  {
   "cell_type": "code",
   "execution_count": null,
   "metadata": {},
   "outputs": [],
   "source": []
  }
 ],
 "metadata": {
  "kernelspec": {
   "display_name": "Python 3",
   "language": "python",
   "name": "python3"
  },
  "language_info": {
   "codemirror_mode": {
    "name": "ipython",
    "version": 3
   },
   "file_extension": ".py",
   "mimetype": "text/x-python",
   "name": "python",
   "nbconvert_exporter": "python",
   "pygments_lexer": "ipython3",
   "version": "3.7.4"
  }
 },
 "nbformat": 4,
 "nbformat_minor": 4
}
