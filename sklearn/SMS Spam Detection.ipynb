{
 "cells": [
  {
   "cell_type": "markdown",
   "metadata": {},
   "source": [
    "<h2>SMS Spam Detection</h2>\n",
    "See <a href=\"https://www.kaggle.com/uciml/sms-spam-collection-dataset\">Kaggle.com</a>"
   ]
  },
  {
   "cell_type": "code",
   "execution_count": 4,
   "metadata": {},
   "outputs": [
    {
     "name": "stdout",
     "output_type": "stream",
     "text": [
      "FreeMsg Hey there darling it's been 3 week's now and no word back! I'd like some fun you up for it still? Tb ok! XxX std chgs to send, å£1.50 to rcv\n",
      "spam\n",
      "FreeMsg Hey there darling its been 3 weeks now and no word back Id like some fun you up for it still Tb ok XxX std chgs to send, £1 50 to rcv\n",
      "Instances: 5572\n"
     ]
    }
   ],
   "source": [
    "import numpy as np\n",
    "import numpy.core.defchararray as npf\n",
    "from sklearn.preprocessing import LabelEncoder\n",
    "\n",
    "# load data\n",
    "import pandas as pd\n",
    "#sms = pd.read_csv(\"../data/spam.csv\", encoding=\"latin-1\")\n",
    "sms = pd.read_csv(\"../data/spam_utf8.csv\")\n",
    "sms = sms.drop(['Unnamed: 2','Unnamed: 3','Unnamed: 4'],axis=1)\n",
    "sms = sms.rename(columns = {'v1':'label','v2':'message'})\n",
    "\n",
    "X_raw = sms[\"message\"]\n",
    "y_raw = sms[\"label\"]\n",
    "\n",
    "print(X_raw[5])\n",
    "print(y_raw[5])\n",
    "\n",
    "for i in range(0,X_raw.shape[0]):\n",
    "    X_raw[i] = str(npf.replace(X_raw[i], \"'\", \"\"))\n",
    "    X_raw[i] = str(npf.replace(X_raw[i], \"å\", \"\"))\n",
    "    X_raw[i] = str(npf.replace(X_raw[i], \"!\", \"\"))\n",
    "    X_raw[i] = str(npf.replace(X_raw[i], \"?\", \"\"))\n",
    "    X_raw[i] = str(npf.replace(X_raw[i], \".\", \" \"))\n",
    "    X_raw[i] = str(npf.replace(X_raw[i], \"\\\"\", \"\"))\n",
    "\n",
    "print(X_raw[5])\n",
    "    \n",
    "# Convert class label strings to integers\n",
    "encoder = LabelEncoder()\n",
    "encoder.fit(y_raw)\n",
    "y = encoder.transform(y_raw)\n",
    "\n",
    "#np_data = df.values\n",
    "\n",
    "# split data into X and y\n",
    "#X_raw = np_data[:,0:-1]\n",
    "#y_raw = pd.factorize(np_data[:,-1])[0]\n",
    "\n",
    "#print(X_raw[4])\n",
    "#print(y_raw[2])\n",
    "\n",
    "# set seed to randomizer\n",
    "#seed = 7\n",
    "\n",
    "# flatten input matrix to vector\n",
    "#X_raw = X_raw.ravel()\n",
    "print(\"Instances: {}\".format(X_raw.shape[0]))"
   ]
  },
  {
   "cell_type": "markdown",
   "metadata": {},
   "source": [
    "<h2>Convert to bag of words</h2>"
   ]
  },
  {
   "cell_type": "code",
   "execution_count": 5,
   "metadata": {},
   "outputs": [],
   "source": [
    "from sklearn.feature_extraction.text import CountVectorizer\n",
    "\n",
    "def gen_bagofwords(X_raw, ng_min=1, ng_max=1, df_min=1):\n",
    "    count_vect = CountVectorizer(ngram_range=(ng_min,ng_max), min_df=df_min)\n",
    "    X = count_vect.fit_transform(X_raw)\n",
    "    print(\"Bag-of-words size: {}\".format(X.shape[1]))\n",
    "    return X"
   ]
  },
  {
   "cell_type": "markdown",
   "metadata": {},
   "source": [
    "<h2>Convert from occurences to frequencies</h2>"
   ]
  },
  {
   "cell_type": "code",
   "execution_count": 6,
   "metadata": {},
   "outputs": [],
   "source": [
    "from sklearn.feature_extraction.text import TfidfTransformer\n",
    "\n",
    "def conv_frequencies(X):\n",
    "    tf_transformer = TfidfTransformer(sublinear_tf=True).fit(X)\n",
    "    X = tf_transformer.transform(X)\n",
    "    return X"
   ]
  },
  {
   "cell_type": "markdown",
   "metadata": {},
   "source": [
    "<h2>Function for evaluating model accuracy</h2>"
   ]
  },
  {
   "cell_type": "code",
   "execution_count": 9,
   "metadata": {},
   "outputs": [],
   "source": [
    "from sklearn.metrics import accuracy_score\n",
    "from sklearn.model_selection import cross_val_predict\n",
    "from sklearn.metrics import confusion_matrix\n",
    "from sklearn.model_selection import train_test_split\n",
    "\n",
    "def evaluate_test(model):\n",
    "    print(\"\\n-- Test set --\")\n",
    "    X_train, X_test, y_train, y_test = train_test_split(X, y, test_size=0.2, random_state=111, stratify=y)\n",
    "    # train model on training dataset\n",
    "    model.fit(X_train, y_train)\n",
    "    # evaluate dataset\n",
    "    y_pred = model.predict(X_test)\n",
    "    # calculate accuracy\n",
    "    accuracy = accuracy_score(y_test, y_pred)\n",
    "    print(\"Accuracy: %.2f%%\" % (accuracy * 100.0))\n",
    "    # confusion matrix\n",
    "    print(\"Confusion Matrix:\")\n",
    "    conf_mx = confusion_matrix(y_test, y_pred)\n",
    "    print(conf_mx)\n",
    "       \n",
    "def evaluate_cv(model):\n",
    "    print(\"\\n-- 5-fold CV --\")\n",
    "    # 10-fold CV\n",
    "    y_pred = cross_val_predict(model, X, y, cv=5)\n",
    "    # calculate accuracy\n",
    "    accuracy = accuracy_score(y, y_pred)\n",
    "    print(\"Average accuracy: %.2f%%\" % (accuracy * 100.0))\n",
    "    # confusion matrix\n",
    "    print(\"Confusion Matrix:\")\n",
    "    conf_mx = confusion_matrix(y, y_pred)\n",
    "    print(conf_mx)"
   ]
  },
  {
   "cell_type": "markdown",
   "metadata": {},
   "source": [
    "<h2>Naive Bayes</h2>"
   ]
  },
  {
   "cell_type": "code",
   "execution_count": 10,
   "metadata": {},
   "outputs": [
    {
     "name": "stdout",
     "output_type": "stream",
     "text": [
      "Bag-of-words size: 8813\n",
      "\n",
      "-- Test set --\n",
      "Accuracy: 98.83%\n",
      "Confusion Matrix:\n",
      "[[959   7]\n",
      " [  6 143]]\n",
      "\n",
      "-- 5-fold CV --\n",
      "Average accuracy: 98.47%\n",
      "Confusion Matrix:\n",
      "[[4787   38]\n",
      " [  47  700]]\n"
     ]
    }
   ],
   "source": [
    "from sklearn.naive_bayes import BernoulliNB, MultinomialNB\n",
    "\n",
    "#X = gen_bagofwords(X_raw, df_min=0.001)\n",
    "X = gen_bagofwords(X_raw)\n",
    "X = conv_frequencies(X)\n",
    "\n",
    "model = MultinomialNB(alpha=0.01)\n",
    "evaluate_test(model)\n",
    "evaluate_cv(model)"
   ]
  },
  {
   "cell_type": "code",
   "execution_count": 177,
   "metadata": {},
   "outputs": [
    {
     "name": "stdout",
     "output_type": "stream",
     "text": [
      "Bag-of-words size: 3064\n",
      "\n",
      "-- Test set --\n",
      "Accuracy: 98.65%\n",
      "Confusion Matrix:\n",
      "[[963   3]\n",
      " [ 12 137]]\n",
      "\n",
      "-- 5-fold CV --\n",
      "Average accuracy: 98.46%\n",
      "Confusion Matrix:\n",
      "[[4812   13]\n",
      " [  73  674]]\n"
     ]
    }
   ],
   "source": [
    "X = gen_bagofwords(X_raw, 1, 2, df_min=0.001)\n",
    "#X = gen_bagofwords(X_raw)\n",
    "X = conv_frequencies(X)\n",
    "\n",
    "model = MultinomialNB(alpha=0.01)\n",
    "evaluate_test(model)\n",
    "evaluate_cv(model)"
   ]
  },
  {
   "cell_type": "markdown",
   "metadata": {},
   "source": [
    "<h2>SVM</h2>"
   ]
  },
  {
   "cell_type": "code",
   "execution_count": 178,
   "metadata": {},
   "outputs": [
    {
     "name": "stdout",
     "output_type": "stream",
     "text": [
      "Bag-of-words size: 1572\n",
      "\n",
      "-- Test set --\n",
      "Accuracy: 98.92%\n",
      "Confusion Matrix:\n",
      "[[963   3]\n",
      " [  9 140]]\n",
      "\n",
      "-- 5-fold CV --\n",
      "Average accuracy: 98.60%\n",
      "Confusion Matrix:\n",
      "[[4814   11]\n",
      " [  67  680]]\n"
     ]
    }
   ],
   "source": [
    "from sklearn import svm\n",
    "\n",
    "X = gen_bagofwords(X_raw, df_min=0.001)\n",
    "#X = gen_bagofwords(X_raw)\n",
    "X = conv_frequencies(X)\n",
    "\n",
    "model = svm.LinearSVC(random_state=42)\n",
    "evaluate_test(model)\n",
    "evaluate_cv(model)"
   ]
  },
  {
   "cell_type": "code",
   "execution_count": 179,
   "metadata": {},
   "outputs": [
    {
     "name": "stdout",
     "output_type": "stream",
     "text": [
      "Bag-of-words size: 3064\n",
      "\n",
      "-- Test set --\n",
      "Accuracy: 99.10%\n",
      "Confusion Matrix:\n",
      "[[964   2]\n",
      " [  8 141]]\n",
      "\n",
      "-- 5-fold CV --\n",
      "Average accuracy: 98.76%\n",
      "Confusion Matrix:\n",
      "[[4817    8]\n",
      " [  61  686]]\n"
     ]
    }
   ],
   "source": [
    "X = gen_bagofwords(X_raw, 1, 2, df_min=0.001)\n",
    "#X = gen_bagofwords(X_raw)\n",
    "X = conv_frequencies(X)\n",
    "\n",
    "model = svm.LinearSVC(random_state=42)\n",
    "evaluate_test(model)\n",
    "evaluate_cv(model)"
   ]
  },
  {
   "cell_type": "code",
   "execution_count": null,
   "metadata": {},
   "outputs": [],
   "source": []
  },
  {
   "cell_type": "markdown",
   "metadata": {},
   "source": [
    "<h2>Pipeline example</h2>"
   ]
  },
  {
   "cell_type": "code",
   "execution_count": 7,
   "metadata": {},
   "outputs": [
    {
     "name": "stdout",
     "output_type": "stream",
     "text": [
      "-- Training data --\n",
      "Accuracy: 99.67%\n",
      "Confusion Matrix:\n",
      "[[150   0]\n",
      " [  1 149]]\n",
      "\n",
      "-- 10-fold CV --\n",
      "Average accuracy: 95.33%\n",
      "Confusion Matrix:\n",
      "[[144   6]\n",
      " [  8 142]]\n"
     ]
    }
   ],
   "source": [
    "from sklearn.pipeline import Pipeline\n",
    "X = X_raw.ravel()\n",
    "model = Pipeline([('vect', CountVectorizer(stop_words='english')),\n",
    "                  ('tfidf', TfidfTransformer()),\n",
    "                  ('clf', MultinomialNB(alpha=.01)),])\n",
    "evaluate(model)"
   ]
  },
  {
   "cell_type": "code",
   "execution_count": null,
   "metadata": {},
   "outputs": [],
   "source": []
  }
 ],
 "metadata": {
  "kernelspec": {
   "display_name": "Python 3",
   "language": "python",
   "name": "python3"
  },
  "language_info": {
   "codemirror_mode": {
    "name": "ipython",
    "version": 3
   },
   "file_extension": ".py",
   "mimetype": "text/x-python",
   "name": "python",
   "nbconvert_exporter": "python",
   "pygments_lexer": "ipython3",
   "version": "3.7.2"
  }
 },
 "nbformat": 4,
 "nbformat_minor": 2
}
