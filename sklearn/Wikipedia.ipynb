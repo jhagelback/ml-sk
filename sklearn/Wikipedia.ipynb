{
 "cells": [
  {
   "cell_type": "markdown",
   "metadata": {},
   "source": [
    "<h2>Load data</h2>\n",
    "The code is a modified version from the code in <a href=\"http://scikit-learn.org/stable/tutorial/text_analytics/working_with_text_data.html\">this</a> tutorial."
   ]
  },
  {
   "cell_type": "code",
   "execution_count": 41,
   "metadata": {},
   "outputs": [
    {
     "name": "stdout",
     "output_type": "stream",
     "text": [
      "Examples: 300\n",
      "Possible categories: [0 1]\n"
     ]
    }
   ],
   "source": [
    "import numpy as np\n",
    "from sklearn.preprocessing import LabelEncoder\n",
    "\n",
    "# Load data\n",
    "import pandas as pd\n",
    "df = pd.read_csv(\"../data/wikipedia_300.csv\")\n",
    "np_data = df.values\n",
    "\n",
    "# Split data into X and y\n",
    "X_raw = np_data[:,0:-1]\n",
    "# Convert class label strings to integers\n",
    "Y_raw = np_data[:,-1]\n",
    "encoder = LabelEncoder()\n",
    "encoder.fit(Y_raw)\n",
    "Y = encoder.transform(Y_raw)\n",
    "\n",
    "# Flatten input matrix to vector\n",
    "X_raw = X_raw.ravel()\n",
    "print(\"Examples: {}\".format(X_raw.shape[0]))\n",
    "print(\"Possible categories:\",np.unique(Y))"
   ]
  },
  {
   "cell_type": "markdown",
   "metadata": {},
   "source": [
    "<h2>Convert to bag of words</h2>"
   ]
  },
  {
   "cell_type": "code",
   "execution_count": 42,
   "metadata": {},
   "outputs": [
    {
     "name": "stdout",
     "output_type": "stream",
     "text": [
      "(300, 50865)\n"
     ]
    }
   ],
   "source": [
    "from sklearn.feature_extraction.text import CountVectorizer\n",
    "count_vect = CountVectorizer(stop_words='english')\n",
    "X = count_vect.fit_transform(X_raw)\n",
    "print(X.shape)"
   ]
  },
  {
   "cell_type": "markdown",
   "metadata": {},
   "source": [
    "<h2>Convert from occurences to frequencies</h2>"
   ]
  },
  {
   "cell_type": "code",
   "execution_count": 43,
   "metadata": {},
   "outputs": [
    {
     "name": "stdout",
     "output_type": "stream",
     "text": [
      "(300, 50865)\n"
     ]
    }
   ],
   "source": [
    "from sklearn.feature_extraction.text import TfidfTransformer\n",
    "tf_transformer = TfidfTransformer().fit(X)\n",
    "X = tf_transformer.transform(X)\n",
    "print(X.shape)"
   ]
  },
  {
   "cell_type": "markdown",
   "metadata": {},
   "source": [
    "<h2>Function for evaluating model accuracy</h2>"
   ]
  },
  {
   "cell_type": "code",
   "execution_count": 44,
   "metadata": {},
   "outputs": [],
   "source": [
    "from sklearn.metrics import accuracy_score\n",
    "from sklearn.model_selection import cross_val_predict\n",
    "from sklearn.metrics import confusion_matrix\n",
    "\n",
    "def evaluate(model):\n",
    "    print(\"-- Training data --\")\n",
    "    # train model on training dataset\n",
    "    model.fit(X, Y)\n",
    "    # evaluate dataset\n",
    "    y_pred = model.predict(X)\n",
    "    predictions = [round(value) for value in y_pred]\n",
    "    # calculate accuracy\n",
    "    accuracy = accuracy_score(Y, predictions)\n",
    "    print(\"Accuracy: %.2f%%\" % (accuracy * 100.0))\n",
    "    # confusion matrix\n",
    "    print(\"Confusion Matrix:\")\n",
    "    conf_mx = confusion_matrix(Y, y_pred)\n",
    "    print(conf_mx)\n",
    "    \n",
    "    print(\"\")\n",
    "    print(\"-- 10-fold CV --\")\n",
    "    # 10-fold CV\n",
    "    y_pred = cross_val_predict(model, X, Y, cv=10)\n",
    "    # calculate accuracy\n",
    "    predictions = [round(value) for value in y_pred]\n",
    "    accuracy = accuracy_score(Y, predictions)\n",
    "    print(\"Average accuracy: %.2f%%\" % (accuracy * 100.0))\n",
    "    # confusion matrix\n",
    "    print(\"Confusion Matrix:\")\n",
    "    conf_mx = confusion_matrix(Y, y_pred)\n",
    "    print(conf_mx)"
   ]
  },
  {
   "cell_type": "markdown",
   "metadata": {},
   "source": [
    "<h2>Naive Bayes</h2>"
   ]
  },
  {
   "cell_type": "code",
   "execution_count": 45,
   "metadata": {},
   "outputs": [
    {
     "name": "stdout",
     "output_type": "stream",
     "text": [
      "-- Training data --\n",
      "Accuracy: 99.67%\n",
      "Confusion Matrix:\n",
      "[[149   1]\n",
      " [  0 150]]\n",
      "\n",
      "-- 10-fold CV --\n",
      "Average accuracy: 95.33%\n",
      "Confusion Matrix:\n",
      "[[142   8]\n",
      " [  6 144]]\n"
     ]
    }
   ],
   "source": [
    "from sklearn.naive_bayes import BernoulliNB, MultinomialNB\n",
    "from sklearn.metrics import accuracy_score\n",
    "from sklearn.metrics import confusion_matrix\n",
    "\n",
    "model = MultinomialNB(alpha=.01)\n",
    "evaluate(model)"
   ]
  },
  {
   "cell_type": "markdown",
   "metadata": {},
   "source": [
    "<h2>SVM</h2>"
   ]
  },
  {
   "cell_type": "code",
   "execution_count": 6,
   "metadata": {},
   "outputs": [
    {
     "name": "stdout",
     "output_type": "stream",
     "text": [
      "-- Training data --\n",
      "Accuracy: 100.00%\n",
      "Confusion Matrix:\n",
      "[[150   0]\n",
      " [  0 150]]\n",
      "\n",
      "-- 10-fold CV --\n",
      "Average accuracy: 95.00%\n",
      "Confusion Matrix:\n",
      "[[146   4]\n",
      " [ 11 139]]\n"
     ]
    }
   ],
   "source": [
    "from sklearn import svm\n",
    "\n",
    "# train model\n",
    "model = svm.LinearSVC(random_state=42)\n",
    "evaluate(model)"
   ]
  },
  {
   "cell_type": "markdown",
   "metadata": {},
   "source": [
    "<h2>Pipeline example</h2>"
   ]
  },
  {
   "cell_type": "code",
   "execution_count": 7,
   "metadata": {},
   "outputs": [
    {
     "name": "stdout",
     "output_type": "stream",
     "text": [
      "-- Training data --\n",
      "Accuracy: 99.67%\n",
      "Confusion Matrix:\n",
      "[[150   0]\n",
      " [  1 149]]\n",
      "\n",
      "-- 10-fold CV --\n",
      "Average accuracy: 95.33%\n",
      "Confusion Matrix:\n",
      "[[144   6]\n",
      " [  8 142]]\n"
     ]
    }
   ],
   "source": [
    "from sklearn.pipeline import Pipeline\n",
    "X = X_raw.ravel()\n",
    "model = Pipeline([('vect', CountVectorizer(stop_words='english')),\n",
    "                  ('tfidf', TfidfTransformer()),\n",
    "                  ('clf', MultinomialNB(alpha=.01)),])\n",
    "evaluate(model)"
   ]
  },
  {
   "cell_type": "code",
   "execution_count": null,
   "metadata": {},
   "outputs": [],
   "source": []
  }
 ],
 "metadata": {
  "kernelspec": {
   "display_name": "Python 3",
   "language": "python",
   "name": "python3"
  },
  "language_info": {
   "codemirror_mode": {
    "name": "ipython",
    "version": 3
   },
   "file_extension": ".py",
   "mimetype": "text/x-python",
   "name": "python",
   "nbconvert_exporter": "python",
   "pygments_lexer": "ipython3",
   "version": "3.7.2"
  }
 },
 "nbformat": 4,
 "nbformat_minor": 2
}
