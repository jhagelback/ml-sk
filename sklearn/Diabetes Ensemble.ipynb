{
 "cells": [
  {
   "cell_type": "markdown",
   "metadata": {},
   "source": [
    "<h1>Ensemble classifiers on Diabetes dataset</h1>"
   ]
  },
  {
   "cell_type": "markdown",
   "metadata": {},
   "source": [
    "<h2>Load data</h2>"
   ]
  },
  {
   "cell_type": "code",
   "execution_count": 1,
   "metadata": {},
   "outputs": [],
   "source": [
    "import pandas as pd\n",
    "from sklearn.preprocessing import LabelEncoder\n",
    "from sklearn.utils import shuffle\n",
    "\n",
    "# Load data\n",
    "df = pd.read_csv(\"../data/diabetes.csv\")\n",
    "np_data = df.values\n",
    "\n",
    "# Split data into X and y\n",
    "X = np_data[:,0:-1]\n",
    "\n",
    "# Convert class label strings to integers\n",
    "y_raw = np_data[:,-1]\n",
    "encoder = LabelEncoder()\n",
    "encoder.fit(y_raw)\n",
    "y = encoder.transform(y_raw)\n",
    "\n",
    "# Shuffle data\n",
    "X, y = shuffle(X, y, random_state=0)\n",
    "\n",
    "# Set seed to randomizer\n",
    "seed = 42\n",
    "\n",
    "# Ignore deprecation warnings\n",
    "import warnings\n",
    "warnings.filterwarnings(\"ignore\", category=DeprecationWarning)"
   ]
  },
  {
   "cell_type": "markdown",
   "metadata": {},
   "source": [
    "<h2>Train/test split</h2>"
   ]
  },
  {
   "cell_type": "code",
   "execution_count": 2,
   "metadata": {},
   "outputs": [
    {
     "name": "stdout",
     "output_type": "stream",
     "text": [
      "Training set shape: (614, 8)\n",
      "Test set shape: (154, 8)\n"
     ]
    }
   ],
   "source": [
    "from sklearn.model_selection import train_test_split\n",
    "\n",
    "X_train, X_test, y_train, y_test = train_test_split(X, y, test_size=0.2, random_state=seed)\n",
    "\n",
    "print(\"Training set shape:\", X_train.shape)\n",
    "print(\"Test set shape:\", X_test.shape)"
   ]
  },
  {
   "cell_type": "markdown",
   "metadata": {},
   "source": [
    "<h2>Train and evaluate bagging classifier</h2>"
   ]
  },
  {
   "cell_type": "code",
   "execution_count": 3,
   "metadata": {},
   "outputs": [
    {
     "name": "stdout",
     "output_type": "stream",
     "text": [
      "Accuracy: 74.03%\n",
      "\n",
      "Confusion matrix:\n",
      "[[77 15]\n",
      " [25 37]]\n"
     ]
    }
   ],
   "source": [
    "from sklearn.ensemble import BaggingClassifier\n",
    "from sklearn.linear_model import SGDClassifier\n",
    "from sklearn.metrics import accuracy_score\n",
    "from sklearn.metrics import confusion_matrix\n",
    "\n",
    "bag_clf = BaggingClassifier(\n",
    "        SGDClassifier(max_iter=1000), n_estimators=125,\n",
    "        bootstrap=True, oob_score=True, n_jobs=-1)  \n",
    "bag_clf.fit(X_train, y_train)\n",
    "y_pred = bag_clf.predict(X_test)\n",
    "\n",
    "# Calculate accuracy\n",
    "print(\"Accuracy: {0:.2f}%\".format(accuracy_score(y_test, y_pred) * 100.0))\n",
    "\n",
    "# Confusion matrix\n",
    "print(\"\\nConfusion matrix:\")\n",
    "print(confusion_matrix(y_test, y_pred))"
   ]
  },
  {
   "cell_type": "markdown",
   "metadata": {},
   "source": [
    "<h2>Train and evaluate RandomForest classifier</h2>"
   ]
  },
  {
   "cell_type": "code",
   "execution_count": 9,
   "metadata": {},
   "outputs": [
    {
     "name": "stdout",
     "output_type": "stream",
     "text": [
      "Accuracy: 75.97%\n",
      "\n",
      "Confusion matrix:\n",
      "[[81 11]\n",
      " [26 36]]\n"
     ]
    }
   ],
   "source": [
    "from sklearn.ensemble import RandomForestClassifier\n",
    "\n",
    "rnd_clf = RandomForestClassifier(n_estimators=125, n_jobs=-1, random_state=seed)\n",
    "rnd_clf.fit(X_train, y_train)\n",
    "y_pred = rnd_clf.predict(X_test)\n",
    "\n",
    "# Calculate accuracy\n",
    "print(\"Accuracy: {0:.2f}%\".format(accuracy_score(y_test, y_pred) * 100.0))\n",
    "\n",
    "# Confusion matrix\n",
    "print(\"\\nConfusion matrix:\")\n",
    "print(confusion_matrix(y_test, y_pred))"
   ]
  },
  {
   "cell_type": "markdown",
   "metadata": {},
   "source": [
    "<h2>Train and evaluate ExtraTrees classifier</h2>"
   ]
  },
  {
   "cell_type": "code",
   "execution_count": 11,
   "metadata": {},
   "outputs": [
    {
     "name": "stdout",
     "output_type": "stream",
     "text": [
      "Accuracy: 73.38%\n",
      "\n",
      "Confusion matrix:\n",
      "[[78 14]\n",
      " [27 35]]\n"
     ]
    }
   ],
   "source": [
    "from sklearn.ensemble import ExtraTreesClassifier\n",
    "\n",
    "ext_clf = ExtraTreesClassifier(n_estimators=125, n_jobs=-1, random_state=seed)\n",
    "ext_clf.fit(X_train, y_train)\n",
    "y_pred = ext_clf.predict(X_test)\n",
    "\n",
    "# Calculate accuracy\n",
    "print(\"Accuracy: {0:.2f}%\".format(accuracy_score(y_test, y_pred) * 100.0))\n",
    "\n",
    "# Confusion matrix\n",
    "print(\"\\nConfusion matrix:\")\n",
    "print(confusion_matrix(y_test, y_pred))"
   ]
  },
  {
   "cell_type": "markdown",
   "metadata": {},
   "source": [
    "<h2>Check feature importance</h2>"
   ]
  },
  {
   "cell_type": "code",
   "execution_count": 12,
   "metadata": {},
   "outputs": [
    {
     "name": "stdout",
     "output_type": "stream",
     "text": [
      "NoTime:\t0.08\n",
      "Plasma:\t0.25\n",
      "Diasto:\t0.09\n",
      "Tricep:\t0.07\n",
      "SerumI:\t0.07\n",
      "BMI:\t0.18\n",
      "Diabet:\t0.12\n",
      "Age:\t0.13\n"
     ]
    }
   ],
   "source": [
    "for name, score in zip(df.columns, rnd_clf.feature_importances_):\n",
    "    print(\"{0:.6}:\\t{1:.2f}\".format(name, score))"
   ]
  },
  {
   "cell_type": "markdown",
   "metadata": {},
   "source": [
    "<h2>Train and evaluate XGBoost classifier</h2>"
   ]
  },
  {
   "cell_type": "code",
   "execution_count": 15,
   "metadata": {},
   "outputs": [
    {
     "name": "stdout",
     "output_type": "stream",
     "text": [
      "Accuracy: 75.97%\n",
      "\n",
      "Confusion matrix:\n",
      "[[77 15]\n",
      " [22 40]]\n"
     ]
    }
   ],
   "source": [
    "from xgboost import XGBClassifier\n",
    "\n",
    "# train model\n",
    "xgb_clf = XGBClassifier(random_state=seed)\n",
    "xgb_clf.fit(X_train, y_train)\n",
    "y_pred = xgb_clf.predict(X_test)\n",
    "\n",
    "# Calculate accuracy\n",
    "print(\"Accuracy: {0:.2f}%\".format(accuracy_score(y_test, y_pred) * 100.0))\n",
    "\n",
    "# Confusion matrix\n",
    "print(\"\\nConfusion matrix:\")\n",
    "print(confusion_matrix(y_test, y_pred))"
   ]
  },
  {
   "cell_type": "code",
   "execution_count": null,
   "metadata": {},
   "outputs": [],
   "source": []
  }
 ],
 "metadata": {
  "kernelspec": {
   "display_name": "Python 3",
   "language": "python",
   "name": "python3"
  },
  "language_info": {
   "codemirror_mode": {
    "name": "ipython",
    "version": 3
   },
   "file_extension": ".py",
   "mimetype": "text/x-python",
   "name": "python",
   "nbconvert_exporter": "python",
   "pygments_lexer": "ipython3",
   "version": "3.7.2"
  }
 },
 "nbformat": 4,
 "nbformat_minor": 2
}
