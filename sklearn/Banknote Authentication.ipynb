{
 "cells": [
  {
   "cell_type": "markdown",
   "metadata": {},
   "source": [
    "<h2>Load data</h2>"
   ]
  },
  {
   "cell_type": "code",
   "execution_count": 11,
   "metadata": {},
   "outputs": [
    {
     "name": "stdout",
     "output_type": "stream",
     "text": [
      "Example:\n",
      "[ -1.7713 -10.7665  10.2184  -1.0043] -> 1.0\n",
      "\n",
      "Data shape: (1372, 4)\n"
     ]
    }
   ],
   "source": [
    "import pandas as pd\n",
    "import numpy as np\n",
    "from sklearn.utils import shuffle\n",
    "from sklearn.preprocessing import LabelEncoder\n",
    "from sklearn.preprocessing import StandardScaler\n",
    "\n",
    "# Load data\n",
    "np_data = pd.read_csv(\"../data/banknote.csv\").values\n",
    "\n",
    "# Split data into X and y\n",
    "X_raw = np_data[:,0:-1].astype(float)\n",
    "y_raw = np_data[:,-1]\n",
    "\n",
    "# Shuffle data\n",
    "X, y = shuffle(X_raw, y_raw, random_state=0)\n",
    "\n",
    "# Normalize data to avoid high input values\n",
    "#scaler = StandardScaler()\n",
    "#scaler.fit(X_raw)\n",
    "#X = scaler.transform(X_raw)\n",
    "\n",
    "# Print some stuff\n",
    "print(\"Example:\")\n",
    "print(X[0], \"->\", y[0])\n",
    "print(\"\")\n",
    "print(\"Data shape:\", X.shape)"
   ]
  },
  {
   "cell_type": "markdown",
   "metadata": {},
   "source": [
    "<h2>Function for evaluating model accuracy</h2>"
   ]
  },
  {
   "cell_type": "code",
   "execution_count": 12,
   "metadata": {},
   "outputs": [],
   "source": [
    "from sklearn.metrics import accuracy_score\n",
    "from sklearn.model_selection import cross_val_predict\n",
    "from sklearn.metrics import confusion_matrix\n",
    "from sklearn.model_selection import train_test_split\n",
    "\n",
    "def evaluate_test(model):\n",
    "    print(\"\\n-- Test set --\")\n",
    "    X_train, X_test, y_train, y_test = train_test_split(X, y, test_size=0.2, random_state=111, stratify=y)\n",
    "    # train model on training dataset\n",
    "    model.fit(X_train, y_train)\n",
    "    # evaluate dataset\n",
    "    y_pred = model.predict(X_test)\n",
    "    # calculate accuracy\n",
    "    accuracy = accuracy_score(y_test, y_pred)\n",
    "    print(\"Accuracy: %.2f%%\" % (accuracy * 100.0))\n",
    "    # confusion matrix\n",
    "    print(\"Confusion Matrix:\")\n",
    "    conf_mx = confusion_matrix(y_test, y_pred)\n",
    "    print(conf_mx)\n",
    "       \n",
    "def evaluate_cv(model):\n",
    "    print(\"\\n-- 5-fold CV --\")\n",
    "    # 10-fold CV\n",
    "    y_pred = cross_val_predict(model, X, y, cv=5)\n",
    "    # calculate accuracy\n",
    "    accuracy = accuracy_score(y, y_pred)\n",
    "    print(\"Average accuracy: %.2f%%\" % (accuracy * 100.0))\n",
    "    # confusion matrix\n",
    "    print(\"Confusion Matrix:\")\n",
    "    conf_mx = confusion_matrix(y, y_pred)\n",
    "    print(conf_mx)"
   ]
  },
  {
   "cell_type": "markdown",
   "metadata": {},
   "source": [
    "<h2>Naive Bayes</h2>"
   ]
  },
  {
   "cell_type": "code",
   "execution_count": 13,
   "metadata": {},
   "outputs": [
    {
     "name": "stdout",
     "output_type": "stream",
     "text": [
      "\n",
      "-- Test set --\n",
      "Accuracy: 85.45%\n",
      "Confusion Matrix:\n",
      "[[137  16]\n",
      " [ 24  98]]\n",
      "\n",
      "-- 5-fold CV --\n",
      "Average accuracy: 83.82%\n",
      "Confusion Matrix:\n",
      "[[668  94]\n",
      " [128 482]]\n"
     ]
    }
   ],
   "source": [
    "from sklearn.naive_bayes import GaussianNB\n",
    "\n",
    "model = GaussianNB()\n",
    "evaluate_test(model)\n",
    "evaluate_cv(model)"
   ]
  },
  {
   "cell_type": "code",
   "execution_count": null,
   "metadata": {},
   "outputs": [],
   "source": []
  }
 ],
 "metadata": {
  "kernelspec": {
   "display_name": "Python 3",
   "language": "python",
   "name": "python3"
  },
  "language_info": {
   "codemirror_mode": {
    "name": "ipython",
    "version": 3
   },
   "file_extension": ".py",
   "mimetype": "text/x-python",
   "name": "python",
   "nbconvert_exporter": "python",
   "pygments_lexer": "ipython3",
   "version": "3.7.2"
  }
 },
 "nbformat": 4,
 "nbformat_minor": 2
}
