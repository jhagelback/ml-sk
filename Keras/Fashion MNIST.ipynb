{
 "cells": [
  {
   "cell_type": "markdown",
   "metadata": {},
   "source": [
    "<h2>Fashion MNIST dataset in Keras library</h2>"
   ]
  },
  {
   "cell_type": "markdown",
   "metadata": {},
   "source": [
    "<h2>Load data</h2>"
   ]
  },
  {
   "cell_type": "code",
   "execution_count": 1,
   "metadata": {},
   "outputs": [
    {
     "name": "stderr",
     "output_type": "stream",
     "text": [
      "Using TensorFlow backend.\n"
     ]
    },
    {
     "name": "stdout",
     "output_type": "stream",
     "text": [
      "Training instances: 60000\n",
      "Test instances: 10000\n",
      "\n",
      "Structure of training set: (60000, 28, 28)\n",
      "Structure of labels set: (60000, 10)\n"
     ]
    }
   ],
   "source": [
    "# Imports\n",
    "# - Dataset\n",
    "from keras.datasets import fashion_mnist\n",
    "# - Helper libraries\n",
    "import numpy as np\n",
    "import pandas as pd\n",
    "import time\n",
    "from sklearn.metrics import confusion_matrix\n",
    "from keras.utils import np_utils\n",
    "# - Graph plots\n",
    "%matplotlib inline\n",
    "from matplotlib import pyplot as plt\n",
    "# - Keras models and layers\n",
    "from keras.models import Sequential\n",
    "from keras.layers import Dense, Activation, Flatten, Dropout, Flatten, Convolution2D, MaxPooling2D, BatchNormalization\n",
    "from keras.callbacks import EarlyStopping\n",
    "\n",
    "# Ignore warnings\n",
    "import tensorflow as tf\n",
    "tf.logging.set_verbosity(tf.logging.ERROR)\n",
    "\n",
    "# Load pre-shuffled Fashion MNIST data into train and test sets\n",
    "(X_train, y_train_raw), (X_test, y_test_raw) = fashion_mnist.load_data()\n",
    "\n",
    "# Convert to float values and normalize between 0...1\n",
    "X_train = X_train.astype(\"float32\")\n",
    "X_test = X_test.astype(\"float32\")\n",
    "X_train /= 255 \n",
    "X_test /= 255\n",
    "\n",
    "# Preprocess class labels\n",
    "# Convert labels to 10-dimensional one-hot vectors\n",
    "y_train = np_utils.to_categorical(y_train_raw, 10)\n",
    "y_test = np_utils.to_categorical(y_test_raw, 10)\n",
    "\n",
    "print(\"Training instances: {}\".format(X_train.shape[0]))\n",
    "print(\"Test instances: {}\".format(X_test.shape[0]))\n",
    "print()\n",
    "print(\"Structure of training set: {}\".format(X_train.shape))\n",
    "print(\"Structure of labels set: {}\".format(y_train.shape))"
   ]
  },
  {
   "cell_type": "markdown",
   "metadata": {},
   "source": [
    "<h2>Pre-process data for 1D or 2D inputs</h2>"
   ]
  },
  {
   "cell_type": "code",
   "execution_count": 2,
   "metadata": {},
   "outputs": [
    {
     "name": "stdout",
     "output_type": "stream",
     "text": [
      "1D shape: (60000, 784)\n",
      "2D shape: (60000, 28, 28, 1)\n"
     ]
    }
   ],
   "source": [
    "# Preprocess for 1D input data\n",
    "X_train_1D = X_train.reshape(X_train.shape[0], 784)\n",
    "X_test_1D = X_test.reshape(X_test.shape[0], 784)\n",
    "print(\"1D shape:\", X_train_1D.shape)\n",
    "\n",
    "# Preprocess for 2D input data\n",
    "X_train_2D = X_train.reshape(X_train.shape[0], 28, 28, 1)\n",
    "X_test_2D = X_test.reshape(X_test.shape[0], 28, 28, 1)\n",
    "print(\"2D shape:\", X_train_2D.shape)"
   ]
  },
  {
   "cell_type": "markdown",
   "metadata": {},
   "source": [
    "<h2>Build Linear model</h2>"
   ]
  },
  {
   "cell_type": "code",
   "execution_count": 3,
   "metadata": {},
   "outputs": [
    {
     "name": "stdout",
     "output_type": "stream",
     "text": [
      "_________________________________________________________________\n",
      "Layer (type)                 Output Shape              Param #   \n",
      "=================================================================\n",
      "dense_1 (Dense)              (None, 10)                7850      \n",
      "=================================================================\n",
      "Total params: 7,850\n",
      "Trainable params: 7,850\n",
      "Non-trainable params: 0\n",
      "_________________________________________________________________\n",
      "None\n"
     ]
    }
   ],
   "source": [
    "# Create Linear Softmax model\n",
    "lin_clf = Sequential()\n",
    "lin_clf.add(Dense(10, input_dim=784, activation=\"softmax\"))\n",
    "\n",
    "# Compile model\n",
    "lin_clf.compile(loss=\"categorical_crossentropy\", optimizer=\"adam\", metrics=[\"accuracy\"])\n",
    "print(lin_clf.summary())"
   ]
  },
  {
   "cell_type": "markdown",
   "metadata": {},
   "source": [
    "<h2>Train and evaluate Linear model on test data</h2>"
   ]
  },
  {
   "cell_type": "code",
   "execution_count": 4,
   "metadata": {},
   "outputs": [
    {
     "name": "stdout",
     "output_type": "stream",
     "text": [
      "Epoch 1/8\n",
      "60000/60000 [==============================] - 2s 39us/step - loss: 0.5973 - acc: 0.7994\n",
      "Epoch 2/8\n",
      "60000/60000 [==============================] - 2s 39us/step - loss: 0.4608 - acc: 0.8424\n",
      "Epoch 3/8\n",
      "60000/60000 [==============================] - 2s 39us/step - loss: 0.4349 - acc: 0.8502\n",
      "Epoch 4/8\n",
      "60000/60000 [==============================] - 2s 40us/step - loss: 0.4217 - acc: 0.8547\n",
      "Epoch 5/8\n",
      "60000/60000 [==============================] - 2s 34us/step - loss: 0.4121 - acc: 0.8573\n",
      "Epoch 6/8\n",
      "60000/60000 [==============================] - 2s 34us/step - loss: 0.4065 - acc: 0.8590\n",
      "Epoch 7/8\n",
      "60000/60000 [==============================] - 2s 34us/step - loss: 0.4012 - acc: 0.8611\n",
      "Epoch 8/8\n",
      "60000/60000 [==============================] - 2s 34us/step - loss: 0.3989 - acc: 0.8619\n",
      "\n",
      "Test Accuracy: 84.27%\n",
      "Time elapsed: 17.90 sec\n"
     ]
    }
   ],
   "source": [
    "# Start timer\n",
    "start = time.time()\n",
    "\n",
    "# Train model on training data\n",
    "lin_clf.fit(X_train_1D, y_train, batch_size=32, epochs=8, verbose=1)\n",
    "# Evaluate model on test data\n",
    "score = lin_clf.evaluate(X_test_1D, y_test, verbose=0)\n",
    "\n",
    "# Stop timer\n",
    "end = time.time()\n",
    "\n",
    "# Print results\n",
    "print(\"\\nTest Accuracy: {0:0.2f}%\".format(score[1] * 100))\n",
    "print(\"Time elapsed: {0:0.2f} sec\".format(end - start))"
   ]
  },
  {
   "cell_type": "markdown",
   "metadata": {},
   "source": [
    "<h2>Build Neural Net model</h2>"
   ]
  },
  {
   "cell_type": "code",
   "execution_count": 5,
   "metadata": {},
   "outputs": [
    {
     "name": "stdout",
     "output_type": "stream",
     "text": [
      "_________________________________________________________________\n",
      "Layer (type)                 Output Shape              Param #   \n",
      "=================================================================\n",
      "dense_2 (Dense)              (None, 128)               100352    \n",
      "_________________________________________________________________\n",
      "batch_normalization_1 (Batch (None, 128)               512       \n",
      "_________________________________________________________________\n",
      "activation_1 (Activation)    (None, 128)               0         \n",
      "_________________________________________________________________\n",
      "dense_3 (Dense)              (None, 128)               16384     \n",
      "_________________________________________________________________\n",
      "batch_normalization_2 (Batch (None, 128)               512       \n",
      "_________________________________________________________________\n",
      "activation_2 (Activation)    (None, 128)               0         \n",
      "_________________________________________________________________\n",
      "dense_4 (Dense)              (None, 10)                1290      \n",
      "=================================================================\n",
      "Total params: 119,050\n",
      "Trainable params: 118,538\n",
      "Non-trainable params: 512\n",
      "_________________________________________________________________\n",
      "None\n"
     ]
    }
   ],
   "source": [
    "# Create Neural Net Softmax model\n",
    "nn_clf = Sequential()\n",
    "# - first Dense\n",
    "nn_clf.add(Dense(128, input_dim=784, use_bias=False))\n",
    "nn_clf.add(BatchNormalization())\n",
    "nn_clf.add(Activation(\"elu\"))\n",
    "# - second Dense\n",
    "nn_clf.add(Dense(128, use_bias=False))\n",
    "nn_clf.add(BatchNormalization())\n",
    "nn_clf.add(Activation(\"elu\"))\n",
    "# - output\n",
    "nn_clf.add(Dense(10, activation=\"softmax\"))\n",
    "           \n",
    "# Compile model\n",
    "nn_clf.compile(loss=\"categorical_crossentropy\", optimizer=\"adam\", metrics=[\"accuracy\"])\n",
    "print(nn_clf.summary())"
   ]
  },
  {
   "cell_type": "markdown",
   "metadata": {},
   "source": [
    "<h2>Train and evaluate Neural Net model on test data</h2>"
   ]
  },
  {
   "cell_type": "code",
   "execution_count": 6,
   "metadata": {},
   "outputs": [
    {
     "name": "stdout",
     "output_type": "stream",
     "text": [
      "Train on 48000 samples, validate on 12000 samples\n",
      "Epoch 1/15\n",
      "48000/48000 [==============================] - 6s 133us/step - loss: 0.4941 - acc: 0.8242 - val_loss: 0.4240 - val_acc: 0.8521\n",
      "Epoch 2/15\n",
      "48000/48000 [==============================] - 6s 123us/step - loss: 0.3922 - acc: 0.8583 - val_loss: 0.4078 - val_acc: 0.8499\n",
      "Epoch 3/15\n",
      "48000/48000 [==============================] - 6s 129us/step - loss: 0.3562 - acc: 0.8696 - val_loss: 0.3764 - val_acc: 0.8602\n",
      "Epoch 4/15\n",
      "48000/48000 [==============================] - 6s 130us/step - loss: 0.3290 - acc: 0.8793 - val_loss: 0.3676 - val_acc: 0.8622\n",
      "Epoch 5/15\n",
      "48000/48000 [==============================] - 6s 129us/step - loss: 0.3059 - acc: 0.8884 - val_loss: 0.3643 - val_acc: 0.8682\n",
      "Epoch 6/15\n",
      "48000/48000 [==============================] - 6s 124us/step - loss: 0.2932 - acc: 0.8912 - val_loss: 0.3518 - val_acc: 0.8729\n",
      "Epoch 7/15\n",
      "48000/48000 [==============================] - 6s 128us/step - loss: 0.2752 - acc: 0.8984 - val_loss: 0.3500 - val_acc: 0.8734\n",
      "Epoch 8/15\n",
      "48000/48000 [==============================] - 6s 125us/step - loss: 0.2636 - acc: 0.9015 - val_loss: 0.3678 - val_acc: 0.8629\n",
      "Epoch 9/15\n",
      "48000/48000 [==============================] - 6s 133us/step - loss: 0.2544 - acc: 0.9037 - val_loss: 0.3155 - val_acc: 0.8860\n",
      "Epoch 10/15\n",
      "48000/48000 [==============================] - 6s 127us/step - loss: 0.2424 - acc: 0.9091 - val_loss: 0.3660 - val_acc: 0.8704\n",
      "Epoch 11/15\n",
      "48000/48000 [==============================] - 6s 135us/step - loss: 0.2342 - acc: 0.9135 - val_loss: 0.3188 - val_acc: 0.8884\n",
      "\n",
      "Test Accuracy: 88.30%\n",
      "Time elapsed: 68.93 sec\n"
     ]
    },
    {
     "data": {
      "image/png": "[encoded data removed]",
      "text/plain": [
       "<Figure size 576x360 with 1 Axes>"
      ]
     },
     "metadata": {
      "needs_background": "light"
     },
     "output_type": "display_data"
    }
   ],
   "source": [
    "# Early stopping\n",
    "cp = EarlyStopping(patience=2, restore_best_weights=True)\n",
    "\n",
    "# Start timer\n",
    "start = time.time()\n",
    "\n",
    "# Train model on training data\n",
    "history = nn_clf.fit(X_train_1D, y_train, batch_size=32, epochs=15, validation_split=0.2, callbacks=[cp], verbose=1)\n",
    "# Evaluate model on test data\n",
    "score = nn_clf.evaluate(X_test_1D, y_test, verbose=0)\n",
    "\n",
    "# Stop timer\n",
    "end = time.time()\n",
    "\n",
    "# Print results\n",
    "print(\"\\nTest Accuracy: {0:0.2f}%\".format(score[1] * 100))\n",
    "print(\"Time elapsed: {0:0.2f} sec\".format(end - start))\n",
    "\n",
    "# Plot training history\n",
    "pd.DataFrame(history.history).plot(figsize=(8, 5)) \n",
    "plt.grid(True)\n",
    "plt.gca().set_ylim(0, 1)\n",
    "plt.show()"
   ]
  },
  {
   "cell_type": "markdown",
   "metadata": {},
   "source": [
    "<h2>Build ConvNet model</h2>"
   ]
  },
  {
   "cell_type": "code",
   "execution_count": 13,
   "metadata": {},
   "outputs": [
    {
     "name": "stdout",
     "output_type": "stream",
     "text": [
      "_________________________________________________________________\n",
      "Layer (type)                 Output Shape              Param #   \n",
      "=================================================================\n",
      "conv2d_3 (Conv2D)            (None, 24, 24, 32)        800       \n",
      "_________________________________________________________________\n",
      "batch_normalization_9 (Batch (None, 24, 24, 32)        128       \n",
      "_________________________________________________________________\n",
      "activation_9 (Activation)    (None, 24, 24, 32)        0         \n",
      "_________________________________________________________________\n",
      "max_pooling2d_3 (MaxPooling2 (None, 12, 12, 32)        0         \n",
      "_________________________________________________________________\n",
      "conv2d_4 (Conv2D)            (None, 10, 10, 64)        18432     \n",
      "_________________________________________________________________\n",
      "batch_normalization_10 (Batc (None, 10, 10, 64)        256       \n",
      "_________________________________________________________________\n",
      "activation_10 (Activation)   (None, 10, 10, 64)        0         \n",
      "_________________________________________________________________\n",
      "conv2d_5 (Conv2D)            (None, 8, 8, 64)          36864     \n",
      "_________________________________________________________________\n",
      "batch_normalization_11 (Batc (None, 8, 8, 64)          256       \n",
      "_________________________________________________________________\n",
      "activation_11 (Activation)   (None, 8, 8, 64)          0         \n",
      "_________________________________________________________________\n",
      "max_pooling2d_4 (MaxPooling2 (None, 4, 4, 64)          0         \n",
      "_________________________________________________________________\n",
      "flatten_2 (Flatten)          (None, 1024)              0         \n",
      "_________________________________________________________________\n",
      "dense_11 (Dense)             (None, 128)               131072    \n",
      "_________________________________________________________________\n",
      "batch_normalization_12 (Batc (None, 128)               512       \n",
      "_________________________________________________________________\n",
      "activation_12 (Activation)   (None, 128)               0         \n",
      "_________________________________________________________________\n",
      "dropout_3 (Dropout)          (None, 128)               0         \n",
      "_________________________________________________________________\n",
      "dense_12 (Dense)             (None, 128)               16384     \n",
      "_________________________________________________________________\n",
      "batch_normalization_13 (Batc (None, 128)               512       \n",
      "_________________________________________________________________\n",
      "activation_13 (Activation)   (None, 128)               0         \n",
      "_________________________________________________________________\n",
      "dropout_4 (Dropout)          (None, 128)               0         \n",
      "_________________________________________________________________\n",
      "dense_13 (Dense)             (None, 10)                1290      \n",
      "=================================================================\n",
      "Total params: 206,506\n",
      "Trainable params: 205,674\n",
      "Non-trainable params: 832\n",
      "_________________________________________________________________\n",
      "None\n"
     ]
    }
   ],
   "source": [
    "# Create ConvNet model\n",
    "cnn_clf = Sequential()\n",
    "# - first conv/pool \n",
    "cnn_clf.add(Convolution2D(32, (5,5), input_shape=(28,28,1), use_bias=False))\n",
    "cnn_clf.add(BatchNormalization())\n",
    "cnn_clf.add(Activation(\"relu\"))\n",
    "cnn_clf.add(MaxPooling2D(pool_size=(2,2))) # reduces size to 14x14\n",
    "# - second 2x conv/pool\n",
    "cnn_clf.add(Convolution2D(64, (3,3), use_bias=False))\n",
    "cnn_clf.add(BatchNormalization())\n",
    "cnn_clf.add(Activation(\"relu\"))\n",
    "cnn_clf.add(Convolution2D(64, (3,3), use_bias=False))\n",
    "cnn_clf.add(BatchNormalization())\n",
    "cnn_clf.add(Activation(\"relu\"))\n",
    "cnn_clf.add(MaxPooling2D(pool_size=(2,2))) # reduces size to 7x7\n",
    "# - first fully connected\n",
    "cnn_clf.add(Flatten())\n",
    "cnn_clf.add(Dense(128, use_bias=False))\n",
    "cnn_clf.add(BatchNormalization())\n",
    "cnn_clf.add(Activation(\"elu\"))\n",
    "cnn_clf.add(Dropout(0.3))\n",
    "# - second fully connected\n",
    "cnn_clf.add(Dense(128, use_bias=False))\n",
    "cnn_clf.add(BatchNormalization())\n",
    "cnn_clf.add(Activation(\"elu\"))\n",
    "cnn_clf.add(Dropout(0.3))\n",
    "# - output\n",
    "cnn_clf.add(Dense(10, activation=\"softmax\"))\n",
    "\n",
    "# Compile model\n",
    "cnn_clf.compile(loss=\"categorical_crossentropy\", optimizer=\"adam\", metrics=[\"accuracy\"])\n",
    "print(cnn_clf.summary())"
   ]
  },
  {
   "cell_type": "markdown",
   "metadata": {},
   "source": [
    "<h2>Train and evaluate ConvNet model on test data</h2>"
   ]
  },
  {
   "cell_type": "code",
   "execution_count": 14,
   "metadata": {},
   "outputs": [
    {
     "name": "stdout",
     "output_type": "stream",
     "text": [
      "Train on 48000 samples, validate on 12000 samples\n",
      "Epoch 1/15\n",
      "48000/48000 [==============================] - 101s 2ms/step - loss: 0.4843 - acc: 0.8261 - val_loss: 0.3176 - val_acc: 0.8845\n",
      "Epoch 2/15\n",
      "48000/48000 [==============================] - 98s 2ms/step - loss: 0.3317 - acc: 0.8812 - val_loss: 0.2875 - val_acc: 0.8969\n",
      "Epoch 3/15\n",
      "48000/48000 [==============================] - 98s 2ms/step - loss: 0.2928 - acc: 0.8946 - val_loss: 0.2989 - val_acc: 0.8934\n",
      "Epoch 4/15\n",
      "48000/48000 [==============================] - 101s 2ms/step - loss: 0.2625 - acc: 0.9061 - val_loss: 0.2678 - val_acc: 0.9026\n",
      "Epoch 5/15\n",
      "48000/48000 [==============================] - 100s 2ms/step - loss: 0.2407 - acc: 0.9134 - val_loss: 0.2499 - val_acc: 0.9097\n",
      "Epoch 6/15\n",
      "48000/48000 [==============================] - 98s 2ms/step - loss: 0.2229 - acc: 0.9197 - val_loss: 0.2432 - val_acc: 0.9103\n",
      "Epoch 7/15\n",
      "48000/48000 [==============================] - 104s 2ms/step - loss: 0.2070 - acc: 0.9253 - val_loss: 0.2540 - val_acc: 0.9052\n",
      "Epoch 8/15\n",
      "48000/48000 [==============================] - 107s 2ms/step - loss: 0.1870 - acc: 0.9327 - val_loss: 0.2522 - val_acc: 0.9103\n",
      "\n",
      "Test Accuracy: 90.91%\n",
      "Time elapsed: 810.50 sec\n"
     ]
    },
    {
     "data": {
      "image/png": "[encoded data removed]",
      "text/plain": [
       "<Figure size 576x360 with 1 Axes>"
      ]
     },
     "metadata": {
      "needs_background": "light"
     },
     "output_type": "display_data"
    }
   ],
   "source": [
    "# Start timer\n",
    "start = time.time()\n",
    "\n",
    "# Store best model\n",
    "cp = EarlyStopping(patience=2, restore_best_weights=True)\n",
    "\n",
    "# Train model on training data\n",
    "# Note: uses 20% of the training set for validation\n",
    "history = cnn_clf.fit(X_train_2D, y_train, batch_size=32, epochs=15, validation_split=0.2, callbacks=[cp], verbose=1)\n",
    "# Evaluate model on test data\n",
    "score = cnn_clf.evaluate(X_test_2D, y_test, verbose=0)\n",
    "\n",
    "# Stop timer\n",
    "end = time.time()\n",
    "\n",
    "# Print results\n",
    "print(\"\\nTest Accuracy: {0:0.2f}%\".format(score[1] * 100))\n",
    "print(\"Time elapsed: {0:0.2f} sec\".format(end - start))\n",
    "\n",
    "# Plot training history\n",
    "pd.DataFrame(history.history).plot(figsize=(8, 5)) \n",
    "plt.grid(True)\n",
    "plt.gca().set_ylim(0, 1)\n",
    "plt.show()"
   ]
  },
  {
   "cell_type": "markdown",
   "metadata": {},
   "source": [
    "<h2>Confusion matrix</h2>"
   ]
  },
  {
   "cell_type": "code",
   "execution_count": 15,
   "metadata": {},
   "outputs": [
    {
     "name": "stdout",
     "output_type": "stream",
     "text": [
      "[[840   0  14  19   3   1 112   0  11   0]\n",
      " [  2 986   0   9   0   0   1   0   2   0]\n",
      " [  8   1 869   9  33   0  80   0   0   0]\n",
      " [ 10   6  13 911  26   0  33   0   1   0]\n",
      " [  1   0  57  30 837   0  75   0   0   0]\n",
      " [  0   0   0   0   0 976   0  10   1  13]\n",
      " [ 89   1  56  24  60   0 761   0   9   0]\n",
      " [  0   0   0   0   0  15   0 974   0  11]\n",
      " [  3   1   2   4   2   1   6   4 977   0]\n",
      " [  0   0   0   0   0   6   0  33   1 960]]\n"
     ]
    }
   ],
   "source": [
    "# Make predictions\n",
    "y_pred = cnn_clf.predict(X_test_2D)\n",
    "\n",
    "# Confusion matrix\n",
    "conf_mx = confusion_matrix(\n",
    "    np.argmax(y_test,axis=1), \n",
    "    np.argmax(y_pred, axis=1))\n",
    "print(conf_mx)"
   ]
  },
  {
   "cell_type": "markdown",
   "metadata": {},
   "source": [
    "<h2>Dimensionality Reduction</h2>"
   ]
  },
  {
   "cell_type": "code",
   "execution_count": 10,
   "metadata": {},
   "outputs": [
    {
     "name": "stdout",
     "output_type": "stream",
     "text": [
      "Training set: (60000, 187)\n",
      "Test set: (10000, 187)\n"
     ]
    }
   ],
   "source": [
    "from sklearn.decomposition import PCA\n",
    "\n",
    "# Create PCA\n",
    "pca = PCA(n_components=0.95)\n",
    "pca.fit(X_train_1D)\n",
    "# Reduce dimensionality on training and test sets\n",
    "X_train_1D_dr = pca.transform(X_train_1D)\n",
    "X_test_1D_dr = pca.transform(X_test_1D)\n",
    "# Show dataset shape\n",
    "print(\"Training set:\",X_train_1D_dr.shape)\n",
    "print(\"Test set:\",X_test_1D_dr.shape)"
   ]
  },
  {
   "cell_type": "markdown",
   "metadata": {},
   "source": [
    "<h2>Train and evaluate reduced dataset with a neural network</h2>"
   ]
  },
  {
   "cell_type": "code",
   "execution_count": 11,
   "metadata": {},
   "outputs": [
    {
     "name": "stdout",
     "output_type": "stream",
     "text": [
      "Train on 48000 samples, validate on 12000 samples\n",
      "Epoch 1/15\n",
      "48000/48000 [==============================] - 5s 103us/step - loss: 0.4866 - acc: 0.8303 - val_loss: 0.3847 - val_acc: 0.8633\n",
      "Epoch 2/15\n",
      "48000/48000 [==============================] - 4s 82us/step - loss: 0.3818 - acc: 0.8634 - val_loss: 0.3468 - val_acc: 0.8748\n",
      "Epoch 3/15\n",
      "48000/48000 [==============================] - 4s 83us/step - loss: 0.3377 - acc: 0.8757 - val_loss: 0.3256 - val_acc: 0.8811\n",
      "Epoch 4/15\n",
      "48000/48000 [==============================] - 4s 83us/step - loss: 0.3119 - acc: 0.8863 - val_loss: 0.3360 - val_acc: 0.8759\n",
      "Epoch 5/15\n",
      "48000/48000 [==============================] - 4s 83us/step - loss: 0.2896 - acc: 0.8937 - val_loss: 0.3165 - val_acc: 0.8842\n",
      "Epoch 6/15\n",
      "48000/48000 [==============================] - 4s 83us/step - loss: 0.2730 - acc: 0.8991 - val_loss: 0.3044 - val_acc: 0.8914\n",
      "Epoch 7/15\n",
      "48000/48000 [==============================] - 4s 85us/step - loss: 0.2590 - acc: 0.9038 - val_loss: 0.3162 - val_acc: 0.8863\n",
      "Epoch 8/15\n",
      "48000/48000 [==============================] - 4s 83us/step - loss: 0.2452 - acc: 0.9076 - val_loss: 0.3121 - val_acc: 0.8870\n",
      "\n",
      "Test Accuracy: 88.25%\n",
      "Time elapsed: 33.77 sec\n"
     ]
    },
    {
     "data": {
      "image/png": "[encoded data removed]",
      "text/plain": [
       "<Figure size 576x360 with 1 Axes>"
      ]
     },
     "metadata": {
      "needs_background": "light"
     },
     "output_type": "display_data"
    }
   ],
   "source": [
    "# Create Neural Net Softmax model for the reduced size dataset\n",
    "snn_clf = Sequential()\n",
    "# - first Dense\n",
    "snn_clf.add(Dense(128, input_dim=187, use_bias=False))\n",
    "snn_clf.add(BatchNormalization())\n",
    "snn_clf.add(Activation(\"elu\"))\n",
    "# - second Dense\n",
    "snn_clf.add(Dense(128, use_bias=False))\n",
    "snn_clf.add(BatchNormalization())\n",
    "snn_clf.add(Activation(\"elu\"))\n",
    "# - output\n",
    "snn_clf.add(Dense(10, activation=\"softmax\"))\n",
    "\n",
    "# Early stopping\n",
    "cp = EarlyStopping(patience=2, restore_best_weights=True)\n",
    "\n",
    "# Compile model\n",
    "snn_clf.compile(loss=\"categorical_crossentropy\", optimizer=\"adam\", metrics=[\"accuracy\"])\n",
    "\n",
    "# Start timer\n",
    "start = time.time()\n",
    "\n",
    "# Train model on training data\n",
    "history = snn_clf.fit(X_train_1D_dr, y_train, batch_size=32, epochs=15, validation_split=0.2, callbacks=[cp], verbose=1)\n",
    "# Evaluate model on test data\n",
    "score = snn_clf.evaluate(X_test_1D_dr, y_test, verbose=0)\n",
    "\n",
    "# Stop timer\n",
    "end = time.time()\n",
    "\n",
    "# Print results\n",
    "print(\"\\nTest Accuracy: {0:0.2f}%\".format(score[1] * 100))\n",
    "print(\"Time elapsed: {0:0.2f} sec\".format(end - start))\n",
    "\n",
    "# Plot training history\n",
    "pd.DataFrame(history.history).plot(figsize=(8, 5)) \n",
    "plt.grid(True)\n",
    "plt.gca().set_ylim(0, 1) # set the vertical range to [0-1] \n",
    "plt.show()"
   ]
  },
  {
   "cell_type": "markdown",
   "metadata": {},
   "source": [
    "<h2>Predict examples</h2>"
   ]
  },
  {
   "cell_type": "code",
   "execution_count": 16,
   "metadata": {},
   "outputs": [
    {
     "name": "stdout",
     "output_type": "stream",
     "text": [
      "Predicted: Ankle boot\n",
      "Actual: Ankle boot\n"
     ]
    },
    {
     "data": {
      "image/png": "[encoded data removed]",
      "text/plain": [
       "<Figure size 432x288 with 1 Axes>"
      ]
     },
     "metadata": {
      "needs_background": "light"
     },
     "output_type": "display_data"
    },
    {
     "name": "stdout",
     "output_type": "stream",
     "text": [
      "Predicted: Pullover\n",
      "Actual: Pullover\n"
     ]
    },
    {
     "data": {
      "image/png": "[encoded data removed]",
      "text/plain": [
       "<Figure size 432x288 with 1 Axes>"
      ]
     },
     "metadata": {
      "needs_background": "light"
     },
     "output_type": "display_data"
    },
    {
     "name": "stdout",
     "output_type": "stream",
     "text": [
      "Predicted: Trouser\n",
      "Actual: Trouser\n"
     ]
    },
    {
     "data": {
      "image/png": "[encoded data removed]",
      "text/plain": [
       "<Figure size 432x288 with 1 Axes>"
      ]
     },
     "metadata": {
      "needs_background": "light"
     },
     "output_type": "display_data"
    }
   ],
   "source": [
    "class_names = [\"T-shirt/top\", \"Trouser\", \"Pullover\", \"Dress\", \"Coat\",\n",
    "                   \"Sandal\", \"Shirt\", \"Sneaker\", \"Bag\", \"Ankle boot\"]\n",
    "\n",
    "# Examples to classify\n",
    "examples = X_test_2D[:3]\n",
    "\n",
    "res = np.argmax(cnn_clf.predict(examples), axis=1)\n",
    "\n",
    "for i in range(0,len(res)):\n",
    "    print(\"Predicted:\",class_names[res[i]])\n",
    "    print(\"Actual:\",class_names[y_test_raw[i]])\n",
    "    plt.imshow(X_test[i], cmap=plt.cm.Blues)\n",
    "    plt.show()"
   ]
  },
  {
   "cell_type": "code",
   "execution_count": null,
   "metadata": {},
   "outputs": [],
   "source": []
  }
 ],
 "metadata": {
  "kernelspec": {
   "display_name": "Python 3",
   "language": "python",
   "name": "python3"
  },
  "language_info": {
   "codemirror_mode": {
    "name": "ipython",
    "version": 3
   },
   "file_extension": ".py",
   "mimetype": "text/x-python",
   "name": "python",
   "nbconvert_exporter": "python",
   "pygments_lexer": "ipython3",
   "version": "3.7.2"
  }
 },
 "nbformat": 4,
 "nbformat_minor": 2
}
