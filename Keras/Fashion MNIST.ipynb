{
 "cells": [
  {
   "cell_type": "markdown",
   "metadata": {},
   "source": [
    "<h2>Fashion MNIST dataset in Keras library</h2>"
   ]
  },
  {
   "cell_type": "markdown",
   "metadata": {},
   "source": [
    "## Imports"
   ]
  },
  {
   "cell_type": "code",
   "execution_count": 2,
   "metadata": {},
   "outputs": [
    {
     "name": "stdout",
     "output_type": "stream",
     "text": [
      "TensorFlow version: 2.0.0\n"
     ]
    }
   ],
   "source": [
    "# - TensorFlow\n",
    "import tensorflow as tf\n",
    "# - Dataset\n",
    "from tensorflow.keras.datasets import fashion_mnist\n",
    "# - Helper libraries\n",
    "import numpy as np\n",
    "import pandas as pd\n",
    "import time\n",
    "from sklearn.metrics import confusion_matrix\n",
    "from tensorflow.keras.utils import to_categorical\n",
    "# - Graph plots\n",
    "%matplotlib inline\n",
    "from matplotlib import pyplot as plt\n",
    "# - Keras models and layers\n",
    "from tensorflow.keras.models import Sequential\n",
    "from tensorflow.keras.layers import Dense, Flatten, Dropout, Convolution2D, MaxPooling2D\n",
    "\n",
    "# Print some stuff\n",
    "print(\"TensorFlow version:\", tf.__version__)"
   ]
  },
  {
   "cell_type": "markdown",
   "metadata": {},
   "source": [
    "<h2>Load data</h2>"
   ]
  },
  {
   "cell_type": "code",
   "execution_count": 3,
   "metadata": {},
   "outputs": [
    {
     "name": "stdout",
     "output_type": "stream",
     "text": [
      "Training instances: 60000\n",
      "Test instances: 10000\n",
      "\n",
      "Structure of training set: (60000, 28, 28)\n",
      "Structure of labels set: (60000, 10)\n"
     ]
    }
   ],
   "source": [
    "# Load pre-shuffled Fashion MNIST data into train and test sets\n",
    "(X_train, y_train_raw), (X_test, y_test_raw) = fashion_mnist.load_data()\n",
    "\n",
    "# Convert to float values and normalize between 0...1\n",
    "X_train = X_train.astype(\"float32\")\n",
    "X_test = X_test.astype(\"float32\")\n",
    "X_train /= 255 \n",
    "X_test /= 255\n",
    "\n",
    "# Preprocess class labels\n",
    "# Convert labels to 10-dimensional one-hot vectors\n",
    "y_train = to_categorical(y_train_raw, 10)\n",
    "y_test = to_categorical(y_test_raw, 10)\n",
    "\n",
    "print(\"Training instances: {}\".format(X_train.shape[0]))\n",
    "print(\"Test instances: {}\".format(X_test.shape[0]))\n",
    "print()\n",
    "print(\"Structure of training set: {}\".format(X_train.shape))\n",
    "print(\"Structure of labels set: {}\".format(y_train.shape))"
   ]
  },
  {
   "cell_type": "markdown",
   "metadata": {},
   "source": [
    "<h2>Pre-process data for 1D or 2D inputs</h2>"
   ]
  },
  {
   "cell_type": "code",
   "execution_count": 4,
   "metadata": {},
   "outputs": [
    {
     "name": "stdout",
     "output_type": "stream",
     "text": [
      "1D shape: (60000, 784)\n",
      "2D shape: (60000, 28, 28, 1)\n"
     ]
    }
   ],
   "source": [
    "# Preprocess for 1D input data\n",
    "X_train_1D = X_train.reshape(X_train.shape[0], 784)\n",
    "X_test_1D = X_test.reshape(X_test.shape[0], 784)\n",
    "print(\"1D shape:\", X_train_1D.shape)\n",
    "\n",
    "# Preprocess for 2D input data\n",
    "X_train_2D = X_train.reshape(X_train.shape[0], 28, 28, 1)\n",
    "X_test_2D = X_test.reshape(X_test.shape[0], 28, 28, 1)\n",
    "print(\"2D shape:\", X_train_2D.shape)"
   ]
  },
  {
   "cell_type": "markdown",
   "metadata": {},
   "source": [
    "## Linear model"
   ]
  },
  {
   "cell_type": "code",
   "execution_count": 5,
   "metadata": {},
   "outputs": [
    {
     "name": "stdout",
     "output_type": "stream",
     "text": [
      "Train on 54000 samples, validate on 6000 samples\n",
      "Epoch 1/6\n",
      "54000/54000 [==============================] - 2s 44us/sample - loss: 0.6794 - accuracy: 0.7709 - val_loss: 0.5208 - val_accuracy: 0.8250\n",
      "Epoch 2/6\n",
      "54000/54000 [==============================] - 2s 30us/sample - loss: 0.4915 - accuracy: 0.8344 - val_loss: 0.4656 - val_accuracy: 0.8377\n",
      "Epoch 3/6\n",
      "54000/54000 [==============================] - 2s 30us/sample - loss: 0.4560 - accuracy: 0.8456 - val_loss: 0.4497 - val_accuracy: 0.8475\n",
      "Epoch 4/6\n",
      "54000/54000 [==============================] - 2s 31us/sample - loss: 0.4384 - accuracy: 0.8508 - val_loss: 0.4472 - val_accuracy: 0.8462\n",
      "Epoch 5/6\n",
      "54000/54000 [==============================] - 2s 32us/sample - loss: 0.4269 - accuracy: 0.8543 - val_loss: 0.4314 - val_accuracy: 0.8507\n",
      "Epoch 6/6\n",
      "54000/54000 [==============================] - 2s 32us/sample - loss: 0.4194 - accuracy: 0.8558 - val_loss: 0.4188 - val_accuracy: 0.8523\n",
      "\n",
      "Test Accuracy: 84.16%\n",
      "Time elapsed: 11.11 sec\n"
     ]
    },
    {
     "data": {
      "image/png": "[encoded data removed]",
      "text/plain": [
       "<Figure size 432x288 with 1 Axes>"
      ]
     },
     "metadata": {
      "needs_background": "light"
     },
     "output_type": "display_data"
    }
   ],
   "source": [
    "# Create Linear Softmax model\n",
    "lin_clf = Sequential()\n",
    "lin_clf.add(Dense(10, input_dim=784, activation=\"softmax\"))\n",
    "\n",
    "# Compile model\n",
    "lin_clf.compile(loss=\"categorical_crossentropy\", optimizer=\"adam\", metrics=[\"accuracy\"])\n",
    "\n",
    "# Start timer\n",
    "start = time.time()\n",
    "\n",
    "# Train model on training data\n",
    "history = lin_clf.fit(X_train_1D, y_train, batch_size=64, epochs=6, validation_split=0.1, verbose=1)\n",
    "# Evaluate model on test data\n",
    "score = lin_clf.evaluate(X_test_1D, y_test, verbose=0)\n",
    "\n",
    "# Stop timer\n",
    "end = time.time()\n",
    "\n",
    "# Print results\n",
    "print(\"\\nTest Accuracy: {0:0.2f}%\".format(score[1] * 100))\n",
    "print(\"Time elapsed: {0:0.2f} sec\".format(end - start))\n",
    "\n",
    "# Plot training history\n",
    "plt.plot(history.history['loss'])\n",
    "plt.plot(history.history['val_loss'])\n",
    "plt.title('model loss')\n",
    "plt.ylabel('loss')\n",
    "plt.xlabel('epoch')\n",
    "plt.legend(['train', 'test'], loc='upper left')\n",
    "plt.show()"
   ]
  },
  {
   "cell_type": "markdown",
   "metadata": {},
   "source": [
    "## NN model"
   ]
  },
  {
   "cell_type": "code",
   "execution_count": 6,
   "metadata": {},
   "outputs": [
    {
     "name": "stdout",
     "output_type": "stream",
     "text": [
      "Train on 54000 samples, validate on 6000 samples\n",
      "Epoch 1/8\n",
      "54000/54000 [==============================] - 4s 72us/sample - loss: 0.5773 - accuracy: 0.7939 - val_loss: 0.3962 - val_accuracy: 0.8540\n",
      "Epoch 2/8\n",
      "54000/54000 [==============================] - 3s 60us/sample - loss: 0.4137 - accuracy: 0.8501 - val_loss: 0.3922 - val_accuracy: 0.8543\n",
      "Epoch 3/8\n",
      "54000/54000 [==============================] - 3s 60us/sample - loss: 0.3760 - accuracy: 0.8611 - val_loss: 0.3415 - val_accuracy: 0.8717\n",
      "Epoch 4/8\n",
      "54000/54000 [==============================] - 3s 59us/sample - loss: 0.3553 - accuracy: 0.8696 - val_loss: 0.3410 - val_accuracy: 0.8748\n",
      "Epoch 5/8\n",
      "54000/54000 [==============================] - 3s 57us/sample - loss: 0.3381 - accuracy: 0.8764 - val_loss: 0.3389 - val_accuracy: 0.8755\n",
      "Epoch 6/8\n",
      "54000/54000 [==============================] - 3s 57us/sample - loss: 0.3236 - accuracy: 0.8807 - val_loss: 0.3247 - val_accuracy: 0.8837\n",
      "Epoch 7/8\n",
      "54000/54000 [==============================] - 3s 58us/sample - loss: 0.3163 - accuracy: 0.8837 - val_loss: 0.3421 - val_accuracy: 0.8763\n",
      "Epoch 8/8\n",
      "54000/54000 [==============================] - 3s 53us/sample - loss: 0.3076 - accuracy: 0.8867 - val_loss: 0.3133 - val_accuracy: 0.8840\n",
      "\n",
      "Test Accuracy: 87.86%\n",
      "Time elapsed: 26.19 sec\n"
     ]
    },
    {
     "data": {
      "image/png": "[encoded data removed]",
      "text/plain": [
       "<Figure size 432x288 with 1 Axes>"
      ]
     },
     "metadata": {
      "needs_background": "light"
     },
     "output_type": "display_data"
    }
   ],
   "source": [
    "# Create Neural Net Softmax model\n",
    "nn_clf = Sequential()\n",
    "# - first Dense\n",
    "nn_clf.add(Dense(128, input_dim=784, activation=\"relu\", kernel_initializer=\"normal\"))\n",
    "nn_clf.add(Dropout(0.2))\n",
    "# - second Dense\n",
    "nn_clf.add(Dense(128, activation=\"relu\", kernel_initializer=\"normal\"))\n",
    "nn_clf.add(Dropout(0.2))\n",
    "# - output\n",
    "nn_clf.add(Dense(10, activation=\"softmax\"))\n",
    "\n",
    "# Compile model\n",
    "nn_clf.compile(loss=\"categorical_crossentropy\", optimizer=\"adam\", metrics=[\"accuracy\"])\n",
    "\n",
    "# Start timer\n",
    "start = time.time()\n",
    "\n",
    "# Train model on training data\n",
    "history = nn_clf.fit(X_train_1D, y_train, batch_size=64, epochs=8, validation_split=0.1, verbose=1)\n",
    "# Evaluate model on test data\n",
    "score = nn_clf.evaluate(X_test_1D, y_test, verbose=0)\n",
    "\n",
    "# Stop timer\n",
    "end = time.time()\n",
    "\n",
    "# Print results\n",
    "print(\"\\nTest Accuracy: {0:0.2f}%\".format(score[1] * 100))\n",
    "print(\"Time elapsed: {0:0.2f} sec\".format(end - start))\n",
    "\n",
    "# Plot training history\n",
    "plt.plot(history.history['loss'])\n",
    "plt.plot(history.history['val_loss'])\n",
    "plt.title('model loss')\n",
    "plt.ylabel('loss')\n",
    "plt.xlabel('epoch')\n",
    "plt.legend(['train', 'test'], loc='upper left')\n",
    "plt.show()"
   ]
  },
  {
   "cell_type": "markdown",
   "metadata": {},
   "source": [
    "## ConvNet model"
   ]
  },
  {
   "cell_type": "code",
   "execution_count": 8,
   "metadata": {},
   "outputs": [
    {
     "name": "stdout",
     "output_type": "stream",
     "text": [
      "Train on 54000 samples, validate on 6000 samples\n",
      "Epoch 1/8\n",
      "54000/54000 [==============================] - 63s 1ms/sample - loss: 0.5747 - accuracy: 0.7914 - val_loss: 0.3640 - val_accuracy: 0.8660\n",
      "Epoch 2/8\n",
      "54000/54000 [==============================] - 62s 1ms/sample - loss: 0.3814 - accuracy: 0.8621 - val_loss: 0.3317 - val_accuracy: 0.8763\n",
      "Epoch 3/8\n",
      "54000/54000 [==============================] - 62s 1ms/sample - loss: 0.3356 - accuracy: 0.8781 - val_loss: 0.2863 - val_accuracy: 0.8937\n",
      "Epoch 4/8\n",
      "54000/54000 [==============================] - 61s 1ms/sample - loss: 0.3060 - accuracy: 0.8880 - val_loss: 0.2741 - val_accuracy: 0.8957\n",
      "Epoch 5/8\n",
      "54000/54000 [==============================] - 62s 1ms/sample - loss: 0.2869 - accuracy: 0.8962 - val_loss: 0.2546 - val_accuracy: 0.9055\n",
      "Epoch 6/8\n",
      "54000/54000 [==============================] - 67s 1ms/sample - loss: 0.2694 - accuracy: 0.9015 - val_loss: 0.2465 - val_accuracy: 0.9097\n",
      "Epoch 7/8\n",
      "54000/54000 [==============================] - 61s 1ms/sample - loss: 0.2579 - accuracy: 0.9033 - val_loss: 0.2380 - val_accuracy: 0.9115\n",
      "Epoch 8/8\n",
      "54000/54000 [==============================] - 61s 1ms/sample - loss: 0.2441 - accuracy: 0.9095 - val_loss: 0.2291 - val_accuracy: 0.9152\n",
      "\n",
      "Test Accuracy: 91.18%\n",
      "Time elapsed: 502.03 sec\n"
     ]
    },
    {
     "data": {
      "image/png": "[encoded data removed]",
      "text/plain": [
       "<Figure size 432x288 with 1 Axes>"
      ]
     },
     "metadata": {
      "needs_background": "light"
     },
     "output_type": "display_data"
    }
   ],
   "source": [
    "# Create ConvNet model\n",
    "cnn_clf = Sequential()\n",
    "# - first conv/pool \n",
    "cnn_clf.add(Convolution2D(32, (3,3), input_shape=(28,28,1), activation=\"relu\", padding=\"same\", kernel_initializer=\"normal\"))\n",
    "cnn_clf.add(MaxPooling2D(pool_size=(2,2))) # reduces size to 14x14\n",
    "cnn_clf.add(Dropout(0.3))\n",
    "# - second conv/pool\n",
    "cnn_clf.add(Convolution2D(64, (3,3), activation=\"relu\", padding=\"same\", kernel_initializer=\"normal\"))\n",
    "cnn_clf.add(MaxPooling2D(pool_size=(2,2))) # reduces size to 7x7\n",
    "cnn_clf.add(Dropout(0.3))\n",
    "# - fully connected\n",
    "cnn_clf.add(Flatten())\n",
    "cnn_clf.add(Dense(128, activation=\"relu\"))\n",
    "cnn_clf.add(Dropout(0.3))\n",
    "# - output\n",
    "cnn_clf.add(Dense(10, activation=\"softmax\"))\n",
    "\n",
    "# Compile model\n",
    "cnn_clf.compile(loss=\"categorical_crossentropy\", optimizer=\"adam\", metrics=[\"accuracy\"])\n",
    "\n",
    "# Start timer\n",
    "start = time.time()\n",
    "\n",
    "# Train model on training data\n",
    "history = cnn_clf.fit(X_train_2D, y_train, batch_size=64, epochs=8, validation_split=0.1, verbose=1)\n",
    "# Evaluate model on test data\n",
    "score = cnn_clf.evaluate(X_test_2D, y_test, verbose=0)\n",
    "\n",
    "# Stop timer\n",
    "end = time.time()\n",
    "\n",
    "# Print results\n",
    "print(\"\\nTest Accuracy: {0:0.2f}%\".format(score[1] * 100))\n",
    "print(\"Time elapsed: {0:0.2f} sec\".format(end - start))\n",
    "\n",
    "# Plot training history\n",
    "plt.plot(history.history['loss'])\n",
    "plt.plot(history.history['val_loss'])\n",
    "plt.title('model loss')\n",
    "plt.ylabel('loss')\n",
    "plt.xlabel('epoch')\n",
    "plt.legend(['train', 'test'], loc='upper left')\n",
    "plt.show()"
   ]
  },
  {
   "cell_type": "markdown",
   "metadata": {},
   "source": [
    "<h2>Confusion matrix</h2>"
   ]
  },
  {
   "cell_type": "code",
   "execution_count": 9,
   "metadata": {},
   "outputs": [
    {
     "name": "stdout",
     "output_type": "stream",
     "text": [
      "[[903   0  12  16   7   2  56   0   4   0]\n",
      " [  1 977   0  17   1   0   3   0   1   0]\n",
      " [ 19   1 867   4  62   0  47   0   0   0]\n",
      " [ 16   1  10 913  31   0  29   0   0   0]\n",
      " [  1   0  48  22 889   0  40   0   0   0]\n",
      " [  0   0   0   0   0 973   0  21   0   6]\n",
      " [142   1  64  25  83   0 681   0   4   0]\n",
      " [  0   0   0   0   0   2   0 972   0  26]\n",
      " [  2   1   4   3   4   2   2   4 978   0]\n",
      " [  0   0   0   0   0   3   1  31   0 965]]\n"
     ]
    }
   ],
   "source": [
    "# Make predictions\n",
    "y_pred = cnn_clf.predict(X_test_2D)\n",
    "\n",
    "# Confusion matrix\n",
    "conf_mx = confusion_matrix(\n",
    "    np.argmax(y_test,axis=1), \n",
    "    np.argmax(y_pred, axis=1))\n",
    "print(conf_mx)"
   ]
  },
  {
   "cell_type": "markdown",
   "metadata": {},
   "source": [
    "<h2>Predict examples</h2>"
   ]
  },
  {
   "cell_type": "code",
   "execution_count": 10,
   "metadata": {},
   "outputs": [
    {
     "name": "stdout",
     "output_type": "stream",
     "text": [
      "Predicted: Ankle boot\n",
      "Actual: Ankle boot\n"
     ]
    },
    {
     "data": {
      "image/png": "[encoded data removed]",
      "text/plain": [
       "<Figure size 432x288 with 1 Axes>"
      ]
     },
     "metadata": {
      "needs_background": "light"
     },
     "output_type": "display_data"
    },
    {
     "name": "stdout",
     "output_type": "stream",
     "text": [
      "Predicted: Pullover\n",
      "Actual: Pullover\n"
     ]
    },
    {
     "data": {
      "image/png": "[encoded data removed]",
      "text/plain": [
       "<Figure size 432x288 with 1 Axes>"
      ]
     },
     "metadata": {
      "needs_background": "light"
     },
     "output_type": "display_data"
    },
    {
     "name": "stdout",
     "output_type": "stream",
     "text": [
      "Predicted: Trouser\n",
      "Actual: Trouser\n"
     ]
    },
    {
     "data": {
      "image/png": "[encoded data removed]",
      "text/plain": [
       "<Figure size 432x288 with 1 Axes>"
      ]
     },
     "metadata": {
      "needs_background": "light"
     },
     "output_type": "display_data"
    }
   ],
   "source": [
    "class_names = [\"T-shirt/top\", \"Trouser\", \"Pullover\", \"Dress\", \"Coat\",\n",
    "                   \"Sandal\", \"Shirt\", \"Sneaker\", \"Bag\", \"Ankle boot\"]\n",
    "\n",
    "# Examples to classify\n",
    "examples = X_test_2D[:3]\n",
    "\n",
    "res = np.argmax(cnn_clf.predict(examples), axis=1)\n",
    "\n",
    "for i in range(0,len(res)):\n",
    "    print(\"Predicted:\",class_names[res[i]])\n",
    "    print(\"Actual:\",class_names[y_test_raw[i]])\n",
    "    plt.imshow(X_test[i], cmap=plt.cm.Blues)\n",
    "    plt.show()"
   ]
  },
  {
   "cell_type": "code",
   "execution_count": null,
   "metadata": {},
   "outputs": [],
   "source": []
  }
 ],
 "metadata": {
  "kernelspec": {
   "display_name": "Python 3",
   "language": "python",
   "name": "python3"
  },
  "language_info": {
   "codemirror_mode": {
    "name": "ipython",
    "version": 3
   },
   "file_extension": ".py",
   "mimetype": "text/x-python",
   "name": "python",
   "nbconvert_exporter": "python",
   "pygments_lexer": "ipython3",
   "version": "3.7.2"
  }
 },
 "nbformat": 4,
 "nbformat_minor": 2
}
