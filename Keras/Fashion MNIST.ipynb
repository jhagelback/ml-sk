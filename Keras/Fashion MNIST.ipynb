{
 "cells": [
  {
   "cell_type": "markdown",
   "metadata": {},
   "source": [
    "<h2>Fashion MNIST dataset in Keras library</h2>"
   ]
  },
  {
   "cell_type": "markdown",
   "metadata": {},
   "source": [
    "## Imports"
   ]
  },
  {
   "cell_type": "code",
   "execution_count": 1,
   "metadata": {},
   "outputs": [
    {
     "name": "stdout",
     "output_type": "stream",
     "text": [
      "TensorFlow version: 2.1.0\n"
     ]
    }
   ],
   "source": [
    "# - TensorFlow\n",
    "import tensorflow as tf\n",
    "# - Dataset\n",
    "from tensorflow.keras.datasets import fashion_mnist\n",
    "# - Helper libraries\n",
    "import numpy as np\n",
    "import pandas as pd\n",
    "import time\n",
    "from sklearn.metrics import confusion_matrix\n",
    "from tensorflow.keras.utils import to_categorical\n",
    "# - Graph plots\n",
    "%matplotlib inline\n",
    "from matplotlib import pyplot as plt\n",
    "# - Keras models and layers\n",
    "from tensorflow.keras.models import Sequential\n",
    "from tensorflow.keras.layers import Dense, Flatten, Dropout, Convolution2D, MaxPooling2D\n",
    "\n",
    "# Print some stuff\n",
    "print(\"TensorFlow version:\", tf.__version__)"
   ]
  },
  {
   "cell_type": "markdown",
   "metadata": {},
   "source": [
    "<h2>Load data</h2>"
   ]
  },
  {
   "cell_type": "code",
   "execution_count": 2,
   "metadata": {},
   "outputs": [
    {
     "name": "stdout",
     "output_type": "stream",
     "text": [
      "Downloading data from https://storage.googleapis.com/tensorflow/tf-keras-datasets/train-labels-idx1-ubyte.gz\n",
      "32768/29515 [=================================] - 0s 1us/step\n",
      "Downloading data from https://storage.googleapis.com/tensorflow/tf-keras-datasets/train-images-idx3-ubyte.gz\n",
      "26427392/26421880 [==============================] - 3s 0us/step\n",
      "Downloading data from https://storage.googleapis.com/tensorflow/tf-keras-datasets/t10k-labels-idx1-ubyte.gz\n",
      "8192/5148 [===============================================] - 0s 0us/step\n",
      "Downloading data from https://storage.googleapis.com/tensorflow/tf-keras-datasets/t10k-images-idx3-ubyte.gz\n",
      "4423680/4422102 [==============================] - 1s 0us/step\n",
      "Training instances: 60000\n",
      "Test instances: 10000\n",
      "\n",
      "Structure of training set: (60000, 28, 28)\n",
      "Structure of labels set: (60000, 10)\n"
     ]
    }
   ],
   "source": [
    "# Load pre-shuffled Fashion MNIST data into train and test sets\n",
    "(X_train, y_train_raw), (X_test, y_test_raw) = fashion_mnist.load_data()\n",
    "\n",
    "# Convert to float values and normalize between 0...1\n",
    "X_train = X_train.astype(\"float32\")\n",
    "X_test = X_test.astype(\"float32\")\n",
    "X_train /= 255 \n",
    "X_test /= 255\n",
    "\n",
    "# Preprocess class labels\n",
    "# Convert labels to 10-dimensional one-hot vectors\n",
    "y_train = to_categorical(y_train_raw, 10)\n",
    "y_test = to_categorical(y_test_raw, 10)\n",
    "\n",
    "print(\"Training instances: {}\".format(X_train.shape[0]))\n",
    "print(\"Test instances: {}\".format(X_test.shape[0]))\n",
    "print()\n",
    "print(\"Structure of training set: {}\".format(X_train.shape))\n",
    "print(\"Structure of labels set: {}\".format(y_train.shape))"
   ]
  },
  {
   "cell_type": "markdown",
   "metadata": {},
   "source": [
    "<h2>Pre-process data for 1D or 2D inputs</h2>"
   ]
  },
  {
   "cell_type": "code",
   "execution_count": 3,
   "metadata": {},
   "outputs": [
    {
     "name": "stdout",
     "output_type": "stream",
     "text": [
      "1D shape: (60000, 784)\n",
      "2D shape: (60000, 28, 28, 1)\n"
     ]
    }
   ],
   "source": [
    "# Preprocess for 1D input data\n",
    "X_train_1D = X_train.reshape(X_train.shape[0], 784)\n",
    "X_test_1D = X_test.reshape(X_test.shape[0], 784)\n",
    "print(\"1D shape:\", X_train_1D.shape)\n",
    "\n",
    "# Preprocess for 2D input data\n",
    "X_train_2D = X_train.reshape(X_train.shape[0], 28, 28, 1)\n",
    "X_test_2D = X_test.reshape(X_test.shape[0], 28, 28, 1)\n",
    "print(\"2D shape:\", X_train_2D.shape)"
   ]
  },
  {
   "cell_type": "markdown",
   "metadata": {},
   "source": [
    "## Linear model"
   ]
  },
  {
   "cell_type": "code",
   "execution_count": 4,
   "metadata": {},
   "outputs": [
    {
     "name": "stdout",
     "output_type": "stream",
     "text": [
      "Train on 54000 samples, validate on 6000 samples\n",
      "Epoch 1/6\n",
      "54000/54000 [==============================] - 3s 50us/sample - loss: 0.6640 - accuracy: 0.7781 - val_loss: 0.5037 - val_accuracy: 0.8267\n",
      "Epoch 2/6\n",
      "54000/54000 [==============================] - 2s 39us/sample - loss: 0.4883 - accuracy: 0.8354 - val_loss: 0.4657 - val_accuracy: 0.8393\n",
      "Epoch 3/6\n",
      "54000/54000 [==============================] - 2s 37us/sample - loss: 0.4546 - accuracy: 0.8459 - val_loss: 0.4416 - val_accuracy: 0.8462\n",
      "Epoch 4/6\n",
      "54000/54000 [==============================] - 2s 36us/sample - loss: 0.4367 - accuracy: 0.8497 - val_loss: 0.4329 - val_accuracy: 0.8485\n",
      "Epoch 5/6\n",
      "54000/54000 [==============================] - 2s 41us/sample - loss: 0.4245 - accuracy: 0.8544 - val_loss: 0.4230 - val_accuracy: 0.8522\n",
      "Epoch 6/6\n",
      "54000/54000 [==============================] - 2s 43us/sample - loss: 0.4176 - accuracy: 0.8565 - val_loss: 0.4193 - val_accuracy: 0.8567\n",
      "\n",
      "Test Accuracy: 84.26%\n",
      "Time elapsed: 13.85 sec\n"
     ]
    },
    {
     "data": {
      "image/png": "[encoded data removed]",
      "text/plain": [
       "<Figure size 432x288 with 1 Axes>"
      ]
     },
     "metadata": {
      "needs_background": "light"
     },
     "output_type": "display_data"
    }
   ],
   "source": [
    "# Create Linear Softmax model\n",
    "lin_clf = Sequential()\n",
    "lin_clf.add(Dense(10, input_dim=784, activation=\"softmax\"))\n",
    "\n",
    "# Compile model\n",
    "lin_clf.compile(loss=\"categorical_crossentropy\", optimizer=\"adam\", metrics=[\"accuracy\"])\n",
    "\n",
    "# Start timer\n",
    "start = time.time()\n",
    "\n",
    "# Train model on training data\n",
    "history = lin_clf.fit(X_train_1D, y_train, batch_size=64, epochs=6, validation_split=0.1, verbose=1)\n",
    "# Evaluate model on test data\n",
    "score = lin_clf.evaluate(X_test_1D, y_test, verbose=0)\n",
    "\n",
    "# Stop timer\n",
    "end = time.time()\n",
    "\n",
    "# Print results\n",
    "print(\"\\nTest Accuracy: {0:0.2f}%\".format(score[1] * 100))\n",
    "print(\"Time elapsed: {0:0.2f} sec\".format(end - start))\n",
    "\n",
    "# Plot training history\n",
    "plt.plot(history.history['loss'])\n",
    "plt.plot(history.history['val_loss'])\n",
    "plt.title('model loss')\n",
    "plt.ylabel('loss')\n",
    "plt.xlabel('epoch')\n",
    "plt.legend(['train', 'test'], loc='upper left')\n",
    "plt.show()"
   ]
  },
  {
   "cell_type": "markdown",
   "metadata": {},
   "source": [
    "## NN model"
   ]
  },
  {
   "cell_type": "code",
   "execution_count": 5,
   "metadata": {},
   "outputs": [
    {
     "name": "stdout",
     "output_type": "stream",
     "text": [
      "Train on 54000 samples, validate on 6000 samples\n",
      "Epoch 1/8\n",
      "54000/54000 [==============================] - 4s 71us/sample - loss: 0.5884 - accuracy: 0.7915 - val_loss: 0.4188 - val_accuracy: 0.8407\n",
      "Epoch 2/8\n",
      "54000/54000 [==============================] - 3s 62us/sample - loss: 0.4159 - accuracy: 0.8492 - val_loss: 0.3664 - val_accuracy: 0.8663\n",
      "Epoch 3/8\n",
      "54000/54000 [==============================] - 3s 59us/sample - loss: 0.3826 - accuracy: 0.8607 - val_loss: 0.3527 - val_accuracy: 0.8707\n",
      "Epoch 4/8\n",
      "54000/54000 [==============================] - 3s 62us/sample - loss: 0.3578 - accuracy: 0.8695 - val_loss: 0.3362 - val_accuracy: 0.8760\n",
      "Epoch 5/8\n",
      "54000/54000 [==============================] - 3s 63us/sample - loss: 0.3391 - accuracy: 0.8746 - val_loss: 0.3285 - val_accuracy: 0.8805\n",
      "Epoch 6/8\n",
      "54000/54000 [==============================] - 3s 58us/sample - loss: 0.3287 - accuracy: 0.8797 - val_loss: 0.3208 - val_accuracy: 0.8813\n",
      "Epoch 7/8\n",
      "54000/54000 [==============================] - 3s 60us/sample - loss: 0.3191 - accuracy: 0.8814 - val_loss: 0.3267 - val_accuracy: 0.8802\n",
      "Epoch 8/8\n",
      "54000/54000 [==============================] - 4s 66us/sample - loss: 0.3113 - accuracy: 0.8863 - val_loss: 0.3114 - val_accuracy: 0.8838\n",
      "\n",
      "Test Accuracy: 87.95%\n",
      "Time elapsed: 27.70 sec\n"
     ]
    },
    {
     "data": {
      "image/png": "[encoded data removed]",
      "text/plain": [
       "<Figure size 432x288 with 1 Axes>"
      ]
     },
     "metadata": {
      "needs_background": "light"
     },
     "output_type": "display_data"
    }
   ],
   "source": [
    "# Create Neural Net Softmax model\n",
    "nn_clf = Sequential()\n",
    "# - first Dense\n",
    "nn_clf.add(Dense(128, input_dim=784, activation=\"relu\", kernel_initializer=\"normal\"))\n",
    "nn_clf.add(Dropout(0.2))\n",
    "# - second Dense\n",
    "nn_clf.add(Dense(128, activation=\"relu\", kernel_initializer=\"normal\"))\n",
    "nn_clf.add(Dropout(0.2))\n",
    "# - output\n",
    "nn_clf.add(Dense(10, activation=\"softmax\"))\n",
    "\n",
    "# Compile model\n",
    "nn_clf.compile(loss=\"categorical_crossentropy\", optimizer=\"adam\", metrics=[\"accuracy\"])\n",
    "\n",
    "# Start timer\n",
    "start = time.time()\n",
    "\n",
    "# Train model on training data\n",
    "history = nn_clf.fit(X_train_1D, y_train, batch_size=64, epochs=8, validation_split=0.1, verbose=1)\n",
    "# Evaluate model on test data\n",
    "score = nn_clf.evaluate(X_test_1D, y_test, verbose=0)\n",
    "\n",
    "# Stop timer\n",
    "end = time.time()\n",
    "\n",
    "# Print results\n",
    "print(\"\\nTest Accuracy: {0:0.2f}%\".format(score[1] * 100))\n",
    "print(\"Time elapsed: {0:0.2f} sec\".format(end - start))\n",
    "\n",
    "# Plot training history\n",
    "plt.plot(history.history['loss'])\n",
    "plt.plot(history.history['val_loss'])\n",
    "plt.title('model loss')\n",
    "plt.ylabel('loss')\n",
    "plt.xlabel('epoch')\n",
    "plt.legend(['train', 'test'], loc='upper left')\n",
    "plt.show()"
   ]
  },
  {
   "cell_type": "markdown",
   "metadata": {},
   "source": [
    "## ConvNet model"
   ]
  },
  {
   "cell_type": "code",
   "execution_count": 6,
   "metadata": {},
   "outputs": [
    {
     "name": "stdout",
     "output_type": "stream",
     "text": [
      "Train on 54000 samples, validate on 6000 samples\n",
      "Epoch 1/8\n",
      "54000/54000 [==============================] - 31s 567us/sample - loss: 0.5501 - accuracy: 0.7997 - val_loss: 0.3554 - val_accuracy: 0.8705\n",
      "Epoch 2/8\n",
      "54000/54000 [==============================] - 29s 546us/sample - loss: 0.3678 - accuracy: 0.8669 - val_loss: 0.3087 - val_accuracy: 0.8885\n",
      "Epoch 3/8\n",
      "54000/54000 [==============================] - 30s 552us/sample - loss: 0.3245 - accuracy: 0.8818 - val_loss: 0.2708 - val_accuracy: 0.9012\n",
      "Epoch 4/8\n",
      "54000/54000 [==============================] - 29s 537us/sample - loss: 0.2931 - accuracy: 0.8912 - val_loss: 0.2545 - val_accuracy: 0.9018\n",
      "Epoch 5/8\n",
      "54000/54000 [==============================] - 29s 529us/sample - loss: 0.2749 - accuracy: 0.8978 - val_loss: 0.2391 - val_accuracy: 0.9062\n",
      "Epoch 6/8\n",
      "54000/54000 [==============================] - 30s 547us/sample - loss: 0.2584 - accuracy: 0.9051 - val_loss: 0.2308 - val_accuracy: 0.9143\n",
      "Epoch 7/8\n",
      "54000/54000 [==============================] - 29s 534us/sample - loss: 0.2493 - accuracy: 0.9072 - val_loss: 0.2300 - val_accuracy: 0.9115\n",
      "Epoch 8/8\n",
      "54000/54000 [==============================] - 29s 536us/sample - loss: 0.2398 - accuracy: 0.9106 - val_loss: 0.2225 - val_accuracy: 0.9163\n",
      "\n",
      "Test Accuracy: 91.06%\n",
      "Time elapsed: 236.63 sec\n"
     ]
    },
    {
     "data": {
      "image/png": "[encoded data removed]",
      "text/plain": [
       "<Figure size 432x288 with 1 Axes>"
      ]
     },
     "metadata": {
      "needs_background": "light"
     },
     "output_type": "display_data"
    }
   ],
   "source": [
    "# Create ConvNet model\n",
    "cnn_clf = Sequential()\n",
    "# - first conv/pool \n",
    "cnn_clf.add(Convolution2D(32, (3,3), input_shape=(28,28,1), activation=\"relu\", padding=\"same\", kernel_initializer=\"normal\"))\n",
    "cnn_clf.add(MaxPooling2D(pool_size=(2,2))) # reduces size to 14x14\n",
    "cnn_clf.add(Dropout(0.3))\n",
    "# - second conv/pool\n",
    "cnn_clf.add(Convolution2D(64, (3,3), activation=\"relu\", padding=\"same\", kernel_initializer=\"normal\"))\n",
    "cnn_clf.add(MaxPooling2D(pool_size=(2,2))) # reduces size to 7x7\n",
    "cnn_clf.add(Dropout(0.3))\n",
    "# - fully connected\n",
    "cnn_clf.add(Flatten())\n",
    "cnn_clf.add(Dense(128, activation=\"relu\"))\n",
    "cnn_clf.add(Dropout(0.3))\n",
    "# - output\n",
    "cnn_clf.add(Dense(10, activation=\"softmax\"))\n",
    "\n",
    "# Compile model\n",
    "cnn_clf.compile(loss=\"categorical_crossentropy\", optimizer=\"adam\", metrics=[\"accuracy\"])\n",
    "\n",
    "# Start timer\n",
    "start = time.time()\n",
    "\n",
    "# Train model on training data\n",
    "history = cnn_clf.fit(X_train_2D, y_train, batch_size=64, epochs=8, validation_split=0.1, verbose=1)\n",
    "# Evaluate model on test data\n",
    "score = cnn_clf.evaluate(X_test_2D, y_test, verbose=0)\n",
    "\n",
    "# Stop timer\n",
    "end = time.time()\n",
    "\n",
    "# Print results\n",
    "print(\"\\nTest Accuracy: {0:0.2f}%\".format(score[1] * 100))\n",
    "print(\"Time elapsed: {0:0.2f} sec\".format(end - start))\n",
    "\n",
    "# Plot training history\n",
    "plt.plot(history.history['loss'])\n",
    "plt.plot(history.history['val_loss'])\n",
    "plt.title('model loss')\n",
    "plt.ylabel('loss')\n",
    "plt.xlabel('epoch')\n",
    "plt.legend(['train', 'test'], loc='upper left')\n",
    "plt.show()"
   ]
  },
  {
   "cell_type": "markdown",
   "metadata": {},
   "source": [
    "<h2>Confusion matrix</h2>"
   ]
  },
  {
   "cell_type": "code",
   "execution_count": 7,
   "metadata": {},
   "outputs": [
    {
     "name": "stdout",
     "output_type": "stream",
     "text": [
      "[[900   0  16  22   4   1  47   0  10   0]\n",
      " [  0 981   0  12   2   0   4   0   1   0]\n",
      " [ 16   1 885  11  43   0  44   0   0   0]\n",
      " [ 10   5   6 949  15   0  14   0   1   0]\n",
      " [  0   1  71  32 862   0  33   0   1   0]\n",
      " [  0   0   0   0   0 983   0  12   0   5]\n",
      " [140   2  79  43  97   0 633   0   6   0]\n",
      " [  0   0   0   0   0   4   0 952   0  44]\n",
      " [  2   1   1   3   2   1   0   2 988   0]\n",
      " [  1   0   0   0   0   4   0  22   0 973]]\n"
     ]
    }
   ],
   "source": [
    "# Make predictions\n",
    "y_pred = cnn_clf.predict(X_test_2D)\n",
    "\n",
    "# Confusion matrix\n",
    "conf_mx = confusion_matrix(\n",
    "    np.argmax(y_test,axis=1), \n",
    "    np.argmax(y_pred, axis=1))\n",
    "print(conf_mx)"
   ]
  },
  {
   "cell_type": "markdown",
   "metadata": {},
   "source": [
    "<h2>Predict examples</h2>"
   ]
  },
  {
   "cell_type": "code",
   "execution_count": 8,
   "metadata": {},
   "outputs": [
    {
     "name": "stdout",
     "output_type": "stream",
     "text": [
      "Predicted: Ankle boot\n",
      "Actual: Ankle boot\n"
     ]
    },
    {
     "data": {
      "image/png": "[encoded data removed]",
      "text/plain": [
       "<Figure size 432x288 with 1 Axes>"
      ]
     },
     "metadata": {
      "needs_background": "light"
     },
     "output_type": "display_data"
    },
    {
     "name": "stdout",
     "output_type": "stream",
     "text": [
      "Predicted: Pullover\n",
      "Actual: Pullover\n"
     ]
    },
    {
     "data": {
      "image/png": "[encoded data removed]",
      "text/plain": [
       "<Figure size 432x288 with 1 Axes>"
      ]
     },
     "metadata": {
      "needs_background": "light"
     },
     "output_type": "display_data"
    },
    {
     "name": "stdout",
     "output_type": "stream",
     "text": [
      "Predicted: Trouser\n",
      "Actual: Trouser\n"
     ]
    },
    {
     "data": {
      "image/png": "[encoded data removed]",
      "text/plain": [
       "<Figure size 432x288 with 1 Axes>"
      ]
     },
     "metadata": {
      "needs_background": "light"
     },
     "output_type": "display_data"
    }
   ],
   "source": [
    "class_names = [\"T-shirt/top\", \"Trouser\", \"Pullover\", \"Dress\", \"Coat\",\n",
    "                   \"Sandal\", \"Shirt\", \"Sneaker\", \"Bag\", \"Ankle boot\"]\n",
    "\n",
    "# Examples to classify\n",
    "examples = X_test_2D[:3]\n",
    "\n",
    "res = np.argmax(cnn_clf.predict(examples), axis=1)\n",
    "\n",
    "for i in range(0,len(res)):\n",
    "    print(\"Predicted:\",class_names[res[i]])\n",
    "    print(\"Actual:\",class_names[y_test_raw[i]])\n",
    "    plt.imshow(X_test[i], cmap=plt.cm.Blues)\n",
    "    plt.show()"
   ]
  },
  {
   "cell_type": "code",
   "execution_count": null,
   "metadata": {},
   "outputs": [],
   "source": []
  }
 ],
 "metadata": {
  "kernelspec": {
   "display_name": "Python 3",
   "language": "python",
   "name": "python3"
  },
  "language_info": {
   "codemirror_mode": {
    "name": "ipython",
    "version": 3
   },
   "file_extension": ".py",
   "mimetype": "text/x-python",
   "name": "python",
   "nbconvert_exporter": "python",
   "pygments_lexer": "ipython3",
   "version": "3.7.4"
  }
 },
 "nbformat": 4,
 "nbformat_minor": 2
}
