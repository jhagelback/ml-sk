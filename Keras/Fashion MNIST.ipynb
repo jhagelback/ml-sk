{
 "cells": [
  {
   "cell_type": "markdown",
   "metadata": {},
   "source": [
    "<h2>Fashion MNIST dataset in Keras library</h2>"
   ]
  },
  {
   "cell_type": "markdown",
   "metadata": {},
   "source": [
    "<h2>Load data</h2>"
   ]
  },
  {
   "cell_type": "code",
   "execution_count": 2,
   "metadata": {},
   "outputs": [
    {
     "name": "stdout",
     "output_type": "stream",
     "text": [
      "Training instances: 60000\n",
      "Test instances: 10000\n",
      "\n",
      "Structure of training set: (60000, 28, 28)\n",
      "Structure of labels set: (60000, 10)\n"
     ]
    }
   ],
   "source": [
    "# Imports\n",
    "# - Dataset\n",
    "from keras.datasets import fashion_mnist\n",
    "# - Helper libraries\n",
    "import numpy as np\n",
    "import pandas as pd\n",
    "import time\n",
    "from sklearn.metrics import confusion_matrix\n",
    "from keras.utils import np_utils\n",
    "# - Graph plots\n",
    "%matplotlib inline\n",
    "from matplotlib import pyplot as plt\n",
    "# - Keras models and layers\n",
    "from keras.models import Sequential\n",
    "from keras.layers import Dense, Flatten, Dropout, BatchNormalization, Convolution2D, MaxPooling2D\n",
    "from keras.callbacks import EarlyStopping\n",
    "\n",
    "# Ignore warnings\n",
    "import tensorflow as tf\n",
    "tf.logging.set_verbosity(tf.logging.ERROR)\n",
    "\n",
    "# Load pre-shuffled Fashion MNIST data into train and test sets\n",
    "(X_train, y_train_raw), (X_test, y_test_raw) = fashion_mnist.load_data()\n",
    "\n",
    "# Convert to float values and normalize between 0...1\n",
    "X_train = X_train.astype(\"float32\")\n",
    "X_test = X_test.astype(\"float32\")\n",
    "X_train /= 255 \n",
    "X_test /= 255\n",
    "\n",
    "# Preprocess class labels\n",
    "# Convert labels to 10-dimensional one-hot vectors\n",
    "y_train = np_utils.to_categorical(y_train_raw, 10)\n",
    "y_test = np_utils.to_categorical(y_test_raw, 10)\n",
    "\n",
    "print(\"Training instances: {}\".format(X_train.shape[0]))\n",
    "print(\"Test instances: {}\".format(X_test.shape[0]))\n",
    "print()\n",
    "print(\"Structure of training set: {}\".format(X_train.shape))\n",
    "print(\"Structure of labels set: {}\".format(y_train.shape))"
   ]
  },
  {
   "cell_type": "markdown",
   "metadata": {},
   "source": [
    "<h2>Pre-process data for 1D or 2D inputs</h2>"
   ]
  },
  {
   "cell_type": "code",
   "execution_count": 3,
   "metadata": {},
   "outputs": [
    {
     "name": "stdout",
     "output_type": "stream",
     "text": [
      "1D shape: (60000, 784)\n",
      "2D shape: (60000, 28, 28, 1)\n"
     ]
    }
   ],
   "source": [
    "# Preprocess for 1D input data\n",
    "X_train_1D = X_train.reshape(X_train.shape[0], 784)\n",
    "X_test_1D = X_test.reshape(X_test.shape[0], 784)\n",
    "print(\"1D shape:\", X_train_1D.shape)\n",
    "\n",
    "# Preprocess for 2D input data\n",
    "X_train_2D = X_train.reshape(X_train.shape[0], 28, 28, 1)\n",
    "X_test_2D = X_test.reshape(X_test.shape[0], 28, 28, 1)\n",
    "print(\"2D shape:\", X_train_2D.shape)"
   ]
  },
  {
   "cell_type": "markdown",
   "metadata": {},
   "source": [
    "<h2>Build Linear model</h2>"
   ]
  },
  {
   "cell_type": "code",
   "execution_count": 4,
   "metadata": {},
   "outputs": [
    {
     "name": "stdout",
     "output_type": "stream",
     "text": [
      "_________________________________________________________________\n",
      "Layer (type)                 Output Shape              Param #   \n",
      "=================================================================\n",
      "dense_1 (Dense)              (None, 10)                7850      \n",
      "=================================================================\n",
      "Total params: 7,850\n",
      "Trainable params: 7,850\n",
      "Non-trainable params: 0\n",
      "_________________________________________________________________\n",
      "None\n"
     ]
    }
   ],
   "source": [
    "# Create Linear Softmax model\n",
    "lin_clf = Sequential()\n",
    "lin_clf.add(Dense(10, input_dim=784, activation=\"softmax\"))\n",
    "\n",
    "# Compile model\n",
    "lin_clf.compile(loss=\"categorical_crossentropy\", optimizer=\"adam\", metrics=[\"accuracy\"])\n",
    "print(lin_clf.summary())"
   ]
  },
  {
   "cell_type": "markdown",
   "metadata": {},
   "source": [
    "<h2>Train and evaluate Linear model on test data</h2>"
   ]
  },
  {
   "cell_type": "code",
   "execution_count": 5,
   "metadata": {},
   "outputs": [
    {
     "name": "stdout",
     "output_type": "stream",
     "text": [
      "Epoch 1/8\n",
      "60000/60000 [==============================] - 2s 36us/step - loss: 0.6006 - acc: 0.7958\n",
      "Epoch 2/8\n",
      "60000/60000 [==============================] - 2s 33us/step - loss: 0.4611 - acc: 0.8427\n",
      "Epoch 3/8\n",
      "60000/60000 [==============================] - 2s 33us/step - loss: 0.4361 - acc: 0.8499\n",
      "Epoch 4/8\n",
      "60000/60000 [==============================] - 2s 36us/step - loss: 0.4217 - acc: 0.8542\n",
      "Epoch 5/8\n",
      "60000/60000 [==============================] - 2s 33us/step - loss: 0.4137 - acc: 0.8575\n",
      "Epoch 6/8\n",
      "60000/60000 [==============================] - 2s 33us/step - loss: 0.4064 - acc: 0.8608\n",
      "Epoch 7/8\n",
      "60000/60000 [==============================] - 2s 33us/step - loss: 0.4023 - acc: 0.8603\n",
      "Epoch 8/8\n",
      "60000/60000 [==============================] - 2s 35us/step - loss: 0.3981 - acc: 0.8616\n",
      "\n",
      "Test Accuracy: 84.61%\n",
      "Time elapsed: 16.64 sec\n"
     ]
    }
   ],
   "source": [
    "# Start timer\n",
    "start = time.time()\n",
    "\n",
    "# Train model on training data\n",
    "lin_clf.fit(X_train_1D, y_train, batch_size=32, epochs=8, verbose=1)\n",
    "# Evaluate model on test data\n",
    "score = lin_clf.evaluate(X_test_1D, y_test, verbose=0)\n",
    "\n",
    "# Stop timer\n",
    "end = time.time()\n",
    "\n",
    "# Print results\n",
    "print(\"\\nTest Accuracy: {0:0.2f}%\".format(score[1] * 100))\n",
    "print(\"Time elapsed: {0:0.2f} sec\".format(end - start))"
   ]
  },
  {
   "cell_type": "markdown",
   "metadata": {},
   "source": [
    "<h2>Build Neural Net model</h2>"
   ]
  },
  {
   "cell_type": "code",
   "execution_count": 6,
   "metadata": {},
   "outputs": [
    {
     "name": "stdout",
     "output_type": "stream",
     "text": [
      "_________________________________________________________________\n",
      "Layer (type)                 Output Shape              Param #   \n",
      "=================================================================\n",
      "dense_2 (Dense)              (None, 128)               100480    \n",
      "_________________________________________________________________\n",
      "dropout_1 (Dropout)          (None, 128)               0         \n",
      "_________________________________________________________________\n",
      "dense_3 (Dense)              (None, 128)               16512     \n",
      "_________________________________________________________________\n",
      "dropout_2 (Dropout)          (None, 128)               0         \n",
      "_________________________________________________________________\n",
      "dense_4 (Dense)              (None, 10)                1290      \n",
      "=================================================================\n",
      "Total params: 118,282\n",
      "Trainable params: 118,282\n",
      "Non-trainable params: 0\n",
      "_________________________________________________________________\n",
      "None\n"
     ]
    }
   ],
   "source": [
    "# Create Neural Net Softmax model\n",
    "nn_clf = Sequential()\n",
    "# - first Dense\n",
    "nn_clf.add(Dense(128, input_dim=784, activation=\"elu\", kernel_initializer=\"he_normal\"))\n",
    "nn_clf.add(Dropout(0.2))\n",
    "# - second Dense\n",
    "nn_clf.add(Dense(128, activation=\"elu\", kernel_initializer=\"he_normal\"))\n",
    "nn_clf.add(Dropout(0.2))\n",
    "# - output\n",
    "nn_clf.add(Dense(10, activation=\"softmax\"))\n",
    "\n",
    "# Compile model\n",
    "nn_clf.compile(loss=\"categorical_crossentropy\", optimizer=\"adam\", metrics=[\"accuracy\"])\n",
    "print(nn_clf.summary())"
   ]
  },
  {
   "cell_type": "markdown",
   "metadata": {},
   "source": [
    "<h2>Train and evaluate Neural Net model on test data</h2>"
   ]
  },
  {
   "cell_type": "code",
   "execution_count": 7,
   "metadata": {},
   "outputs": [
    {
     "name": "stdout",
     "output_type": "stream",
     "text": [
      "Train on 48000 samples, validate on 12000 samples\n",
      "Epoch 1/15\n",
      "48000/48000 [==============================] - 4s 74us/step - loss: 0.5881 - acc: 0.7908 - val_loss: 0.4304 - val_acc: 0.8468\n",
      "Epoch 2/15\n",
      "48000/48000 [==============================] - 3s 67us/step - loss: 0.4459 - acc: 0.8400 - val_loss: 0.3852 - val_acc: 0.8588\n",
      "Epoch 3/15\n",
      "48000/48000 [==============================] - 3s 65us/step - loss: 0.4057 - acc: 0.8521 - val_loss: 0.3602 - val_acc: 0.8689\n",
      "Epoch 4/15\n",
      "48000/48000 [==============================] - 3s 67us/step - loss: 0.3809 - acc: 0.8595 - val_loss: 0.3726 - val_acc: 0.8697\n",
      "Epoch 5/15\n",
      "48000/48000 [==============================] - 3s 66us/step - loss: 0.3606 - acc: 0.8666 - val_loss: 0.3527 - val_acc: 0.8696\n",
      "Epoch 6/15\n",
      "48000/48000 [==============================] - 3s 63us/step - loss: 0.3505 - acc: 0.8700 - val_loss: 0.3547 - val_acc: 0.8711\n",
      "Epoch 7/15\n",
      "48000/48000 [==============================] - 3s 66us/step - loss: 0.3424 - acc: 0.8734 - val_loss: 0.3273 - val_acc: 0.8787\n",
      "Epoch 8/15\n",
      "48000/48000 [==============================] - 3s 66us/step - loss: 0.3301 - acc: 0.8774 - val_loss: 0.3224 - val_acc: 0.8838\n",
      "Epoch 9/15\n",
      "48000/48000 [==============================] - 3s 69us/step - loss: 0.3194 - acc: 0.8803 - val_loss: 0.3497 - val_acc: 0.8760\n",
      "Epoch 10/15\n",
      "48000/48000 [==============================] - 3s 67us/step - loss: 0.3106 - acc: 0.8828 - val_loss: 0.3225 - val_acc: 0.8835\n",
      "\n",
      "Test Accuracy: 87.49%\n",
      "Time elapsed: 32.86 sec\n"
     ]
    },
    {
     "data": {
      "image/png": "[encoded data removed]",
      "text/plain": [
       "<Figure size 576x360 with 1 Axes>"
      ]
     },
     "metadata": {
      "needs_background": "light"
     },
     "output_type": "display_data"
    }
   ],
   "source": [
    "# Early stopping\n",
    "cp = EarlyStopping(patience=2, restore_best_weights=True)\n",
    "\n",
    "# Start timer\n",
    "start = time.time()\n",
    "\n",
    "# Train model on training data\n",
    "history = nn_clf.fit(X_train_1D, y_train, batch_size=64, epochs=15, validation_split=0.2, callbacks=[cp], verbose=1)\n",
    "# Evaluate model on test data\n",
    "score = nn_clf.evaluate(X_test_1D, y_test, verbose=0)\n",
    "\n",
    "# Stop timer\n",
    "end = time.time()\n",
    "\n",
    "# Print results\n",
    "print(\"\\nTest Accuracy: {0:0.2f}%\".format(score[1] * 100))\n",
    "print(\"Time elapsed: {0:0.2f} sec\".format(end - start))\n",
    "\n",
    "# Plot training history\n",
    "pd.DataFrame(history.history).plot(figsize=(8, 5)) \n",
    "plt.grid(True)\n",
    "plt.gca().set_ylim(0, 1)\n",
    "plt.show()"
   ]
  },
  {
   "cell_type": "markdown",
   "metadata": {},
   "source": [
    "<h2>Build ConvNet model</h2>"
   ]
  },
  {
   "cell_type": "code",
   "execution_count": 8,
   "metadata": {},
   "outputs": [
    {
     "name": "stdout",
     "output_type": "stream",
     "text": [
      "_________________________________________________________________\n",
      "Layer (type)                 Output Shape              Param #   \n",
      "=================================================================\n",
      "conv2d_1 (Conv2D)            (None, 28, 28, 32)        320       \n",
      "_________________________________________________________________\n",
      "max_pooling2d_1 (MaxPooling2 (None, 14, 14, 32)        0         \n",
      "_________________________________________________________________\n",
      "dropout_3 (Dropout)          (None, 14, 14, 32)        0         \n",
      "_________________________________________________________________\n",
      "conv2d_2 (Conv2D)            (None, 14, 14, 64)        18496     \n",
      "_________________________________________________________________\n",
      "max_pooling2d_2 (MaxPooling2 (None, 7, 7, 64)          0         \n",
      "_________________________________________________________________\n",
      "dropout_4 (Dropout)          (None, 7, 7, 64)          0         \n",
      "_________________________________________________________________\n",
      "flatten_1 (Flatten)          (None, 3136)              0         \n",
      "_________________________________________________________________\n",
      "dense_5 (Dense)              (None, 128)               401536    \n",
      "_________________________________________________________________\n",
      "batch_normalization_1 (Batch (None, 128)               512       \n",
      "_________________________________________________________________\n",
      "dropout_5 (Dropout)          (None, 128)               0         \n",
      "_________________________________________________________________\n",
      "dense_6 (Dense)              (None, 10)                1290      \n",
      "=================================================================\n",
      "Total params: 422,154\n",
      "Trainable params: 421,898\n",
      "Non-trainable params: 256\n",
      "_________________________________________________________________\n",
      "None\n"
     ]
    }
   ],
   "source": [
    "# Create ConvNet model\n",
    "cnn_clf = Sequential()\n",
    "# - first conv/pool \n",
    "cnn_clf.add(Convolution2D(32, (3,3), input_shape=(28,28,1), activation=\"elu\", padding=\"same\", kernel_initializer=\"he_normal\"))\n",
    "cnn_clf.add(MaxPooling2D(pool_size=(2,2))) # reduces size to 14x14\n",
    "cnn_clf.add(Dropout(0.3))\n",
    "# - second conv/pool\n",
    "cnn_clf.add(Convolution2D(64, (3,3), activation=\"elu\", padding=\"same\", kernel_initializer=\"he_normal\"))\n",
    "cnn_clf.add(MaxPooling2D(pool_size=(2,2))) # reduces size to 7x7\n",
    "cnn_clf.add(Dropout(0.3))\n",
    "# - fully connected\n",
    "cnn_clf.add(Flatten())\n",
    "cnn_clf.add(Dense(128, activation=\"elu\"))\n",
    "cnn_clf.add(BatchNormalization())\n",
    "cnn_clf.add(Dropout(0.3))\n",
    "# - output\n",
    "cnn_clf.add(Dense(10, activation=\"softmax\"))\n",
    "\n",
    "# Compile model\n",
    "cnn_clf.compile(loss=\"categorical_crossentropy\", optimizer=\"adam\", metrics=[\"accuracy\"])\n",
    "print(cnn_clf.summary())"
   ]
  },
  {
   "cell_type": "markdown",
   "metadata": {},
   "source": [
    "<h2>Train and evaluate ConvNet model on test data</h2>"
   ]
  },
  {
   "cell_type": "code",
   "execution_count": 9,
   "metadata": {},
   "outputs": [
    {
     "name": "stdout",
     "output_type": "stream",
     "text": [
      "Train on 48000 samples, validate on 12000 samples\n",
      "Epoch 1/15\n",
      "48000/48000 [==============================] - 57s 1ms/step - loss: 0.5025 - acc: 0.8182 - val_loss: 0.4241 - val_acc: 0.8456\n",
      "Epoch 2/15\n",
      "48000/48000 [==============================] - 56s 1ms/step - loss: 0.3492 - acc: 0.8738 - val_loss: 0.3643 - val_acc: 0.8652\n",
      "Epoch 3/15\n",
      "48000/48000 [==============================] - 57s 1ms/step - loss: 0.3089 - acc: 0.8871 - val_loss: 0.3027 - val_acc: 0.8891\n",
      "Epoch 4/15\n",
      "48000/48000 [==============================] - 57s 1ms/step - loss: 0.2841 - acc: 0.8957 - val_loss: 0.2659 - val_acc: 0.9015\n",
      "Epoch 5/15\n",
      "48000/48000 [==============================] - 57s 1ms/step - loss: 0.2652 - acc: 0.9023 - val_loss: 0.2721 - val_acc: 0.9033\n",
      "Epoch 6/15\n",
      "48000/48000 [==============================] - 58s 1ms/step - loss: 0.2509 - acc: 0.9068 - val_loss: 0.2496 - val_acc: 0.9078\n",
      "Epoch 7/15\n",
      "48000/48000 [==============================] - 58s 1ms/step - loss: 0.2404 - acc: 0.9117 - val_loss: 0.2487 - val_acc: 0.9091\n",
      "Epoch 8/15\n",
      "48000/48000 [==============================] - 59s 1ms/step - loss: 0.2257 - acc: 0.9156 - val_loss: 0.2199 - val_acc: 0.9167\n",
      "Epoch 9/15\n",
      "48000/48000 [==============================] - 58s 1ms/step - loss: 0.2171 - acc: 0.9190 - val_loss: 0.2425 - val_acc: 0.9161\n",
      "Epoch 10/15\n",
      "48000/48000 [==============================] - 58s 1ms/step - loss: 0.2094 - acc: 0.9241 - val_loss: 0.2217 - val_acc: 0.9213\n",
      "\n",
      "Test Accuracy: 91.52%\n",
      "Time elapsed: 578.58 sec\n"
     ]
    },
    {
     "data": {
      "image/png": "[encoded data removed]",
      "text/plain": [
       "<Figure size 576x360 with 1 Axes>"
      ]
     },
     "metadata": {
      "needs_background": "light"
     },
     "output_type": "display_data"
    }
   ],
   "source": [
    "# Start timer\n",
    "start = time.time()\n",
    "\n",
    "# Store best model\n",
    "cp = EarlyStopping(patience=2, monitor=\"val_loss\", restore_best_weights=True)\n",
    "\n",
    "# Train model on training data\n",
    "# Note: uses 20% of the training set for validation\n",
    "history = cnn_clf.fit(X_train_2D, y_train, batch_size=64, epochs=15, validation_split=0.2, callbacks=[cp], verbose=1)\n",
    "# Evaluate model on test data\n",
    "score = cnn_clf.evaluate(X_test_2D, y_test, verbose=0)\n",
    "\n",
    "# Stop timer\n",
    "end = time.time()\n",
    "\n",
    "# Print results\n",
    "print(\"\\nTest Accuracy: {0:0.2f}%\".format(score[1] * 100))\n",
    "print(\"Time elapsed: {0:0.2f} sec\".format(end - start))\n",
    "\n",
    "# Plot training history\n",
    "pd.DataFrame(history.history).plot(figsize=(8, 5)) \n",
    "plt.grid(True)\n",
    "plt.gca().set_ylim(0, 1)\n",
    "plt.show()"
   ]
  },
  {
   "cell_type": "markdown",
   "metadata": {},
   "source": [
    "<h2>Confusion matrix</h2>"
   ]
  },
  {
   "cell_type": "code",
   "execution_count": 10,
   "metadata": {},
   "outputs": [
    {
     "name": "stdout",
     "output_type": "stream",
     "text": [
      "[[853   0  16  10   5   1 109   1   5   0]\n",
      " [  1 977   0  16   1   0   3   0   2   0]\n",
      " [ 15   1 855   5  57   0  67   0   0   0]\n",
      " [  9   0  10 922  16   0  42   0   1   0]\n",
      " [  0   0  39  23 869   0  69   0   0   0]\n",
      " [  0   0   0   0   0 978   0  16   0   6]\n",
      " [ 79   0  54  24  53   0 783   0   7   0]\n",
      " [  0   0   0   0   0   4   0 975   0  21]\n",
      " [  3   1   2   3   1   2   4   3 981   0]\n",
      " [  0   0   0   0   0   4   1  36   0 959]]\n"
     ]
    }
   ],
   "source": [
    "# Make predictions\n",
    "y_pred = cnn_clf.predict(X_test_2D)\n",
    "\n",
    "# Confusion matrix\n",
    "conf_mx = confusion_matrix(\n",
    "    np.argmax(y_test,axis=1), \n",
    "    np.argmax(y_pred, axis=1))\n",
    "print(conf_mx)"
   ]
  },
  {
   "cell_type": "markdown",
   "metadata": {},
   "source": [
    "<h2>Dimensionality Reduction</h2>"
   ]
  },
  {
   "cell_type": "code",
   "execution_count": 11,
   "metadata": {},
   "outputs": [
    {
     "name": "stdout",
     "output_type": "stream",
     "text": [
      "Training set: (60000, 187)\n",
      "Test set: (10000, 187)\n"
     ]
    }
   ],
   "source": [
    "from sklearn.decomposition import PCA\n",
    "\n",
    "# Create PCA\n",
    "pca = PCA(n_components=0.95)\n",
    "pca.fit(X_train_1D)\n",
    "# Reduce dimensionality on training and test sets\n",
    "X_train_1D_dr = pca.transform(X_train_1D)\n",
    "X_test_1D_dr = pca.transform(X_test_1D)\n",
    "# Show dataset shape\n",
    "print(\"Training set:\",X_train_1D_dr.shape)\n",
    "print(\"Test set:\",X_test_1D_dr.shape)"
   ]
  },
  {
   "cell_type": "markdown",
   "metadata": {},
   "source": [
    "<h2>Train and evaluate reduced dataset with a neural network</h2>"
   ]
  },
  {
   "cell_type": "code",
   "execution_count": 12,
   "metadata": {},
   "outputs": [
    {
     "name": "stdout",
     "output_type": "stream",
     "text": [
      "Train on 48000 samples, validate on 12000 samples\n",
      "Epoch 1/20\n",
      "48000/48000 [==============================] - 2s 43us/step - loss: 0.5750 - acc: 0.7971 - val_loss: 0.4078 - val_acc: 0.8559\n",
      "Epoch 2/20\n",
      "48000/48000 [==============================] - 2s 34us/step - loss: 0.4276 - acc: 0.8490 - val_loss: 0.3803 - val_acc: 0.8643\n",
      "Epoch 3/20\n",
      "48000/48000 [==============================] - 2s 34us/step - loss: 0.3912 - acc: 0.8583 - val_loss: 0.3531 - val_acc: 0.8722\n",
      "Epoch 4/20\n",
      "48000/48000 [==============================] - 2s 34us/step - loss: 0.3681 - acc: 0.8643 - val_loss: 0.3537 - val_acc: 0.8712\n",
      "Epoch 5/20\n",
      "48000/48000 [==============================] - 2s 40us/step - loss: 0.3504 - acc: 0.8725 - val_loss: 0.3398 - val_acc: 0.8746\n",
      "Epoch 6/20\n",
      "48000/48000 [==============================] - 2s 36us/step - loss: 0.3369 - acc: 0.8769 - val_loss: 0.3290 - val_acc: 0.8808\n",
      "Epoch 7/20\n",
      "48000/48000 [==============================] - 2s 37us/step - loss: 0.3260 - acc: 0.8803 - val_loss: 0.3206 - val_acc: 0.8792\n",
      "Epoch 8/20\n",
      "48000/48000 [==============================] - 2s 34us/step - loss: 0.3157 - acc: 0.8844 - val_loss: 0.3126 - val_acc: 0.8848\n",
      "Epoch 9/20\n",
      "48000/48000 [==============================] - 2s 34us/step - loss: 0.3090 - acc: 0.8852 - val_loss: 0.3205 - val_acc: 0.8829\n",
      "Epoch 10/20\n",
      "48000/48000 [==============================] - 2s 35us/step - loss: 0.3018 - acc: 0.8872 - val_loss: 0.3092 - val_acc: 0.8881\n",
      "Epoch 11/20\n",
      "48000/48000 [==============================] - 2s 34us/step - loss: 0.2920 - acc: 0.8908 - val_loss: 0.3009 - val_acc: 0.8894\n",
      "Epoch 12/20\n",
      "48000/48000 [==============================] - 2s 34us/step - loss: 0.2867 - acc: 0.8927 - val_loss: 0.3079 - val_acc: 0.8872\n",
      "Epoch 13/20\n",
      "48000/48000 [==============================] - 2s 34us/step - loss: 0.2833 - acc: 0.8953 - val_loss: 0.2992 - val_acc: 0.8894\n",
      "Epoch 14/20\n",
      "48000/48000 [==============================] - 2s 34us/step - loss: 0.2762 - acc: 0.8962 - val_loss: 0.2976 - val_acc: 0.8895\n",
      "Epoch 15/20\n",
      "48000/48000 [==============================] - 2s 34us/step - loss: 0.2701 - acc: 0.8984 - val_loss: 0.2964 - val_acc: 0.8916\n",
      "Epoch 16/20\n",
      "48000/48000 [==============================] - 2s 35us/step - loss: 0.2678 - acc: 0.8993 - val_loss: 0.2975 - val_acc: 0.8922\n",
      "Epoch 17/20\n",
      "48000/48000 [==============================] - 2s 35us/step - loss: 0.2659 - acc: 0.8997 - val_loss: 0.3008 - val_acc: 0.8900\n",
      "\n",
      "Test Accuracy: 88.75%\n",
      "Time elapsed: 29.42 sec\n"
     ]
    },
    {
     "data": {
      "image/png": "[encoded data removed]",
      "text/plain": [
       "<Figure size 576x360 with 1 Axes>"
      ]
     },
     "metadata": {
      "needs_background": "light"
     },
     "output_type": "display_data"
    }
   ],
   "source": [
    "# Create Neural Net Softmax model for the reduced size dataset\n",
    "snn_clf = Sequential()\n",
    "# - first Dense\n",
    "snn_clf.add(Dense(128, input_dim=187, activation=\"elu\", kernel_initializer=\"he_normal\"))\n",
    "snn_clf.add(Dropout(0.2))\n",
    "# - second Dense\n",
    "snn_clf.add(Dense(128, activation=\"elu\", kernel_initializer=\"he_normal\"))\n",
    "snn_clf.add(Dropout(0.2))\n",
    "# - output\n",
    "snn_clf.add(Dense(10, activation=\"softmax\"))\n",
    "\n",
    "# Early stopping\n",
    "cp = EarlyStopping(patience=2, restore_best_weights=True)\n",
    "\n",
    "# Compile model\n",
    "snn_clf.compile(loss=\"categorical_crossentropy\", optimizer=\"adam\", metrics=[\"accuracy\"])\n",
    "\n",
    "# Start timer\n",
    "start = time.time()\n",
    "\n",
    "# Train model on training data\n",
    "history = snn_clf.fit(X_train_1D_dr, y_train, batch_size=64, epochs=20, validation_split=0.2, callbacks=[cp], verbose=1)\n",
    "# Evaluate model on test data\n",
    "score = snn_clf.evaluate(X_test_1D_dr, y_test, verbose=0)\n",
    "\n",
    "# Stop timer\n",
    "end = time.time()\n",
    "\n",
    "# Print results\n",
    "print(\"\\nTest Accuracy: {0:0.2f}%\".format(score[1] * 100))\n",
    "print(\"Time elapsed: {0:0.2f} sec\".format(end - start))\n",
    "\n",
    "# Plot training history\n",
    "pd.DataFrame(history.history).plot(figsize=(8, 5)) \n",
    "plt.grid(True)\n",
    "plt.gca().set_ylim(0, 1) # set the vertical range to [0-1] \n",
    "plt.show()"
   ]
  },
  {
   "cell_type": "markdown",
   "metadata": {},
   "source": [
    "<h2>Predict examples</h2>"
   ]
  },
  {
   "cell_type": "code",
   "execution_count": 13,
   "metadata": {},
   "outputs": [
    {
     "name": "stdout",
     "output_type": "stream",
     "text": [
      "Predicted: Ankle boot\n",
      "Actual: Ankle boot\n"
     ]
    },
    {
     "data": {
      "image/png": "[encoded data removed]",
      "text/plain": [
       "<Figure size 432x288 with 1 Axes>"
      ]
     },
     "metadata": {
      "needs_background": "light"
     },
     "output_type": "display_data"
    },
    {
     "name": "stdout",
     "output_type": "stream",
     "text": [
      "Predicted: Pullover\n",
      "Actual: Pullover\n"
     ]
    },
    {
     "data": {
      "image/png": "[encoded data removed]",
      "text/plain": [
       "<Figure size 432x288 with 1 Axes>"
      ]
     },
     "metadata": {
      "needs_background": "light"
     },
     "output_type": "display_data"
    },
    {
     "name": "stdout",
     "output_type": "stream",
     "text": [
      "Predicted: Trouser\n",
      "Actual: Trouser\n"
     ]
    },
    {
     "data": {
      "image/png": "[encoded data removed]",
      "text/plain": [
       "<Figure size 432x288 with 1 Axes>"
      ]
     },
     "metadata": {
      "needs_background": "light"
     },
     "output_type": "display_data"
    }
   ],
   "source": [
    "class_names = [\"T-shirt/top\", \"Trouser\", \"Pullover\", \"Dress\", \"Coat\",\n",
    "                   \"Sandal\", \"Shirt\", \"Sneaker\", \"Bag\", \"Ankle boot\"]\n",
    "\n",
    "# Examples to classify\n",
    "examples = X_test_2D[:3]\n",
    "\n",
    "res = np.argmax(cnn_clf.predict(examples), axis=1)\n",
    "\n",
    "for i in range(0,len(res)):\n",
    "    print(\"Predicted:\",class_names[res[i]])\n",
    "    print(\"Actual:\",class_names[y_test_raw[i]])\n",
    "    plt.imshow(X_test[i], cmap=plt.cm.Blues)\n",
    "    plt.show()"
   ]
  },
  {
   "cell_type": "code",
   "execution_count": null,
   "metadata": {},
   "outputs": [],
   "source": []
  }
 ],
 "metadata": {
  "kernelspec": {
   "display_name": "Python 3",
   "language": "python",
   "name": "python3"
  },
  "language_info": {
   "codemirror_mode": {
    "name": "ipython",
    "version": 3
   },
   "file_extension": ".py",
   "mimetype": "text/x-python",
   "name": "python",
   "nbconvert_exporter": "python",
   "pygments_lexer": "ipython3",
   "version": "3.7.2"
  }
 },
 "nbformat": 4,
 "nbformat_minor": 2
}
