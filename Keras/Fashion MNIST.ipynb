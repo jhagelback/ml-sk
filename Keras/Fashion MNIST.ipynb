{
 "cells": [
  {
   "cell_type": "markdown",
   "metadata": {},
   "source": [
    "<h2>Fashion MNIST dataset in Keras library</h2>"
   ]
  },
  {
   "cell_type": "markdown",
   "metadata": {},
   "source": [
    "<h2>Load data</h2>"
   ]
  },
  {
   "cell_type": "code",
   "execution_count": 1,
   "metadata": {},
   "outputs": [
    {
     "name": "stderr",
     "output_type": "stream",
     "text": [
      "Using TensorFlow backend.\n"
     ]
    },
    {
     "name": "stdout",
     "output_type": "stream",
     "text": [
      "Training instances: 60000\n",
      "Test instances: 10000\n",
      "\n",
      "Structure of training set: (60000, 28, 28)\n",
      "Structure of labels set: (60000, 10)\n"
     ]
    }
   ],
   "source": [
    "# Imports\n",
    "# - Dataset\n",
    "from keras.datasets import fashion_mnist\n",
    "# - Helper libraries\n",
    "import numpy as np\n",
    "import pandas as pd\n",
    "import time\n",
    "from sklearn.metrics import confusion_matrix\n",
    "from keras.utils import np_utils\n",
    "# - Graph plots\n",
    "%matplotlib inline\n",
    "from matplotlib import pyplot as plt\n",
    "# - Keras models and layers\n",
    "from keras.models import Sequential\n",
    "from keras.layers import Dense, Flatten, Dropout, Flatten, Convolution2D, MaxPooling2D\n",
    "from keras.callbacks import EarlyStopping\n",
    "\n",
    "# Ignore warnings\n",
    "import tensorflow as tf\n",
    "tf.logging.set_verbosity(tf.logging.ERROR)\n",
    "\n",
    "# Load pre-shuffled Fashion MNIST data into train and test sets\n",
    "(X_train, y_train_raw), (X_test, y_test_raw) = fashion_mnist.load_data()\n",
    "\n",
    "# Convert to float values and normalize between 0...1\n",
    "X_train = X_train.astype(\"float32\")\n",
    "X_test = X_test.astype(\"float32\")\n",
    "X_train /= 255 \n",
    "X_test /= 255\n",
    "\n",
    "# Preprocess class labels\n",
    "# Convert labels to 10-dimensional one-hot vectors\n",
    "y_train = np_utils.to_categorical(y_train_raw, 10)\n",
    "y_test = np_utils.to_categorical(y_test_raw, 10)\n",
    "\n",
    "print(\"Training instances: {}\".format(X_train.shape[0]))\n",
    "print(\"Test instances: {}\".format(X_test.shape[0]))\n",
    "print()\n",
    "print(\"Structure of training set: {}\".format(X_train.shape))\n",
    "print(\"Structure of labels set: {}\".format(y_train.shape))"
   ]
  },
  {
   "cell_type": "markdown",
   "metadata": {},
   "source": [
    "<h2>Pre-process data for 1D or 2D inputs</h2>"
   ]
  },
  {
   "cell_type": "code",
   "execution_count": 2,
   "metadata": {},
   "outputs": [
    {
     "name": "stdout",
     "output_type": "stream",
     "text": [
      "1D shape: (60000, 784)\n",
      "2D shape: (60000, 28, 28, 1)\n"
     ]
    }
   ],
   "source": [
    "# Preprocess for 1D input data\n",
    "X_train_1D = X_train.reshape(X_train.shape[0], 784)\n",
    "X_test_1D = X_test.reshape(X_test.shape[0], 784)\n",
    "print(\"1D shape:\", X_train_1D.shape)\n",
    "\n",
    "# Preprocess for 2D input data\n",
    "X_train_2D = X_train.reshape(X_train.shape[0], 28, 28, 1)\n",
    "X_test_2D = X_test.reshape(X_test.shape[0], 28, 28, 1)\n",
    "print(\"2D shape:\", X_train_2D.shape)"
   ]
  },
  {
   "cell_type": "markdown",
   "metadata": {},
   "source": [
    "<h2>Build Linear model</h2>"
   ]
  },
  {
   "cell_type": "code",
   "execution_count": 3,
   "metadata": {},
   "outputs": [
    {
     "name": "stdout",
     "output_type": "stream",
     "text": [
      "_________________________________________________________________\n",
      "Layer (type)                 Output Shape              Param #   \n",
      "=================================================================\n",
      "dense_1 (Dense)              (None, 10)                7850      \n",
      "=================================================================\n",
      "Total params: 7,850\n",
      "Trainable params: 7,850\n",
      "Non-trainable params: 0\n",
      "_________________________________________________________________\n",
      "None\n"
     ]
    }
   ],
   "source": [
    "# Create Linear Softmax model\n",
    "lin_clf = Sequential()\n",
    "lin_clf.add(Dense(10, input_dim=784, activation=\"softmax\"))\n",
    "\n",
    "# Compile model\n",
    "lin_clf.compile(loss=\"categorical_crossentropy\", optimizer=\"adam\", metrics=[\"accuracy\"])\n",
    "print(lin_clf.summary())"
   ]
  },
  {
   "cell_type": "markdown",
   "metadata": {},
   "source": [
    "<h2>Train and evaluate Linear model on test data</h2>"
   ]
  },
  {
   "cell_type": "code",
   "execution_count": 4,
   "metadata": {},
   "outputs": [
    {
     "name": "stdout",
     "output_type": "stream",
     "text": [
      "Epoch 1/8\n",
      "60000/60000 [==============================] - 2s 36us/step - loss: 0.6011 - acc: 0.7976\n",
      "Epoch 2/8\n",
      "60000/60000 [==============================] - 2s 31us/step - loss: 0.4624 - acc: 0.8427\n",
      "Epoch 3/8\n",
      "60000/60000 [==============================] - 2s 30us/step - loss: 0.4355 - acc: 0.8517\n",
      "Epoch 4/8\n",
      "60000/60000 [==============================] - 2s 29us/step - loss: 0.4233 - acc: 0.8540\n",
      "Epoch 5/8\n",
      "60000/60000 [==============================] - 2s 30us/step - loss: 0.4136 - acc: 0.8573: 0s - loss: 0.4138 - acc: \n",
      "Epoch 6/8\n",
      "60000/60000 [==============================] - 2s 36us/step - loss: 0.4071 - acc: 0.8589\n",
      "Epoch 7/8\n",
      "60000/60000 [==============================] - 2s 38us/step - loss: 0.4026 - acc: 0.8609\n",
      "Epoch 8/8\n",
      "60000/60000 [==============================] - 2s 38us/step - loss: 0.3983 - acc: 0.8611: 1s - loss: \n",
      "\n",
      "Test Accuracy: 84.44%\n",
      "Time elapsed: 16.47 sec\n"
     ]
    }
   ],
   "source": [
    "# Start timer\n",
    "start = time.time()\n",
    "\n",
    "# Train model on training data\n",
    "lin_clf.fit(X_train_1D, y_train, batch_size=32, epochs=8, verbose=1)\n",
    "# Evaluate model on test data\n",
    "score = lin_clf.evaluate(X_test_1D, y_test, verbose=0)\n",
    "\n",
    "# Stop timer\n",
    "end = time.time()\n",
    "\n",
    "# Print results\n",
    "print(\"\\nTest Accuracy: {0:0.2f}%\".format(score[1] * 100))\n",
    "print(\"Time elapsed: {0:0.2f} sec\".format(end - start))"
   ]
  },
  {
   "cell_type": "markdown",
   "metadata": {},
   "source": [
    "<h2>Build Neural Net model</h2>"
   ]
  },
  {
   "cell_type": "code",
   "execution_count": 5,
   "metadata": {},
   "outputs": [
    {
     "name": "stdout",
     "output_type": "stream",
     "text": [
      "_________________________________________________________________\n",
      "Layer (type)                 Output Shape              Param #   \n",
      "=================================================================\n",
      "dense_2 (Dense)              (None, 128)               100480    \n",
      "_________________________________________________________________\n",
      "dropout_1 (Dropout)          (None, 128)               0         \n",
      "_________________________________________________________________\n",
      "dense_3 (Dense)              (None, 128)               16512     \n",
      "_________________________________________________________________\n",
      "dropout_2 (Dropout)          (None, 128)               0         \n",
      "_________________________________________________________________\n",
      "dense_4 (Dense)              (None, 10)                1290      \n",
      "=================================================================\n",
      "Total params: 118,282\n",
      "Trainable params: 118,282\n",
      "Non-trainable params: 0\n",
      "_________________________________________________________________\n",
      "None\n"
     ]
    }
   ],
   "source": [
    "# Create Neural Net Softmax model\n",
    "nn_clf = Sequential()\n",
    "nn_clf.add(Dense(128, input_dim=784, activation=\"relu\"))\n",
    "nn_clf.add(Dropout(0.2))\n",
    "nn_clf.add(Dense(128, activation=\"relu\"))\n",
    "nn_clf.add(Dropout(0.2))\n",
    "nn_clf.add(Dense(10, activation=\"softmax\"))\n",
    "\n",
    "# Compile model\n",
    "nn_clf.compile(loss=\"categorical_crossentropy\", optimizer=\"adam\", metrics=[\"accuracy\"])\n",
    "print(nn_clf.summary())"
   ]
  },
  {
   "cell_type": "markdown",
   "metadata": {},
   "source": [
    "<h2>Train and evaluate Neural Net model on test data</h2>"
   ]
  },
  {
   "cell_type": "code",
   "execution_count": 6,
   "metadata": {},
   "outputs": [
    {
     "name": "stdout",
     "output_type": "stream",
     "text": [
      "Train on 48000 samples, validate on 12000 samples\n",
      "Epoch 1/10\n",
      "48000/48000 [==============================] - 6s 127us/step - loss: 0.5820 - acc: 0.7918 - val_loss: 0.4045 - val_acc: 0.8537\n",
      "Epoch 2/10\n",
      "48000/48000 [==============================] - 6s 115us/step - loss: 0.4279 - acc: 0.8439 - val_loss: 0.3780 - val_acc: 0.8618\n",
      "Epoch 3/10\n",
      "48000/48000 [==============================] - 5s 109us/step - loss: 0.3914 - acc: 0.8582 - val_loss: 0.3669 - val_acc: 0.8694\n",
      "Epoch 4/10\n",
      "48000/48000 [==============================] - 5s 114us/step - loss: 0.3677 - acc: 0.8663 - val_loss: 0.3661 - val_acc: 0.8672\n",
      "Epoch 5/10\n",
      "48000/48000 [==============================] - 6s 119us/step - loss: 0.3515 - acc: 0.8702 - val_loss: 0.3520 - val_acc: 0.8722\n",
      "Epoch 6/10\n",
      "48000/48000 [==============================] - 5s 112us/step - loss: 0.3381 - acc: 0.8751 - val_loss: 0.3435 - val_acc: 0.8744\n",
      "Epoch 7/10\n",
      "48000/48000 [==============================] - 5s 107us/step - loss: 0.3264 - acc: 0.8775 - val_loss: 0.3510 - val_acc: 0.8688\n",
      "\n",
      "Test Accuracy: 86.28%\n",
      "Time elapsed: 39.26 sec\n"
     ]
    },
    {
     "data": {
      "image/png": "[encoded data removed]",
      "text/plain": [
       "<Figure size 576x360 with 1 Axes>"
      ]
     },
     "metadata": {
      "needs_background": "light"
     },
     "output_type": "display_data"
    }
   ],
   "source": [
    "# Early stopping\n",
    "cp = EarlyStopping(patience=1, restore_best_weights=True)\n",
    "\n",
    "# Start timer\n",
    "start = time.time()\n",
    "\n",
    "# Train model on training data\n",
    "history = nn_clf.fit(X_train_1D, y_train, batch_size=32, epochs=10, validation_split=0.2, callbacks=[cp], verbose=1)\n",
    "# Evaluate model on test data\n",
    "score = nn_clf.evaluate(X_test_1D, y_test, verbose=0)\n",
    "\n",
    "# Stop timer\n",
    "end = time.time()\n",
    "\n",
    "# Print results\n",
    "print(\"\\nTest Accuracy: {0:0.2f}%\".format(score[1] * 100))\n",
    "print(\"Time elapsed: {0:0.2f} sec\".format(end - start))\n",
    "\n",
    "# Plot training history\n",
    "pd.DataFrame(history.history).plot(figsize=(8, 5)) \n",
    "plt.grid(True)\n",
    "plt.gca().set_ylim(0, 1) # set the vertical range to [0-1] \n",
    "plt.show()"
   ]
  },
  {
   "cell_type": "markdown",
   "metadata": {},
   "source": [
    "<h2>Build ConvNet model</h2>"
   ]
  },
  {
   "cell_type": "code",
   "execution_count": 7,
   "metadata": {},
   "outputs": [
    {
     "name": "stdout",
     "output_type": "stream",
     "text": [
      "_________________________________________________________________\n",
      "Layer (type)                 Output Shape              Param #   \n",
      "=================================================================\n",
      "conv2d_1 (Conv2D)            (None, 24, 24, 32)        832       \n",
      "_________________________________________________________________\n",
      "max_pooling2d_1 (MaxPooling2 (None, 12, 12, 32)        0         \n",
      "_________________________________________________________________\n",
      "conv2d_2 (Conv2D)            (None, 8, 8, 32)          25632     \n",
      "_________________________________________________________________\n",
      "max_pooling2d_2 (MaxPooling2 (None, 4, 4, 32)          0         \n",
      "_________________________________________________________________\n",
      "flatten_1 (Flatten)          (None, 512)               0         \n",
      "_________________________________________________________________\n",
      "dense_5 (Dense)              (None, 256)               131328    \n",
      "_________________________________________________________________\n",
      "dropout_3 (Dropout)          (None, 256)               0         \n",
      "_________________________________________________________________\n",
      "dense_6 (Dense)              (None, 10)                2570      \n",
      "=================================================================\n",
      "Total params: 160,362\n",
      "Trainable params: 160,362\n",
      "Non-trainable params: 0\n",
      "_________________________________________________________________\n",
      "None\n"
     ]
    }
   ],
   "source": [
    "# Create ConvNet model\n",
    "cnn_clf = Sequential()\n",
    "# - Conv layers\n",
    "cnn_clf.add(Convolution2D(32, (5,5), activation=\"relu\", input_shape=(28,28,1)))\n",
    "cnn_clf.add(MaxPooling2D(pool_size=(2,2))) # reduces size to 14x14\n",
    "cnn_clf.add(Convolution2D(32, (5,5), activation=\"relu\"))\n",
    "cnn_clf.add(MaxPooling2D(pool_size=(2,2))) # reduces size to 7x7\n",
    "# - Fully connected layers\n",
    "cnn_clf.add(Flatten())\n",
    "cnn_clf.add(Dense(256, activation=\"relu\"))\n",
    "cnn_clf.add(Dropout(0.3))\n",
    "cnn_clf.add(Dense(10, activation=\"softmax\"))\n",
    "        \n",
    "# Compile model\n",
    "cnn_clf.compile(loss=\"categorical_crossentropy\", optimizer=\"adam\", metrics=[\"accuracy\"])\n",
    "print(cnn_clf.summary())"
   ]
  },
  {
   "cell_type": "markdown",
   "metadata": {},
   "source": [
    "<h2>Train and evaluate ConvNet model on test data</h2>"
   ]
  },
  {
   "cell_type": "code",
   "execution_count": 8,
   "metadata": {},
   "outputs": [
    {
     "name": "stdout",
     "output_type": "stream",
     "text": [
      "Train on 48000 samples, validate on 12000 samples\n",
      "Epoch 1/15\n",
      "48000/48000 [==============================] - 27s 564us/step - loss: 0.7443 - acc: 0.7321 - val_loss: 0.4700 - val_acc: 0.8295\n",
      "Epoch 2/15\n",
      "48000/48000 [==============================] - 27s 556us/step - loss: 0.4454 - acc: 0.8392 - val_loss: 0.3907 - val_acc: 0.8563\n",
      "Epoch 3/15\n",
      "48000/48000 [==============================] - 27s 556us/step - loss: 0.3774 - acc: 0.8637 - val_loss: 0.3572 - val_acc: 0.8716\n",
      "Epoch 4/15\n",
      "48000/48000 [==============================] - 26s 535us/step - loss: 0.3405 - acc: 0.8760 - val_loss: 0.3334 - val_acc: 0.8792\n",
      "Epoch 5/15\n",
      "48000/48000 [==============================] - 28s 592us/step - loss: 0.3161 - acc: 0.8841 - val_loss: 0.3069 - val_acc: 0.8900\n",
      "Epoch 6/15\n",
      "48000/48000 [==============================] - 26s 532us/step - loss: 0.2954 - acc: 0.8930 - val_loss: 0.2960 - val_acc: 0.8937\n",
      "Epoch 7/15\n",
      "48000/48000 [==============================] - 25s 523us/step - loss: 0.2814 - acc: 0.8974 - val_loss: 0.2849 - val_acc: 0.8977\n",
      "Epoch 8/15\n",
      "48000/48000 [==============================] - 25s 521us/step - loss: 0.2693 - acc: 0.9006 - val_loss: 0.2776 - val_acc: 0.8998\n",
      "Epoch 9/15\n",
      "48000/48000 [==============================] - 25s 525us/step - loss: 0.2512 - acc: 0.9088 - val_loss: 0.2684 - val_acc: 0.9024\n",
      "Epoch 10/15\n",
      "48000/48000 [==============================] - 25s 520us/step - loss: 0.2414 - acc: 0.9110 - val_loss: 0.2769 - val_acc: 0.9001\n",
      "\n",
      "Test Accuracy: 90.00%\n",
      "Time elapsed: 262.14 sec\n"
     ]
    },
    {
     "data": {
      "image/png": "[encoded data removed]",
      "text/plain": [
       "<Figure size 576x360 with 1 Axes>"
      ]
     },
     "metadata": {
      "needs_background": "light"
     },
     "output_type": "display_data"
    }
   ],
   "source": [
    "# Start timer\n",
    "start = time.time()\n",
    "\n",
    "# Store best model\n",
    "cp = EarlyStopping(patience=1, restore_best_weights=True)\n",
    "\n",
    "# Train model on training data\n",
    "# Note: uses 20% of the training set for validation\n",
    "history = cnn_clf.fit(X_train_2D, y_train, batch_size=256, epochs=15, validation_split=0.2, callbacks=[cp], verbose=1)\n",
    "# Evaluate model on test data\n",
    "score = cnn_clf.evaluate(X_test_2D, y_test, verbose=0)\n",
    "\n",
    "# Stop timer\n",
    "end = time.time()\n",
    "\n",
    "# Print results\n",
    "print(\"\\nTest Accuracy: {0:0.2f}%\".format(score[1] * 100))\n",
    "print(\"Time elapsed: {0:0.2f} sec\".format(end - start))\n",
    "\n",
    "# Plot training history\n",
    "pd.DataFrame(history.history).plot(figsize=(8, 5)) \n",
    "plt.grid(True)\n",
    "plt.gca().set_ylim(0, 1) # set the vertical range to [0-1] \n",
    "plt.show()"
   ]
  },
  {
   "cell_type": "markdown",
   "metadata": {},
   "source": [
    "<h2>Confusion matrix</h2>"
   ]
  },
  {
   "cell_type": "code",
   "execution_count": 9,
   "metadata": {},
   "outputs": [
    {
     "name": "stdout",
     "output_type": "stream",
     "text": [
      "[[858   0  15  17   4   1  98   0   7   0]\n",
      " [  2 973   0  18   2   0   3   0   2   0]\n",
      " [ 15   0 874  12  49   0  49   0   1   0]\n",
      " [ 14   2   7 924  16   0  35   0   2   0]\n",
      " [  1   0  88  41 803   0  66   0   1   0]\n",
      " [  0   0   0   0   0 970   0  14   0  16]\n",
      " [118   0  84  26  62   0 698   0  12   0]\n",
      " [  0   0   0   0   0  14   0 949   0  37]\n",
      " [  1   0   6   3   2   1   3   5 979   0]\n",
      " [  0   0   0   0   0   2   0  25   1 972]]\n"
     ]
    }
   ],
   "source": [
    "# Make predictions\n",
    "y_pred = cnn_clf.predict(X_test_2D)\n",
    "\n",
    "# Confusion matrix\n",
    "conf_mx = confusion_matrix(\n",
    "    np.argmax(y_test,axis=1), \n",
    "    np.argmax(y_pred, axis=1))\n",
    "print(conf_mx)"
   ]
  },
  {
   "cell_type": "markdown",
   "metadata": {},
   "source": [
    "<h2>Dimensionality Reduction</h2>"
   ]
  },
  {
   "cell_type": "code",
   "execution_count": 10,
   "metadata": {},
   "outputs": [
    {
     "name": "stdout",
     "output_type": "stream",
     "text": [
      "Training set: (60000, 187)\n",
      "Test set: (10000, 187)\n"
     ]
    }
   ],
   "source": [
    "from sklearn.decomposition import PCA\n",
    "\n",
    "# Create PCA\n",
    "pca = PCA(n_components=0.95)\n",
    "pca.fit(X_train_1D)\n",
    "# Reduce dimensionality on training and test sets\n",
    "X_train_1D_dr = pca.transform(X_train_1D)\n",
    "X_test_1D_dr = pca.transform(X_test_1D)\n",
    "# Show dataset shape\n",
    "print(\"Training set:\",X_train_1D_dr.shape)\n",
    "print(\"Test set:\",X_test_1D_dr.shape)"
   ]
  },
  {
   "cell_type": "markdown",
   "metadata": {},
   "source": [
    "<h2>Train and evaluate reduced dataset with a neural network</h2>"
   ]
  },
  {
   "cell_type": "code",
   "execution_count": 17,
   "metadata": {},
   "outputs": [
    {
     "name": "stdout",
     "output_type": "stream",
     "text": [
      "Train on 48000 samples, validate on 12000 samples\n",
      "Epoch 1/20\n",
      "48000/48000 [==============================] - 2s 34us/step - loss: 0.5486 - acc: 0.8133 - val_loss: 0.3823 - val_acc: 0.8636\n",
      "Epoch 2/20\n",
      "48000/48000 [==============================] - 1s 24us/step - loss: 0.3391 - acc: 0.8775 - val_loss: 0.3366 - val_acc: 0.8782\n",
      "Epoch 3/20\n",
      "48000/48000 [==============================] - 1s 23us/step - loss: 0.2963 - acc: 0.8917 - val_loss: 0.3204 - val_acc: 0.8830\n",
      "Epoch 4/20\n",
      "48000/48000 [==============================] - 1s 25us/step - loss: 0.2672 - acc: 0.9031 - val_loss: 0.3119 - val_acc: 0.8842\n",
      "Epoch 5/20\n",
      "48000/48000 [==============================] - 1s 24us/step - loss: 0.2446 - acc: 0.9114 - val_loss: 0.3106 - val_acc: 0.8863\n",
      "Epoch 6/20\n",
      "48000/48000 [==============================] - 1s 22us/step - loss: 0.2240 - acc: 0.9190 - val_loss: 0.3088 - val_acc: 0.8897\n",
      "Epoch 7/20\n",
      "48000/48000 [==============================] - 1s 25us/step - loss: 0.2051 - acc: 0.9256 - val_loss: 0.3084 - val_acc: 0.8929\n",
      "Epoch 8/20\n",
      "48000/48000 [==============================] - 1s 23us/step - loss: 0.1892 - acc: 0.9316 - val_loss: 0.3112 - val_acc: 0.8891\n",
      "Restoring model weights from the end of the best epoch\n",
      "Epoch 00008: early stopping\n",
      "\n",
      "Test Accuracy: 88.31%\n",
      "Time elapsed: 10.31 sec\n"
     ]
    },
    {
     "data": {
      "image/png": "[encoded data removed]",
      "text/plain": [
       "<Figure size 576x360 with 1 Axes>"
      ]
     },
     "metadata": {
      "needs_background": "light"
     },
     "output_type": "display_data"
    }
   ],
   "source": [
    "# Create Neural Net Softmax model\n",
    "snn_clf = Sequential()\n",
    "snn_clf.add(Dense(128, input_dim=187, activation=\"relu\"))\n",
    "nn_clf.add(Dropout(0.2))\n",
    "snn_clf.add(Dense(128, activation=\"relu\"))\n",
    "nn_clf.add(Dropout(0.2))\n",
    "snn_clf.add(Dense(10, activation=\"softmax\"))\n",
    "\n",
    "# Early stopping\n",
    "cp = EarlyStopping(patience=2, restore_best_weights=True)\n",
    "\n",
    "# Compile model\n",
    "snn_clf.compile(loss=\"categorical_crossentropy\", optimizer=\"adam\", metrics=[\"accuracy\"])\n",
    "\n",
    "# Start timer\n",
    "start = time.time()\n",
    "\n",
    "# Train model on training data\n",
    "history = snn_clf.fit(X_train_1D_dr, y_train, batch_size=128, epochs=20, validation_split=0.2, callbacks=[es], verbose=1)\n",
    "# Evaluate model on test data\n",
    "score = snn_clf.evaluate(X_test_1D_dr, y_test, verbose=0)\n",
    "\n",
    "# Stop timer\n",
    "end = time.time()\n",
    "\n",
    "# Print results\n",
    "print(\"\\nTest Accuracy: {0:0.2f}%\".format(score[1] * 100))\n",
    "print(\"Time elapsed: {0:0.2f} sec\".format(end - start))\n",
    "\n",
    "# Plot training history\n",
    "pd.DataFrame(history.history).plot(figsize=(8, 5)) \n",
    "plt.grid(True)\n",
    "plt.gca().set_ylim(0, 1) # set the vertical range to [0-1] \n",
    "plt.show()"
   ]
  },
  {
   "cell_type": "markdown",
   "metadata": {},
   "source": [
    "<h2>Predict examples</h2>"
   ]
  },
  {
   "cell_type": "code",
   "execution_count": 18,
   "metadata": {},
   "outputs": [
    {
     "name": "stdout",
     "output_type": "stream",
     "text": [
      "Predicted: Ankle boot\n",
      "Actual: Ankle boot\n"
     ]
    },
    {
     "data": {
      "image/png": "[encoded data removed]",
      "text/plain": [
       "<Figure size 432x288 with 1 Axes>"
      ]
     },
     "metadata": {
      "needs_background": "light"
     },
     "output_type": "display_data"
    },
    {
     "name": "stdout",
     "output_type": "stream",
     "text": [
      "Predicted: Pullover\n",
      "Actual: Pullover\n"
     ]
    },
    {
     "data": {
      "image/png": "[encoded data removed]",
      "text/plain": [
       "<Figure size 432x288 with 1 Axes>"
      ]
     },
     "metadata": {
      "needs_background": "light"
     },
     "output_type": "display_data"
    },
    {
     "name": "stdout",
     "output_type": "stream",
     "text": [
      "Predicted: Trouser\n",
      "Actual: Trouser\n"
     ]
    },
    {
     "data": {
      "image/png": "[encoded data removed]",
      "text/plain": [
       "<Figure size 432x288 with 1 Axes>"
      ]
     },
     "metadata": {
      "needs_background": "light"
     },
     "output_type": "display_data"
    }
   ],
   "source": [
    "class_names = [\"T-shirt/top\", \"Trouser\", \"Pullover\", \"Dress\", \"Coat\",\n",
    "                   \"Sandal\", \"Shirt\", \"Sneaker\", \"Bag\", \"Ankle boot\"]\n",
    "\n",
    "# Examples to classify\n",
    "examples = X_test_2D[:3]\n",
    "\n",
    "res = np.argmax(cnn_clf.predict(examples), axis=1)\n",
    "\n",
    "for i in range(0,len(res)):\n",
    "    print(\"Predicted:\",class_names[res[i]])\n",
    "    print(\"Actual:\",class_names[y_test_raw[i]])\n",
    "    plt.imshow(X_test[i], cmap=plt.cm.Blues)\n",
    "    plt.show()"
   ]
  },
  {
   "cell_type": "code",
   "execution_count": null,
   "metadata": {},
   "outputs": [],
   "source": []
  }
 ],
 "metadata": {
  "kernelspec": {
   "display_name": "Python 3",
   "language": "python",
   "name": "python3"
  },
  "language_info": {
   "codemirror_mode": {
    "name": "ipython",
    "version": 3
   },
   "file_extension": ".py",
   "mimetype": "text/x-python",
   "name": "python",
   "nbconvert_exporter": "python",
   "pygments_lexer": "ipython3",
   "version": "3.7.2"
  }
 },
 "nbformat": 4,
 "nbformat_minor": 2
}
