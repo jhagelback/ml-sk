{
 "cells": [
  {
   "cell_type": "markdown",
   "metadata": {},
   "source": [
    "<h2>Wikipedia Deep Learning with Word Embeddings</h2>\n",
    "A problem with text classification using word occurrences or frequencies is the high-dimensional, sparse input vectors. A way of dealing with this is mapping the input vectors to lower dimensions using word embeddings. Here we use the word embedding layer in Keras."
   ]
  },
  {
   "cell_type": "markdown",
   "metadata": {},
   "source": [
    "<h3>Imports</h3>"
   ]
  },
  {
   "cell_type": "code",
   "execution_count": 1,
   "metadata": {},
   "outputs": [
    {
     "name": "stdout",
     "output_type": "stream",
     "text": [
      "TF version: 2.2.0\n"
     ]
    }
   ],
   "source": [
    "import numpy as np\n",
    "import pandas as pd\n",
    "import time\n",
    "\n",
    "from sklearn.preprocessing import LabelEncoder\n",
    "from sklearn.model_selection import train_test_split\n",
    "\n",
    "import tensorflow as tf\n",
    "from tensorflow.keras.layers import Embedding\n",
    "from tensorflow.keras.preprocessing.sequence import pad_sequences\n",
    "from tensorflow.keras.preprocessing.text import Tokenizer\n",
    "from tensorflow.keras.models import Sequential \n",
    "from tensorflow.keras.layers import Flatten, Dense, Conv1D, MaxPooling1D, Dropout, GRU\n",
    "from tensorflow.keras.optimizers import Adam\n",
    "\n",
    "import matplotlib.pyplot as plt\n",
    "%matplotlib inline\n",
    "\n",
    "print(\"TF version:\", tf.__version__)"
   ]
  },
  {
   "cell_type": "markdown",
   "metadata": {},
   "source": [
    "<h3>Load data</h3>"
   ]
  },
  {
   "cell_type": "code",
   "execution_count": 2,
   "metadata": {},
   "outputs": [
    {
     "name": "stdout",
     "output_type": "stream",
     "text": [
      "Examples: 300\n"
     ]
    }
   ],
   "source": [
    "# Load data\n",
    "df = pd.read_csv(\"../data/wikipedia_300.csv\")\n",
    "np_data = df.values\n",
    "\n",
    "# Split data into X and y\n",
    "X_raw = np_data[:,0:-1]\n",
    "y_raw = np_data[:,-1]\n",
    "\n",
    "# Convert class label strings to integers\n",
    "encoder = LabelEncoder()\n",
    "encoder.fit(y_raw)\n",
    "y = encoder.transform(y_raw)\n",
    "\n",
    "# Flatten input matrix to vector\n",
    "X_raw = X_raw.ravel()\n",
    "\n",
    "print(\"Examples:\",X_raw.shape[0])"
   ]
  },
  {
   "cell_type": "markdown",
   "metadata": {},
   "source": [
    "<h3>Pre-process data</h3>"
   ]
  },
  {
   "cell_type": "code",
   "execution_count": 3,
   "metadata": {},
   "outputs": [
    {
     "name": "stdout",
     "output_type": "stream",
     "text": [
      "Vocabulary size: 51201\n",
      "Percentage of sequences covered by max length: 77.33%\n",
      "Embeddings size: 100\n"
     ]
    }
   ],
   "source": [
    "# Tokenize the inputs: Each word is assigned a unique id and the input text is converted \n",
    "# to a list of word id integers\n",
    "t = Tokenizer(num_words=None, filters='!\"#$%&()*+,-./:;<=>?@[\\\\]^_`{|}~\\t\\n', lower=True, split=' ', char_level=False, oov_token=None, document_count=0)\n",
    "t.fit_on_texts(X_raw)\n",
    "X = t.texts_to_sequences(X_raw)\n",
    "\n",
    "# Count number of unique words (vocabulary size)\n",
    "vocab_size = len(t.word_counts) + 1\n",
    "print(\"Vocabulary size: {}\".format(vocab_size))\n",
    "\n",
    "# Split data into train and test sets\n",
    "x_train, x_test, y_train, y_test = train_test_split(X, y, test_size=0.1, random_state=42)\n",
    "\n",
    "# Check how many examples that are covered by padding sequences on the specified number of words limit\n",
    "wmax = 0\n",
    "maxlen = 5000\n",
    "cnt_limit = 0\n",
    "for i in range(0,len(X)):\n",
    "    if len(X[i]) > wmax:\n",
    "        wmax = len(X[i])\n",
    "    if len(X[i]) > maxlen:\n",
    "        cnt_limit += 1\n",
    "\n",
    "print(\"Percentage of sequences covered by max length: {0:.2f}%\".format(100 - cnt_limit / len(X) * 100))\n",
    "\n",
    "# Pad input sequences to max length\n",
    "x_train = pad_sequences(x_train, maxlen=maxlen, padding=\"post\") \n",
    "x_test = pad_sequences(x_test, maxlen=maxlen, padding=\"post\")\n",
    "\n",
    "embedding_size = 100\n",
    "print(\"Embeddings size:\", embedding_size)"
   ]
  },
  {
   "cell_type": "markdown",
   "metadata": {},
   "source": [
    "<h3>Function for training and evaluating a network</h3>"
   ]
  },
  {
   "cell_type": "code",
   "execution_count": 4,
   "metadata": {},
   "outputs": [],
   "source": [
    "def train_and_evaluate(model, no_epochs=8):\n",
    "    # Train model\n",
    "    start = time.time()\n",
    "    history = model.fit(x_train, y_train, epochs=no_epochs, verbose=0, batch_size=32, validation_split=0.2)\n",
    "    end = time.time()\n",
    "    print(\"Training time: {0:.2f} sec\".format(end-start))\n",
    "    \n",
    "    # Plot training history\n",
    "    plt.plot(history.history[\"accuracy\"])\n",
    "    plt.plot(history.history[\"val_accuracy\"])\n",
    "    plt.ylabel(\"Accuracy\")\n",
    "    plt.xlabel(\"Epoch\")\n",
    "    plt.legend([\"train\", \"validation\"], loc=\"upper left\")\n",
    "    plt.show()\n",
    "\n",
    "    # Evaluate model on test data\n",
    "    score = model.evaluate(x_test, y_test, verbose=0)\n",
    "    # Print results\n",
    "    print(\"\\nTest Accuracy: {0:0.2f}%\".format(score[1] * 100))"
   ]
  },
  {
   "cell_type": "markdown",
   "metadata": {},
   "source": [
    "<h3>Linear classifier</h3>"
   ]
  },
  {
   "cell_type": "code",
   "execution_count": 6,
   "metadata": {
    "scrolled": true
   },
   "outputs": [
    {
     "name": "stdout",
     "output_type": "stream",
     "text": [
      "Training time: 6.13 sec\n"
     ]
    },
    {
     "data": {
      "image/png": "[encoded data removed]",
      "text/plain": [
       "<Figure size 432x288 with 1 Axes>"
      ]
     },
     "metadata": {
      "needs_background": "light"
     },
     "output_type": "display_data"
    },
    {
     "name": "stdout",
     "output_type": "stream",
     "text": [
      "\n",
      "Test Accuracy: 86.67%\n"
     ]
    }
   ],
   "source": [
    "model = Sequential()\n",
    "model.add(Embedding(input_dim=vocab_size, output_dim=embedding_size, input_length=maxlen))\n",
    "model.add(Flatten())\n",
    "model.add(Dense(1, activation=\"sigmoid\"))\n",
    "model.compile(loss=\"binary_crossentropy\", optimizer=Adam(learning_rate=0.001), metrics=[\"accuracy\"])\n",
    "\n",
    "train_and_evaluate(model, no_epochs=15)"
   ]
  },
  {
   "cell_type": "markdown",
   "metadata": {},
   "source": [
    "<h3>Neural Network classifier</h3>"
   ]
  },
  {
   "cell_type": "code",
   "execution_count": 7,
   "metadata": {},
   "outputs": [
    {
     "name": "stdout",
     "output_type": "stream",
     "text": [
      "Training time: 12.09 sec\n"
     ]
    },
    {
     "data": {
      "image/png": "[encoded data removed]",
      "text/plain": [
       "<Figure size 432x288 with 1 Axes>"
      ]
     },
     "metadata": {
      "needs_background": "light"
     },
     "output_type": "display_data"
    },
    {
     "name": "stdout",
     "output_type": "stream",
     "text": [
      "\n",
      "Test Accuracy: 96.67%\n"
     ]
    }
   ],
   "source": [
    "model = Sequential()\n",
    "model.add(Embedding(input_dim=vocab_size, output_dim=embedding_size, input_length=maxlen))\n",
    "model.add(Flatten())\n",
    "model.add(Dense(16, activation=\"relu\", kernel_initializer=\"he_normal\"))\n",
    "model.add(Dropout(0.2))\n",
    "model.add(Dense(1, activation=\"sigmoid\"))\n",
    "model.compile(loss=\"binary_crossentropy\", optimizer=Adam(learning_rate=0.001), metrics=[\"accuracy\"])\n",
    "\n",
    "train_and_evaluate(model, no_epochs=20)"
   ]
  },
  {
   "cell_type": "markdown",
   "metadata": {},
   "source": [
    "<h3>ConvNet classifier</h3>"
   ]
  },
  {
   "cell_type": "code",
   "execution_count": 8,
   "metadata": {
    "scrolled": false
   },
   "outputs": [
    {
     "name": "stdout",
     "output_type": "stream",
     "text": [
      "Training time: 31.23 sec\n"
     ]
    },
    {
     "data": {
      "image/png": "[encoded data removed]",
      "text/plain": [
       "<Figure size 432x288 with 1 Axes>"
      ]
     },
     "metadata": {
      "needs_background": "light"
     },
     "output_type": "display_data"
    },
    {
     "name": "stdout",
     "output_type": "stream",
     "text": [
      "\n",
      "Test Accuracy: 100.00%\n"
     ]
    }
   ],
   "source": [
    "model = Sequential()\n",
    "model.add(Embedding(input_dim=vocab_size, output_dim=embedding_size, input_length=maxlen))\n",
    "model.add(Conv1D(filters=64, kernel_size=8, padding=\"same\", activation=\"relu\", kernel_initializer=\"he_uniform\"))\n",
    "model.add(MaxPooling1D())\n",
    "model.add(Flatten())\n",
    "model.add(Dense(16, activation=\"relu\", kernel_initializer=\"he_uniform\"))\n",
    "model.add(Dropout(0.2))\n",
    "model.add(Dense(1, activation=\"sigmoid\"))\n",
    "model.compile(loss=\"binary_crossentropy\", optimizer=Adam(learning_rate=0.001), metrics=[\"accuracy\"])\n",
    "\n",
    "train_and_evaluate(model, no_epochs=12)"
   ]
  },
  {
   "cell_type": "markdown",
   "metadata": {},
   "source": [
    "<h3>Recurrent CNN+GRU classifier</h3>"
   ]
  },
  {
   "cell_type": "code",
   "execution_count": 9,
   "metadata": {},
   "outputs": [
    {
     "name": "stdout",
     "output_type": "stream",
     "text": [
      "Training time: 102.98 sec\n"
     ]
    },
    {
     "data": {
      "image/png": "[encoded data removed]",
      "text/plain": [
       "<Figure size 432x288 with 1 Axes>"
      ]
     },
     "metadata": {
      "needs_background": "light"
     },
     "output_type": "display_data"
    },
    {
     "name": "stdout",
     "output_type": "stream",
     "text": [
      "\n",
      "Test Accuracy: 100.00%\n"
     ]
    }
   ],
   "source": [
    "model = Sequential()\n",
    "# Embedding layer\n",
    "model.add(Embedding(input_dim=vocab_size, output_dim=embedding_size, input_length=maxlen))\n",
    "# ConvNet layer\n",
    "model.add(Conv1D(filters=32, kernel_size=5, padding=\"same\", activation=\"relu\", kernel_initializer=\"he_uniform\"))\n",
    "model.add(MaxPooling1D())\n",
    "# Recurrent layer using GRU\n",
    "model.add(GRU(16, return_sequences=True, dropout=0.2, recurrent_dropout=0.2))\n",
    "# Fully connected layer\n",
    "model.add(Flatten())\n",
    "model.add(Dense(16, activation=\"relu\", kernel_initializer=\"he_uniform\"))\n",
    "model.add(Dropout(0.4))\n",
    "model.add(Dense(1, activation=\"sigmoid\"))\n",
    "\n",
    "model.compile(loss=\"binary_crossentropy\", optimizer=\"adam\", metrics=[\"accuracy\"])\n",
    "\n",
    "train_and_evaluate(model, no_epochs=6)"
   ]
  },
  {
   "cell_type": "markdown",
   "metadata": {},
   "source": [
    "<h3>Pre-trained GloVe word embeddings</h3>\n",
    "\n",
    "See <a href=\"https://machinelearningmastery.com/use-word-embedding-layers-deep-learning-keras/\">https://machinelearningmastery.com/use-word-embedding-layers-deep-learning-keras/</a> for more info.\n",
    "\n",
    "You need to download and unzip the <em>glove.6b.zip</em> file from <a href=\"https://nlp.stanford.edu/projects/glove/\">https://nlp.stanford.edu/projects/glove/</a>."
   ]
  },
  {
   "cell_type": "code",
   "execution_count": 8,
   "metadata": {},
   "outputs": [
    {
     "name": "stdout",
     "output_type": "stream",
     "text": [
      "Loaded 400000 word vectors\n",
      "18814 (36.75%) words missing in embedding\n"
     ]
    }
   ],
   "source": [
    "# Load the embedding into memory\n",
    "embeddings_index = dict()\n",
    "f = open(\"glove/glove.6B.100d.txt\")\n",
    "for line in f:\n",
    "    values = line.split()\n",
    "    word = values[0]\n",
    "    coefs = np.asarray(values[1:], dtype=\"float32\")\n",
    "    embeddings_index[word] = coefs\n",
    "f.close()\n",
    "print(\"Loaded {0} word vectors\".format(len(embeddings_index)))\n",
    "\n",
    "# Create a weight matrix for all words in the training set\n",
    "mcnt = 0\n",
    "tcnt = 0\n",
    "embedding_matrix = np.zeros((vocab_size, 100))\n",
    "for word, i in t.word_index.items():\n",
    "    tcnt += 1\n",
    "    embedding_vector = embeddings_index.get(word)\n",
    "    if embedding_vector is not None:\n",
    "        embedding_matrix[i] = embedding_vector\n",
    "    else:\n",
    "        mcnt += 1\n",
    "print(\"{0} ({1:.2f}%) words missing in embedding\".format(mcnt, mcnt/tcnt*100))"
   ]
  },
  {
   "cell_type": "code",
   "execution_count": 9,
   "metadata": {},
   "outputs": [
    {
     "name": "stdout",
     "output_type": "stream",
     "text": [
      "Training time: 23.41 sec\n"
     ]
    },
    {
     "data": {
      "image/png": "[encoded data removed]",
      "text/plain": [
       "<Figure size 432x288 with 1 Axes>"
      ]
     },
     "metadata": {
      "needs_background": "light"
     },
     "output_type": "display_data"
    },
    {
     "name": "stdout",
     "output_type": "stream",
     "text": [
      "\n",
      "Test Accuracy: 93.33%\n"
     ]
    }
   ],
   "source": [
    "model = Sequential()\n",
    "model.add(Embedding(input_dim=vocab_size, output_dim=100, input_length=maxlen, weights=[embedding_matrix], trainable=False))\n",
    "model.add(Conv1D(filters=64, kernel_size=8, padding=\"same\", activation=\"relu\"))\n",
    "model.add(MaxPooling1D())\n",
    "model.add(Flatten())\n",
    "model.add(Dense(16, activation=\"relu\"))\n",
    "model.add(Dropout(0.2))\n",
    "model.add(Dense(1, activation=\"sigmoid\"))\n",
    "model.compile(loss=\"binary_crossentropy\", optimizer=Adam(learning_rate=0.001), metrics=[\"accuracy\"])\n",
    "\n",
    "train_and_evaluate(model, no_epochs=12)"
   ]
  },
  {
   "cell_type": "code",
   "execution_count": null,
   "metadata": {},
   "outputs": [],
   "source": []
  }
 ],
 "metadata": {
  "kernelspec": {
   "display_name": "Python 3",
   "language": "python",
   "name": "python3"
  },
  "language_info": {
   "codemirror_mode": {
    "name": "ipython",
    "version": 3
   },
   "file_extension": ".py",
   "mimetype": "text/x-python",
   "name": "python",
   "nbconvert_exporter": "python",
   "pygments_lexer": "ipython3",
   "version": "3.7.6"
  }
 },
 "nbformat": 4,
 "nbformat_minor": 2
}
