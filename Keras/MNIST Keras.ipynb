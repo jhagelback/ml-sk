{
 "cells": [
  {
   "cell_type": "markdown",
   "metadata": {},
   "source": [
    "<h2>MNIST dataset in Keras library</h2>"
   ]
  },
  {
   "cell_type": "markdown",
   "metadata": {},
   "source": [
    "## Imports"
   ]
  },
  {
   "cell_type": "code",
   "execution_count": 1,
   "metadata": {},
   "outputs": [
    {
     "name": "stdout",
     "output_type": "stream",
     "text": [
      "TensorFlow version: 2.2.0\n"
     ]
    }
   ],
   "source": [
    "# - TensorFlow\n",
    "import tensorflow as tf\n",
    "# - Dataset\n",
    "from tensorflow.keras.datasets import mnist\n",
    "# - Helper libraries\n",
    "import numpy as np\n",
    "import pandas as pd\n",
    "import time\n",
    "from sklearn.metrics import confusion_matrix\n",
    "from sklearn.decomposition import PCA\n",
    "from tensorflow.keras.utils import to_categorical\n",
    "# - Graph plots\n",
    "%matplotlib inline\n",
    "from matplotlib import pyplot as plt\n",
    "# - Keras models and layers\n",
    "from tensorflow.keras.models import Sequential\n",
    "from tensorflow.keras.layers import Dense, Flatten, Dropout, BatchNormalization, Convolution2D, MaxPooling2D\n",
    "\n",
    "# Print some stuff\n",
    "print(\"TensorFlow version:\", tf.__version__)"
   ]
  },
  {
   "cell_type": "markdown",
   "metadata": {},
   "source": [
    "<h2>Load data</h2>"
   ]
  },
  {
   "cell_type": "code",
   "execution_count": 2,
   "metadata": {},
   "outputs": [
    {
     "name": "stdout",
     "output_type": "stream",
     "text": [
      "Training instances: 60000\n",
      "Test instances: 10000\n",
      "\n",
      "Structure of training set: (60000, 28, 28)\n",
      "Structure of labels set: (60000, 10)\n"
     ]
    }
   ],
   "source": [
    "# Load pre-shuffled MNIST data into train and test sets\n",
    "(X_train, y_train_raw), (X_test, y_test_raw) = mnist.load_data()\n",
    "\n",
    "# Convert to float values and normalize between 0...1\n",
    "X_train = X_train.astype(\"float32\")\n",
    "X_test = X_test.astype(\"float32\")\n",
    "X_train /= 255 \n",
    "X_test /= 255\n",
    "\n",
    "# Preprocess class labels\n",
    "# Convert labels to 10-dimensional one-hot vectors\n",
    "y_train = to_categorical(y_train_raw, 10)\n",
    "y_test = to_categorical(y_test_raw, 10)\n",
    "\n",
    "print(\"Training instances: {}\".format(X_train.shape[0]))\n",
    "print(\"Test instances: {}\".format(X_test.shape[0]))\n",
    "print()\n",
    "print(\"Structure of training set: {}\".format(X_train.shape))\n",
    "print(\"Structure of labels set: {}\".format(y_train.shape))"
   ]
  },
  {
   "cell_type": "markdown",
   "metadata": {},
   "source": [
    "<h2>Pre-process data for 1D or 2D inputs</h2>"
   ]
  },
  {
   "cell_type": "code",
   "execution_count": 3,
   "metadata": {},
   "outputs": [
    {
     "name": "stdout",
     "output_type": "stream",
     "text": [
      "1D shape: (60000, 784)\n",
      "2D shape: (60000, 28, 28, 1)\n"
     ]
    }
   ],
   "source": [
    "# Preprocess for 1D input data\n",
    "X_train_1D = X_train.reshape(X_train.shape[0], 784)\n",
    "X_test_1D = X_test.reshape(X_test.shape[0], 784)\n",
    "print(\"1D shape:\", X_train_1D.shape)\n",
    "\n",
    "# Preprocess for 2D input data\n",
    "X_train_2D = X_train.reshape(X_train.shape[0], 28, 28, 1)\n",
    "X_test_2D = X_test.reshape(X_test.shape[0], 28, 28, 1)\n",
    "print(\"2D shape:\", X_train_2D.shape)"
   ]
  },
  {
   "cell_type": "markdown",
   "metadata": {},
   "source": [
    "## Linear model"
   ]
  },
  {
   "cell_type": "code",
   "execution_count": 4,
   "metadata": {},
   "outputs": [
    {
     "name": "stdout",
     "output_type": "stream",
     "text": [
      "Epoch 1/6\n",
      "844/844 [==============================] - 1s 1ms/step - loss: 0.5758 - accuracy: 0.8542 - val_loss: 0.2993 - val_accuracy: 0.9238\n",
      "Epoch 2/6\n",
      "844/844 [==============================] - 1s 944us/step - loss: 0.3371 - accuracy: 0.9063 - val_loss: 0.2581 - val_accuracy: 0.9295\n",
      "Epoch 3/6\n",
      "844/844 [==============================] - 1s 929us/step - loss: 0.3063 - accuracy: 0.9143 - val_loss: 0.2438 - val_accuracy: 0.9340\n",
      "Epoch 4/6\n",
      "844/844 [==============================] - 1s 931us/step - loss: 0.2913 - accuracy: 0.9184 - val_loss: 0.2379 - val_accuracy: 0.9355\n",
      "Epoch 5/6\n",
      "844/844 [==============================] - 1s 980us/step - loss: 0.2822 - accuracy: 0.9212 - val_loss: 0.2311 - val_accuracy: 0.9375\n",
      "Epoch 6/6\n",
      "844/844 [==============================] - 1s 913us/step - loss: 0.2755 - accuracy: 0.9223 - val_loss: 0.2293 - val_accuracy: 0.9353\n",
      "\n",
      "Test Accuracy: 92.56%\n",
      "Time elapsed: 5.43 sec\n"
     ]
    },
    {
     "data": {
      "image/png": "[encoded data removed]",
      "text/plain": [
       "<Figure size 432x288 with 1 Axes>"
      ]
     },
     "metadata": {
      "needs_background": "light"
     },
     "output_type": "display_data"
    }
   ],
   "source": [
    "# Create Linear Softmax model\n",
    "lin_clf = Sequential()\n",
    "lin_clf.add(Dense(10, input_dim=784, activation=\"softmax\"))\n",
    "\n",
    "# Compile model\n",
    "lin_clf.compile(loss=\"categorical_crossentropy\", optimizer=\"adam\", metrics=[\"accuracy\"])\n",
    "\n",
    "# Start timer\n",
    "start = time.time()\n",
    "\n",
    "# Train model on training data\n",
    "history = lin_clf.fit(X_train_1D, y_train, batch_size=64, epochs=6, validation_split=0.1, verbose=1)\n",
    "# Evaluate model on test data\n",
    "score = lin_clf.evaluate(X_test_1D, y_test, verbose=0)\n",
    "\n",
    "# Stop timer\n",
    "end = time.time()\n",
    "\n",
    "# Print results\n",
    "print(\"\\nTest Accuracy: {0:0.2f}%\".format(score[1] * 100))\n",
    "print(\"Time elapsed: {0:0.2f} sec\".format(end - start))\n",
    "\n",
    "# Plot training history\n",
    "plt.plot(history.history['loss'])\n",
    "plt.plot(history.history['val_loss'])\n",
    "plt.title('model loss')\n",
    "plt.ylabel('loss')\n",
    "plt.xlabel('epoch')\n",
    "plt.legend(['train', 'test'], loc='upper left')\n",
    "plt.show()"
   ]
  },
  {
   "cell_type": "markdown",
   "metadata": {},
   "source": [
    "## NN model"
   ]
  },
  {
   "cell_type": "code",
   "execution_count": 5,
   "metadata": {},
   "outputs": [
    {
     "name": "stdout",
     "output_type": "stream",
     "text": [
      "Epoch 1/6\n",
      "844/844 [==============================] - 1s 2ms/step - loss: 0.3592 - accuracy: 0.8915 - val_loss: 0.1153 - val_accuracy: 0.9663\n",
      "Epoch 2/6\n",
      "844/844 [==============================] - 1s 2ms/step - loss: 0.1671 - accuracy: 0.9495 - val_loss: 0.0893 - val_accuracy: 0.9738\n",
      "Epoch 3/6\n",
      "844/844 [==============================] - 1s 1ms/step - loss: 0.1251 - accuracy: 0.9612 - val_loss: 0.0764 - val_accuracy: 0.9785\n",
      "Epoch 4/6\n",
      "844/844 [==============================] - 1s 1ms/step - loss: 0.1050 - accuracy: 0.9676 - val_loss: 0.0763 - val_accuracy: 0.9763\n",
      "Epoch 5/6\n",
      "844/844 [==============================] - 1s 1ms/step - loss: 0.0869 - accuracy: 0.9729 - val_loss: 0.0684 - val_accuracy: 0.9802\n",
      "Epoch 6/6\n",
      "844/844 [==============================] - 1s 1ms/step - loss: 0.0820 - accuracy: 0.9734 - val_loss: 0.0640 - val_accuracy: 0.9803\n",
      "\n",
      "Test Accuracy: 97.80%\n",
      "Time elapsed: 8.26 sec\n"
     ]
    },
    {
     "data": {
      "image/png": "[encoded data removed]",
      "text/plain": [
       "<Figure size 432x288 with 1 Axes>"
      ]
     },
     "metadata": {
      "needs_background": "light"
     },
     "output_type": "display_data"
    }
   ],
   "source": [
    "# Create Neural Net Softmax model\n",
    "nn_clf = Sequential()\n",
    "# - first Dense\n",
    "nn_clf.add(Dense(128, input_dim=784, activation=\"relu\", kernel_initializer=\"normal\"))\n",
    "nn_clf.add(Dropout(0.2))\n",
    "# - second Dense\n",
    "nn_clf.add(Dense(128, activation=\"relu\", kernel_initializer=\"he_normal\"))\n",
    "nn_clf.add(Dropout(0.2))\n",
    "# - output\n",
    "nn_clf.add(Dense(10, activation=\"softmax\"))\n",
    "\n",
    "# Compile model\n",
    "nn_clf.compile(loss=\"categorical_crossentropy\", optimizer=\"adam\", metrics=[\"accuracy\"])\n",
    "\n",
    "# Start timer\n",
    "start = time.time()\n",
    "\n",
    "# Train model on training data\n",
    "history = nn_clf.fit(X_train_1D, y_train, batch_size=64, epochs=6, validation_split=0.1, verbose=1)\n",
    "# Evaluate model on test data\n",
    "score = nn_clf.evaluate(X_test_1D, y_test, verbose=0)\n",
    "\n",
    "# Stop timer\n",
    "end = time.time()\n",
    "\n",
    "# Print results\n",
    "print(\"\\nTest Accuracy: {0:0.2f}%\".format(score[1] * 100))\n",
    "print(\"Time elapsed: {0:0.2f} sec\".format(end - start))\n",
    "\n",
    "# Plot training history\n",
    "plt.plot(history.history['loss'])\n",
    "plt.plot(history.history['val_loss'])\n",
    "plt.title('model loss')\n",
    "plt.ylabel('loss')\n",
    "plt.xlabel('epoch')\n",
    "plt.legend(['train', 'test'], loc='upper left')\n",
    "plt.show()"
   ]
  },
  {
   "cell_type": "markdown",
   "metadata": {},
   "source": [
    "## ConvNet model"
   ]
  },
  {
   "cell_type": "code",
   "execution_count": 6,
   "metadata": {},
   "outputs": [
    {
     "name": "stdout",
     "output_type": "stream",
     "text": [
      "Epoch 1/8\n",
      "844/844 [==============================] - 23s 28ms/step - loss: 0.3128 - accuracy: 0.9006 - val_loss: 0.0642 - val_accuracy: 0.9807\n",
      "Epoch 2/8\n",
      "844/844 [==============================] - 24s 28ms/step - loss: 0.1066 - accuracy: 0.9665 - val_loss: 0.0517 - val_accuracy: 0.9850\n",
      "Epoch 3/8\n",
      "844/844 [==============================] - 23s 28ms/step - loss: 0.0840 - accuracy: 0.9742 - val_loss: 0.0406 - val_accuracy: 0.9873\n",
      "Epoch 4/8\n",
      "844/844 [==============================] - 24s 28ms/step - loss: 0.0697 - accuracy: 0.9786 - val_loss: 0.0346 - val_accuracy: 0.9903\n",
      "Epoch 5/8\n",
      "844/844 [==============================] - 23s 27ms/step - loss: 0.0609 - accuracy: 0.9805 - val_loss: 0.0328 - val_accuracy: 0.9905\n",
      "Epoch 6/8\n",
      "844/844 [==============================] - 23s 28ms/step - loss: 0.0548 - accuracy: 0.9825 - val_loss: 0.0314 - val_accuracy: 0.9905\n",
      "Epoch 7/8\n",
      "844/844 [==============================] - 23s 28ms/step - loss: 0.0514 - accuracy: 0.9841 - val_loss: 0.0313 - val_accuracy: 0.9900\n",
      "Epoch 8/8\n",
      "844/844 [==============================] - 23s 27ms/step - loss: 0.0459 - accuracy: 0.9853 - val_loss: 0.0305 - val_accuracy: 0.9913\n",
      "\n",
      "Test Accuracy: 99.11%\n",
      "Time elapsed: 188.06 sec\n"
     ]
    },
    {
     "data": {
      "image/png": "[encoded data removed]",
      "text/plain": [
       "<Figure size 432x288 with 1 Axes>"
      ]
     },
     "metadata": {
      "needs_background": "light"
     },
     "output_type": "display_data"
    }
   ],
   "source": [
    "# Create ConvNet model\n",
    "cnn_clf = Sequential()\n",
    "# - first conv/pool \n",
    "cnn_clf.add(Convolution2D(32, (3,3), input_shape=(28,28,1), activation=\"relu\", padding=\"same\", kernel_initializer=\"normal\"))\n",
    "cnn_clf.add(MaxPooling2D(pool_size=(2,2))) # reduces size to 14x14\n",
    "cnn_clf.add(Dropout(0.3))\n",
    "# - second conv/pool\n",
    "cnn_clf.add(Convolution2D(32, (3,3), activation=\"relu\", padding=\"same\", kernel_initializer=\"he_uniform\"))\n",
    "cnn_clf.add(MaxPooling2D(pool_size=(2,2))) # reduces size to 7x7\n",
    "cnn_clf.add(Dropout(0.3))\n",
    "# - fully connected\n",
    "cnn_clf.add(Flatten())\n",
    "cnn_clf.add(Dense(128, activation=\"relu\"))\n",
    "cnn_clf.add(Dropout(0.3))\n",
    "# - output\n",
    "cnn_clf.add(Dense(10, activation=\"softmax\"))\n",
    "\n",
    "# Compile model\n",
    "cnn_clf.compile(loss=\"categorical_crossentropy\", optimizer=\"adam\", metrics=[\"accuracy\"])\n",
    "\n",
    "# Start timer\n",
    "start = time.time()\n",
    "\n",
    "# Train model on training data\n",
    "history = cnn_clf.fit(X_train_2D, y_train, batch_size=64, epochs=8, validation_split=0.1, verbose=1)\n",
    "# Evaluate model on test data\n",
    "score = cnn_clf.evaluate(X_test_2D, y_test, verbose=0)\n",
    "\n",
    "# Stop timer\n",
    "end = time.time()\n",
    "\n",
    "# Print results\n",
    "print(\"\\nTest Accuracy: {0:0.2f}%\".format(score[1] * 100))\n",
    "print(\"Time elapsed: {0:0.2f} sec\".format(end - start))\n",
    "\n",
    "# Plot training history\n",
    "plt.plot(history.history['loss'])\n",
    "plt.plot(history.history['val_loss'])\n",
    "plt.title('model loss')\n",
    "plt.ylabel('loss')\n",
    "plt.xlabel('epoch')\n",
    "plt.legend(['train', 'test'], loc='upper left')\n",
    "plt.show()"
   ]
  },
  {
   "cell_type": "markdown",
   "metadata": {},
   "source": [
    "## Confusion matrix"
   ]
  },
  {
   "cell_type": "code",
   "execution_count": 9,
   "metadata": {},
   "outputs": [
    {
     "name": "stdout",
     "output_type": "stream",
     "text": [
      "[[ 979    0    0    0    0    0    0    1    0    0]\n",
      " [   0 1131    1    1    0    0    1    1    0    0]\n",
      " [   1    2 1013    0    4    0    0   12    0    0]\n",
      " [   0    0    1 1004    0    2    0    3    0    0]\n",
      " [   0    0    0    0  977    0    1    0    0    4]\n",
      " [   2    0    0    2    0  886    2    0    0    0]\n",
      " [   4    2    0    0    1    6  945    0    0    0]\n",
      " [   0    0    1    1    0    0    0 1024    1    1]\n",
      " [   5    1    2    1    1    2    0    3  956    3]\n",
      " [   0    2    0    1    5    3    0    4    0  994]]\n"
     ]
    }
   ],
   "source": [
    "# Make predictions\n",
    "y_pred = cnn_clf.predict(X_test_2D)\n",
    "\n",
    "# Confusion matrix\n",
    "conf_mx = confusion_matrix(\n",
    "    np.argmax(y_test,axis=1),\n",
    "    np.argmax(y_pred, axis=1))\n",
    "print(conf_mx)"
   ]
  },
  {
   "cell_type": "markdown",
   "metadata": {},
   "source": [
    "## Dimensionality Reduction"
   ]
  },
  {
   "cell_type": "code",
   "execution_count": 10,
   "metadata": {},
   "outputs": [
    {
     "name": "stdout",
     "output_type": "stream",
     "text": [
      "Training set: (60000, 154)\n",
      "Test set: (10000, 154)\n"
     ]
    }
   ],
   "source": [
    "# Create PCA\n",
    "pca = PCA(n_components=0.95)\n",
    "pca.fit(X_train_1D)\n",
    "# Reduce dimensionality on training and test sets\n",
    "X_train_1D_dr = pca.transform(X_train_1D)\n",
    "X_test_1D_dr = pca.transform(X_test_1D)\n",
    "# Show dataset shape\n",
    "print(\"Training set:\",X_train_1D_dr.shape)\n",
    "print(\"Test set:\",X_test_1D_dr.shape)"
   ]
  },
  {
   "cell_type": "markdown",
   "metadata": {},
   "source": [
    "## NN model on reduced dataset"
   ]
  },
  {
   "cell_type": "code",
   "execution_count": 12,
   "metadata": {},
   "outputs": [
    {
     "name": "stdout",
     "output_type": "stream",
     "text": [
      "Train on 54000 samples, validate on 6000 samples\n",
      "Epoch 1/8\n",
      "54000/54000 [==============================] - 2s 46us/sample - loss: 0.3946 - accuracy: 0.8868 - val_loss: 0.1260 - val_accuracy: 0.9632\n",
      "Epoch 2/8\n",
      "54000/54000 [==============================] - 2s 38us/sample - loss: 0.1682 - accuracy: 0.9492 - val_loss: 0.0871 - val_accuracy: 0.9755\n",
      "Epoch 3/8\n",
      "54000/54000 [==============================] - 2s 38us/sample - loss: 0.1249 - accuracy: 0.9618 - val_loss: 0.0752 - val_accuracy: 0.9793\n",
      "Epoch 4/8\n",
      "54000/54000 [==============================] - 2s 38us/sample - loss: 0.1015 - accuracy: 0.9683 - val_loss: 0.0731 - val_accuracy: 0.9787\n",
      "Epoch 5/8\n",
      "54000/54000 [==============================] - 2s 38us/sample - loss: 0.0882 - accuracy: 0.9724 - val_loss: 0.0688 - val_accuracy: 0.9802\n",
      "Epoch 6/8\n",
      "54000/54000 [==============================] - 2s 38us/sample - loss: 0.0777 - accuracy: 0.9747 - val_loss: 0.0684 - val_accuracy: 0.9792\n",
      "Epoch 7/8\n",
      "54000/54000 [==============================] - 2s 40us/sample - loss: 0.0702 - accuracy: 0.9774 - val_loss: 0.0640 - val_accuracy: 0.9817\n",
      "Epoch 8/8\n",
      "54000/54000 [==============================] - 2s 39us/sample - loss: 0.0632 - accuracy: 0.9798 - val_loss: 0.0657 - val_accuracy: 0.9805\n",
      "\n",
      "Test Accuracy: 97.86%\n",
      "Time elapsed: 17.46 sec\n"
     ]
    },
    {
     "data": {
      "image/png": "[encoded data removed]",
      "text/plain": [
       "<Figure size 432x288 with 1 Axes>"
      ]
     },
     "metadata": {
      "needs_background": "light"
     },
     "output_type": "display_data"
    }
   ],
   "source": [
    "# Create Neural Net Softmax model for the reduced size dataset\n",
    "snn_clf = Sequential()\n",
    "# - first Dense\n",
    "snn_clf.add(Dense(128, input_dim=154, activation=\"relu\", kernel_initializer=\"normal\"))\n",
    "snn_clf.add(Dropout(0.2))\n",
    "# - second Dense\n",
    "snn_clf.add(Dense(128, activation=\"relu\", kernel_initializer=\"normal\"))\n",
    "snn_clf.add(Dropout(0.2))\n",
    "# - output\n",
    "snn_clf.add(Dense(10, activation=\"softmax\"))\n",
    "\n",
    "# Compile model\n",
    "snn_clf.compile(loss=\"categorical_crossentropy\", optimizer=\"adam\", metrics=[\"accuracy\"])\n",
    "\n",
    "# Start timer\n",
    "start = time.time()\n",
    "\n",
    "# Train model on training data\n",
    "history = snn_clf.fit(X_train_1D_dr, y_train, batch_size=64, epochs=8, validation_split=0.1, verbose=1)\n",
    "# Evaluate model on test data\n",
    "score = snn_clf.evaluate(X_test_1D_dr, y_test, verbose=0)\n",
    "\n",
    "# Stop timer\n",
    "end = time.time()\n",
    "\n",
    "# Print results\n",
    "print(\"\\nTest Accuracy: {0:0.2f}%\".format(score[1] * 100))\n",
    "print(\"Time elapsed: {0:0.2f} sec\".format(end - start))\n",
    "\n",
    "# Plot training history\n",
    "plt.plot(history.history['loss'])\n",
    "plt.plot(history.history['val_loss'])\n",
    "plt.title('model loss')\n",
    "plt.ylabel('loss')\n",
    "plt.xlabel('epoch')\n",
    "plt.legend(['train', 'test'], loc='upper left')\n",
    "plt.show()"
   ]
  },
  {
   "cell_type": "markdown",
   "metadata": {},
   "source": [
    "<h2>Predict examples</h2>"
   ]
  },
  {
   "cell_type": "code",
   "execution_count": 13,
   "metadata": {},
   "outputs": [
    {
     "name": "stdout",
     "output_type": "stream",
     "text": [
      "Predicted: 7\n",
      "Actual: 7\n"
     ]
    },
    {
     "data": {
      "image/png": "[encoded data removed]",
      "text/plain": [
       "<Figure size 432x288 with 1 Axes>"
      ]
     },
     "metadata": {
      "needs_background": "light"
     },
     "output_type": "display_data"
    },
    {
     "name": "stdout",
     "output_type": "stream",
     "text": [
      "Predicted: 2\n",
      "Actual: 2\n"
     ]
    },
    {
     "data": {
      "image/png": "[encoded data removed]",
      "text/plain": [
       "<Figure size 432x288 with 1 Axes>"
      ]
     },
     "metadata": {
      "needs_background": "light"
     },
     "output_type": "display_data"
    },
    {
     "name": "stdout",
     "output_type": "stream",
     "text": [
      "Predicted: 1\n",
      "Actual: 1\n"
     ]
    },
    {
     "data": {
      "image/png": "[encoded data removed]",
      "text/plain": [
       "<Figure size 432x288 with 1 Axes>"
      ]
     },
     "metadata": {
      "needs_background": "light"
     },
     "output_type": "display_data"
    }
   ],
   "source": [
    "# Examples to classify\n",
    "examples = X_test_2D[:3]\n",
    "\n",
    "res = np.argmax(cnn_clf.predict(examples), axis=1)\n",
    "\n",
    "for i in range(0,len(res)):\n",
    "    print(\"Predicted:\",res[i])\n",
    "    print(\"Actual:\",y_test_raw[i])\n",
    "    plt.imshow(X_test[i], cmap=plt.cm.Blues)\n",
    "    plt.show()"
   ]
  },
  {
   "cell_type": "code",
   "execution_count": null,
   "metadata": {},
   "outputs": [],
   "source": []
  }
 ],
 "metadata": {
  "kernelspec": {
   "display_name": "Python 3",
   "language": "python",
   "name": "python3"
  },
  "language_info": {
   "codemirror_mode": {
    "name": "ipython",
    "version": 3
   },
   "file_extension": ".py",
   "mimetype": "text/x-python",
   "name": "python",
   "nbconvert_exporter": "python",
   "pygments_lexer": "ipython3",
   "version": "3.7.6"
  }
 },
 "nbformat": 4,
 "nbformat_minor": 2
}
