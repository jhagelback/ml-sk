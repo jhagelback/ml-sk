{
 "cells": [
  {
   "cell_type": "markdown",
   "metadata": {},
   "source": [
    "<h2>MNIST dataset in Keras library</h2>"
   ]
  },
  {
   "cell_type": "markdown",
   "metadata": {},
   "source": [
    "## Imports"
   ]
  },
  {
   "cell_type": "code",
   "execution_count": 1,
   "metadata": {},
   "outputs": [
    {
     "name": "stdout",
     "output_type": "stream",
     "text": [
      "TensorFlow version: 2.0.0\n"
     ]
    }
   ],
   "source": [
    "# - TensorFlow\n",
    "import tensorflow as tf\n",
    "# - Dataset\n",
    "from tensorflow.keras.datasets import mnist\n",
    "# - Helper libraries\n",
    "import numpy as np\n",
    "import pandas as pd\n",
    "import time\n",
    "from sklearn.metrics import confusion_matrix\n",
    "from sklearn.decomposition import PCA\n",
    "from tensorflow.keras.utils import to_categorical\n",
    "# - Graph plots\n",
    "%matplotlib inline\n",
    "from matplotlib import pyplot as plt\n",
    "# - Keras models and layers\n",
    "from tensorflow.keras.models import Sequential\n",
    "from tensorflow.keras.layers import Dense, Flatten, Dropout, BatchNormalization, Convolution2D, MaxPooling2D\n",
    "\n",
    "# Print some stuff\n",
    "print(\"TensorFlow version:\", tf.__version__)"
   ]
  },
  {
   "cell_type": "markdown",
   "metadata": {},
   "source": [
    "<h2>Load data</h2>"
   ]
  },
  {
   "cell_type": "code",
   "execution_count": 3,
   "metadata": {},
   "outputs": [
    {
     "name": "stdout",
     "output_type": "stream",
     "text": [
      "Training instances: 60000\n",
      "Test instances: 10000\n",
      "\n",
      "Structure of training set: (60000, 28, 28)\n",
      "Structure of labels set: (60000, 10)\n"
     ]
    }
   ],
   "source": [
    "# Load pre-shuffled MNIST data into train and test sets\n",
    "(X_train, y_train_raw), (X_test, y_test_raw) = mnist.load_data()\n",
    "\n",
    "# Convert to float values and normalize between 0...1\n",
    "X_train = X_train.astype(\"float32\")\n",
    "X_test = X_test.astype(\"float32\")\n",
    "X_train /= 255 \n",
    "X_test /= 255\n",
    "\n",
    "# Preprocess class labels\n",
    "# Convert labels to 10-dimensional one-hot vectors\n",
    "y_train = to_categorical(y_train_raw, 10)\n",
    "y_test = to_categorical(y_test_raw, 10)\n",
    "\n",
    "print(\"Training instances: {}\".format(X_train.shape[0]))\n",
    "print(\"Test instances: {}\".format(X_test.shape[0]))\n",
    "print()\n",
    "print(\"Structure of training set: {}\".format(X_train.shape))\n",
    "print(\"Structure of labels set: {}\".format(y_train.shape))"
   ]
  },
  {
   "cell_type": "markdown",
   "metadata": {},
   "source": [
    "<h2>Pre-process data for 1D or 2D inputs</h2>"
   ]
  },
  {
   "cell_type": "code",
   "execution_count": 4,
   "metadata": {},
   "outputs": [
    {
     "name": "stdout",
     "output_type": "stream",
     "text": [
      "1D shape: (60000, 784)\n",
      "2D shape: (60000, 28, 28, 1)\n"
     ]
    }
   ],
   "source": [
    "# Preprocess for 1D input data\n",
    "X_train_1D = X_train.reshape(X_train.shape[0], 784)\n",
    "X_test_1D = X_test.reshape(X_test.shape[0], 784)\n",
    "print(\"1D shape:\", X_train_1D.shape)\n",
    "\n",
    "# Preprocess for 2D input data\n",
    "X_train_2D = X_train.reshape(X_train.shape[0], 28, 28, 1)\n",
    "X_test_2D = X_test.reshape(X_test.shape[0], 28, 28, 1)\n",
    "print(\"2D shape:\", X_train_2D.shape)"
   ]
  },
  {
   "cell_type": "markdown",
   "metadata": {},
   "source": [
    "## Linear model"
   ]
  },
  {
   "cell_type": "code",
   "execution_count": 5,
   "metadata": {},
   "outputs": [
    {
     "name": "stdout",
     "output_type": "stream",
     "text": [
      "Train on 54000 samples, validate on 6000 samples\n",
      "Epoch 1/6\n",
      "54000/54000 [==============================] - 3s 63us/sample - loss: 0.5756 - accuracy: 0.8558 - val_loss: 0.2978 - val_accuracy: 0.9210\n",
      "Epoch 2/6\n",
      "54000/54000 [==============================] - 2s 45us/sample - loss: 0.3366 - accuracy: 0.9073 - val_loss: 0.2583 - val_accuracy: 0.9278\n",
      "Epoch 3/6\n",
      "54000/54000 [==============================] - 2s 46us/sample - loss: 0.3058 - accuracy: 0.9150 - val_loss: 0.2456 - val_accuracy: 0.9318\n",
      "Epoch 4/6\n",
      "54000/54000 [==============================] - 2s 45us/sample - loss: 0.2906 - accuracy: 0.9188 - val_loss: 0.2360 - val_accuracy: 0.9360\n",
      "Epoch 5/6\n",
      "54000/54000 [==============================] - 2s 44us/sample - loss: 0.2818 - accuracy: 0.9212 - val_loss: 0.2322 - val_accuracy: 0.9373\n",
      "Epoch 6/6\n",
      "54000/54000 [==============================] - 2s 43us/sample - loss: 0.2755 - accuracy: 0.9231 - val_loss: 0.2318 - val_accuracy: 0.9378\n",
      "\n",
      "Test Accuracy: 92.58%\n",
      "Time elapsed: 16.05 sec\n"
     ]
    },
    {
     "data": {
      "image/png": "[encoded data removed]",
      "text/plain": [
       "<Figure size 432x288 with 1 Axes>"
      ]
     },
     "metadata": {
      "needs_background": "light"
     },
     "output_type": "display_data"
    }
   ],
   "source": [
    "# Create Linear Softmax model\n",
    "lin_clf = Sequential()\n",
    "lin_clf.add(Dense(10, input_dim=784, activation=\"softmax\"))\n",
    "\n",
    "# Compile model\n",
    "lin_clf.compile(loss=\"categorical_crossentropy\", optimizer=\"adam\", metrics=[\"accuracy\"])\n",
    "\n",
    "# Start timer\n",
    "start = time.time()\n",
    "\n",
    "# Train model on training data\n",
    "history = lin_clf.fit(X_train_1D, y_train, batch_size=64, epochs=6, validation_split=0.1, verbose=1)\n",
    "# Evaluate model on test data\n",
    "score = lin_clf.evaluate(X_test_1D, y_test, verbose=0)\n",
    "\n",
    "# Stop timer\n",
    "end = time.time()\n",
    "\n",
    "# Print results\n",
    "print(\"\\nTest Accuracy: {0:0.2f}%\".format(score[1] * 100))\n",
    "print(\"Time elapsed: {0:0.2f} sec\".format(end - start))\n",
    "\n",
    "# Plot training history\n",
    "plt.plot(history.history['loss'])\n",
    "plt.plot(history.history['val_loss'])\n",
    "plt.title('model loss')\n",
    "plt.ylabel('loss')\n",
    "plt.xlabel('epoch')\n",
    "plt.legend(['train', 'test'], loc='upper left')\n",
    "plt.show()"
   ]
  },
  {
   "cell_type": "markdown",
   "metadata": {},
   "source": [
    "## NN model"
   ]
  },
  {
   "cell_type": "code",
   "execution_count": 7,
   "metadata": {},
   "outputs": [
    {
     "name": "stdout",
     "output_type": "stream",
     "text": [
      "Train on 54000 samples, validate on 6000 samples\n",
      "Epoch 1/6\n",
      "54000/54000 [==============================] - 4s 79us/sample - loss: 0.3618 - accuracy: 0.8918 - val_loss: 0.1279 - val_accuracy: 0.9617\n",
      "Epoch 2/6\n",
      "54000/54000 [==============================] - 3s 64us/sample - loss: 0.1640 - accuracy: 0.9504 - val_loss: 0.0876 - val_accuracy: 0.9740\n",
      "Epoch 3/6\n",
      "54000/54000 [==============================] - 4s 68us/sample - loss: 0.1209 - accuracy: 0.9635 - val_loss: 0.0725 - val_accuracy: 0.9783\n",
      "Epoch 4/6\n",
      "54000/54000 [==============================] - 5s 87us/sample - loss: 0.0994 - accuracy: 0.9690 - val_loss: 0.0727 - val_accuracy: 0.9792\n",
      "Epoch 5/6\n",
      "54000/54000 [==============================] - 5s 87us/sample - loss: 0.0850 - accuracy: 0.9729 - val_loss: 0.0721 - val_accuracy: 0.9787\n",
      "Epoch 6/6\n",
      "54000/54000 [==============================] - 5s 84us/sample - loss: 0.0748 - accuracy: 0.9765 - val_loss: 0.0700 - val_accuracy: 0.9797\n",
      "\n",
      "Test Accuracy: 97.67%\n",
      "Time elapsed: 26.02 sec\n"
     ]
    },
    {
     "data": {
      "image/png": "[encoded data removed]",
      "text/plain": [
       "<Figure size 432x288 with 1 Axes>"
      ]
     },
     "metadata": {
      "needs_background": "light"
     },
     "output_type": "display_data"
    }
   ],
   "source": [
    "# Create Neural Net Softmax model\n",
    "nn_clf = Sequential()\n",
    "# - first Dense\n",
    "nn_clf.add(Dense(128, input_dim=784, activation=\"relu\", kernel_initializer=\"normal\"))\n",
    "nn_clf.add(Dropout(0.2))\n",
    "# - second Dense\n",
    "nn_clf.add(Dense(128, activation=\"relu\", kernel_initializer=\"normal\"))\n",
    "nn_clf.add(Dropout(0.2))\n",
    "# - output\n",
    "nn_clf.add(Dense(10, activation=\"softmax\"))\n",
    "\n",
    "# Compile model\n",
    "nn_clf.compile(loss=\"categorical_crossentropy\", optimizer=\"adam\", metrics=[\"accuracy\"])\n",
    "\n",
    "# Start timer\n",
    "start = time.time()\n",
    "\n",
    "# Train model on training data\n",
    "history = nn_clf.fit(X_train_1D, y_train, batch_size=64, epochs=6, validation_split=0.1, verbose=1)\n",
    "# Evaluate model on test data\n",
    "score = nn_clf.evaluate(X_test_1D, y_test, verbose=0)\n",
    "\n",
    "# Stop timer\n",
    "end = time.time()\n",
    "\n",
    "# Print results\n",
    "print(\"\\nTest Accuracy: {0:0.2f}%\".format(score[1] * 100))\n",
    "print(\"Time elapsed: {0:0.2f} sec\".format(end - start))\n",
    "\n",
    "# Plot training history\n",
    "plt.plot(history.history['loss'])\n",
    "plt.plot(history.history['val_loss'])\n",
    "plt.title('model loss')\n",
    "plt.ylabel('loss')\n",
    "plt.xlabel('epoch')\n",
    "plt.legend(['train', 'test'], loc='upper left')\n",
    "plt.show()"
   ]
  },
  {
   "cell_type": "markdown",
   "metadata": {},
   "source": [
    "## ConvNet model"
   ]
  },
  {
   "cell_type": "code",
   "execution_count": 8,
   "metadata": {},
   "outputs": [
    {
     "name": "stdout",
     "output_type": "stream",
     "text": [
      "Train on 54000 samples, validate on 6000 samples\n",
      "Epoch 1/8\n",
      "54000/54000 [==============================] - 61s 1ms/sample - loss: 0.3251 - accuracy: 0.8964 - val_loss: 0.0676 - val_accuracy: 0.9815\n",
      "Epoch 2/8\n",
      "54000/54000 [==============================] - 61s 1ms/sample - loss: 0.1126 - accuracy: 0.9649 - val_loss: 0.0522 - val_accuracy: 0.9853\n",
      "Epoch 3/8\n",
      "54000/54000 [==============================] - 52s 970us/sample - loss: 0.0837 - accuracy: 0.9744 - val_loss: 0.0389 - val_accuracy: 0.9905\n",
      "Epoch 4/8\n",
      "54000/54000 [==============================] - 53s 973us/sample - loss: 0.0703 - accuracy: 0.9782 - val_loss: 0.0365 - val_accuracy: 0.9913\n",
      "Epoch 5/8\n",
      "54000/54000 [==============================] - 53s 981us/sample - loss: 0.0593 - accuracy: 0.9812 - val_loss: 0.0363 - val_accuracy: 0.9898\n",
      "Epoch 6/8\n",
      "54000/54000 [==============================] - 52s 971us/sample - loss: 0.0541 - accuracy: 0.9827 - val_loss: 0.0326 - val_accuracy: 0.9903\n",
      "Epoch 7/8\n",
      "54000/54000 [==============================] - 53s 979us/sample - loss: 0.0484 - accuracy: 0.9847 - val_loss: 0.0293 - val_accuracy: 0.9917\n",
      "Epoch 8/8\n",
      "54000/54000 [==============================] - 53s 974us/sample - loss: 0.0436 - accuracy: 0.9865 - val_loss: 0.0290 - val_accuracy: 0.9918\n",
      "\n",
      "Test Accuracy: 99.09%\n",
      "Time elapsed: 440.29 sec\n"
     ]
    },
    {
     "data": {
      "image/png": "[encoded data removed]",
      "text/plain": [
       "<Figure size 432x288 with 1 Axes>"
      ]
     },
     "metadata": {
      "needs_background": "light"
     },
     "output_type": "display_data"
    }
   ],
   "source": [
    "# Create ConvNet model\n",
    "cnn_clf = Sequential()\n",
    "# - first conv/pool \n",
    "cnn_clf.add(Convolution2D(32, (3,3), input_shape=(28,28,1), activation=\"relu\", padding=\"same\", kernel_initializer=\"normal\"))\n",
    "cnn_clf.add(MaxPooling2D(pool_size=(2,2))) # reduces size to 14x14\n",
    "cnn_clf.add(Dropout(0.3))\n",
    "# - second conv/pool\n",
    "cnn_clf.add(Convolution2D(32, (3,3), activation=\"relu\", padding=\"same\", kernel_initializer=\"normal\"))\n",
    "cnn_clf.add(MaxPooling2D(pool_size=(2,2))) # reduces size to 7x7\n",
    "cnn_clf.add(Dropout(0.3))\n",
    "# - fully connected\n",
    "cnn_clf.add(Flatten())\n",
    "cnn_clf.add(Dense(128, activation=\"relu\"))\n",
    "cnn_clf.add(Dropout(0.3))\n",
    "# - output\n",
    "cnn_clf.add(Dense(10, activation=\"softmax\"))\n",
    "\n",
    "# Compile model\n",
    "cnn_clf.compile(loss=\"categorical_crossentropy\", optimizer=\"adam\", metrics=[\"accuracy\"])\n",
    "\n",
    "# Start timer\n",
    "start = time.time()\n",
    "\n",
    "# Train model on training data\n",
    "history = cnn_clf.fit(X_train_2D, y_train, batch_size=64, epochs=8, validation_split=0.1, verbose=1)\n",
    "# Evaluate model on test data\n",
    "score = cnn_clf.evaluate(X_test_2D, y_test, verbose=0)\n",
    "\n",
    "# Stop timer\n",
    "end = time.time()\n",
    "\n",
    "# Print results\n",
    "print(\"\\nTest Accuracy: {0:0.2f}%\".format(score[1] * 100))\n",
    "print(\"Time elapsed: {0:0.2f} sec\".format(end - start))\n",
    "\n",
    "# Plot training history\n",
    "plt.plot(history.history['loss'])\n",
    "plt.plot(history.history['val_loss'])\n",
    "plt.title('model loss')\n",
    "plt.ylabel('loss')\n",
    "plt.xlabel('epoch')\n",
    "plt.legend(['train', 'test'], loc='upper left')\n",
    "plt.show()"
   ]
  },
  {
   "cell_type": "markdown",
   "metadata": {},
   "source": [
    "## Confusion matrix"
   ]
  },
  {
   "cell_type": "code",
   "execution_count": 9,
   "metadata": {},
   "outputs": [
    {
     "name": "stdout",
     "output_type": "stream",
     "text": [
      "[[ 979    0    0    0    0    0    0    1    0    0]\n",
      " [   0 1131    1    1    0    0    1    1    0    0]\n",
      " [   1    2 1013    0    4    0    0   12    0    0]\n",
      " [   0    0    1 1004    0    2    0    3    0    0]\n",
      " [   0    0    0    0  977    0    1    0    0    4]\n",
      " [   2    0    0    2    0  886    2    0    0    0]\n",
      " [   4    2    0    0    1    6  945    0    0    0]\n",
      " [   0    0    1    1    0    0    0 1024    1    1]\n",
      " [   5    1    2    1    1    2    0    3  956    3]\n",
      " [   0    2    0    1    5    3    0    4    0  994]]\n"
     ]
    }
   ],
   "source": [
    "# Make predictions\n",
    "y_pred = cnn_clf.predict(X_test_2D)\n",
    "\n",
    "# Confusion matrix\n",
    "conf_mx = confusion_matrix(\n",
    "    np.argmax(y_test,axis=1),\n",
    "    np.argmax(y_pred, axis=1))\n",
    "print(conf_mx)"
   ]
  },
  {
   "cell_type": "markdown",
   "metadata": {},
   "source": [
    "## Dimensionality Reduction"
   ]
  },
  {
   "cell_type": "code",
   "execution_count": 10,
   "metadata": {},
   "outputs": [
    {
     "name": "stdout",
     "output_type": "stream",
     "text": [
      "Training set: (60000, 154)\n",
      "Test set: (10000, 154)\n"
     ]
    }
   ],
   "source": [
    "# Create PCA\n",
    "pca = PCA(n_components=0.95)\n",
    "pca.fit(X_train_1D)\n",
    "# Reduce dimensionality on training and test sets\n",
    "X_train_1D_dr = pca.transform(X_train_1D)\n",
    "X_test_1D_dr = pca.transform(X_test_1D)\n",
    "# Show dataset shape\n",
    "print(\"Training set:\",X_train_1D_dr.shape)\n",
    "print(\"Test set:\",X_test_1D_dr.shape)"
   ]
  },
  {
   "cell_type": "markdown",
   "metadata": {},
   "source": [
    "## NN model on reduced dataset"
   ]
  },
  {
   "cell_type": "code",
   "execution_count": 12,
   "metadata": {},
   "outputs": [
    {
     "name": "stdout",
     "output_type": "stream",
     "text": [
      "Train on 54000 samples, validate on 6000 samples\n",
      "Epoch 1/8\n",
      "54000/54000 [==============================] - 2s 46us/sample - loss: 0.3946 - accuracy: 0.8868 - val_loss: 0.1260 - val_accuracy: 0.9632\n",
      "Epoch 2/8\n",
      "54000/54000 [==============================] - 2s 38us/sample - loss: 0.1682 - accuracy: 0.9492 - val_loss: 0.0871 - val_accuracy: 0.9755\n",
      "Epoch 3/8\n",
      "54000/54000 [==============================] - 2s 38us/sample - loss: 0.1249 - accuracy: 0.9618 - val_loss: 0.0752 - val_accuracy: 0.9793\n",
      "Epoch 4/8\n",
      "54000/54000 [==============================] - 2s 38us/sample - loss: 0.1015 - accuracy: 0.9683 - val_loss: 0.0731 - val_accuracy: 0.9787\n",
      "Epoch 5/8\n",
      "54000/54000 [==============================] - 2s 38us/sample - loss: 0.0882 - accuracy: 0.9724 - val_loss: 0.0688 - val_accuracy: 0.9802\n",
      "Epoch 6/8\n",
      "54000/54000 [==============================] - 2s 38us/sample - loss: 0.0777 - accuracy: 0.9747 - val_loss: 0.0684 - val_accuracy: 0.9792\n",
      "Epoch 7/8\n",
      "54000/54000 [==============================] - 2s 40us/sample - loss: 0.0702 - accuracy: 0.9774 - val_loss: 0.0640 - val_accuracy: 0.9817\n",
      "Epoch 8/8\n",
      "54000/54000 [==============================] - 2s 39us/sample - loss: 0.0632 - accuracy: 0.9798 - val_loss: 0.0657 - val_accuracy: 0.9805\n",
      "\n",
      "Test Accuracy: 97.86%\n",
      "Time elapsed: 17.46 sec\n"
     ]
    },
    {
     "data": {
      "image/png": "[encoded data removed]",
      "text/plain": [
       "<Figure size 432x288 with 1 Axes>"
      ]
     },
     "metadata": {
      "needs_background": "light"
     },
     "output_type": "display_data"
    }
   ],
   "source": [
    "# Create Neural Net Softmax model for the reduced size dataset\n",
    "snn_clf = Sequential()\n",
    "# - first Dense\n",
    "snn_clf.add(Dense(128, input_dim=154, activation=\"relu\", kernel_initializer=\"normal\"))\n",
    "snn_clf.add(Dropout(0.2))\n",
    "# - second Dense\n",
    "snn_clf.add(Dense(128, activation=\"relu\", kernel_initializer=\"normal\"))\n",
    "snn_clf.add(Dropout(0.2))\n",
    "# - output\n",
    "snn_clf.add(Dense(10, activation=\"softmax\"))\n",
    "\n",
    "# Compile model\n",
    "snn_clf.compile(loss=\"categorical_crossentropy\", optimizer=\"adam\", metrics=[\"accuracy\"])\n",
    "\n",
    "# Start timer\n",
    "start = time.time()\n",
    "\n",
    "# Train model on training data\n",
    "history = snn_clf.fit(X_train_1D_dr, y_train, batch_size=64, epochs=8, validation_split=0.1, verbose=1)\n",
    "# Evaluate model on test data\n",
    "score = snn_clf.evaluate(X_test_1D_dr, y_test, verbose=0)\n",
    "\n",
    "# Stop timer\n",
    "end = time.time()\n",
    "\n",
    "# Print results\n",
    "print(\"\\nTest Accuracy: {0:0.2f}%\".format(score[1] * 100))\n",
    "print(\"Time elapsed: {0:0.2f} sec\".format(end - start))\n",
    "\n",
    "# Plot training history\n",
    "plt.plot(history.history['loss'])\n",
    "plt.plot(history.history['val_loss'])\n",
    "plt.title('model loss')\n",
    "plt.ylabel('loss')\n",
    "plt.xlabel('epoch')\n",
    "plt.legend(['train', 'test'], loc='upper left')\n",
    "plt.show()"
   ]
  },
  {
   "cell_type": "markdown",
   "metadata": {},
   "source": [
    "<h2>Predict examples</h2>"
   ]
  },
  {
   "cell_type": "code",
   "execution_count": 13,
   "metadata": {},
   "outputs": [
    {
     "name": "stdout",
     "output_type": "stream",
     "text": [
      "Predicted: 7\n",
      "Actual: 7\n"
     ]
    },
    {
     "data": {
      "image/png": "[encoded data removed]",
      "text/plain": [
       "<Figure size 432x288 with 1 Axes>"
      ]
     },
     "metadata": {
      "needs_background": "light"
     },
     "output_type": "display_data"
    },
    {
     "name": "stdout",
     "output_type": "stream",
     "text": [
      "Predicted: 2\n",
      "Actual: 2\n"
     ]
    },
    {
     "data": {
      "image/png": "[encoded data removed]",
      "text/plain": [
       "<Figure size 432x288 with 1 Axes>"
      ]
     },
     "metadata": {
      "needs_background": "light"
     },
     "output_type": "display_data"
    },
    {
     "name": "stdout",
     "output_type": "stream",
     "text": [
      "Predicted: 1\n",
      "Actual: 1\n"
     ]
    },
    {
     "data": {
      "image/png": "[encoded data removed]",
      "text/plain": [
       "<Figure size 432x288 with 1 Axes>"
      ]
     },
     "metadata": {
      "needs_background": "light"
     },
     "output_type": "display_data"
    }
   ],
   "source": [
    "# Examples to classify\n",
    "examples = X_test_2D[:3]\n",
    "\n",
    "res = np.argmax(cnn_clf.predict(examples), axis=1)\n",
    "\n",
    "for i in range(0,len(res)):\n",
    "    print(\"Predicted:\",res[i])\n",
    "    print(\"Actual:\",y_test_raw[i])\n",
    "    plt.imshow(X_test[i], cmap=plt.cm.Blues)\n",
    "    plt.show()"
   ]
  },
  {
   "cell_type": "code",
   "execution_count": null,
   "metadata": {},
   "outputs": [],
   "source": []
  }
 ],
 "metadata": {
  "kernelspec": {
   "display_name": "Python 3",
   "language": "python",
   "name": "python3"
  },
  "language_info": {
   "codemirror_mode": {
    "name": "ipython",
    "version": 3
   },
   "file_extension": ".py",
   "mimetype": "text/x-python",
   "name": "python",
   "nbconvert_exporter": "python",
   "pygments_lexer": "ipython3",
   "version": "3.7.3"
  }
 },
 "nbformat": 4,
 "nbformat_minor": 2
}
