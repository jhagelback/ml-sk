{
 "cells": [
  {
   "cell_type": "markdown",
   "metadata": {},
   "source": [
    "<h2>MNIST dataset in Keras library</h2>"
   ]
  },
  {
   "cell_type": "markdown",
   "metadata": {},
   "source": [
    "<h2>Load data</h2>"
   ]
  },
  {
   "cell_type": "code",
   "execution_count": 15,
   "metadata": {},
   "outputs": [
    {
     "name": "stdout",
     "output_type": "stream",
     "text": [
      "Training instances: 60000\n",
      "Test instances: 10000\n",
      "\n",
      "Structure of training set: (60000, 28, 28)\n",
      "Structure of labels set: (60000, 10)\n"
     ]
    }
   ],
   "source": [
    "# Imports\n",
    "# - Dataset\n",
    "from keras.datasets import mnist\n",
    "# - Helper libraries\n",
    "import numpy as np\n",
    "import pandas as pd\n",
    "import time\n",
    "from sklearn.metrics import confusion_matrix\n",
    "from keras.utils import np_utils\n",
    "# - Graph plots\n",
    "%matplotlib inline\n",
    "from matplotlib import pyplot as plt\n",
    "# - Keras models and layers\n",
    "from keras.models import Sequential\n",
    "from keras.layers import Dense, Flatten, Dropout, BatchNormalization, Flatten, Convolution2D, MaxPooling2D\n",
    "from keras.callbacks import EarlyStopping\n",
    "\n",
    "# Ignore warnings\n",
    "import tensorflow as tf\n",
    "tf.logging.set_verbosity(tf.logging.ERROR)\n",
    "\n",
    "# Load pre-shuffled MNIST data into train and test sets\n",
    "(X_train, y_train_raw), (X_test, y_test_raw) = mnist.load_data()\n",
    "\n",
    "# Convert to float values and normalize between 0...1\n",
    "X_train = X_train.astype(\"float32\")\n",
    "X_test = X_test.astype(\"float32\")\n",
    "X_train /= 255 \n",
    "X_test /= 255\n",
    "\n",
    "# Preprocess class labels\n",
    "# Convert labels to 10-dimensional one-hot vectors\n",
    "y_train = np_utils.to_categorical(y_train_raw, 10)\n",
    "y_test = np_utils.to_categorical(y_test_raw, 10)\n",
    "\n",
    "print(\"Training instances: {}\".format(X_train.shape[0]))\n",
    "print(\"Test instances: {}\".format(X_test.shape[0]))\n",
    "print()\n",
    "print(\"Structure of training set: {}\".format(X_train.shape))\n",
    "print(\"Structure of labels set: {}\".format(y_train.shape))"
   ]
  },
  {
   "cell_type": "markdown",
   "metadata": {},
   "source": [
    "<h2>Pre-process data for 1D or 2D inputs</h2>"
   ]
  },
  {
   "cell_type": "code",
   "execution_count": 3,
   "metadata": {},
   "outputs": [
    {
     "name": "stdout",
     "output_type": "stream",
     "text": [
      "1D shape: (60000, 784)\n",
      "2D shape: (60000, 28, 28, 1)\n"
     ]
    }
   ],
   "source": [
    "# Preprocess for 1D input data\n",
    "X_train_1D = X_train.reshape(X_train.shape[0], 784)\n",
    "X_test_1D = X_test.reshape(X_test.shape[0], 784)\n",
    "print(\"1D shape:\", X_train_1D.shape)\n",
    "\n",
    "# Preprocess for 2D input data\n",
    "X_train_2D = X_train.reshape(X_train.shape[0], 28, 28, 1)\n",
    "X_test_2D = X_test.reshape(X_test.shape[0], 28, 28, 1)\n",
    "print(\"2D shape:\", X_train_2D.shape)"
   ]
  },
  {
   "cell_type": "markdown",
   "metadata": {},
   "source": [
    "<h2>Build Linear model</h2>"
   ]
  },
  {
   "cell_type": "code",
   "execution_count": 4,
   "metadata": {},
   "outputs": [
    {
     "name": "stdout",
     "output_type": "stream",
     "text": [
      "_________________________________________________________________\n",
      "Layer (type)                 Output Shape              Param #   \n",
      "=================================================================\n",
      "dense_1 (Dense)              (None, 10)                7850      \n",
      "=================================================================\n",
      "Total params: 7,850\n",
      "Trainable params: 7,850\n",
      "Non-trainable params: 0\n",
      "_________________________________________________________________\n",
      "None\n"
     ]
    }
   ],
   "source": [
    "# Create Linear Softmax model\n",
    "lin_clf = Sequential()\n",
    "lin_clf.add(Dense(10, input_dim=784, activation=\"softmax\"))\n",
    "\n",
    "# Compile model\n",
    "lin_clf.compile(loss=\"categorical_crossentropy\", optimizer=\"adam\", metrics=[\"accuracy\"])\n",
    "print(lin_clf.summary())"
   ]
  },
  {
   "cell_type": "markdown",
   "metadata": {},
   "source": [
    "<h2>Train and evaluate Linear model on test data</h2>"
   ]
  },
  {
   "cell_type": "code",
   "execution_count": 5,
   "metadata": {},
   "outputs": [
    {
     "name": "stdout",
     "output_type": "stream",
     "text": [
      "Epoch 1/8\n",
      "60000/60000 [==============================] - 2s 34us/step - loss: 0.4718 - acc: 0.8769\n",
      "Epoch 2/8\n",
      "60000/60000 [==============================] - 2s 31us/step - loss: 0.3042 - acc: 0.9155\n",
      "Epoch 3/8\n",
      "60000/60000 [==============================] - 2s 32us/step - loss: 0.2831 - acc: 0.9204\n",
      "Epoch 4/8\n",
      "60000/60000 [==============================] - 2s 30us/step - loss: 0.2730 - acc: 0.9238\n",
      "Epoch 5/8\n",
      "60000/60000 [==============================] - 2s 30us/step - loss: 0.2668 - acc: 0.9260\n",
      "Epoch 6/8\n",
      "60000/60000 [==============================] - 2s 31us/step - loss: 0.2619 - acc: 0.9270\n",
      "Epoch 7/8\n",
      "60000/60000 [==============================] - 2s 37us/step - loss: 0.2578 - acc: 0.9288\n",
      "Epoch 8/8\n",
      "60000/60000 [==============================] - 2s 41us/step - loss: 0.2556 - acc: 0.9300\n",
      "\n",
      "Test Accuracy: 92.87%\n",
      "Time elapsed: 16.27 sec\n"
     ]
    }
   ],
   "source": [
    "# Start timer\n",
    "start = time.time()\n",
    "\n",
    "# Train model on training data\n",
    "lin_clf.fit(X_train_1D, y_train, batch_size=32, epochs=8, verbose=1)\n",
    "# Evaluate model on test data\n",
    "score = lin_clf.evaluate(X_test_1D, y_test, verbose=0)\n",
    "\n",
    "# Stop timer\n",
    "end = time.time()\n",
    "\n",
    "# Print results\n",
    "print(\"\\nTest Accuracy: {0:0.2f}%\".format(score[1] * 100))\n",
    "print(\"Time elapsed: {0:0.2f} sec\".format(end - start))"
   ]
  },
  {
   "cell_type": "markdown",
   "metadata": {},
   "source": [
    "<h2>Build Neural Net model</h2>"
   ]
  },
  {
   "cell_type": "code",
   "execution_count": 27,
   "metadata": {},
   "outputs": [
    {
     "name": "stdout",
     "output_type": "stream",
     "text": [
      "_________________________________________________________________\n",
      "Layer (type)                 Output Shape              Param #   \n",
      "=================================================================\n",
      "dense_24 (Dense)             (None, 128)               100480    \n",
      "_________________________________________________________________\n",
      "dropout_17 (Dropout)         (None, 128)               0         \n",
      "_________________________________________________________________\n",
      "dense_25 (Dense)             (None, 128)               16512     \n",
      "_________________________________________________________________\n",
      "dropout_18 (Dropout)         (None, 128)               0         \n",
      "_________________________________________________________________\n",
      "dense_26 (Dense)             (None, 10)                1290      \n",
      "=================================================================\n",
      "Total params: 118,282\n",
      "Trainable params: 118,282\n",
      "Non-trainable params: 0\n",
      "_________________________________________________________________\n",
      "None\n"
     ]
    }
   ],
   "source": [
    "# Create Neural Net Softmax model\n",
    "nn_clf = Sequential()\n",
    "# - first Dense\n",
    "nn_clf.add(Dense(128, input_dim=784, activation=\"elu\", kernel_initializer=\"he_normal\"))\n",
    "nn_clf.add(Dropout(0.2))\n",
    "# - second Dense\n",
    "nn_clf.add(Dense(128, activation=\"elu\", kernel_initializer=\"he_normal\"))\n",
    "nn_clf.add(Dropout(0.2))\n",
    "# - output\n",
    "nn_clf.add(Dense(10, activation=\"softmax\"))\n",
    "\n",
    "# Compile model\n",
    "nn_clf.compile(loss=\"categorical_crossentropy\", optimizer=\"adam\", metrics=[\"accuracy\"])\n",
    "print(nn_clf.summary())"
   ]
  },
  {
   "cell_type": "markdown",
   "metadata": {},
   "source": [
    "<h2>Train and evaluate Neural Net model on test data</h2>"
   ]
  },
  {
   "cell_type": "code",
   "execution_count": 29,
   "metadata": {},
   "outputs": [
    {
     "name": "stdout",
     "output_type": "stream",
     "text": [
      "Train on 48000 samples, validate on 12000 samples\n",
      "Epoch 1/15\n",
      "48000/48000 [==============================] - 3s 65us/step - loss: 0.1707 - acc: 0.9480 - val_loss: 0.1290 - val_acc: 0.9633\n",
      "Epoch 2/15\n",
      "48000/48000 [==============================] - 3s 62us/step - loss: 0.1464 - acc: 0.9541 - val_loss: 0.1188 - val_acc: 0.9657\n",
      "Epoch 3/15\n",
      "48000/48000 [==============================] - 3s 63us/step - loss: 0.1261 - acc: 0.9612 - val_loss: 0.1035 - val_acc: 0.9688\n",
      "Epoch 4/15\n",
      "48000/48000 [==============================] - 4s 80us/step - loss: 0.1129 - acc: 0.9649 - val_loss: 0.0965 - val_acc: 0.9696\n",
      "Epoch 5/15\n",
      "48000/48000 [==============================] - 3s 70us/step - loss: 0.0993 - acc: 0.9690 - val_loss: 0.0958 - val_acc: 0.9709\n",
      "Epoch 6/15\n",
      "48000/48000 [==============================] - 3s 70us/step - loss: 0.0928 - acc: 0.9711 - val_loss: 0.0853 - val_acc: 0.9739\n",
      "Epoch 7/15\n",
      "48000/48000 [==============================] - 4s 77us/step - loss: 0.0828 - acc: 0.9739 - val_loss: 0.0903 - val_acc: 0.9743\n",
      "Epoch 8/15\n",
      "48000/48000 [==============================] - 3s 69us/step - loss: 0.0757 - acc: 0.9754 - val_loss: 0.0804 - val_acc: 0.9762\n",
      "Epoch 9/15\n",
      "48000/48000 [==============================] - 3s 69us/step - loss: 0.0716 - acc: 0.9766 - val_loss: 0.0893 - val_acc: 0.9747\n",
      "Epoch 10/15\n",
      "48000/48000 [==============================] - 3s 68us/step - loss: 0.0653 - acc: 0.9782 - val_loss: 0.0845 - val_acc: 0.9772\n",
      "\n",
      "Test Accuracy: 97.95%\n",
      "Time elapsed: 33.77 sec\n"
     ]
    },
    {
     "data": {
      "image/png": "[encoded data removed]",
      "text/plain": [
       "<Figure size 576x360 with 1 Axes>"
      ]
     },
     "metadata": {
      "needs_background": "light"
     },
     "output_type": "display_data"
    }
   ],
   "source": [
    "# Early stopping\n",
    "cp = EarlyStopping(patience=2, restore_best_weights=True)\n",
    "\n",
    "# Start timer\n",
    "start = time.time()\n",
    "\n",
    "# Train model on training data\n",
    "history = nn_clf.fit(X_train_1D, y_train, batch_size=64, epochs=15, validation_split=0.2, callbacks=[cp], verbose=1)\n",
    "# Evaluate model on test data\n",
    "score = nn_clf.evaluate(X_test_1D, y_test, verbose=0)\n",
    "\n",
    "# Stop timer\n",
    "end = time.time()\n",
    "\n",
    "# Print results\n",
    "print(\"\\nTest Accuracy: {0:0.2f}%\".format(score[1] * 100))\n",
    "print(\"Time elapsed: {0:0.2f} sec\".format(end - start))\n",
    "\n",
    "# Plot training history\n",
    "pd.DataFrame(history.history).plot(figsize=(8, 5)) \n",
    "plt.grid(True)\n",
    "plt.gca().set_ylim(0, 1)\n",
    "plt.show()"
   ]
  },
  {
   "cell_type": "markdown",
   "metadata": {},
   "source": [
    "<h2>Build ConvNet model</h2>"
   ]
  },
  {
   "cell_type": "code",
   "execution_count": 18,
   "metadata": {},
   "outputs": [
    {
     "name": "stdout",
     "output_type": "stream",
     "text": [
      "_________________________________________________________________\n",
      "Layer (type)                 Output Shape              Param #   \n",
      "=================================================================\n",
      "conv2d_9 (Conv2D)            (None, 26, 26, 32)        320       \n",
      "_________________________________________________________________\n",
      "max_pooling2d_9 (MaxPooling2 (None, 13, 13, 32)        0         \n",
      "_________________________________________________________________\n",
      "dropout_10 (Dropout)         (None, 13, 13, 32)        0         \n",
      "_________________________________________________________________\n",
      "conv2d_10 (Conv2D)           (None, 11, 11, 64)        18496     \n",
      "_________________________________________________________________\n",
      "max_pooling2d_10 (MaxPooling (None, 5, 5, 64)          0         \n",
      "_________________________________________________________________\n",
      "dropout_11 (Dropout)         (None, 5, 5, 64)          0         \n",
      "_________________________________________________________________\n",
      "flatten_5 (Flatten)          (None, 1600)              0         \n",
      "_________________________________________________________________\n",
      "dense_16 (Dense)             (None, 128)               204928    \n",
      "_________________________________________________________________\n",
      "batch_normalization_2 (Batch (None, 128)               512       \n",
      "_________________________________________________________________\n",
      "dropout_12 (Dropout)         (None, 128)               0         \n",
      "_________________________________________________________________\n",
      "dense_17 (Dense)             (None, 10)                1290      \n",
      "=================================================================\n",
      "Total params: 225,546\n",
      "Trainable params: 225,290\n",
      "Non-trainable params: 256\n",
      "_________________________________________________________________\n",
      "None\n"
     ]
    }
   ],
   "source": [
    "# Create ConvNet model\n",
    "cnn_clf = Sequential()\n",
    "# - first conv/pool \n",
    "cnn_clf.add(Convolution2D(32, (3,3), input_shape=(28,28,1), activation=\"elu\", kernel_initializer=\"he_normal\"))\n",
    "cnn_clf.add(MaxPooling2D(pool_size=(2,2))) # reduces size to 14x14\n",
    "cnn_clf.add(Dropout(0.3))\n",
    "# - second conv/pool\n",
    "cnn_clf.add(Convolution2D(64, (3,3), activation=\"elu\", kernel_initializer=\"he_normal\"))\n",
    "cnn_clf.add(MaxPooling2D(pool_size=(2,2))) # reduces size to 7x7\n",
    "cnn_clf.add(Dropout(0.3))\n",
    "# - fully connected\n",
    "cnn_clf.add(Flatten())\n",
    "cnn_clf.add(Dense(128, activation=\"elu\"))\n",
    "cnn_clf.add(BatchNormalization())\n",
    "cnn_clf.add(Dropout(0.3))\n",
    "# - output\n",
    "cnn_clf.add(Dense(10, activation=\"softmax\"))\n",
    "\n",
    "# Compile model\n",
    "cnn_clf.compile(loss=\"categorical_crossentropy\", optimizer=\"adam\", metrics=[\"accuracy\"])\n",
    "print(cnn_clf.summary())"
   ]
  },
  {
   "cell_type": "markdown",
   "metadata": {},
   "source": [
    "<h2>Train and evaluate ConvNet model on test data</h2>"
   ]
  },
  {
   "cell_type": "code",
   "execution_count": 21,
   "metadata": {},
   "outputs": [
    {
     "name": "stdout",
     "output_type": "stream",
     "text": [
      "Train on 48000 samples, validate on 12000 samples\n",
      "Epoch 1/15\n",
      "48000/48000 [==============================] - 44s 920us/step - loss: 0.0346 - acc: 0.9894 - val_loss: 0.0312 - val_acc: 0.9909\n",
      "Epoch 2/15\n",
      "48000/48000 [==============================] - 45s 943us/step - loss: 0.0301 - acc: 0.9905 - val_loss: 0.0355 - val_acc: 0.9899\n",
      "Epoch 3/15\n",
      "48000/48000 [==============================] - 44s 925us/step - loss: 0.0295 - acc: 0.9898 - val_loss: 0.0311 - val_acc: 0.9915\n",
      "Epoch 4/15\n",
      "48000/48000 [==============================] - 43s 905us/step - loss: 0.0297 - acc: 0.9902 - val_loss: 0.0290 - val_acc: 0.9912\n",
      "Epoch 5/15\n",
      "48000/48000 [==============================] - 43s 897us/step - loss: 0.0260 - acc: 0.9915 - val_loss: 0.0305 - val_acc: 0.9916\n",
      "Epoch 6/15\n",
      "48000/48000 [==============================] - 43s 897us/step - loss: 0.0256 - acc: 0.9914 - val_loss: 0.0296 - val_acc: 0.9919\n",
      "\n",
      "Test Accuracy: 99.25%\n",
      "Time elapsed: 265.57 sec\n"
     ]
    },
    {
     "data": {
      "image/png": "[encoded data removed]",
      "text/plain": [
       "<Figure size 576x360 with 1 Axes>"
      ]
     },
     "metadata": {
      "needs_background": "light"
     },
     "output_type": "display_data"
    }
   ],
   "source": [
    "# Start timer\n",
    "start = time.time()\n",
    "\n",
    "# Store best model\n",
    "cp = EarlyStopping(patience=2, monitor=\"val_loss\", restore_best_weights=True)\n",
    "\n",
    "# Train model on training data\n",
    "# Note: uses 20% of the training set for validation\n",
    "history = cnn_clf.fit(X_train_2D, y_train, batch_size=64, epochs=15, validation_split=0.2, callbacks=[cp], verbose=1)\n",
    "# Evaluate model on test data\n",
    "score = cnn_clf.evaluate(X_test_2D, y_test, verbose=0)\n",
    "\n",
    "# Stop timer\n",
    "end = time.time()\n",
    "\n",
    "# Print results\n",
    "print(\"\\nTest Accuracy: {0:0.2f}%\".format(score[1] * 100))\n",
    "print(\"Time elapsed: {0:0.2f} sec\".format(end - start))\n",
    "\n",
    "# Plot training history\n",
    "pd.DataFrame(history.history).plot(figsize=(8, 5)) \n",
    "plt.grid(True)\n",
    "plt.gca().set_ylim(0, 1)\n",
    "plt.show()"
   ]
  },
  {
   "cell_type": "markdown",
   "metadata": {},
   "source": [
    "<h2>Confusion matrix</h2>"
   ]
  },
  {
   "cell_type": "code",
   "execution_count": 22,
   "metadata": {},
   "outputs": [
    {
     "name": "stdout",
     "output_type": "stream",
     "text": [
      "[[ 977    1    1    0    0    0    0    1    0    0]\n",
      " [   0 1131    1    1    0    0    1    1    0    0]\n",
      " [   2    0 1026    0    0    0    0    3    1    0]\n",
      " [   0    0    1 1004    0    2    0    0    3    0]\n",
      " [   0    0    0    0  973    0    1    1    0    7]\n",
      " [   2    0    0    8    0  878    1    0    0    3]\n",
      " [   4    3    0    0    2    1  947    0    1    0]\n",
      " [   0    1    4    0    0    0    0 1019    0    4]\n",
      " [   2    0    2    0    0    0    0    0  967    3]\n",
      " [   0    0    0    0    3    1    0    1    1 1003]]\n"
     ]
    }
   ],
   "source": [
    "# Make predictions\n",
    "y_pred = cnn_clf.predict(X_test_2D)\n",
    "\n",
    "# Confusion matrix\n",
    "conf_mx = confusion_matrix(\n",
    "    np.argmax(y_test,axis=1),\n",
    "    np.argmax(y_pred, axis=1))\n",
    "print(conf_mx)"
   ]
  },
  {
   "cell_type": "markdown",
   "metadata": {},
   "source": [
    "<h2>Dimensionality Reduction</h2>"
   ]
  },
  {
   "cell_type": "code",
   "execution_count": 23,
   "metadata": {},
   "outputs": [
    {
     "name": "stdout",
     "output_type": "stream",
     "text": [
      "Training set: (60000, 154)\n",
      "Test set: (10000, 154)\n"
     ]
    }
   ],
   "source": [
    "from sklearn.decomposition import PCA\n",
    "\n",
    "# Create PCA\n",
    "pca = PCA(n_components=0.95)\n",
    "pca.fit(X_train_1D)\n",
    "# Reduce dimensionality on training and test sets\n",
    "X_train_1D_dr = pca.transform(X_train_1D)\n",
    "X_test_1D_dr = pca.transform(X_test_1D)\n",
    "# Show dataset shape\n",
    "print(\"Training set:\",X_train_1D_dr.shape)\n",
    "print(\"Test set:\",X_test_1D_dr.shape)"
   ]
  },
  {
   "cell_type": "markdown",
   "metadata": {},
   "source": [
    "<h2>Train and evaluate reduced dataset with a neural network</h2>"
   ]
  },
  {
   "cell_type": "code",
   "execution_count": 25,
   "metadata": {},
   "outputs": [
    {
     "name": "stdout",
     "output_type": "stream",
     "text": [
      "Train on 48000 samples, validate on 12000 samples\n",
      "Epoch 1/20\n",
      "48000/48000 [==============================] - 3s 58us/step - loss: 0.4524 - acc: 0.8607 - val_loss: 0.2064 - val_acc: 0.9399\n",
      "Epoch 2/20\n",
      "48000/48000 [==============================] - 2s 42us/step - loss: 0.2446 - acc: 0.9256 - val_loss: 0.1540 - val_acc: 0.9553\n",
      "Epoch 3/20\n",
      "48000/48000 [==============================] - 2s 41us/step - loss: 0.1888 - acc: 0.9436 - val_loss: 0.1251 - val_acc: 0.9626\n",
      "Epoch 4/20\n",
      "48000/48000 [==============================] - 2s 42us/step - loss: 0.1560 - acc: 0.9519 - val_loss: 0.1106 - val_acc: 0.9677\n",
      "Epoch 5/20\n",
      "48000/48000 [==============================] - 2s 42us/step - loss: 0.1357 - acc: 0.9583 - val_loss: 0.0971 - val_acc: 0.9709\n",
      "Epoch 6/20\n",
      "48000/48000 [==============================] - 2s 41us/step - loss: 0.1186 - acc: 0.9629 - val_loss: 0.0918 - val_acc: 0.9715\n",
      "Epoch 7/20\n",
      "48000/48000 [==============================] - 2s 44us/step - loss: 0.1119 - acc: 0.9655 - val_loss: 0.0867 - val_acc: 0.9733\n",
      "Epoch 8/20\n",
      "48000/48000 [==============================] - 2s 43us/step - loss: 0.1020 - acc: 0.9674 - val_loss: 0.0845 - val_acc: 0.9738\n",
      "Epoch 9/20\n",
      "48000/48000 [==============================] - 2s 41us/step - loss: 0.0928 - acc: 0.9699 - val_loss: 0.0852 - val_acc: 0.9762\n",
      "Epoch 10/20\n",
      "48000/48000 [==============================] - 2s 42us/step - loss: 0.0852 - acc: 0.9725 - val_loss: 0.0745 - val_acc: 0.9773\n",
      "Epoch 11/20\n",
      "48000/48000 [==============================] - 2s 43us/step - loss: 0.0819 - acc: 0.9733 - val_loss: 0.0763 - val_acc: 0.9785\n",
      "Epoch 12/20\n",
      "48000/48000 [==============================] - 2s 43us/step - loss: 0.0784 - acc: 0.9741 - val_loss: 0.0738 - val_acc: 0.9788\n",
      "Epoch 13/20\n",
      "48000/48000 [==============================] - 2s 41us/step - loss: 0.0737 - acc: 0.9765 - val_loss: 0.0747 - val_acc: 0.9789\n",
      "Epoch 14/20\n",
      "48000/48000 [==============================] - 2s 42us/step - loss: 0.0728 - acc: 0.9767 - val_loss: 0.0740 - val_acc: 0.9784\n",
      "\n",
      "Test Accuracy: 97.84%\n",
      "Time elapsed: 30.13 sec\n"
     ]
    },
    {
     "data": {
      "image/png": "[encoded data removed]",
      "text/plain": [
       "<Figure size 576x360 with 1 Axes>"
      ]
     },
     "metadata": {
      "needs_background": "light"
     },
     "output_type": "display_data"
    }
   ],
   "source": [
    "# Create Neural Net Softmax model for the reduced size dataset\n",
    "snn_clf = Sequential()\n",
    "# - first Dense\n",
    "snn_clf.add(Dense(128, input_dim=154, activation=\"elu\", kernel_initializer=\"he_normal\"))\n",
    "snn_clf.add(Dropout(0.2))\n",
    "# - second Dense\n",
    "snn_clf.add(Dense(128, activation=\"elu\", kernel_initializer=\"he_normal\"))\n",
    "snn_clf.add(Dropout(0.2))\n",
    "# - output\n",
    "snn_clf.add(Dense(10, activation=\"softmax\"))\n",
    "\n",
    "# Early stopping\n",
    "cp = EarlyStopping(patience=2, restore_best_weights=True)\n",
    "\n",
    "# Compile model\n",
    "snn_clf.compile(loss=\"categorical_crossentropy\", optimizer=\"adam\", metrics=[\"accuracy\"])\n",
    "\n",
    "# Start timer\n",
    "start = time.time()\n",
    "\n",
    "# Train model on training data\n",
    "history = snn_clf.fit(X_train_1D_dr, y_train, batch_size=64, epochs=20, validation_split=0.2, callbacks=[cp], verbose=1)\n",
    "# Evaluate model on test data\n",
    "score = snn_clf.evaluate(X_test_1D_dr, y_test, verbose=0)\n",
    "\n",
    "# Stop timer\n",
    "end = time.time()\n",
    "\n",
    "# Print results\n",
    "print(\"\\nTest Accuracy: {0:0.2f}%\".format(score[1] * 100))\n",
    "print(\"Time elapsed: {0:0.2f} sec\".format(end - start))\n",
    "\n",
    "# Plot training history\n",
    "pd.DataFrame(history.history).plot(figsize=(8, 5)) \n",
    "plt.grid(True)\n",
    "plt.gca().set_ylim(0, 1) # set the vertical range to [0-1] \n",
    "plt.show()"
   ]
  },
  {
   "cell_type": "markdown",
   "metadata": {},
   "source": [
    "<h2>Predict examples</h2>"
   ]
  },
  {
   "cell_type": "code",
   "execution_count": 26,
   "metadata": {},
   "outputs": [
    {
     "name": "stdout",
     "output_type": "stream",
     "text": [
      "Predicted: 7\n",
      "Actual: 7\n"
     ]
    },
    {
     "data": {
      "image/png": "[encoded data removed]",
      "text/plain": [
       "<Figure size 432x288 with 1 Axes>"
      ]
     },
     "metadata": {
      "needs_background": "light"
     },
     "output_type": "display_data"
    },
    {
     "name": "stdout",
     "output_type": "stream",
     "text": [
      "Predicted: 2\n",
      "Actual: 2\n"
     ]
    },
    {
     "data": {
      "image/png": "[encoded data removed]",
      "text/plain": [
       "<Figure size 432x288 with 1 Axes>"
      ]
     },
     "metadata": {
      "needs_background": "light"
     },
     "output_type": "display_data"
    },
    {
     "name": "stdout",
     "output_type": "stream",
     "text": [
      "Predicted: 1\n",
      "Actual: 1\n"
     ]
    },
    {
     "data": {
      "image/png": "[encoded data removed]",
      "text/plain": [
       "<Figure size 432x288 with 1 Axes>"
      ]
     },
     "metadata": {
      "needs_background": "light"
     },
     "output_type": "display_data"
    }
   ],
   "source": [
    "# Examples to classify\n",
    "examples = X_test_2D[:3]\n",
    "\n",
    "res = np.argmax(cnn_clf.predict(examples), axis=1)\n",
    "\n",
    "for i in range(0,len(res)):\n",
    "    print(\"Predicted:\",res[i])\n",
    "    print(\"Actual:\",y_test_raw[i])\n",
    "    plt.imshow(X_test[i], cmap=plt.cm.Blues)\n",
    "    plt.show()"
   ]
  },
  {
   "cell_type": "code",
   "execution_count": null,
   "metadata": {},
   "outputs": [],
   "source": []
  }
 ],
 "metadata": {
  "kernelspec": {
   "display_name": "Python 3",
   "language": "python",
   "name": "python3"
  },
  "language_info": {
   "codemirror_mode": {
    "name": "ipython",
    "version": 3
   },
   "file_extension": ".py",
   "mimetype": "text/x-python",
   "name": "python",
   "nbconvert_exporter": "python",
   "pygments_lexer": "ipython3",
   "version": "3.7.2"
  }
 },
 "nbformat": 4,
 "nbformat_minor": 2
}
