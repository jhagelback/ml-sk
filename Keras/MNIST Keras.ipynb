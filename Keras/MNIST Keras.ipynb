{
 "cells": [
  {
   "cell_type": "markdown",
   "metadata": {},
   "source": [
    "<h2>MNIST dataset in Keras library</h2>"
   ]
  },
  {
   "cell_type": "markdown",
   "metadata": {},
   "source": [
    "<h2>Load data</h2>"
   ]
  },
  {
   "cell_type": "code",
   "execution_count": 1,
   "metadata": {},
   "outputs": [
    {
     "name": "stderr",
     "output_type": "stream",
     "text": [
      "Using TensorFlow backend.\n"
     ]
    },
    {
     "name": "stdout",
     "output_type": "stream",
     "text": [
      "Training instances: 60000\n",
      "Test instances: 10000\n",
      "\n",
      "Structure of training set: (60000, 28, 28)\n",
      "Structure of labels set: (60000, 10)\n"
     ]
    }
   ],
   "source": [
    "# Imports\n",
    "# - Dataset\n",
    "from keras.datasets import mnist\n",
    "# - Helper libraries\n",
    "import numpy as np\n",
    "import pandas as pd\n",
    "import time\n",
    "from sklearn.metrics import confusion_matrix\n",
    "from keras.utils import np_utils\n",
    "# - Graph plots\n",
    "%matplotlib inline\n",
    "from matplotlib import pyplot as plt\n",
    "# - Keras models and layers\n",
    "from keras.models import Sequential\n",
    "from keras.layers import Dense, Flatten, Dropout, Flatten, Convolution2D, MaxPooling2D\n",
    "from keras.callbacks import EarlyStopping\n",
    "\n",
    "# Ignore warnings\n",
    "import tensorflow as tf\n",
    "tf.logging.set_verbosity(tf.logging.ERROR)\n",
    "\n",
    "# Load pre-shuffled MNIST data into train and test sets\n",
    "(X_train, y_train_raw), (X_test, y_test_raw) = mnist.load_data()\n",
    "\n",
    "# Convert to float values and normalize between 0...1\n",
    "X_train = X_train.astype(\"float32\")\n",
    "X_test = X_test.astype(\"float32\")\n",
    "X_train /= 255 \n",
    "X_test /= 255\n",
    "\n",
    "# Preprocess class labels\n",
    "# Convert labels to 10-dimensional one-hot vectors\n",
    "y_train = np_utils.to_categorical(y_train_raw, 10)\n",
    "y_test = np_utils.to_categorical(y_test_raw, 10)\n",
    "\n",
    "print(\"Training instances: {}\".format(X_train.shape[0]))\n",
    "print(\"Test instances: {}\".format(X_test.shape[0]))\n",
    "print()\n",
    "print(\"Structure of training set: {}\".format(X_train.shape))\n",
    "print(\"Structure of labels set: {}\".format(y_train.shape))"
   ]
  },
  {
   "cell_type": "markdown",
   "metadata": {},
   "source": [
    "<h2>Pre-process data for 1D or 2D inputs</h2>"
   ]
  },
  {
   "cell_type": "code",
   "execution_count": 2,
   "metadata": {},
   "outputs": [
    {
     "name": "stdout",
     "output_type": "stream",
     "text": [
      "1D shape: (60000, 784)\n",
      "2D shape: (60000, 28, 28, 1)\n"
     ]
    }
   ],
   "source": [
    "# Preprocess for 1D input data\n",
    "X_train_1D = X_train.reshape(X_train.shape[0], 784)\n",
    "X_test_1D = X_test.reshape(X_test.shape[0], 784)\n",
    "print(\"1D shape:\", X_train_1D.shape)\n",
    "\n",
    "# Preprocess for 2D input data\n",
    "X_train_2D = X_train.reshape(X_train.shape[0], 28, 28, 1)\n",
    "X_test_2D = X_test.reshape(X_test.shape[0], 28, 28, 1)\n",
    "print(\"2D shape:\", X_train_2D.shape)"
   ]
  },
  {
   "cell_type": "markdown",
   "metadata": {},
   "source": [
    "<h2>Build Linear model</h2>"
   ]
  },
  {
   "cell_type": "code",
   "execution_count": 3,
   "metadata": {},
   "outputs": [
    {
     "name": "stdout",
     "output_type": "stream",
     "text": [
      "_________________________________________________________________\n",
      "Layer (type)                 Output Shape              Param #   \n",
      "=================================================================\n",
      "dense_1 (Dense)              (None, 10)                7850      \n",
      "=================================================================\n",
      "Total params: 7,850\n",
      "Trainable params: 7,850\n",
      "Non-trainable params: 0\n",
      "_________________________________________________________________\n",
      "None\n"
     ]
    }
   ],
   "source": [
    "# Create Linear Softmax model\n",
    "lin_clf = Sequential()\n",
    "lin_clf.add(Dense(10, input_dim=784, activation=\"softmax\"))\n",
    "\n",
    "# Compile model\n",
    "lin_clf.compile(loss=\"categorical_crossentropy\", optimizer=\"adam\", metrics=[\"accuracy\"])\n",
    "print(lin_clf.summary())"
   ]
  },
  {
   "cell_type": "markdown",
   "metadata": {},
   "source": [
    "<h2>Train and evaluate Linear model on test data</h2>"
   ]
  },
  {
   "cell_type": "code",
   "execution_count": 4,
   "metadata": {},
   "outputs": [
    {
     "name": "stdout",
     "output_type": "stream",
     "text": [
      "Epoch 1/8\n",
      "60000/60000 [==============================] - 2s 31us/step - loss: 0.4754 - acc: 0.8750\n",
      "Epoch 2/8\n",
      "60000/60000 [==============================] - 2s 28us/step - loss: 0.3040 - acc: 0.9147\n",
      "Epoch 3/8\n",
      "60000/60000 [==============================] - 2s 28us/step - loss: 0.2832 - acc: 0.9210\n",
      "Epoch 4/8\n",
      "60000/60000 [==============================] - 2s 28us/step - loss: 0.2731 - acc: 0.9245\n",
      "Epoch 5/8\n",
      "60000/60000 [==============================] - 2s 29us/step - loss: 0.2666 - acc: 0.9256\n",
      "Epoch 6/8\n",
      "60000/60000 [==============================] - 2s 29us/step - loss: 0.2618 - acc: 0.9262\n",
      "Epoch 7/8\n",
      "60000/60000 [==============================] - 2s 29us/step - loss: 0.2579 - acc: 0.9291\n",
      "Epoch 8/8\n",
      "60000/60000 [==============================] - 2s 30us/step - loss: 0.2554 - acc: 0.9291\n",
      "\n",
      "Test Accuracy: 92.51%\n",
      "Time elapsed: 14.30 sec\n"
     ]
    }
   ],
   "source": [
    "# Start timer\n",
    "start = time.time()\n",
    "\n",
    "# Train model on training data\n",
    "lin_clf.fit(X_train_1D, y_train, batch_size=32, epochs=8, verbose=1)\n",
    "# Evaluate model on test data\n",
    "score = lin_clf.evaluate(X_test_1D, y_test, verbose=0)\n",
    "\n",
    "# Stop timer\n",
    "end = time.time()\n",
    "\n",
    "# Print results\n",
    "print(\"\\nTest Accuracy: {0:0.2f}%\".format(score[1] * 100))\n",
    "print(\"Time elapsed: {0:0.2f} sec\".format(end - start))"
   ]
  },
  {
   "cell_type": "markdown",
   "metadata": {},
   "source": [
    "<h2>Build Neural Net model</h2>"
   ]
  },
  {
   "cell_type": "code",
   "execution_count": 5,
   "metadata": {},
   "outputs": [
    {
     "name": "stdout",
     "output_type": "stream",
     "text": [
      "_________________________________________________________________\n",
      "Layer (type)                 Output Shape              Param #   \n",
      "=================================================================\n",
      "dense_2 (Dense)              (None, 128)               100480    \n",
      "_________________________________________________________________\n",
      "dense_3 (Dense)              (None, 128)               16512     \n",
      "_________________________________________________________________\n",
      "dense_4 (Dense)              (None, 10)                1290      \n",
      "=================================================================\n",
      "Total params: 118,282\n",
      "Trainable params: 118,282\n",
      "Non-trainable params: 0\n",
      "_________________________________________________________________\n",
      "None\n"
     ]
    }
   ],
   "source": [
    "# Create Neural Net Softmax model\n",
    "nn_clf = Sequential()\n",
    "# - first Dense\n",
    "nn_clf.add(Dense(128, input_dim=784, activation=\"elu\"))\n",
    "# - second Dense\n",
    "nn_clf.add(Dense(128, activation=\"elu\"))\n",
    "# - output\n",
    "nn_clf.add(Dense(10, activation=\"softmax\"))\n",
    "           \n",
    "# Compile model\n",
    "nn_clf.compile(loss=\"categorical_crossentropy\", optimizer=\"adam\", metrics=[\"accuracy\"])\n",
    "print(nn_clf.summary())"
   ]
  },
  {
   "cell_type": "markdown",
   "metadata": {},
   "source": [
    "<h2>Train and evaluate Neural Net model on test data</h2>"
   ]
  },
  {
   "cell_type": "code",
   "execution_count": 6,
   "metadata": {},
   "outputs": [
    {
     "name": "stdout",
     "output_type": "stream",
     "text": [
      "Train on 48000 samples, validate on 12000 samples\n",
      "Epoch 1/15\n",
      "48000/48000 [==============================] - 4s 83us/step - loss: 0.2807 - acc: 0.9165 - val_loss: 0.1583 - val_acc: 0.9542\n",
      "Epoch 2/15\n",
      "48000/48000 [==============================] - 4s 77us/step - loss: 0.1274 - acc: 0.9612 - val_loss: 0.1285 - val_acc: 0.9603\n",
      "Epoch 3/15\n",
      "48000/48000 [==============================] - 4s 79us/step - loss: 0.0890 - acc: 0.9725 - val_loss: 0.1039 - val_acc: 0.9689\n",
      "Epoch 4/15\n",
      "48000/48000 [==============================] - 4s 88us/step - loss: 0.0692 - acc: 0.9778 - val_loss: 0.0889 - val_acc: 0.9744\n",
      "Epoch 5/15\n",
      "48000/48000 [==============================] - 4s 88us/step - loss: 0.0523 - acc: 0.9831 - val_loss: 0.0952 - val_acc: 0.9739\n",
      "Epoch 6/15\n",
      "48000/48000 [==============================] - 4s 86us/step - loss: 0.0422 - acc: 0.9855 - val_loss: 0.1021 - val_acc: 0.9722\n",
      "\n",
      "Test Accuracy: 97.45%\n",
      "Time elapsed: 24.55 sec\n"
     ]
    },
    {
     "data": {
      "image/png": "[encoded data removed]",
      "text/plain": [
       "<Figure size 576x360 with 1 Axes>"
      ]
     },
     "metadata": {
      "needs_background": "light"
     },
     "output_type": "display_data"
    }
   ],
   "source": [
    "# Early stopping\n",
    "cp = EarlyStopping(patience=2, restore_best_weights=True)\n",
    "\n",
    "# Start timer\n",
    "start = time.time()\n",
    "\n",
    "# Train model on training data\n",
    "history = nn_clf.fit(X_train_1D, y_train, batch_size=32, epochs=15, validation_split=0.2, callbacks=[cp], verbose=1)\n",
    "# Evaluate model on test data\n",
    "score = nn_clf.evaluate(X_test_1D, y_test, verbose=0)\n",
    "\n",
    "# Stop timer\n",
    "end = time.time()\n",
    "\n",
    "# Print results\n",
    "print(\"\\nTest Accuracy: {0:0.2f}%\".format(score[1] * 100))\n",
    "print(\"Time elapsed: {0:0.2f} sec\".format(end - start))\n",
    "\n",
    "# Plot training history\n",
    "pd.DataFrame(history.history).plot(figsize=(8, 5)) \n",
    "plt.grid(True)\n",
    "plt.gca().set_ylim(0, 1)\n",
    "plt.show()"
   ]
  },
  {
   "cell_type": "markdown",
   "metadata": {},
   "source": [
    "<h2>Build ConvNet model</h2>"
   ]
  },
  {
   "cell_type": "code",
   "execution_count": 26,
   "metadata": {},
   "outputs": [
    {
     "name": "stdout",
     "output_type": "stream",
     "text": [
      "_________________________________________________________________\n",
      "Layer (type)                 Output Shape              Param #   \n",
      "=================================================================\n",
      "conv2d_13 (Conv2D)           (None, 24, 24, 32)        832       \n",
      "_________________________________________________________________\n",
      "max_pooling2d_13 (MaxPooling (None, 12, 12, 32)        0         \n",
      "_________________________________________________________________\n",
      "conv2d_14 (Conv2D)           (None, 10, 10, 64)        18496     \n",
      "_________________________________________________________________\n",
      "max_pooling2d_14 (MaxPooling (None, 5, 5, 64)          0         \n",
      "_________________________________________________________________\n",
      "flatten_7 (Flatten)          (None, 1600)              0         \n",
      "_________________________________________________________________\n",
      "dense_23 (Dense)             (None, 128)               204928    \n",
      "_________________________________________________________________\n",
      "dropout_4 (Dropout)          (None, 128)               0         \n",
      "_________________________________________________________________\n",
      "dense_24 (Dense)             (None, 128)               16512     \n",
      "_________________________________________________________________\n",
      "dropout_5 (Dropout)          (None, 128)               0         \n",
      "_________________________________________________________________\n",
      "dense_25 (Dense)             (None, 10)                1290      \n",
      "=================================================================\n",
      "Total params: 242,058\n",
      "Trainable params: 242,058\n",
      "Non-trainable params: 0\n",
      "_________________________________________________________________\n",
      "None\n"
     ]
    }
   ],
   "source": [
    "# Create ConvNet model\n",
    "cnn_clf = Sequential()\n",
    "# - first conv/pool \n",
    "cnn_clf.add(Convolution2D(32, (5,5), input_shape=(28,28,1), activation=\"relu\"))\n",
    "cnn_clf.add(MaxPooling2D(pool_size=(2,2))) # reduces size to 14x14\n",
    "# - second conv/pool\n",
    "cnn_clf.add(Convolution2D(64, (3,3), activation=\"relu\"))\n",
    "cnn_clf.add(MaxPooling2D(pool_size=(2,2))) # reduces size to 7x7\n",
    "# - first fully connected\n",
    "cnn_clf.add(Flatten())\n",
    "cnn_clf.add(Dense(128, activation=\"elu\"))\n",
    "cnn_clf.add(Dropout(0.3))\n",
    "# - second fully connected\n",
    "cnn_clf.add(Dense(128, activation=\"elu\"))\n",
    "cnn_clf.add(Dropout(0.3))\n",
    "# - output\n",
    "cnn_clf.add(Dense(10, activation=\"softmax\"))\n",
    "\n",
    "# Compile model\n",
    "cnn_clf.compile(loss=\"categorical_crossentropy\", optimizer=\"adam\", metrics=[\"accuracy\"])\n",
    "print(cnn_clf.summary())"
   ]
  },
  {
   "cell_type": "markdown",
   "metadata": {},
   "source": [
    "<h2>Train and evaluate ConvNet model on test data</h2>"
   ]
  },
  {
   "cell_type": "code",
   "execution_count": 27,
   "metadata": {},
   "outputs": [
    {
     "name": "stdout",
     "output_type": "stream",
     "text": [
      "Train on 48000 samples, validate on 12000 samples\n",
      "Epoch 1/15\n",
      "48000/48000 [==============================] - 36s 741us/step - loss: 0.1582 - acc: 0.9505 - val_loss: 0.0638 - val_acc: 0.9801\n",
      "Epoch 2/15\n",
      "48000/48000 [==============================] - 34s 713us/step - loss: 0.0587 - acc: 0.9821 - val_loss: 0.0428 - val_acc: 0.9880\n",
      "Epoch 3/15\n",
      "48000/48000 [==============================] - 35s 735us/step - loss: 0.0487 - acc: 0.9859 - val_loss: 0.0416 - val_acc: 0.9881\n",
      "Epoch 4/15\n",
      "48000/48000 [==============================] - 35s 721us/step - loss: 0.0381 - acc: 0.9881 - val_loss: 0.0390 - val_acc: 0.9888\n",
      "Epoch 5/15\n",
      "48000/48000 [==============================] - 35s 732us/step - loss: 0.0331 - acc: 0.9904 - val_loss: 0.0365 - val_acc: 0.9898\n",
      "Epoch 6/15\n",
      "48000/48000 [==============================] - 36s 743us/step - loss: 0.0265 - acc: 0.9918 - val_loss: 0.0443 - val_acc: 0.9879\n",
      "Epoch 7/15\n",
      "48000/48000 [==============================] - 35s 724us/step - loss: 0.0242 - acc: 0.9925 - val_loss: 0.0584 - val_acc: 0.9878\n",
      "\n",
      "Test Accuracy: 99.08%\n",
      "Time elapsed: 247.50 sec\n"
     ]
    },
    {
     "data": {
      "image/png": "[encoded data removed]",
      "text/plain": [
       "<Figure size 576x360 with 1 Axes>"
      ]
     },
     "metadata": {
      "needs_background": "light"
     },
     "output_type": "display_data"
    }
   ],
   "source": [
    "# Start timer\n",
    "start = time.time()\n",
    "\n",
    "# Store best model\n",
    "cp = EarlyStopping(patience=2, restore_best_weights=True)\n",
    "\n",
    "# Train model on training data\n",
    "# Note: uses 20% of the training set for validation\n",
    "history = cnn_clf.fit(X_train_2D, y_train, batch_size=32, epochs=15, validation_split=0.2, callbacks=[cp], verbose=1)\n",
    "# Evaluate model on test data\n",
    "score = cnn_clf.evaluate(X_test_2D, y_test, verbose=0)\n",
    "\n",
    "# Stop timer\n",
    "end = time.time()\n",
    "\n",
    "# Print results\n",
    "print(\"\\nTest Accuracy: {0:0.2f}%\".format(score[1] * 100))\n",
    "print(\"Time elapsed: {0:0.2f} sec\".format(end - start))\n",
    "\n",
    "# Plot training history\n",
    "pd.DataFrame(history.history).plot(figsize=(8, 5)) \n",
    "plt.grid(True)\n",
    "plt.gca().set_ylim(0, 1)\n",
    "plt.show()"
   ]
  },
  {
   "cell_type": "markdown",
   "metadata": {},
   "source": [
    "<h2>Confusion matrix</h2>"
   ]
  },
  {
   "cell_type": "code",
   "execution_count": 28,
   "metadata": {},
   "outputs": [
    {
     "name": "stdout",
     "output_type": "stream",
     "text": [
      "[[ 976    0    0    0    2    0    0    1    1    0]\n",
      " [   0 1134    0    0    0    0    1    0    0    0]\n",
      " [   0    1 1023    1    0    0    0    7    0    0]\n",
      " [   0    0    1 1009    0    0    0    0    0    0]\n",
      " [   0    0    0    0  980    0    0    0    0    2]\n",
      " [   1    0    0   11    0  877    1    1    0    1]\n",
      " [   2    3    0    0    2    4  946    0    1    0]\n",
      " [   0    3    1    0    0    1    0 1020    1    2]\n",
      " [   4    0    0    2    1    5    0    2  957    3]\n",
      " [   1    3    3    4    8    2    0    2    0  986]]\n"
     ]
    }
   ],
   "source": [
    "# Make predictions\n",
    "y_pred = cnn_clf.predict(X_test_2D)\n",
    "\n",
    "# Confusion matrix\n",
    "conf_mx = confusion_matrix(\n",
    "    np.argmax(y_test,axis=1),\n",
    "    np.argmax(y_pred, axis=1))\n",
    "print(conf_mx)"
   ]
  },
  {
   "cell_type": "markdown",
   "metadata": {},
   "source": [
    "<h2>Dimensionality Reduction</h2>"
   ]
  },
  {
   "cell_type": "code",
   "execution_count": 10,
   "metadata": {},
   "outputs": [
    {
     "name": "stdout",
     "output_type": "stream",
     "text": [
      "Training set: (60000, 154)\n",
      "Test set: (10000, 154)\n"
     ]
    }
   ],
   "source": [
    "from sklearn.decomposition import PCA\n",
    "\n",
    "# Create PCA\n",
    "pca = PCA(n_components=0.95)\n",
    "pca.fit(X_train_1D)\n",
    "# Reduce dimensionality on training and test sets\n",
    "X_train_1D_dr = pca.transform(X_train_1D)\n",
    "X_test_1D_dr = pca.transform(X_test_1D)\n",
    "# Show dataset shape\n",
    "print(\"Training set:\",X_train_1D_dr.shape)\n",
    "print(\"Test set:\",X_test_1D_dr.shape)"
   ]
  },
  {
   "cell_type": "markdown",
   "metadata": {},
   "source": [
    "<h2>Train and evaluate reduced dataset with a neural network</h2>"
   ]
  },
  {
   "cell_type": "code",
   "execution_count": 12,
   "metadata": {},
   "outputs": [
    {
     "name": "stdout",
     "output_type": "stream",
     "text": [
      "Train on 48000 samples, validate on 12000 samples\n",
      "Epoch 1/15\n",
      "48000/48000 [==============================] - 3s 68us/step - loss: 0.3129 - acc: 0.9071 - val_loss: 0.1783 - val_acc: 0.9502\n",
      "Epoch 2/15\n",
      "48000/48000 [==============================] - 3s 57us/step - loss: 0.1456 - acc: 0.9565 - val_loss: 0.1260 - val_acc: 0.9626\n",
      "Epoch 3/15\n",
      "48000/48000 [==============================] - 3s 57us/step - loss: 0.0976 - acc: 0.9695 - val_loss: 0.1002 - val_acc: 0.9688\n",
      "Epoch 4/15\n",
      "48000/48000 [==============================] - 3s 57us/step - loss: 0.0720 - acc: 0.9772 - val_loss: 0.0958 - val_acc: 0.9709\n",
      "Epoch 5/15\n",
      "48000/48000 [==============================] - 3s 57us/step - loss: 0.0564 - acc: 0.9820 - val_loss: 0.0910 - val_acc: 0.9720\n",
      "Epoch 6/15\n",
      "48000/48000 [==============================] - 3s 56us/step - loss: 0.0443 - acc: 0.9859 - val_loss: 0.0940 - val_acc: 0.9708\n",
      "Epoch 7/15\n",
      "48000/48000 [==============================] - 3s 58us/step - loss: 0.0338 - acc: 0.9891 - val_loss: 0.0886 - val_acc: 0.9752\n",
      "Epoch 8/15\n",
      "48000/48000 [==============================] - 3s 58us/step - loss: 0.0267 - acc: 0.9915 - val_loss: 0.1021 - val_acc: 0.9722\n",
      "Epoch 9/15\n",
      "48000/48000 [==============================] - 3s 64us/step - loss: 0.0226 - acc: 0.9921 - val_loss: 0.0973 - val_acc: 0.9738\n",
      "\n",
      "Test Accuracy: 97.68%\n",
      "Time elapsed: 26.06 sec\n"
     ]
    },
    {
     "data": {
      "image/png": "[encoded data removed]",
      "text/plain": [
       "<Figure size 576x360 with 1 Axes>"
      ]
     },
     "metadata": {
      "needs_background": "light"
     },
     "output_type": "display_data"
    }
   ],
   "source": [
    "# Create Neural Net Softmax model for the reduced size dataset\n",
    "snn_clf = Sequential()\n",
    "# - first Dense\n",
    "snn_clf.add(Dense(128, input_dim=154, activation=\"elu\"))\n",
    "# - second Dense\n",
    "snn_clf.add(Dense(128, activation=\"elu\"))\n",
    "# - output\n",
    "snn_clf.add(Dense(10, activation=\"softmax\"))\n",
    "\n",
    "# Early stopping\n",
    "cp = EarlyStopping(patience=2, restore_best_weights=True)\n",
    "\n",
    "# Compile model\n",
    "snn_clf.compile(loss=\"categorical_crossentropy\", optimizer=\"adam\", metrics=[\"accuracy\"])\n",
    "\n",
    "# Start timer\n",
    "start = time.time()\n",
    "\n",
    "# Train model on training data\n",
    "history = snn_clf.fit(X_train_1D_dr, y_train, batch_size=32, epochs=15, validation_split=0.2, callbacks=[cp], verbose=1)\n",
    "# Evaluate model on test data\n",
    "score = snn_clf.evaluate(X_test_1D_dr, y_test, verbose=0)\n",
    "\n",
    "# Stop timer\n",
    "end = time.time()\n",
    "\n",
    "# Print results\n",
    "print(\"\\nTest Accuracy: {0:0.2f}%\".format(score[1] * 100))\n",
    "print(\"Time elapsed: {0:0.2f} sec\".format(end - start))\n",
    "\n",
    "# Plot training history\n",
    "pd.DataFrame(history.history).plot(figsize=(8, 5)) \n",
    "plt.grid(True)\n",
    "plt.gca().set_ylim(0, 1) # set the vertical range to [0-1] \n",
    "plt.show()"
   ]
  },
  {
   "cell_type": "markdown",
   "metadata": {},
   "source": [
    "<h2>Predict examples</h2>"
   ]
  },
  {
   "cell_type": "code",
   "execution_count": 29,
   "metadata": {},
   "outputs": [
    {
     "name": "stdout",
     "output_type": "stream",
     "text": [
      "Predicted: 7\n",
      "Actual: 7\n"
     ]
    },
    {
     "data": {
      "image/png": "[encoded data removed]",
      "text/plain": [
       "<Figure size 432x288 with 1 Axes>"
      ]
     },
     "metadata": {
      "needs_background": "light"
     },
     "output_type": "display_data"
    },
    {
     "name": "stdout",
     "output_type": "stream",
     "text": [
      "Predicted: 2\n",
      "Actual: 2\n"
     ]
    },
    {
     "data": {
      "image/png": "[encoded data removed]",
      "text/plain": [
       "<Figure size 432x288 with 1 Axes>"
      ]
     },
     "metadata": {
      "needs_background": "light"
     },
     "output_type": "display_data"
    },
    {
     "name": "stdout",
     "output_type": "stream",
     "text": [
      "Predicted: 1\n",
      "Actual: 1\n"
     ]
    },
    {
     "data": {
      "image/png": "[encoded data removed]",
      "text/plain": [
       "<Figure size 432x288 with 1 Axes>"
      ]
     },
     "metadata": {
      "needs_background": "light"
     },
     "output_type": "display_data"
    }
   ],
   "source": [
    "# Examples to classify\n",
    "examples = X_test_2D[:3]\n",
    "\n",
    "res = np.argmax(cnn_clf.predict(examples), axis=1)\n",
    "\n",
    "for i in range(0,len(res)):\n",
    "    print(\"Predicted:\",res[i])\n",
    "    print(\"Actual:\",y_test_raw[i])\n",
    "    plt.imshow(X_test[i], cmap=plt.cm.Blues)\n",
    "    plt.show()"
   ]
  },
  {
   "cell_type": "code",
   "execution_count": null,
   "metadata": {},
   "outputs": [],
   "source": []
  }
 ],
 "metadata": {
  "kernelspec": {
   "display_name": "Python 3",
   "language": "python",
   "name": "python3"
  },
  "language_info": {
   "codemirror_mode": {
    "name": "ipython",
    "version": 3
   },
   "file_extension": ".py",
   "mimetype": "text/x-python",
   "name": "python",
   "nbconvert_exporter": "python",
   "pygments_lexer": "ipython3",
   "version": "3.7.2"
  }
 },
 "nbformat": 4,
 "nbformat_minor": 2
}
