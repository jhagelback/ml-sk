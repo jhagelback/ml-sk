{
 "cells": [
  {
   "cell_type": "markdown",
   "metadata": {},
   "source": [
    "<h2>IMDB sentiment analysis</h2>\n",
    "Deep Learning using Word Embedding for the IMDB sentiment analysis dataset.\n",
    "\n",
    "Based on <a href=\"https://machinelearningmastery.com/predict-sentiment-movie-reviews-using-deep-learning/\">How to Predict Sentiment From Movie Reviews Using Deep Learning (Text Classification)</a>."
   ]
  },
  {
   "cell_type": "markdown",
   "metadata": {},
   "source": [
    "<h3>Imports</h3>"
   ]
  },
  {
   "cell_type": "code",
   "execution_count": 1,
   "metadata": {},
   "outputs": [
    {
     "name": "stdout",
     "output_type": "stream",
     "text": [
      "TF version: 2.2.0\n"
     ]
    }
   ],
   "source": [
    "import numpy as np\n",
    "import pandas as pd\n",
    "import time\n",
    "\n",
    "import tensorflow as tf\n",
    "from tensorflow.keras.datasets import imdb\n",
    "from tensorflow.keras.models import Sequential\n",
    "from tensorflow.keras.layers import Dense, Flatten, Conv1D, MaxPooling1D, Embedding, Dropout, GRU\n",
    "from tensorflow.keras.preprocessing import sequence\n",
    "from tensorflow.keras.optimizers import Adam\n",
    "from tensorflow.keras.callbacks import ModelCheckpoint\n",
    "\n",
    "import matplotlib.pyplot as plt\n",
    "%matplotlib inline\n",
    "\n",
    "print(\"TF version:\", tf.__version__)"
   ]
  },
  {
   "cell_type": "markdown",
   "metadata": {},
   "source": [
    "<h3>Dataset statistics</h3>"
   ]
  },
  {
   "cell_type": "code",
   "execution_count": 2,
   "metadata": {},
   "outputs": [
    {
     "name": "stdout",
     "output_type": "stream",
     "text": [
      "Number of words: 88585\n",
      "Length of reviews: mean 234.76 words (std = 172.91149)\n",
      "Percentage of reviews covered by max length: 91.93%\n"
     ]
    }
   ],
   "source": [
    "# Dataset statistics\n",
    "(x_train_raw, y_train_raw), (x_test_raw, y_test_raw) = imdb.load_data()\n",
    "x = np.concatenate((x_train_raw, x_test_raw), axis=0)\n",
    "\n",
    "# Summarize number of words\n",
    "print(\"Number of words:\", len(np.unique(np.hstack(x))))\n",
    "\n",
    "# Summarize review length\n",
    "result = [len(xe) for xe in x]\n",
    "print(\"Length of reviews: mean {0:.2f} words (std = {1:.5f})\".format(np.mean(result), np.std(result)))\n",
    "\n",
    "# See how many reviews are covered by max length\n",
    "max_length = 500\n",
    "cnt = 0\n",
    "for xl in result:\n",
    "    if xl <= max_length:\n",
    "        cnt += 1\n",
    "print(\"Percentage of reviews covered by max length: {0:.2f}%\".format(cnt / len(result) * 100))"
   ]
  },
  {
   "cell_type": "markdown",
   "metadata": {},
   "source": [
    "<h3>Load and pre-process data</h3>"
   ]
  },
  {
   "cell_type": "code",
   "execution_count": 2,
   "metadata": {},
   "outputs": [
    {
     "name": "stdout",
     "output_type": "stream",
     "text": [
      "Training dataset: (25000, 500)\n",
      "Test dataset: (25000, 500)\n",
      "Embeddings size: 64\n"
     ]
    }
   ],
   "source": [
    "# Load the dataset but only keep the top n words\n",
    "top_words = 5000 # 5000\n",
    "(x_train, y_train), (x_test, y_test) = imdb.load_data(num_words=top_words)\n",
    "\n",
    "# Pad sentences to a specified length in words\n",
    "max_words = 500\n",
    "x_train = sequence.pad_sequences(x_train, maxlen=max_words)\n",
    "x_test = sequence.pad_sequences(x_test, maxlen=max_words)\n",
    "\n",
    "print(\"Training dataset:\",x_train.shape)\n",
    "print(\"Test dataset:\",x_test.shape)\n",
    "\n",
    "embedding_size = 64 # 32\n",
    "print(\"Embeddings size:\", embedding_size)"
   ]
  },
  {
   "cell_type": "markdown",
   "metadata": {},
   "source": [
    "<h3>Function for training and evaluating a Keras network</h3>"
   ]
  },
  {
   "cell_type": "code",
   "execution_count": 7,
   "metadata": {},
   "outputs": [],
   "source": [
    "def train_and_evaluate(model, no_epochs=5):\n",
    "    filepath=\"weights_best.hdf5\"\n",
    "    checkpoint = ModelCheckpoint(filepath, monitor='val_accuracy', verbose=0, save_best_only=True, mode='max',save_weights_only=True)\n",
    "    \n",
    "    # Train model\n",
    "    start = time.time()\n",
    "    history = model.fit(x_train, y_train, epochs=no_epochs, batch_size=256, verbose=0, validation_data=(x_test,y_test), callbacks=[checkpoint])\n",
    "    end = time.time()\n",
    "    print(\"Training time: {0:.2f} sec\".format(end-start))\n",
    "    \n",
    "    # Plot training history\n",
    "    plt.plot(history.history[\"accuracy\"])\n",
    "    plt.plot(history.history[\"val_accuracy\"])\n",
    "    plt.ylabel(\"Accuracy\")\n",
    "    plt.xlabel(\"Epoch\")\n",
    "    plt.legend([\"train\", \"validation\"], loc=\"upper left\")\n",
    "    plt.show()\n",
    "\n",
    "    # Evaluate model on test data\n",
    "    score = model.evaluate(x_test, y_test, verbose=0)\n",
    "    # Print results\n",
    "    print(\"\\nTest Accuracy: {0:0.2f}%\".format(score[1] * 100))"
   ]
  },
  {
   "cell_type": "markdown",
   "metadata": {},
   "source": [
    "<h3>Linear classifier</h3>"
   ]
  },
  {
   "cell_type": "code",
   "execution_count": 8,
   "metadata": {
    "scrolled": true
   },
   "outputs": [
    {
     "name": "stdout",
     "output_type": "stream",
     "text": [
      "Training time: 5.29 sec\n"
     ]
    },
    {
     "data": {
      "image/png": "[encoded data removed]",
      "text/plain": [
       "<Figure size 432x288 with 1 Axes>"
      ]
     },
     "metadata": {
      "needs_background": "light"
     },
     "output_type": "display_data"
    },
    {
     "name": "stdout",
     "output_type": "stream",
     "text": [
      "\n",
      "Test Accuracy: 88.29%\n"
     ]
    }
   ],
   "source": [
    "model = Sequential()\n",
    "model.add(Embedding(input_dim=top_words, output_dim=embedding_size, input_length=max_words))\n",
    "model.add(Flatten())\n",
    "model.add(Dense(1, activation=\"sigmoid\"))\n",
    "model.compile(loss=\"binary_crossentropy\", optimizer=Adam(learning_rate=0.002), metrics=[\"accuracy\"])\n",
    "\n",
    "train_and_evaluate(model, no_epochs=3)"
   ]
  },
  {
   "cell_type": "markdown",
   "metadata": {},
   "source": [
    "<h3>Neural Network classifier</h3>"
   ]
  },
  {
   "cell_type": "code",
   "execution_count": 9,
   "metadata": {},
   "outputs": [
    {
     "name": "stdout",
     "output_type": "stream",
     "text": [
      "Training time: 15.45 sec\n"
     ]
    },
    {
     "data": {
      "image/png": "[encoded data removed]",
      "text/plain": [
       "<Figure size 432x288 with 1 Axes>"
      ]
     },
     "metadata": {
      "needs_background": "light"
     },
     "output_type": "display_data"
    },
    {
     "name": "stdout",
     "output_type": "stream",
     "text": [
      "\n",
      "Test Accuracy: 86.29%\n"
     ]
    }
   ],
   "source": [
    "model = Sequential()\n",
    "model.add(Embedding(input_dim=top_words, output_dim=embedding_size, input_length=max_words))\n",
    "model.add(Flatten())\n",
    "model.add(Dense(128, activation=\"relu\"))\n",
    "model.add(Dropout(0.4))\n",
    "model.add(Dense(1, activation=\"sigmoid\"))\n",
    "model.compile(loss=\"binary_crossentropy\", optimizer=Adam(learning_rate=0.002), metrics=[\"accuracy\"])\n",
    "\n",
    "train_and_evaluate(model, no_epochs=3)"
   ]
  },
  {
   "cell_type": "markdown",
   "metadata": {},
   "source": [
    "<h3>ConvNet classifier</h3>"
   ]
  },
  {
   "cell_type": "code",
   "execution_count": 10,
   "metadata": {
    "scrolled": false
   },
   "outputs": [
    {
     "name": "stdout",
     "output_type": "stream",
     "text": [
      "Training time: 55.98 sec\n"
     ]
    },
    {
     "data": {
      "image/png": "[encoded data removed]",
      "text/plain": [
       "<Figure size 432x288 with 1 Axes>"
      ]
     },
     "metadata": {
      "needs_background": "light"
     },
     "output_type": "display_data"
    },
    {
     "name": "stdout",
     "output_type": "stream",
     "text": [
      "\n",
      "Test Accuracy: 88.76%\n"
     ]
    }
   ],
   "source": [
    "model = Sequential()\n",
    "model.add(Embedding(input_dim=top_words, output_dim=embedding_size, input_length=max_words))\n",
    "model.add(Conv1D(filters=64, kernel_size=5, padding=\"same\", activation=\"relu\"))\n",
    "model.add(MaxPooling1D())\n",
    "model.add(Flatten())\n",
    "model.add(Dense(128, activation=\"relu\"))\n",
    "model.add(Dropout(0.4))\n",
    "model.add(Dense(1, activation=\"sigmoid\"))\n",
    "model.compile(loss=\"binary_crossentropy\", optimizer=Adam(learning_rate=0.001), metrics=[\"accuracy\"])\n",
    "\n",
    "train_and_evaluate(model, no_epochs=3)"
   ]
  },
  {
   "cell_type": "markdown",
   "metadata": {},
   "source": [
    "<h3>Recurrent CNN+LSTM classifier</h3>\n",
    "\n",
    "See <a href=\"https://medium.com/@mrunal68/text-sentiments-classification-with-cnn-and-lstm-f92652bc29fd\">Text Sentiments Classification with CNN and LSTM</a>."
   ]
  },
  {
   "cell_type": "code",
   "execution_count": 63,
   "metadata": {},
   "outputs": [
    {
     "name": "stdout",
     "output_type": "stream",
     "text": [
      "Training time: 87.10 sec\n"
     ]
    },
    {
     "data": {
      "image/png": "[encoded data removed]",
      "text/plain": [
       "<Figure size 432x288 with 1 Axes>"
      ]
     },
     "metadata": {
      "needs_background": "light"
     },
     "output_type": "display_data"
    },
    {
     "name": "stdout",
     "output_type": "stream",
     "text": [
      "\n",
      "Test Accuracy: 88.63%\n"
     ]
    }
   ],
   "source": [
    "model = Sequential()\n",
    "# Embedding layer\n",
    "model.add(Embedding(input_dim=top_words, output_dim=embedding_size, input_length=max_words))\n",
    "# ConvNet layer\n",
    "model.add(Conv1D(filters=32, kernel_size=5, padding=\"same\", activation=\"relu\"))\n",
    "model.add(MaxPooling1D())\n",
    "model.add(Conv1D(filters=32, kernel_size=5, padding=\"same\", activation=\"relu\"))\n",
    "model.add(MaxPooling1D())\n",
    "# Recurrent layer using GRU\n",
    "model.add(GRU(32, return_sequences=True, dropout=0.2, recurrent_dropout=0.2))\n",
    "# Fully connected layer\n",
    "model.add(Flatten())\n",
    "model.add(Dense(250, activation=\"relu\")) # 128\n",
    "model.add(Dropout(0.4))\n",
    "model.add(Dense(1, activation=\"sigmoid\"))\n",
    "\n",
    "model.compile(loss=\"binary_crossentropy\", optimizer=Adam(learning_rate=0.005, amsgrad=True), metrics=[\"accuracy\"])\n",
    "\n",
    "train_and_evaluate(model, no_epochs=3)"
   ]
  },
  {
   "cell_type": "markdown",
   "metadata": {},
   "source": [
    "<h2>Compare with traditional ML methods</h2>"
   ]
  },
  {
   "cell_type": "markdown",
   "metadata": {},
   "source": [
    "<h3>Imports</h3>"
   ]
  },
  {
   "cell_type": "code",
   "execution_count": 13,
   "metadata": {},
   "outputs": [],
   "source": [
    "from sklearn.feature_extraction.text import CountVectorizer, TfidfTransformer\n",
    "from sklearn.naive_bayes import MultinomialNB\n",
    "from sklearn.metrics import accuracy_score\n",
    "from sklearn import svm"
   ]
  },
  {
   "cell_type": "markdown",
   "metadata": {},
   "source": [
    "<h3>Convert to whitespace-separated string format</h3>"
   ]
  },
  {
   "cell_type": "code",
   "execution_count": 14,
   "metadata": {},
   "outputs": [],
   "source": [
    "# Re-load data\n",
    "(x_train_r, y_train), (x_test_r, y_test) = imdb.load_data(num_words=top_words)\n",
    "\n",
    "# Convert\n",
    "x_str_raw = []\n",
    "for r in x_train_r:\n",
    "    s = \" \".join(map(str, r))\n",
    "    x_str_raw.append(s)\n",
    "\n",
    "for r in x_test_r:\n",
    "    s = \" \".join(map(str, r))\n",
    "    x_str_raw.append(s)"
   ]
  },
  {
   "cell_type": "markdown",
   "metadata": {},
   "source": [
    "<h3>Bag-of-words conversion</h3>"
   ]
  },
  {
   "cell_type": "code",
   "execution_count": 15,
   "metadata": {},
   "outputs": [
    {
     "name": "stdout",
     "output_type": "stream",
     "text": [
      "(25000, 4990) (25000, 4990)\n"
     ]
    }
   ],
   "source": [
    "cvec = CountVectorizer()\n",
    "cvec.fit(x_str_raw)\n",
    "x_str = cvec.transform(x_str_raw)\n",
    "\n",
    "tfid = TfidfTransformer().fit(x_str)\n",
    "x_str = tfid.transform(x_str)\n",
    "\n",
    "# Split into train and test sets\n",
    "x_train_str = x_str[:25000]\n",
    "x_test_str = x_str[25000:]\n",
    "\n",
    "print(x_train_str.shape, x_test_str.shape)"
   ]
  },
  {
   "cell_type": "markdown",
   "metadata": {},
   "source": [
    "<h3>Function for training and evaluating a model</h3>"
   ]
  },
  {
   "cell_type": "code",
   "execution_count": 16,
   "metadata": {},
   "outputs": [],
   "source": [
    "def train_and_evaluate_model(model):\n",
    "    # Train model\n",
    "    start = time.time()\n",
    "    model.fit(x_train_str, y_train)\n",
    "    end = time.time()\n",
    "    print(\"Training time: {0:.2f} sec\".format(end-start))\n",
    "    \n",
    "    # Evaluate model on test data\n",
    "    y_pred = model.predict(x_test_str)\n",
    "    # Calculate accuracy\n",
    "    accuracy = accuracy_score(y_test, y_pred)\n",
    "    print(\"\\nTest Accuracy: {0:0.2f}%\".format(accuracy * 100))"
   ]
  },
  {
   "cell_type": "markdown",
   "metadata": {},
   "source": [
    "<h3>Multinomial Naïve Bayes</h3>"
   ]
  },
  {
   "cell_type": "code",
   "execution_count": 17,
   "metadata": {},
   "outputs": [
    {
     "name": "stdout",
     "output_type": "stream",
     "text": [
      "Training time: 0.02 sec\n",
      "\n",
      "Test Accuracy: 84.26%\n"
     ]
    }
   ],
   "source": [
    "train_and_evaluate_model(MultinomialNB())"
   ]
  },
  {
   "cell_type": "markdown",
   "metadata": {},
   "source": [
    "<h3>SVM</h3>"
   ]
  },
  {
   "cell_type": "code",
   "execution_count": 18,
   "metadata": {},
   "outputs": [
    {
     "name": "stdout",
     "output_type": "stream",
     "text": [
      "Training time: 0.19 sec\n",
      "\n",
      "Test Accuracy: 88.68%\n"
     ]
    }
   ],
   "source": [
    "train_and_evaluate_model(svm.LinearSVC(C=0.1))"
   ]
  },
  {
   "cell_type": "code",
   "execution_count": null,
   "metadata": {},
   "outputs": [],
   "source": []
  }
 ],
 "metadata": {
  "kernelspec": {
   "display_name": "Python 3",
   "language": "python",
   "name": "python3"
  },
  "language_info": {
   "codemirror_mode": {
    "name": "ipython",
    "version": 3
   },
   "file_extension": ".py",
   "mimetype": "text/x-python",
   "name": "python",
   "nbconvert_exporter": "python",
   "pygments_lexer": "ipython3",
   "version": "3.7.6"
  }
 },
 "nbformat": 4,
 "nbformat_minor": 2
}
