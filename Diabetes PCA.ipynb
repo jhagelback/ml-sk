{
 "cells": [
  {
   "cell_type": "markdown",
   "metadata": {},
   "source": [
    "<h2>Load data</h2>"
   ]
  },
  {
   "cell_type": "code",
   "execution_count": 1,
   "metadata": {},
   "outputs": [
    {
     "name": "stdout",
     "output_type": "stream",
     "text": [
      "Attributes: 8\n",
      "Examples: 768\n"
     ]
    }
   ],
   "source": [
    "from numpy import loadtxt\n",
    "from sklearn.preprocessing import LabelEncoder\n",
    "from sklearn.utils import shuffle\n",
    "\n",
    "# load data\n",
    "import pandas as pd\n",
    "df = pd.read_csv('data/diabetes.csv')\n",
    "np_data = df.values\n",
    "\n",
    "# split data into X and y\n",
    "X_raw = np_data[:,0:-1]\n",
    "# Convert class label strings to integers\n",
    "Y_raw = np_data[:,-1]\n",
    "encoder = LabelEncoder()\n",
    "encoder.fit(Y_raw)\n",
    "Y = encoder.transform(Y_raw)\n",
    "\n",
    "# set seed to randomizer\n",
    "seed = 7\n",
    "\n",
    "# shuffle data\n",
    "X_raw, Y = shuffle(X_raw, Y, random_state=0)\n",
    "\n",
    "print(\"Attributes: {}\".format(X_raw.shape[1]))\n",
    "print(\"Examples: {}\".format(X_raw.shape[0]))"
   ]
  },
  {
   "cell_type": "markdown",
   "metadata": {},
   "source": [
    "<h2>Function for evaluating model accuracy</h2>"
   ]
  },
  {
   "cell_type": "code",
   "execution_count": 2,
   "metadata": {},
   "outputs": [],
   "source": [
    "from sklearn.metrics import accuracy_score\n",
    "from sklearn.model_selection import cross_val_predict\n",
    "from sklearn.metrics import confusion_matrix\n",
    "\n",
    "def evaluate(model):\n",
    "    print(\"-- Training data --\")\n",
    "    # train model on training dataset\n",
    "    model.fit(X, Y)\n",
    "    # evaluate dataset\n",
    "    y_pred = model.predict(X)\n",
    "    # calculate accuracy\n",
    "    accuracy = accuracy_score(Y, y_pred)\n",
    "    print(\"Accuracy: %.2f%%\" % (accuracy * 100.0))\n",
    "    # confusion matrix\n",
    "    print(\"Confusion Matrix:\")\n",
    "    conf_mx = confusion_matrix(Y, y_pred)\n",
    "    print(conf_mx)\n",
    "    \n",
    "    print(\"\")\n",
    "    print(\"-- 10-fold CV --\")\n",
    "    # 10-fold CV\n",
    "    y_pred = cross_val_predict(model, X, Y, cv=10)\n",
    "    # calculate accuracy\n",
    "    accuracy = accuracy_score(Y, y_pred)\n",
    "    print(\"Average accuracy: %.2f%%\" % (accuracy * 100.0))\n",
    "    # confusion matrix\n",
    "    print(\"Confusion Matrix:\")\n",
    "    conf_mx = confusion_matrix(Y, y_pred)\n",
    "    print(conf_mx)"
   ]
  },
  {
   "cell_type": "markdown",
   "metadata": {},
   "source": [
    "<h2>Dimensionality Reduction</h2>\n",
    "Using Principal Component Analysis (PCA) to reduce from 4 to 2 attributes."
   ]
  },
  {
   "cell_type": "code",
   "execution_count": 3,
   "metadata": {},
   "outputs": [
    {
     "name": "stdout",
     "output_type": "stream",
     "text": [
      "Original attributes: 8\n",
      "Attributes after reduction: 4\n",
      "Min value: [-91.50338786 -86.24860793 -50.13875903 -45.47223828]\n",
      "Max value: [767.47406204 114.93061601  77.41257799  75.4618994 ]\n",
      "Value range: [858.9774499  201.17922394 127.55133702 120.93413768]\n"
     ]
    }
   ],
   "source": [
    "from sklearn.decomposition import PCA\n",
    "\n",
    "print(\"Original attributes: {}\".format(X_raw.shape[1]))\n",
    "dr = PCA(n_components=4)\n",
    "dr.fit(X_raw)\n",
    "X = dr.transform(X_raw)\n",
    "print(\"Attributes after reduction: {}\".format(X.shape[1]))\n",
    "\n",
    "# Show min, max and range of attributes\n",
    "attr_min = X.min(0)\n",
    "attr_max = X.max(0)\n",
    "attr_range = attr_max - attr_min\n",
    "print(\"Min value: {}\".format(attr_min))\n",
    "print(\"Max value: {}\".format(attr_max))\n",
    "print(\"Value range: {}\".format(attr_range))"
   ]
  },
  {
   "cell_type": "markdown",
   "metadata": {},
   "source": [
    "<h2>Linear classifier</h2>"
   ]
  },
  {
   "cell_type": "code",
   "execution_count": 4,
   "metadata": {},
   "outputs": [
    {
     "name": "stdout",
     "output_type": "stream",
     "text": [
      "-- Training data --\n",
      "Accuracy: 61.33%\n",
      "Confusion Matrix:\n",
      "[[354 146]\n",
      " [151 117]]\n",
      "\n",
      "-- 10-fold CV --\n",
      "Average accuracy: 68.75%\n",
      "Confusion Matrix:\n",
      "[[393 107]\n",
      " [133 135]]\n"
     ]
    }
   ],
   "source": [
    "from sklearn import linear_model\n",
    "\n",
    "# train model\n",
    "model = linear_model.SGDClassifier(max_iter=2000, random_state=seed)\n",
    "evaluate(model)"
   ]
  },
  {
   "cell_type": "markdown",
   "metadata": {},
   "source": [
    "<h2>Neural Network classifier</h2>"
   ]
  },
  {
   "cell_type": "code",
   "execution_count": 17,
   "metadata": {},
   "outputs": [
    {
     "name": "stdout",
     "output_type": "stream",
     "text": [
      "-- Training data --\n",
      "Accuracy: 90.10%\n",
      "Confusion Matrix:\n",
      "[[474  26]\n",
      " [ 50 218]]\n",
      "\n",
      "-- 10-fold CV --\n",
      "Average accuracy: 63.67%\n",
      "Confusion Matrix:\n",
      "[[362 138]\n",
      " [141 127]]\n"
     ]
    }
   ],
   "source": [
    "from sklearn.neural_network import MLPClassifier\n",
    "\n",
    "# train model\n",
    "model = MLPClassifier(max_iter=2000, random_state=seed, solver='lbfgs')\n",
    "evaluate(model)"
   ]
  },
  {
   "cell_type": "markdown",
   "metadata": {},
   "source": [
    "<h2>Decision Tree classifier</h2>"
   ]
  },
  {
   "cell_type": "code",
   "execution_count": 6,
   "metadata": {},
   "outputs": [
    {
     "name": "stdout",
     "output_type": "stream",
     "text": [
      "-- Training data --\n",
      "Accuracy: 100.00%\n",
      "Confusion Matrix:\n",
      "[[500   0]\n",
      " [  0 268]]\n",
      "\n",
      "-- 10-fold CV --\n",
      "Average accuracy: 64.45%\n",
      "Confusion Matrix:\n",
      "[[356 144]\n",
      " [129 139]]\n"
     ]
    }
   ],
   "source": [
    "from sklearn.tree import DecisionTreeClassifier\n",
    "\n",
    "# train model\n",
    "model = DecisionTreeClassifier(random_state=seed)\n",
    "evaluate(model)"
   ]
  },
  {
   "cell_type": "markdown",
   "metadata": {},
   "source": [
    "<h2>SVM classifier</h2>"
   ]
  },
  {
   "cell_type": "code",
   "execution_count": 22,
   "metadata": {},
   "outputs": [
    {
     "name": "stdout",
     "output_type": "stream",
     "text": [
      "-- Training data --\n",
      "Accuracy: 100.00%\n",
      "Confusion Matrix:\n",
      "[[500   0]\n",
      " [  0 268]]\n",
      "\n",
      "-- 10-fold CV --\n",
      "Average accuracy: 64.58%\n",
      "Confusion Matrix:\n",
      "[[493   7]\n",
      " [265   3]]\n"
     ]
    }
   ],
   "source": [
    "from sklearn import svm\n",
    "\n",
    "# train model\n",
    "model = svm.SVC(random_state=seed, C=120)\n",
    "evaluate(model)"
   ]
  },
  {
   "cell_type": "markdown",
   "metadata": {},
   "source": [
    "<h2>kNN classifier</h2>"
   ]
  },
  {
   "cell_type": "code",
   "execution_count": 13,
   "metadata": {},
   "outputs": [
    {
     "name": "stdout",
     "output_type": "stream",
     "text": [
      "-- Training data --\n",
      "Accuracy: 83.85%\n",
      "Confusion Matrix:\n",
      "[[453  47]\n",
      " [ 77 191]]\n",
      "\n",
      "-- 10-fold CV --\n",
      "Average accuracy: 66.93%\n",
      "Confusion Matrix:\n",
      "[[386 114]\n",
      " [140 128]]\n"
     ]
    }
   ],
   "source": [
    "from sklearn.neighbors import KNeighborsClassifier\n",
    "\n",
    "# train model\n",
    "model = KNeighborsClassifier(n_neighbors=3)\n",
    "evaluate(model)"
   ]
  },
  {
   "cell_type": "markdown",
   "metadata": {},
   "source": [
    "<h2>XGBoost classifier</h2>"
   ]
  },
  {
   "cell_type": "code",
   "execution_count": 15,
   "metadata": {},
   "outputs": [
    {
     "name": "stdout",
     "output_type": "stream",
     "text": [
      "-- Training data --\n",
      "Accuracy: 85.03%\n",
      "Confusion Matrix:\n",
      "[[469  31]\n",
      " [ 84 184]]\n",
      "\n",
      "-- 10-fold CV --\n",
      "Average accuracy: 72.66%\n",
      "Confusion Matrix:\n",
      "[[422  78]\n",
      " [132 136]]\n"
     ]
    }
   ],
   "source": [
    "from xgboost import XGBClassifier\n",
    "# Ignore deprecation warnings\n",
    "import warnings\n",
    "warnings.filterwarnings(\"ignore\", category=DeprecationWarning)\n",
    "\n",
    "# train model\n",
    "model = XGBClassifier(random_state=seed)\n",
    "evaluate(model)"
   ]
  },
  {
   "cell_type": "markdown",
   "metadata": {},
   "source": [
    "<h2>Plot attributes</h2>"
   ]
  },
  {
   "cell_type": "code",
   "execution_count": 16,
   "metadata": {},
   "outputs": [
    {
     "data": {
      "image/png": "[encoded data removed]",
      "text/plain": [
       "<Figure size 432x288 with 1 Axes>"
      ]
     },
     "metadata": {},
     "output_type": "display_data"
    },
    {
     "data": {
      "image/png": "[encoded data removed]",
      "text/plain": [
       "<Figure size 432x288 with 1 Axes>"
      ]
     },
     "metadata": {},
     "output_type": "display_data"
    },
    {
     "data": {
      "image/png": "[encoded data removed]",
      "text/plain": [
       "<Figure size 432x288 with 1 Axes>"
      ]
     },
     "metadata": {},
     "output_type": "display_data"
    },
    {
     "data": {
      "image/png": "[encoded data removed]",
      "text/plain": [
       "<Figure size 432x288 with 1 Axes>"
      ]
     },
     "metadata": {},
     "output_type": "display_data"
    }
   ],
   "source": [
    "%matplotlib inline\n",
    "import matplotlib.pyplot as plt\n",
    "plt.hist(X[:,0], bins=50)\n",
    "plt.show()\n",
    "plt.hist(X[:,1], bins=50)\n",
    "plt.show()\n",
    "plt.hist(X[:,2], bins=50)\n",
    "plt.show()\n",
    "plt.hist(X[:,3], bins=50)\n",
    "plt.show()"
   ]
  },
  {
   "cell_type": "code",
   "execution_count": null,
   "metadata": {},
   "outputs": [],
   "source": []
  }
 ],
 "metadata": {
  "kernelspec": {
   "display_name": "Python 3",
   "language": "python",
   "name": "python3"
  },
  "language_info": {
   "codemirror_mode": {
    "name": "ipython",
    "version": 3
   },
   "file_extension": ".py",
   "mimetype": "text/x-python",
   "name": "python",
   "nbconvert_exporter": "python",
   "pygments_lexer": "ipython3",
   "version": "3.6.0b3"
  }
 },
 "nbformat": 4,
 "nbformat_minor": 2
}
