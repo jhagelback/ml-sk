{
 "cells": [
  {
   "cell_type": "markdown",
   "metadata": {},
   "source": [
    "<h2>Load data</h2>"
   ]
  },
  {
   "cell_type": "code",
   "execution_count": 1,
   "metadata": {},
   "outputs": [],
   "source": [
    "from numpy import loadtxt\n",
    "\n",
    "# load data\n",
    "import pandas as pd\n",
    "df = pd.read_csv('data/diabetes_pca.csv')\n",
    "np_data = df.values\n",
    "\n",
    "# split data into X and y\n",
    "X = np_data[:,0:-1]\n",
    "Y = pd.factorize(np_data[:,-1])[0]\n",
    "\n",
    "# set seed to randomizer\n",
    "seed = 7"
   ]
  },
  {
   "cell_type": "markdown",
   "metadata": {},
   "source": [
    "<h2>Function for evaluating model accuracy</h2>"
   ]
  },
  {
   "cell_type": "code",
   "execution_count": 25,
   "metadata": {},
   "outputs": [],
   "source": [
    "from sklearn.metrics import accuracy_score\n",
    "from sklearn.model_selection import cross_val_predict\n",
    "from sklearn.metrics import confusion_matrix\n",
    "\n",
    "def evaluate(model):\n",
    "    print(\"-- Training data --\")\n",
    "    # train model on training dataset\n",
    "    model.fit(X, Y)\n",
    "    # evaluate dataset\n",
    "    y_pred = model.predict(X)\n",
    "    predictions = [round(value) for value in y_pred]\n",
    "    # calculate accuracy\n",
    "    accuracy = accuracy_score(Y, predictions)\n",
    "    print(\"Accuracy: %.2f%%\" % (accuracy * 100.0))\n",
    "    # confusion matrix\n",
    "    print(\"Confusion Matrix:\")\n",
    "    conf_mx = confusion_matrix(Y, y_pred)\n",
    "    print(conf_mx)\n",
    "    \n",
    "    print(\"\")\n",
    "    print(\"-- 10-fold CV --\")\n",
    "    # 10-fold CV\n",
    "    y_pred = cross_val_predict(model, X, Y, cv=10)\n",
    "    # calculate accuracy\n",
    "    predictions = [round(value) for value in y_pred]\n",
    "    accuracy = accuracy_score(Y, predictions)\n",
    "    print(\"Average accuracy: %.2f%%\" % (accuracy * 100.0))\n",
    "    # confusion matrix\n",
    "    print(\"Confusion Matrix:\")\n",
    "    conf_mx = confusion_matrix(Y, y_pred)\n",
    "    print(conf_mx)"
   ]
  },
  {
   "cell_type": "markdown",
   "metadata": {},
   "source": [
    "<h2>Linear classifier</h2>"
   ]
  },
  {
   "cell_type": "code",
   "execution_count": 6,
   "metadata": {},
   "outputs": [
    {
     "name": "stdout",
     "output_type": "stream",
     "text": [
      "-- Training data --\n",
      "Accuracy: 73.70%\n",
      "Confusion Matrix:\n",
      "[[ 99 169]\n",
      " [ 33 467]]\n",
      "\n",
      "-- 10-fold CV --\n",
      "Average accuracy: 72.53%\n",
      "Confusion Matrix:\n",
      "[[132 136]\n",
      " [ 75 425]]\n"
     ]
    }
   ],
   "source": [
    "from sklearn import linear_model\n",
    "\n",
    "# train model\n",
    "model = linear_model.SGDClassifier(max_iter=2500, random_state=seed)\n",
    "evaluate(model)"
   ]
  },
  {
   "cell_type": "markdown",
   "metadata": {},
   "source": [
    "<h2>Neural Network classifier</h2>"
   ]
  },
  {
   "cell_type": "code",
   "execution_count": 16,
   "metadata": {},
   "outputs": [
    {
     "name": "stdout",
     "output_type": "stream",
     "text": [
      "-- Training data --\n",
      "Accuracy: 71.74%\n",
      "Confusion Matrix:\n",
      "[[ 91 177]\n",
      " [ 40 460]]\n",
      "\n",
      "-- 10-fold CV --\n",
      "Average accuracy: 67.84%\n",
      "Confusion Matrix:\n",
      "[[ 93 175]\n",
      " [ 72 428]]\n"
     ]
    }
   ],
   "source": [
    "from sklearn.neural_network import MLPClassifier\n",
    "\n",
    "# train model\n",
    "model = MLPClassifier(max_iter=500, random_state=seed, learning_rate_init=0.1)\n",
    "evaluate(model)"
   ]
  },
  {
   "cell_type": "markdown",
   "metadata": {},
   "source": [
    "<h2>Decision Tree classifier</h2>"
   ]
  },
  {
   "cell_type": "code",
   "execution_count": 17,
   "metadata": {},
   "outputs": [
    {
     "name": "stdout",
     "output_type": "stream",
     "text": [
      "-- Training data --\n",
      "Accuracy: 80.21%\n",
      "Confusion Matrix:\n",
      "[[181  87]\n",
      " [ 65 435]]\n",
      "\n",
      "-- 10-fold CV --\n",
      "Average accuracy: 69.66%\n",
      "Confusion Matrix:\n",
      "[[153 115]\n",
      " [118 382]]\n"
     ]
    }
   ],
   "source": [
    "from sklearn.tree import DecisionTreeClassifier\n",
    "\n",
    "# train model\n",
    "model = DecisionTreeClassifier(min_samples_leaf=10, max_depth=8, random_state=seed)\n",
    "evaluate(model)"
   ]
  },
  {
   "cell_type": "markdown",
   "metadata": {},
   "source": [
    "<h2>SVM classifier</h2>"
   ]
  },
  {
   "cell_type": "code",
   "execution_count": 26,
   "metadata": {},
   "outputs": [
    {
     "name": "stdout",
     "output_type": "stream",
     "text": [
      "-- Training data --\n",
      "Accuracy: 99.87%\n",
      "Confusion Matrix:\n",
      "[[267   1]\n",
      " [  0 500]]\n",
      "\n",
      "-- 10-fold CV --\n",
      "Average accuracy: 64.71%\n",
      "Confusion Matrix:\n",
      "[[  0 268]\n",
      " [  3 497]]\n"
     ]
    }
   ],
   "source": [
    "from sklearn import svm\n",
    "\n",
    "# train model\n",
    "model = svm.SVC(random_state=seed)\n",
    "evaluate(model)"
   ]
  },
  {
   "cell_type": "markdown",
   "metadata": {},
   "source": [
    "<h2>kNN classifier</h2>"
   ]
  },
  {
   "cell_type": "code",
   "execution_count": 19,
   "metadata": {},
   "outputs": [
    {
     "name": "stdout",
     "output_type": "stream",
     "text": [
      "-- Training data --\n",
      "Accuracy: 84.51%\n",
      "Confusion Matrix:\n",
      "[[193  75]\n",
      " [ 44 456]]\n",
      "\n",
      "-- 10-fold CV --\n",
      "Average accuracy: 68.36%\n",
      "Confusion Matrix:\n",
      "[[129 139]\n",
      " [104 396]]\n"
     ]
    }
   ],
   "source": [
    "from sklearn.neighbors import KNeighborsClassifier\n",
    "\n",
    "# train model\n",
    "model = KNeighborsClassifier(n_neighbors=3)\n",
    "evaluate(model)"
   ]
  },
  {
   "cell_type": "markdown",
   "metadata": {},
   "source": [
    "<h2>XGBoost classifier</h2>"
   ]
  },
  {
   "cell_type": "code",
   "execution_count": 21,
   "metadata": {},
   "outputs": [
    {
     "name": "stdout",
     "output_type": "stream",
     "text": [
      "-- Training data --\n",
      "Accuracy: 84.51%\n",
      "Confusion Matrix:\n",
      "[[180  88]\n",
      " [ 31 469]]\n",
      "\n",
      "-- 10-fold CV --\n",
      "Average accuracy: 71.74%\n",
      "Confusion Matrix:\n",
      "[[131 137]\n",
      " [ 80 420]]\n"
     ]
    }
   ],
   "source": [
    "from xgboost import XGBClassifier\n",
    "\n",
    "# Ignore deprecation warnings\n",
    "import warnings\n",
    "warnings.filterwarnings(\"ignore\", category=DeprecationWarning)\n",
    "\n",
    "# train model\n",
    "model = XGBClassifier(random_state=seed)\n",
    "evaluate(model)"
   ]
  },
  {
   "cell_type": "markdown",
   "metadata": {},
   "source": [
    "<h2>Plot attributes</h2>"
   ]
  },
  {
   "cell_type": "code",
   "execution_count": 22,
   "metadata": {
    "scrolled": false
   },
   "outputs": [
    {
     "data": {
      "image/png": "[encoded data removed]",
      "text/plain": [
       "<Figure size 1440x1080 with 4 Axes>"
      ]
     },
     "metadata": {},
     "output_type": "display_data"
    }
   ],
   "source": [
    "%matplotlib inline\n",
    "import matplotlib.pyplot as plt\n",
    "df.hist(bins=50, figsize=(20,15))\n",
    "plt.show()"
   ]
  },
  {
   "cell_type": "code",
   "execution_count": null,
   "metadata": {},
   "outputs": [],
   "source": []
  }
 ],
 "metadata": {
  "kernelspec": {
   "display_name": "Python 3",
   "language": "python",
   "name": "python3"
  },
  "language_info": {
   "codemirror_mode": {
    "name": "ipython",
    "version": 3
   },
   "file_extension": ".py",
   "mimetype": "text/x-python",
   "name": "python",
   "nbconvert_exporter": "python",
   "pygments_lexer": "ipython3",
   "version": "3.6.0b3"
  }
 },
 "nbformat": 4,
 "nbformat_minor": 2
}
