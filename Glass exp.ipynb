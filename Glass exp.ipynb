{
 "cells": [
  {
   "cell_type": "markdown",
   "metadata": {},
   "source": [
    "<h2>Load data</h2>"
   ]
  },
  {
   "cell_type": "code",
   "execution_count": 1,
   "metadata": {},
   "outputs": [
    {
     "name": "stdout",
     "output_type": "stream",
     "text": [
      "[-2.38151559 -3.28694275 -1.86551055 -2.31861565 -3.67647162 -0.76391864\n",
      " -2.48408356 -0.35287683 -0.5864509 ]\n",
      "[5.13723188 4.87563749 1.25463857 4.12585061 3.57052422 8.78014487\n",
      " 5.09431802 5.99721046 4.65988118]\n",
      "[7.51874747 8.16258024 3.12014912 6.44446626 7.24699583 9.54406351\n",
      " 7.57840158 6.35008729 5.24633208]\n"
     ]
    }
   ],
   "source": [
    "from numpy import loadtxt\n",
    "import numpy as np\n",
    "\n",
    "# load data\n",
    "import pandas as pd\n",
    "df = pd.read_csv('data/glass_exp.csv')\n",
    "np_data = df.values\n",
    "\n",
    "# split data into X and y\n",
    "X_raw = np_data[:,0:9]\n",
    "Y = pd.factorize(np_data[:,9])[0]\n",
    "\n",
    "# Normalize attributes\n",
    "from sklearn.preprocessing import StandardScaler\n",
    "scaler = StandardScaler()\n",
    "X = scaler.fit_transform(X_raw.astype(np.float64))\n",
    "\n",
    "# set seed to randomizer\n",
    "seed = 7\n",
    "\n",
    "# Show min, max and range of attributes\n",
    "attr_min = X.min(0)\n",
    "attr_max = X.max(0)\n",
    "attr_range = attr_max - attr_min\n",
    "print(attr_min)\n",
    "print(attr_max)\n",
    "print(attr_range)"
   ]
  },
  {
   "cell_type": "markdown",
   "metadata": {},
   "source": [
    "<h2>Function for evaluating model accuracy</h2>"
   ]
  },
  {
   "cell_type": "code",
   "execution_count": 2,
   "metadata": {},
   "outputs": [],
   "source": [
    "from sklearn.metrics import accuracy_score\n",
    "from sklearn.model_selection import cross_val_predict\n",
    "from sklearn.metrics import confusion_matrix\n",
    "\n",
    "%matplotlib inline\n",
    "import matplotlib\n",
    "import matplotlib.pyplot as plt\n",
    "\n",
    "def evaluate(model):\n",
    "    print(\"-- Training data --\")\n",
    "    # train model on training dataset\n",
    "    model.fit(X, Y)\n",
    "    # evaluate dataset\n",
    "    y_pred = model.predict(X)\n",
    "    predictions = [round(value) for value in y_pred]\n",
    "    # calculate accuracy\n",
    "    accuracy = accuracy_score(Y, predictions)\n",
    "    print(\"Accuracy: %.2f%%\" % (accuracy * 100.0))\n",
    "    # confusion matrix\n",
    "    print(\"Confusion Matrix:\")\n",
    "    conf_mx = confusion_matrix(Y, y_pred)\n",
    "    print(conf_mx)\n",
    "    # Visualize (normalized) confusion matrix\n",
    "    row_sums = conf_mx.sum(axis=1, keepdims=True)\n",
    "    norm_conf_mx = conf_mx / row_sums\n",
    "    plt.matshow(norm_conf_mx, cmap=plt.cm.gray)\n",
    "    plt.show()\n",
    "    \n",
    "    print(\"\")\n",
    "    print(\"-- 10-fold CV --\")\n",
    "    # 10-fold CV\n",
    "    y_pred = cross_val_predict(model, X, Y, cv=10)\n",
    "    # calculate accuracy\n",
    "    predictions = [round(value) for value in y_pred]\n",
    "    accuracy = accuracy_score(Y, predictions)\n",
    "    print(\"Average accuracy: %.2f%%\" % (accuracy * 100.0))\n",
    "    # confusion matrix\n",
    "    print(\"Confusion Matrix:\")\n",
    "    conf_mx = confusion_matrix(Y, y_pred)\n",
    "    print(conf_mx)\n",
    "    # Visualize (normalized) confusion matrix\n",
    "    row_sums = conf_mx.sum(axis=1, keepdims=True)\n",
    "    norm_conf_mx = conf_mx / row_sums\n",
    "    plt.matshow(norm_conf_mx, cmap=plt.cm.gray)\n",
    "    plt.show()"
   ]
  },
  {
   "cell_type": "markdown",
   "metadata": {},
   "source": [
    "<h2>Linear classifier</h2>"
   ]
  },
  {
   "cell_type": "code",
   "execution_count": 3,
   "metadata": {},
   "outputs": [
    {
     "name": "stdout",
     "output_type": "stream",
     "text": [
      "-- Training data --\n",
      "Accuracy: 69.16%\n",
      "Confusion Matrix:\n",
      "[[108   0   0  32   0   0]\n",
      " [ 16   0   0  18   0   0]\n",
      " [  0   0  18   0   0   0]\n",
      " [ 42   0   4  96   0  10]\n",
      " [  0   0   0   2  56   0]\n",
      " [  0   0   0   6   2  18]]\n"
     ]
    },
    {
     "data": {
      "image/png": "[encoded data removed]",
      "text/plain": [
       "<Figure size 288x288 with 1 Axes>"
      ]
     },
     "metadata": {},
     "output_type": "display_data"
    },
    {
     "name": "stdout",
     "output_type": "stream",
     "text": [
      "\n",
      "-- 10-fold CV --\n",
      "Average accuracy: 67.52%\n",
      "Confusion Matrix:\n",
      "[[103   1   0  36   0   0]\n",
      " [ 17   0   0  17   0   0]\n",
      " [  0   0  18   0   0   0]\n",
      " [ 39   2   3 105   0   3]\n",
      " [  4   0   0   2  50   2]\n",
      " [  0   0   0  11   2  13]]\n"
     ]
    },
    {
     "data": {
      "image/png": "[encoded data removed]",
      "text/plain": [
       "<Figure size 288x288 with 1 Axes>"
      ]
     },
     "metadata": {},
     "output_type": "display_data"
    }
   ],
   "source": [
    "from sklearn import linear_model\n",
    "\n",
    "# train model\n",
    "model = linear_model.SGDClassifier(max_iter=2000, random_state=seed)\n",
    "evaluate(model)"
   ]
  },
  {
   "cell_type": "markdown",
   "metadata": {},
   "source": [
    "<h2>Neural Network classifier</h2>"
   ]
  },
  {
   "cell_type": "code",
   "execution_count": 11,
   "metadata": {},
   "outputs": [
    {
     "name": "stdout",
     "output_type": "stream",
     "text": [
      "-- Training data --\n",
      "Accuracy: 84.58%\n",
      "Confusion Matrix:\n",
      "[[118   2   0  20   0   0]\n",
      " [ 10  14   0  10   0   0]\n",
      " [  0   0  18   0   0   0]\n",
      " [ 22   0   0 130   0   0]\n",
      " [  2   0   0   0  56   0]\n",
      " [  0   0   0   0   0  26]]\n"
     ]
    },
    {
     "data": {
      "image/png": "[encoded data removed]",
      "text/plain": [
       "<Figure size 288x288 with 1 Axes>"
      ]
     },
     "metadata": {},
     "output_type": "display_data"
    },
    {
     "name": "stdout",
     "output_type": "stream",
     "text": [
      "\n",
      "-- 10-fold CV --\n",
      "Average accuracy: 93.46%\n",
      "Confusion Matrix:\n",
      "[[128   2   0  10   0   0]\n",
      " [  6  28   0   0   0   0]\n",
      " [  0   0  18   0   0   0]\n",
      " [  8   2   0 142   0   0]\n",
      " [  0   0   0   0  58   0]\n",
      " [  0   0   0   0   0  26]]\n"
     ]
    },
    {
     "data": {
      "image/png": "[encoded data removed]",
      "text/plain": [
       "<Figure size 288x288 with 1 Axes>"
      ]
     },
     "metadata": {},
     "output_type": "display_data"
    }
   ],
   "source": [
    "from sklearn.neural_network import MLPClassifier\n",
    "\n",
    "# train model\n",
    "model = MLPClassifier(max_iter=2000, random_state=seed)\n",
    "evaluate(model)"
   ]
  },
  {
   "cell_type": "markdown",
   "metadata": {},
   "source": [
    "<h2>Decision Tree classifier</h2>"
   ]
  },
  {
   "cell_type": "code",
   "execution_count": 5,
   "metadata": {},
   "outputs": [
    {
     "name": "stdout",
     "output_type": "stream",
     "text": [
      "-- Training data --\n",
      "Accuracy: 88.79%\n",
      "Confusion Matrix:\n",
      "[[130   0   0   8   2   0]\n",
      " [  4  28   0   2   0   0]\n",
      " [  2   2  12   2   0   0]\n",
      " [  6   4   2 136   2   2]\n",
      " [  2   2   0   2  52   0]\n",
      " [  0   0   2   0   2  22]]\n"
     ]
    },
    {
     "data": {
      "image/png": "[encoded data removed]",
      "text/plain": [
       "<Figure size 288x288 with 1 Axes>"
      ]
     },
     "metadata": {},
     "output_type": "display_data"
    },
    {
     "name": "stdout",
     "output_type": "stream",
     "text": [
      "\n",
      "-- 10-fold CV --\n",
      "Average accuracy: 80.61%\n",
      "Confusion Matrix:\n",
      "[[124   2   0  12   2   0]\n",
      " [  2  20   1  11   0   0]\n",
      " [  3   2  10   3   0   0]\n",
      " [ 16   7   0 121   2   6]\n",
      " [  2   4   0   2  50   0]\n",
      " [  0   0   2   2   2  20]]\n"
     ]
    },
    {
     "data": {
      "image/png": "[encoded data removed]",
      "text/plain": [
       "<Figure size 288x288 with 1 Axes>"
      ]
     },
     "metadata": {},
     "output_type": "display_data"
    }
   ],
   "source": [
    "from sklearn.tree import DecisionTreeClassifier\n",
    "\n",
    "# train model\n",
    "model = DecisionTreeClassifier(min_samples_leaf=5, random_state=seed)\n",
    "evaluate(model)"
   ]
  },
  {
   "cell_type": "markdown",
   "metadata": {},
   "source": [
    "<h2>SVM classifier</h2>"
   ]
  },
  {
   "cell_type": "code",
   "execution_count": 6,
   "metadata": {},
   "outputs": [
    {
     "name": "stdout",
     "output_type": "stream",
     "text": [
      "-- Training data --\n",
      "Accuracy: 79.91%\n",
      "Confusion Matrix:\n",
      "[[124   0   0  16   0   0]\n",
      " [ 18   2   0  14   0   0]\n",
      " [  0   0  16   2   0   0]\n",
      " [ 34   0   0 118   0   0]\n",
      " [  2   0   0   0  56   0]\n",
      " [  0   0   0   0   0  26]]\n"
     ]
    },
    {
     "data": {
      "image/png": "[encoded data removed]",
      "text/plain": [
       "<Figure size 288x288 with 1 Axes>"
      ]
     },
     "metadata": {},
     "output_type": "display_data"
    },
    {
     "name": "stdout",
     "output_type": "stream",
     "text": [
      "\n",
      "-- 10-fold CV --\n",
      "Average accuracy: 77.57%\n",
      "Confusion Matrix:\n",
      "[[120   0   0  20   0   0]\n",
      " [ 18   0   0  16   0   0]\n",
      " [  0   0  16   2   0   0]\n",
      " [ 38   0   0 114   0   0]\n",
      " [  2   0   0   0  56   0]\n",
      " [  0   0   0   0   0  26]]\n"
     ]
    },
    {
     "data": {
      "image/png": "[encoded data removed]",
      "text/plain": [
       "<Figure size 288x288 with 1 Axes>"
      ]
     },
     "metadata": {},
     "output_type": "display_data"
    }
   ],
   "source": [
    "from sklearn import svm\n",
    "\n",
    "# train model\n",
    "model = svm.SVC(random_state=seed)\n",
    "evaluate(model)"
   ]
  },
  {
   "cell_type": "markdown",
   "metadata": {},
   "source": [
    "<h2>kNN classifier</h2>"
   ]
  },
  {
   "cell_type": "code",
   "execution_count": 7,
   "metadata": {},
   "outputs": [
    {
     "name": "stdout",
     "output_type": "stream",
     "text": [
      "-- Training data --\n",
      "Accuracy: 100.00%\n",
      "Confusion Matrix:\n",
      "[[140   0   0   0   0   0]\n",
      " [  0  34   0   0   0   0]\n",
      " [  0   0  18   0   0   0]\n",
      " [  0   0   0 152   0   0]\n",
      " [  0   0   0   0  58   0]\n",
      " [  0   0   0   0   0  26]]\n"
     ]
    },
    {
     "data": {
      "image/png": "[encoded data removed]",
      "text/plain": [
       "<Figure size 288x288 with 1 Axes>"
      ]
     },
     "metadata": {},
     "output_type": "display_data"
    },
    {
     "name": "stdout",
     "output_type": "stream",
     "text": [
      "\n",
      "-- 10-fold CV --\n",
      "Average accuracy: 83.64%\n",
      "Confusion Matrix:\n",
      "[[140   0   0   0   0   0]\n",
      " [ 12  22   0   0   0   0]\n",
      " [  0   0  18   0   0   0]\n",
      " [ 28  10   2 112   0   0]\n",
      " [  2   0   2   6  48   0]\n",
      " [  2   0   0   4   2  18]]\n"
     ]
    },
    {
     "data": {
      "image/png": "[encoded data removed]",
      "text/plain": [
       "<Figure size 288x288 with 1 Axes>"
      ]
     },
     "metadata": {},
     "output_type": "display_data"
    }
   ],
   "source": [
    "from sklearn.neighbors import KNeighborsClassifier\n",
    "\n",
    "# train model\n",
    "model = KNeighborsClassifier(n_neighbors=2)\n",
    "evaluate(model)"
   ]
  },
  {
   "cell_type": "markdown",
   "metadata": {},
   "source": [
    "<h2>XGBoost classifier</h2>"
   ]
  },
  {
   "cell_type": "code",
   "execution_count": 8,
   "metadata": {},
   "outputs": [
    {
     "name": "stdout",
     "output_type": "stream",
     "text": [
      "-- Training data --\n",
      "Accuracy: 100.00%\n",
      "Confusion Matrix:\n",
      "[[140   0   0   0   0   0]\n",
      " [  0  34   0   0   0   0]\n",
      " [  0   0  18   0   0   0]\n",
      " [  0   0   0 152   0   0]\n",
      " [  0   0   0   0  58   0]\n",
      " [  0   0   0   0   0  26]]\n"
     ]
    },
    {
     "data": {
      "image/png": "[encoded data removed]",
      "text/plain": [
       "<Figure size 288x288 with 1 Axes>"
      ]
     },
     "metadata": {},
     "output_type": "display_data"
    },
    {
     "name": "stdout",
     "output_type": "stream",
     "text": [
      "\n",
      "-- 10-fold CV --\n",
      "Average accuracy: 99.07%\n",
      "Confusion Matrix:\n",
      "[[138   0   0   2   0   0]\n",
      " [  2  32   0   0   0   0]\n",
      " [  0   0  18   0   0   0]\n",
      " [  0   0   0 152   0   0]\n",
      " [  0   0   0   0  58   0]\n",
      " [  0   0   0   0   0  26]]\n"
     ]
    },
    {
     "data": {
      "image/png": "[encoded data removed]",
      "text/plain": [
       "<Figure size 288x288 with 1 Axes>"
      ]
     },
     "metadata": {},
     "output_type": "display_data"
    }
   ],
   "source": [
    "from xgboost import XGBClassifier\n",
    "\n",
    "# Ignore deprecation warnings\n",
    "import warnings\n",
    "warnings.filterwarnings(\"ignore\", category=Warning)\n",
    "\n",
    "# train model\n",
    "model = XGBClassifier(random_state=seed)\n",
    "evaluate(model)"
   ]
  },
  {
   "cell_type": "markdown",
   "metadata": {},
   "source": [
    "<h2>Plot attributes</h2>"
   ]
  },
  {
   "cell_type": "code",
   "execution_count": 9,
   "metadata": {},
   "outputs": [
    {
     "data": {
      "image/png": "[encoded data removed]",
      "text/plain": [
       "<Figure size 1440x1080 with 9 Axes>"
      ]
     },
     "metadata": {},
     "output_type": "display_data"
    }
   ],
   "source": [
    "%matplotlib inline\n",
    "import matplotlib.pyplot as plt\n",
    "df.hist(bins=50, figsize=(20,15))\n",
    "plt.show()"
   ]
  },
  {
   "cell_type": "code",
   "execution_count": null,
   "metadata": {},
   "outputs": [],
   "source": []
  }
 ],
 "metadata": {
  "kernelspec": {
   "display_name": "Python 3",
   "language": "python",
   "name": "python3"
  },
  "language_info": {
   "codemirror_mode": {
    "name": "ipython",
    "version": 3
   },
   "file_extension": ".py",
   "mimetype": "text/x-python",
   "name": "python",
   "nbconvert_exporter": "python",
   "pygments_lexer": "ipython3",
   "version": "3.6.0b3"
  }
 },
 "nbformat": 4,
 "nbformat_minor": 2
}
