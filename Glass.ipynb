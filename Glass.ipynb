{
 "cells": [
  {
   "cell_type": "markdown",
   "metadata": {},
   "source": [
    "<h2>Load data</h2>"
   ]
  },
  {
   "cell_type": "code",
   "execution_count": 1,
   "metadata": {},
   "outputs": [
    {
     "name": "stdout",
     "output_type": "stream",
     "text": [
      "Attributes: 9\n",
      "Examples: 214\n"
     ]
    }
   ],
   "source": [
    "from numpy import loadtxt\n",
    "import numpy as np\n",
    "import pandas as pd\n",
    "from sklearn.utils import shuffle\n",
    "from sklearn.preprocessing import LabelEncoder\n",
    "\n",
    "# load data\n",
    "df = pd.read_csv('data/glass.csv')\n",
    "np_data = df.values\n",
    "\n",
    "# split data into X and y\n",
    "X_raw = np_data[:,0:9]\n",
    "# Convert class label strings to integers\n",
    "Y_raw = np_data[:,-1]\n",
    "encoder = LabelEncoder()\n",
    "encoder.fit(Y_raw)\n",
    "Y = encoder.transform(Y_raw)\n",
    "\n",
    "# Normalize attributes\n",
    "from sklearn.preprocessing import StandardScaler\n",
    "scaler = StandardScaler()\n",
    "X = scaler.fit_transform(X_raw.astype(np.float64))\n",
    "\n",
    "# shuffle data\n",
    "X, Y = shuffle(X, Y, random_state=0)\n",
    "\n",
    "# set seed to randomizer\n",
    "seed = 7\n",
    "\n",
    "print(\"Attributes: {}\".format(X_raw.shape[1]))\n",
    "print(\"Examples: {}\".format(X_raw.shape[0]))"
   ]
  },
  {
   "cell_type": "markdown",
   "metadata": {},
   "source": [
    "<h2>Function for evaluating model accuracy</h2>"
   ]
  },
  {
   "cell_type": "code",
   "execution_count": 2,
   "metadata": {},
   "outputs": [],
   "source": [
    "from sklearn.metrics import accuracy_score\n",
    "from sklearn.model_selection import cross_val_predict\n",
    "from sklearn.metrics import confusion_matrix\n",
    "\n",
    "%matplotlib inline\n",
    "import matplotlib\n",
    "import matplotlib.pyplot as plt\n",
    "\n",
    "def evaluate(model):\n",
    "    print(\"-- Training data --\")\n",
    "    # train model on training dataset\n",
    "    model.fit(X, Y)\n",
    "    # evaluate dataset\n",
    "    y_pred = model.predict(X)\n",
    "    # calculate accuracy\n",
    "    accuracy = accuracy_score(Y, y_pred)\n",
    "    print(\"Accuracy: %.2f%%\" % (accuracy * 100.0))\n",
    "    # confusion matrix\n",
    "    print(\"Confusion Matrix:\")\n",
    "    conf_mx = confusion_matrix(Y, y_pred)\n",
    "    print(conf_mx)\n",
    "    # Visualize (normalized) confusion matrix\n",
    "    row_sums = conf_mx.sum(axis=1, keepdims=True)\n",
    "    norm_conf_mx = conf_mx / row_sums\n",
    "    plt.matshow(norm_conf_mx, cmap=plt.cm.gray)\n",
    "    plt.show()\n",
    "    \n",
    "    print(\"\")\n",
    "    print(\"-- 3-fold CV --\")\n",
    "    # 10-fold CV\n",
    "    y_pred = cross_val_predict(model, X, Y, cv=3)\n",
    "    # calculate accuracy\n",
    "    accuracy = accuracy_score(Y, y_pred)\n",
    "    print(\"Average accuracy: %.2f%%\" % (accuracy * 100.0))\n",
    "    # confusion matrix\n",
    "    print(\"Confusion Matrix:\")\n",
    "    conf_mx = confusion_matrix(Y, y_pred)\n",
    "    print(conf_mx)\n",
    "    # Visualize (normalized) confusion matrix\n",
    "    row_sums = conf_mx.sum(axis=1, keepdims=True)\n",
    "    norm_conf_mx = conf_mx / row_sums\n",
    "    plt.matshow(norm_conf_mx, cmap=plt.cm.gray)\n",
    "    plt.show()"
   ]
  },
  {
   "cell_type": "markdown",
   "metadata": {},
   "source": [
    "<h2>Linear classifier</h2>"
   ]
  },
  {
   "cell_type": "code",
   "execution_count": 3,
   "metadata": {},
   "outputs": [
    {
     "name": "stdout",
     "output_type": "stream",
     "text": [
      "-- Training data --\n",
      "Accuracy: 71.03%\n",
      "Confusion Matrix:\n",
      "[[53 17  0  0  0  0]\n",
      " [18 53  2  2  0  1]\n",
      " [ 8  9  0  0  0  0]\n",
      " [ 0  2  0  9  1  1]\n",
      " [ 0  1  0  0 28  0]\n",
      " [ 0  0  0  0  0  9]]\n"
     ]
    },
    {
     "data": {
      "image/png": "[encoded data removed]",
      "text/plain": [
       "<Figure size 288x288 with 1 Axes>"
      ]
     },
     "metadata": {},
     "output_type": "display_data"
    },
    {
     "name": "stdout",
     "output_type": "stream",
     "text": [
      "\n",
      "-- 3-fold CV --\n",
      "Average accuracy: 65.89%\n",
      "Confusion Matrix:\n",
      "[[55 10  2  3  0  0]\n",
      " [23 41  3  4  3  2]\n",
      " [ 8  7  2  0  0  0]\n",
      " [ 0  4  0  8  1  0]\n",
      " [ 0  1  0  2 26  0]\n",
      " [ 0  0  0  0  0  9]]\n"
     ]
    },
    {
     "data": {
      "image/png": "[encoded data removed]",
      "text/plain": [
       "<Figure size 288x288 with 1 Axes>"
      ]
     },
     "metadata": {},
     "output_type": "display_data"
    }
   ],
   "source": [
    "from sklearn import linear_model\n",
    "\n",
    "# train model\n",
    "model = linear_model.SGDClassifier(max_iter=2000, random_state=seed)\n",
    "evaluate(model)"
   ]
  },
  {
   "cell_type": "markdown",
   "metadata": {},
   "source": [
    "<h2>Neural Network classifier</h2>"
   ]
  },
  {
   "cell_type": "code",
   "execution_count": 4,
   "metadata": {},
   "outputs": [
    {
     "name": "stdout",
     "output_type": "stream",
     "text": [
      "-- Training data --\n",
      "Accuracy: 81.78%\n",
      "Confusion Matrix:\n",
      "[[63  7  0  0  0  0]\n",
      " [15 61  0  0  0  0]\n",
      " [ 8  8  1  0  0  0]\n",
      " [ 0  0  0 13  0  0]\n",
      " [ 1  0  0  0 28  0]\n",
      " [ 0  0  0  0  0  9]]\n"
     ]
    },
    {
     "data": {
      "image/png": "[encoded data removed]",
      "text/plain": [
       "<Figure size 288x288 with 1 Axes>"
      ]
     },
     "metadata": {},
     "output_type": "display_data"
    },
    {
     "name": "stdout",
     "output_type": "stream",
     "text": [
      "\n",
      "-- 3-fold CV --\n",
      "Average accuracy: 68.22%\n",
      "Confusion Matrix:\n",
      "[[50 15  5  0  0  0]\n",
      " [15 54  3  2  1  1]\n",
      " [ 6  7  4  0  0  0]\n",
      " [ 0  3  0  7  3  0]\n",
      " [ 0  4  0  1 24  0]\n",
      " [ 0  0  0  1  1  7]]\n"
     ]
    },
    {
     "data": {
      "image/png": "[encoded data removed]",
      "text/plain": [
       "<Figure size 288x288 with 1 Axes>"
      ]
     },
     "metadata": {},
     "output_type": "display_data"
    }
   ],
   "source": [
    "from sklearn.neural_network import MLPClassifier\n",
    "\n",
    "# train model\n",
    "model = MLPClassifier(max_iter=2000, random_state=seed)\n",
    "evaluate(model)"
   ]
  },
  {
   "cell_type": "markdown",
   "metadata": {},
   "source": [
    "<h2>Decision Tree classifier</h2>"
   ]
  },
  {
   "cell_type": "code",
   "execution_count": 5,
   "metadata": {},
   "outputs": [
    {
     "name": "stdout",
     "output_type": "stream",
     "text": [
      "-- Training data --\n",
      "Accuracy: 83.64%\n",
      "Confusion Matrix:\n",
      "[[63  6  0  0  1  0]\n",
      " [ 3 69  0  1  1  2]\n",
      " [ 7  5  5  0  0  0]\n",
      " [ 0  1  0 11  1  0]\n",
      " [ 1  1  0  0 26  1]\n",
      " [ 2  2  0  0  0  5]]\n"
     ]
    },
    {
     "data": {
      "image/png": "[encoded data removed]",
      "text/plain": [
       "<Figure size 288x288 with 1 Axes>"
      ]
     },
     "metadata": {},
     "output_type": "display_data"
    },
    {
     "name": "stdout",
     "output_type": "stream",
     "text": [
      "\n",
      "-- 3-fold CV --\n",
      "Average accuracy: 64.49%\n",
      "Confusion Matrix:\n",
      "[[47 21  1  0  1  0]\n",
      " [15 50  6  3  1  1]\n",
      " [ 8  3  6  0  0  0]\n",
      " [ 0  1  0 10  1  1]\n",
      " [ 1  2  0  1 25  0]\n",
      " [ 1  2  3  3  0  0]]\n"
     ]
    },
    {
     "data": {
      "image/png": "[encoded data removed]",
      "text/plain": [
       "<Figure size 288x288 with 1 Axes>"
      ]
     },
     "metadata": {},
     "output_type": "display_data"
    }
   ],
   "source": [
    "from sklearn.tree import DecisionTreeClassifier\n",
    "\n",
    "# train model\n",
    "model = DecisionTreeClassifier(min_samples_leaf=5, random_state=seed)\n",
    "evaluate(model)"
   ]
  },
  {
   "cell_type": "markdown",
   "metadata": {},
   "source": [
    "<h2>SVM classifier</h2>"
   ]
  },
  {
   "cell_type": "code",
   "execution_count": 6,
   "metadata": {},
   "outputs": [
    {
     "name": "stdout",
     "output_type": "stream",
     "text": [
      "-- Training data --\n",
      "Accuracy: 78.97%\n",
      "Confusion Matrix:\n",
      "[[59 11  0  0  0  0]\n",
      " [15 61  0  0  0  0]\n",
      " [10  7  0  0  0  0]\n",
      " [ 0  0  0 13  0  0]\n",
      " [ 1  0  0  0 28  0]\n",
      " [ 0  1  0  0  0  8]]\n"
     ]
    },
    {
     "data": {
      "image/png": "[encoded data removed]",
      "text/plain": [
       "<Figure size 288x288 with 1 Axes>"
      ]
     },
     "metadata": {},
     "output_type": "display_data"
    },
    {
     "name": "stdout",
     "output_type": "stream",
     "text": [
      "\n",
      "-- 3-fold CV --\n",
      "Average accuracy: 70.09%\n",
      "Confusion Matrix:\n",
      "[[57 13  0  0  0  0]\n",
      " [15 60  0  1  0  0]\n",
      " [10  7  0  0  0  0]\n",
      " [ 0  7  0  6  0  0]\n",
      " [ 1  5  0  0 23  0]\n",
      " [ 2  3  0  0  0  4]]\n"
     ]
    },
    {
     "data": {
      "image/png": "[encoded data removed]",
      "text/plain": [
       "<Figure size 288x288 with 1 Axes>"
      ]
     },
     "metadata": {},
     "output_type": "display_data"
    }
   ],
   "source": [
    "from sklearn import svm\n",
    "\n",
    "# train model\n",
    "model = svm.SVC(random_state=seed)\n",
    "evaluate(model)"
   ]
  },
  {
   "cell_type": "markdown",
   "metadata": {},
   "source": [
    "<h2>kNN classifier</h2>"
   ]
  },
  {
   "cell_type": "code",
   "execution_count": 7,
   "metadata": {},
   "outputs": [
    {
     "name": "stdout",
     "output_type": "stream",
     "text": [
      "-- Training data --\n",
      "Accuracy: 83.64%\n",
      "Confusion Matrix:\n",
      "[[70  0  0  0  0  0]\n",
      " [14 62  0  0  0  0]\n",
      " [ 6  5  6  0  0  0]\n",
      " [ 1  2  0 10  0  0]\n",
      " [ 1  3  0  1 24  0]\n",
      " [ 0  2  0  0  0  7]]\n"
     ]
    },
    {
     "data": {
      "image/png": "[encoded data removed]",
      "text/plain": [
       "<Figure size 288x288 with 1 Axes>"
      ]
     },
     "metadata": {},
     "output_type": "display_data"
    },
    {
     "name": "stdout",
     "output_type": "stream",
     "text": [
      "\n",
      "-- 3-fold CV --\n",
      "Average accuracy: 71.50%\n",
      "Confusion Matrix:\n",
      "[[63  6  1  0  0  0]\n",
      " [21 54  0  1  0  0]\n",
      " [14  2  1  0  0  0]\n",
      " [ 1  5  0  6  1  0]\n",
      " [ 3  2  0  1 23  0]\n",
      " [ 0  2  0  0  1  6]]\n"
     ]
    },
    {
     "data": {
      "image/png": "[encoded data removed]",
      "text/plain": [
       "<Figure size 288x288 with 1 Axes>"
      ]
     },
     "metadata": {},
     "output_type": "display_data"
    }
   ],
   "source": [
    "from sklearn.neighbors import KNeighborsClassifier\n",
    "\n",
    "# train model\n",
    "model = KNeighborsClassifier(n_neighbors=2)\n",
    "evaluate(model)"
   ]
  },
  {
   "cell_type": "markdown",
   "metadata": {},
   "source": [
    "<h2>XGBoost classifier</h2>"
   ]
  },
  {
   "cell_type": "code",
   "execution_count": 8,
   "metadata": {},
   "outputs": [
    {
     "name": "stdout",
     "output_type": "stream",
     "text": [
      "-- Training data --\n",
      "Accuracy: 100.00%\n",
      "Confusion Matrix:\n",
      "[[70  0  0  0  0  0]\n",
      " [ 0 76  0  0  0  0]\n",
      " [ 0  0 17  0  0  0]\n",
      " [ 0  0  0 13  0  0]\n",
      " [ 0  0  0  0 29  0]\n",
      " [ 0  0  0  0  0  9]]\n"
     ]
    },
    {
     "data": {
      "image/png": "[encoded data removed]",
      "text/plain": [
       "<Figure size 288x288 with 1 Axes>"
      ]
     },
     "metadata": {},
     "output_type": "display_data"
    },
    {
     "name": "stdout",
     "output_type": "stream",
     "text": [
      "\n",
      "-- 3-fold CV --\n",
      "Average accuracy: 81.31%\n",
      "Confusion Matrix:\n",
      "[[61  6  2  0  0  1]\n",
      " [ 6 63  3  2  1  1]\n",
      " [ 8  4  4  0  0  1]\n",
      " [ 0  1  0 11  1  0]\n",
      " [ 1  0  0  2 26  0]\n",
      " [ 0  0  0  0  0  9]]\n"
     ]
    },
    {
     "data": {
      "image/png": "[encoded data removed]",
      "text/plain": [
       "<Figure size 288x288 with 1 Axes>"
      ]
     },
     "metadata": {},
     "output_type": "display_data"
    }
   ],
   "source": [
    "from xgboost import XGBClassifier\n",
    "\n",
    "# Ignore deprecation warnings\n",
    "import warnings\n",
    "warnings.filterwarnings(\"ignore\", category=Warning)\n",
    "\n",
    "# train model\n",
    "model = XGBClassifier(random_state=seed)\n",
    "evaluate(model)"
   ]
  },
  {
   "cell_type": "markdown",
   "metadata": {},
   "source": [
    "<h2>Plot attributes</h2>"
   ]
  },
  {
   "cell_type": "code",
   "execution_count": 42,
   "metadata": {},
   "outputs": [
    {
     "data": {
      "image/png": "[encoded data removed]",
      "text/plain": [
       "<Figure size 1440x1080 with 9 Axes>"
      ]
     },
     "metadata": {},
     "output_type": "display_data"
    }
   ],
   "source": [
    "%matplotlib inline\n",
    "import matplotlib.pyplot as plt\n",
    "df.hist(bins=50, figsize=(20,15))\n",
    "plt.show()"
   ]
  },
  {
   "cell_type": "code",
   "execution_count": null,
   "metadata": {},
   "outputs": [],
   "source": []
  }
 ],
 "metadata": {
  "kernelspec": {
   "display_name": "Python 3",
   "language": "python",
   "name": "python3"
  },
  "language_info": {
   "codemirror_mode": {
    "name": "ipython",
    "version": 3
   },
   "file_extension": ".py",
   "mimetype": "text/x-python",
   "name": "python",
   "nbconvert_exporter": "python",
   "pygments_lexer": "ipython3",
   "version": "3.6.0b3"
  }
 },
 "nbformat": 4,
 "nbformat_minor": 2
}
