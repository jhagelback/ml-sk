{
 "cells": [
  {
   "cell_type": "markdown",
   "metadata": {},
   "source": [
    "<h2>Load data</h2>"
   ]
  },
  {
   "cell_type": "code",
   "execution_count": 11,
   "metadata": {},
   "outputs": [
    {
     "name": "stdout",
     "output_type": "stream",
     "text": [
      "[-2.38151559 -3.28694275 -1.86551055 -2.31861565 -3.67647162 -0.76391864\n",
      " -2.48408356 -0.35287683 -0.5864509 ]\n",
      "[5.13723188 4.87563749 1.25463857 4.12585061 3.57052422 8.78014487\n",
      " 5.09431802 5.99721046 4.65988118]\n",
      "[7.51874747 8.16258024 3.12014912 6.44446626 7.24699583 9.54406351\n",
      " 7.57840158 6.35008729 5.24633208]\n"
     ]
    }
   ],
   "source": [
    "from numpy import loadtxt\n",
    "import numpy as np\n",
    "\n",
    "# load data\n",
    "import pandas as pd\n",
    "df = pd.read_csv('data/glass.csv')\n",
    "np_data = df.values\n",
    "\n",
    "# split data into X and y\n",
    "X_raw = np_data[:,0:9]\n",
    "Y = pd.factorize(np_data[:,9])[0]\n",
    "\n",
    "# Normalize attributes\n",
    "from sklearn.preprocessing import StandardScaler\n",
    "scaler = StandardScaler()\n",
    "X = scaler.fit_transform(X_raw.astype(np.float64))\n",
    "\n",
    "# set seed to randomizer\n",
    "seed = 7\n",
    "\n",
    "# Show min, max and range of attributes\n",
    "attr_min = X.min(0)\n",
    "attr_max = X.max(0)\n",
    "attr_range = attr_max - attr_min\n",
    "print(attr_min)\n",
    "print(attr_max)\n",
    "print(attr_range)"
   ]
  },
  {
   "cell_type": "markdown",
   "metadata": {},
   "source": [
    "<h2>Function for evaluating model accuracy</h2>"
   ]
  },
  {
   "cell_type": "code",
   "execution_count": 30,
   "metadata": {},
   "outputs": [],
   "source": [
    "from sklearn.metrics import accuracy_score\n",
    "from sklearn.model_selection import cross_val_predict\n",
    "from sklearn.metrics import confusion_matrix\n",
    "\n",
    "%matplotlib inline\n",
    "import matplotlib\n",
    "import matplotlib.pyplot as plt\n",
    "\n",
    "def evaluate(model):\n",
    "    print(\"-- Training data --\")\n",
    "    # train model on training dataset\n",
    "    model.fit(X, Y)\n",
    "    # evaluate dataset\n",
    "    y_pred = model.predict(X)\n",
    "    predictions = [round(value) for value in y_pred]\n",
    "    # calculate accuracy\n",
    "    accuracy = accuracy_score(Y, predictions)\n",
    "    print(\"Accuracy: %.2f%%\" % (accuracy * 100.0))\n",
    "    # confusion matrix\n",
    "    print(\"Confusion Matrix:\")\n",
    "    conf_mx = confusion_matrix(Y, y_pred)\n",
    "    print(conf_mx)\n",
    "    # Visualize (normalized) confusion matrix\n",
    "    row_sums = conf_mx.sum(axis=1, keepdims=True)\n",
    "    norm_conf_mx = conf_mx / row_sums\n",
    "    plt.matshow(norm_conf_mx, cmap=plt.cm.gray)\n",
    "    plt.show()\n",
    "    \n",
    "    print(\"\")\n",
    "    print(\"-- 10-fold CV --\")\n",
    "    # 10-fold CV\n",
    "    y_pred = cross_val_predict(model, X, Y, cv=10)\n",
    "    # calculate accuracy\n",
    "    predictions = [round(value) for value in y_pred]\n",
    "    accuracy = accuracy_score(Y, predictions)\n",
    "    print(\"Average accuracy: %.2f%%\" % (accuracy * 100.0))\n",
    "    # confusion matrix\n",
    "    print(\"Confusion Matrix:\")\n",
    "    conf_mx = confusion_matrix(Y, y_pred)\n",
    "    print(conf_mx)\n",
    "    # Visualize (normalized) confusion matrix\n",
    "    row_sums = conf_mx.sum(axis=1, keepdims=True)\n",
    "    norm_conf_mx = conf_mx / row_sums\n",
    "    plt.matshow(norm_conf_mx, cmap=plt.cm.gray)\n",
    "    plt.show()"
   ]
  },
  {
   "cell_type": "markdown",
   "metadata": {},
   "source": [
    "<h2>Linear classifier</h2>"
   ]
  },
  {
   "cell_type": "code",
   "execution_count": 31,
   "metadata": {},
   "outputs": [
    {
     "name": "stdout",
     "output_type": "stream",
     "text": [
      "-- Training data --\n",
      "Accuracy: 69.63%\n",
      "Confusion Matrix:\n",
      "[[52  0  0 18  0  0]\n",
      " [ 8  0  0  9  0  0]\n",
      " [ 0  0  9  0  0  0]\n",
      " [17  3  1 50  0  5]\n",
      " [ 0  0  0  1 28  0]\n",
      " [ 0  0  0  2  1 10]]\n"
     ]
    },
    {
     "data": {
      "image/png": "[encoded data removed]",
      "text/plain": [
       "<Figure size 288x288 with 1 Axes>"
      ]
     },
     "metadata": {},
     "output_type": "display_data"
    },
    {
     "name": "stdout",
     "output_type": "stream",
     "text": [
      "\n",
      "-- 10-fold CV --\n",
      "Average accuracy: 65.89%\n",
      "Confusion Matrix:\n",
      "[[52  2  0 16  0  0]\n",
      " [ 8  0  0  9  0  0]\n",
      " [ 0  0  9  0  0  0]\n",
      " [19  0  2 50  1  4]\n",
      " [ 2  0  0  1 25  1]\n",
      " [ 0  1  0  6  1  5]]\n"
     ]
    },
    {
     "data": {
      "image/png": "[encoded data removed]",
      "text/plain": [
       "<Figure size 288x288 with 1 Axes>"
      ]
     },
     "metadata": {},
     "output_type": "display_data"
    }
   ],
   "source": [
    "from sklearn import linear_model\n",
    "\n",
    "# train model\n",
    "model = linear_model.SGDClassifier(max_iter=2000, random_state=seed)\n",
    "evaluate(model)"
   ]
  },
  {
   "cell_type": "markdown",
   "metadata": {},
   "source": [
    "<h2>Neural Network classifier</h2>"
   ]
  },
  {
   "cell_type": "code",
   "execution_count": 32,
   "metadata": {},
   "outputs": [
    {
     "name": "stdout",
     "output_type": "stream",
     "text": [
      "-- Training data --\n",
      "Accuracy: 78.04%\n",
      "Confusion Matrix:\n",
      "[[56  1  0 13  0  0]\n",
      " [ 8  0  0  9  0  0]\n",
      " [ 0  0  9  0  0  0]\n",
      " [13  0  0 63  0  0]\n",
      " [ 1  0  0  0 28  0]\n",
      " [ 0  0  0  2  0 11]]\n"
     ]
    },
    {
     "data": {
      "image/png": "[encoded data removed]",
      "text/plain": [
       "<Figure size 288x288 with 1 Axes>"
      ]
     },
     "metadata": {},
     "output_type": "display_data"
    },
    {
     "name": "stdout",
     "output_type": "stream",
     "text": [
      "\n",
      "-- 10-fold CV --\n",
      "Average accuracy: 70.09%\n",
      "Confusion Matrix:\n",
      "[[53  3  0 13  1  0]\n",
      " [ 5  8  0  4  0  0]\n",
      " [ 0  0  7  1  0  1]\n",
      " [19  3  1 50  0  3]\n",
      " [ 0  0  0  4 24  1]\n",
      " [ 0  0  0  5  0  8]]\n"
     ]
    },
    {
     "data": {
      "image/png": "[encoded data removed]",
      "text/plain": [
       "<Figure size 288x288 with 1 Axes>"
      ]
     },
     "metadata": {},
     "output_type": "display_data"
    }
   ],
   "source": [
    "from sklearn.neural_network import MLPClassifier\n",
    "\n",
    "# train model\n",
    "model = MLPClassifier(max_iter=2000, random_state=seed)\n",
    "evaluate(model)"
   ]
  },
  {
   "cell_type": "markdown",
   "metadata": {},
   "source": [
    "<h2>Decision Tree classifier</h2>"
   ]
  },
  {
   "cell_type": "code",
   "execution_count": 37,
   "metadata": {},
   "outputs": [
    {
     "name": "stdout",
     "output_type": "stream",
     "text": [
      "-- Training data --\n",
      "Accuracy: 83.64%\n",
      "Confusion Matrix:\n",
      "[[63  0  0  6  1  0]\n",
      " [ 7  5  0  5  0  0]\n",
      " [ 2  0  5  2  0  0]\n",
      " [ 3  0  2 69  1  1]\n",
      " [ 1  0  1  1 26  0]\n",
      " [ 0  0  0  1  1 11]]\n"
     ]
    },
    {
     "data": {
      "image/png": "[encoded data removed]",
      "text/plain": [
       "<Figure size 288x288 with 1 Axes>"
      ]
     },
     "metadata": {},
     "output_type": "display_data"
    },
    {
     "name": "stdout",
     "output_type": "stream",
     "text": [
      "\n",
      "-- 10-fold CV --\n",
      "Average accuracy: 71.03%\n",
      "Confusion Matrix:\n",
      "[[58  2  0  9  1  0]\n",
      " [ 7  4  0  6  0  0]\n",
      " [ 2  0  4  3  0  0]\n",
      " [18  3  2 50  1  2]\n",
      " [ 1  0  2  1 25  0]\n",
      " [ 0  0  0  1  1 11]]\n"
     ]
    },
    {
     "data": {
      "image/png": "[encoded data removed]",
      "text/plain": [
       "<Figure size 288x288 with 1 Axes>"
      ]
     },
     "metadata": {},
     "output_type": "display_data"
    }
   ],
   "source": [
    "from sklearn.tree import DecisionTreeClassifier\n",
    "\n",
    "# train model\n",
    "model = DecisionTreeClassifier(min_samples_leaf=5, random_state=seed)\n",
    "evaluate(model)"
   ]
  },
  {
   "cell_type": "markdown",
   "metadata": {},
   "source": [
    "<h2>SVM classifier</h2>"
   ]
  },
  {
   "cell_type": "code",
   "execution_count": 38,
   "metadata": {},
   "outputs": [
    {
     "name": "stdout",
     "output_type": "stream",
     "text": [
      "-- Training data --\n",
      "Accuracy: 78.97%\n",
      "Confusion Matrix:\n",
      "[[59  0  0 11  0  0]\n",
      " [10  0  0  7  0  0]\n",
      " [ 0  0  8  1  0  0]\n",
      " [15  0  0 61  0  0]\n",
      " [ 1  0  0  0 28  0]\n",
      " [ 0  0  0  0  0 13]]\n"
     ]
    },
    {
     "data": {
      "image/png": "[encoded data removed]",
      "text/plain": [
       "<Figure size 288x288 with 1 Axes>"
      ]
     },
     "metadata": {},
     "output_type": "display_data"
    },
    {
     "name": "stdout",
     "output_type": "stream",
     "text": [
      "\n",
      "-- 10-fold CV --\n",
      "Average accuracy: 71.03%\n",
      "Confusion Matrix:\n",
      "[[57  0  0 13  0  0]\n",
      " [ 9  0  0  8  0  0]\n",
      " [ 1  0  4  3  0  1]\n",
      " [20  0  0 56  0  0]\n",
      " [ 1  0  0  3 25  0]\n",
      " [ 0  0  0  2  1 10]]\n"
     ]
    },
    {
     "data": {
      "image/png": "[encoded data removed]",
      "text/plain": [
       "<Figure size 288x288 with 1 Axes>"
      ]
     },
     "metadata": {},
     "output_type": "display_data"
    }
   ],
   "source": [
    "from sklearn import svm\n",
    "\n",
    "# train model\n",
    "model = svm.SVC(random_state=seed)\n",
    "evaluate(model)"
   ]
  },
  {
   "cell_type": "markdown",
   "metadata": {},
   "source": [
    "<h2>kNN classifier</h2>"
   ]
  },
  {
   "cell_type": "code",
   "execution_count": 40,
   "metadata": {},
   "outputs": [
    {
     "name": "stdout",
     "output_type": "stream",
     "text": [
      "-- Training data --\n",
      "Accuracy: 83.64%\n",
      "Confusion Matrix:\n",
      "[[70  0  0  0  0  0]\n",
      " [ 6 11  0  0  0  0]\n",
      " [ 0  0  9  0  0  0]\n",
      " [14  5  1 56  0  0]\n",
      " [ 1  0  1  3 24  0]\n",
      " [ 1  0  0  2  1  9]]\n"
     ]
    },
    {
     "data": {
      "image/png": "[encoded data removed]",
      "text/plain": [
       "<Figure size 288x288 with 1 Axes>"
      ]
     },
     "metadata": {},
     "output_type": "display_data"
    },
    {
     "name": "stdout",
     "output_type": "stream",
     "text": [
      "\n",
      "-- 10-fold CV --\n",
      "Average accuracy: 70.09%\n",
      "Confusion Matrix:\n",
      "[[62  3  0  5  0  0]\n",
      " [11  5  0  1  0  0]\n",
      " [ 0  0  8  1  0  0]\n",
      " [21  8  1 45  0  1]\n",
      " [ 3  0  0  2 24  0]\n",
      " [ 1  0  0  3  3  6]]\n"
     ]
    },
    {
     "data": {
      "image/png": "[encoded data removed]",
      "text/plain": [
       "<Figure size 288x288 with 1 Axes>"
      ]
     },
     "metadata": {},
     "output_type": "display_data"
    }
   ],
   "source": [
    "from sklearn.neighbors import KNeighborsClassifier\n",
    "\n",
    "# train model\n",
    "model = KNeighborsClassifier(n_neighbors=2)\n",
    "evaluate(model)"
   ]
  },
  {
   "cell_type": "markdown",
   "metadata": {},
   "source": [
    "<h2>XGBoost classifier</h2>"
   ]
  },
  {
   "cell_type": "code",
   "execution_count": 41,
   "metadata": {},
   "outputs": [
    {
     "name": "stdout",
     "output_type": "stream",
     "text": [
      "-- Training data --\n",
      "Accuracy: 100.00%\n",
      "Confusion Matrix:\n",
      "[[70  0  0  0  0  0]\n",
      " [ 0 17  0  0  0  0]\n",
      " [ 0  0  9  0  0  0]\n",
      " [ 0  0  0 76  0  0]\n",
      " [ 0  0  0  0 29  0]\n",
      " [ 0  0  0  0  0 13]]\n"
     ]
    },
    {
     "data": {
      "image/png": "[encoded data removed]",
      "text/plain": [
       "<Figure size 288x288 with 1 Axes>"
      ]
     },
     "metadata": {},
     "output_type": "display_data"
    },
    {
     "name": "stdout",
     "output_type": "stream",
     "text": [
      "\n",
      "-- 10-fold CV --\n",
      "Average accuracy: 77.10%\n",
      "Confusion Matrix:\n",
      "[[57  4  0  9  0  0]\n",
      " [ 8  5  0  4  0  0]\n",
      " [ 0  0  8  0  0  1]\n",
      " [10  2  1 61  1  1]\n",
      " [ 1  0  0  2 25  1]\n",
      " [ 0  0  0  3  1  9]]\n"
     ]
    },
    {
     "data": {
      "image/png": "[encoded data removed]",
      "text/plain": [
       "<Figure size 288x288 with 1 Axes>"
      ]
     },
     "metadata": {},
     "output_type": "display_data"
    }
   ],
   "source": [
    "from xgboost import XGBClassifier\n",
    "\n",
    "# Ignore deprecation warnings\n",
    "import warnings\n",
    "warnings.filterwarnings(\"ignore\", category=Warning)\n",
    "\n",
    "# train model\n",
    "model = XGBClassifier(random_state=seed)\n",
    "evaluate(model)"
   ]
  },
  {
   "cell_type": "markdown",
   "metadata": {},
   "source": [
    "<h2>Plot attributes</h2>"
   ]
  },
  {
   "cell_type": "code",
   "execution_count": 42,
   "metadata": {},
   "outputs": [
    {
     "data": {
      "image/png": "[encoded data removed]",
      "text/plain": [
       "<Figure size 1440x1080 with 9 Axes>"
      ]
     },
     "metadata": {},
     "output_type": "display_data"
    }
   ],
   "source": [
    "%matplotlib inline\n",
    "import matplotlib.pyplot as plt\n",
    "df.hist(bins=50, figsize=(20,15))\n",
    "plt.show()"
   ]
  },
  {
   "cell_type": "code",
   "execution_count": null,
   "metadata": {},
   "outputs": [],
   "source": []
  }
 ],
 "metadata": {
  "kernelspec": {
   "display_name": "Python 3",
   "language": "python",
   "name": "python3"
  },
  "language_info": {
   "codemirror_mode": {
    "name": "ipython",
    "version": 3
   },
   "file_extension": ".py",
   "mimetype": "text/x-python",
   "name": "python",
   "nbconvert_exporter": "python",
   "pygments_lexer": "ipython3",
   "version": "3.6.0b3"
  }
 },
 "nbformat": 4,
 "nbformat_minor": 2
}
