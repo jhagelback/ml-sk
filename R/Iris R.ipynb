{
 "cells": [
  {
   "cell_type": "markdown",
   "metadata": {
    "kernel": "R"
   },
   "source": [
    "# Iris dataset in R"
   ]
  },
  {
   "cell_type": "markdown",
   "metadata": {
    "kernel": "SoS"
   },
   "source": [
    "### Load data"
   ]
  },
  {
   "cell_type": "code",
   "execution_count": 1,
   "metadata": {
    "kernel": "R"
   },
   "outputs": [
    {
     "name": "stderr",
     "output_type": "stream",
     "text": [
      "Loading required package: lattice\n",
      "Loading required package: ggplot2\n",
      "randomForest 4.6-14\n",
      "Type rfNews() to see new features/changes/bug fixes.\n",
      "\n",
      "Attaching package: ‘randomForest’\n",
      "\n",
      "The following object is masked from ‘package:ggplot2’:\n",
      "\n",
      "    margin\n",
      "\n"
     ]
    }
   ],
   "source": [
    "# Load the ML library\n",
    "library(caret)\n",
    "library(randomForest)\n",
    "\n",
    "# Read the dataset\n",
    "dataset <- read.csv(\"../data/iris.csv\")\n",
    "\n",
    "# Split into 20% validation and 80% training\n",
    "val_index <- createDataPartition(dataset$species, p=0.80, list=FALSE)\n",
    "validation <- dataset[-val_index,]\n",
    "training <- dataset[val_index,]\n",
    "\n",
    "# Train ML models and estimate accuracy on test data\n",
    "# Setup 10-fold cross validation\n",
    "control <- trainControl(method=\"cv\", number=10)\n",
    "metric <- \"Accuracy\"\n",
    "\n",
    "# Set randomizer seed\n",
    "set.seed(7)"
   ]
  },
  {
   "cell_type": "markdown",
   "metadata": {
    "kernel": "R"
   },
   "source": [
    "### Train classifiers "
   ]
  },
  {
   "cell_type": "code",
   "execution_count": 2,
   "metadata": {
    "kernel": "R"
   },
   "outputs": [],
   "source": [
    "# Classification and Regression Trees (CART)\n",
    "fit.cart <- train(species~., data=training, method=\"rpart\", metric=metric, trControl=control)\n",
    "# k-Nearest Neighbors (kNN)\n",
    "fit.knn <- train(species~., data=training, method=\"knn\", metric=metric, trControl=control)\n",
    "# Random Forest\n",
    "fit.rf <- train(species~., data=training, method=\"rf\", metric=metric, trControl=control)"
   ]
  },
  {
   "cell_type": "markdown",
   "metadata": {
    "kernel": "R"
   },
   "source": [
    "### Evaluate results"
   ]
  },
  {
   "cell_type": "code",
   "execution_count": 3,
   "metadata": {
    "kernel": "R"
   },
   "outputs": [
    {
     "data": {
      "text/plain": [
       "\n",
       "Call:\n",
       "summary.resamples(object = results)\n",
       "\n",
       "Models: cart, knn, rf \n",
       "Number of resamples: 10 \n",
       "\n",
       "Accuracy \n",
       "          Min.   1st Qu. Median      Mean 3rd Qu. Max. NA's\n",
       "cart 0.8333333 0.9375000      1 0.9583333       1    1    0\n",
       "knn  0.9166667 0.9375000      1 0.9750000       1    1    0\n",
       "rf   0.8333333 0.9166667      1 0.9583333       1    1    0\n",
       "\n",
       "Kappa \n",
       "      Min. 1st Qu. Median   Mean 3rd Qu. Max. NA's\n",
       "cart 0.750 0.90625      1 0.9375       1    1    0\n",
       "knn  0.875 0.90625      1 0.9625       1    1    0\n",
       "rf   0.750 0.87500      1 0.9375       1    1    0\n"
      ]
     },
     "metadata": {},
     "output_type": "display_data"
    }
   ],
   "source": [
    "# Evaluate the models and check which one is best\n",
    "# Summarize accuracy of the models\n",
    "results <- resamples(list(cart=fit.cart, knn=fit.knn, rf=fit.rf))\n",
    "summary(results)"
   ]
  },
  {
   "cell_type": "markdown",
   "metadata": {
    "kernel": "R"
   },
   "source": [
    "### Evaluate best model on validation set"
   ]
  },
  {
   "cell_type": "code",
   "execution_count": 4,
   "metadata": {
    "kernel": "R"
   },
   "outputs": [
    {
     "data": {
      "text/plain": [
       "Confusion Matrix and Statistics\n",
       "\n",
       "                 Reference\n",
       "Prediction        Iris-setosa Iris-versicolor Iris-virginica\n",
       "  Iris-setosa              10               0              0\n",
       "  Iris-versicolor           0              10              0\n",
       "  Iris-virginica            0               0             10\n",
       "\n",
       "Overall Statistics\n",
       "                                     \n",
       "               Accuracy : 1          \n",
       "                 95% CI : (0.8843, 1)\n",
       "    No Information Rate : 0.3333     \n",
       "    P-Value [Acc > NIR] : 4.857e-15  \n",
       "                                     \n",
       "                  Kappa : 1          \n",
       "                                     \n",
       " Mcnemar's Test P-Value : NA         \n",
       "\n",
       "Statistics by Class:\n",
       "\n",
       "                     Class: Iris-setosa Class: Iris-versicolor\n",
       "Sensitivity                      1.0000                 1.0000\n",
       "Specificity                      1.0000                 1.0000\n",
       "Pos Pred Value                   1.0000                 1.0000\n",
       "Neg Pred Value                   1.0000                 1.0000\n",
       "Prevalence                       0.3333                 0.3333\n",
       "Detection Rate                   0.3333                 0.3333\n",
       "Detection Prevalence             0.3333                 0.3333\n",
       "Balanced Accuracy                1.0000                 1.0000\n",
       "                     Class: Iris-virginica\n",
       "Sensitivity                         1.0000\n",
       "Specificity                         1.0000\n",
       "Pos Pred Value                      1.0000\n",
       "Neg Pred Value                      1.0000\n",
       "Prevalence                          0.3333\n",
       "Detection Rate                      0.3333\n",
       "Detection Prevalence                0.3333\n",
       "Balanced Accuracy                   1.0000"
      ]
     },
     "metadata": {},
     "output_type": "display_data"
    }
   ],
   "source": [
    "# Use the best model and evaluate on the validation dataset\n",
    "predictions <- predict(fit.knn, validation)\n",
    "confusionMatrix(predictions, validation$species)"
   ]
  },
  {
   "cell_type": "code",
   "execution_count": null,
   "metadata": {
    "kernel": "R"
   },
   "outputs": [],
   "source": []
  }
 ],
 "metadata": {
  "kernelspec": {
   "display_name": "R",
   "language": "R",
   "name": "ir"
  },
  "language_info": {
   "codemirror_mode": "r",
   "file_extension": ".r",
   "mimetype": "text/x-r-source",
   "name": "R",
   "pygments_lexer": "r",
   "version": "3.6.1"
  },
  "sos": {
   "kernels": [
    [
     "R",
     "ir",
     "R",
     "#DCDCDA",
     "r"
    ]
   ],
   "panel": {
    "displayed": false,
    "height": 0
   },
   "version": "0.19.9"
  }
 },
 "nbformat": 4,
 "nbformat_minor": 2
}
