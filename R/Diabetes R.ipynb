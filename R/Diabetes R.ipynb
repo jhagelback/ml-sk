{
 "cells": [
  {
   "cell_type": "markdown",
   "metadata": {},
   "source": [
    "# Diabetes dataset in R"
   ]
  },
  {
   "cell_type": "markdown",
   "metadata": {},
   "source": [
    "### Load data"
   ]
  },
  {
   "cell_type": "code",
   "execution_count": 2,
   "metadata": {},
   "outputs": [],
   "source": [
    "# Load the ML library\n",
    "library(caret)\n",
    "library(randomForest)\n",
    "\n",
    "# Read the dataset\n",
    "dataset <- read.csv(\"../data/diabetes.csv\")\n",
    "\n",
    "# Split into 20% validation and 80% training\n",
    "val_index <- createDataPartition(dataset$Diabetes, p=0.80, list=FALSE)\n",
    "validation <- dataset[-val_index,]\n",
    "training <- dataset[val_index,]\n",
    "\n",
    "# Train ML models and estimate accuracy on test data\n",
    "# Setup 10-fold cross validation\n",
    "control <- trainControl(method=\"cv\", number=10)\n",
    "metric <- \"Accuracy\"\n",
    "\n",
    "# Set randomizer seed\n",
    "set.seed(7)"
   ]
  },
  {
   "cell_type": "markdown",
   "metadata": {},
   "source": [
    "### Train classifiers"
   ]
  },
  {
   "cell_type": "code",
   "execution_count": 4,
   "metadata": {},
   "outputs": [],
   "source": [
    "# Support Vector Machines\n",
    "fit.svm <- train(Diabetes~., data=training, method=\"svmRadial\", metric=metric, trControl=control)\n",
    "# k-Nearest Neighbors (kNN)\n",
    "fit.nn <- train(Diabetes~., data=training, method=\"nnet\", metric=metric, trControl=control, trace=FALSE)\n",
    "# Random Forest\n",
    "fit.rf <- train(Diabetes~., data=training, method=\"rf\", metric=metric, trControl=control)"
   ]
  },
  {
   "cell_type": "markdown",
   "metadata": {},
   "source": [
    "### Evaluate results"
   ]
  },
  {
   "cell_type": "code",
   "execution_count": 5,
   "metadata": {},
   "outputs": [
    {
     "data": {
      "text/plain": [
       "\n",
       "Call:\n",
       "summary.resamples(object = results)\n",
       "\n",
       "Models: svm, nn, rf \n",
       "Number of resamples: 10 \n",
       "\n",
       "Accuracy \n",
       "         Min.   1st Qu.    Median      Mean   3rd Qu.      Max. NA's\n",
       "svm 0.6393443 0.6612903 0.6749075 0.6943416 0.7246827 0.7868852    0\n",
       "nn  0.6451613 0.7004892 0.7377049 0.7448440 0.7974617 0.8360656    0\n",
       "rf  0.6612903 0.7387626 0.7641460 0.7609995 0.8000397 0.8225806    0\n",
       "\n",
       "Kappa \n",
       "          Min.   1st Qu.    Median      Mean   3rd Qu.      Max. NA's\n",
       "svm 0.07575758 0.1852315 0.2162299 0.2590222 0.3604199 0.4873950    0\n",
       "nn  0.15594059 0.3224361 0.3898749 0.4030895 0.5432294 0.6104725    0\n",
       "rf  0.25258324 0.4072828 0.4938244 0.4641234 0.5361268 0.6084960    0\n"
      ]
     },
     "metadata": {},
     "output_type": "display_data"
    }
   ],
   "source": [
    "# Evaluate the models and check which one is best\n",
    "# Summarize accuracy of the models\n",
    "results <- resamples(list(svm=fit.svm, nn=fit.nn, rf=fit.rf))\n",
    "summary(results)"
   ]
  },
  {
   "cell_type": "markdown",
   "metadata": {},
   "source": [
    "### Evaluate best model on validation set"
   ]
  },
  {
   "cell_type": "code",
   "execution_count": 6,
   "metadata": {},
   "outputs": [
    {
     "data": {
      "text/plain": [
       "Confusion Matrix and Statistics\n",
       "\n",
       "          Reference\n",
       "Prediction NO YES\n",
       "       NO  88  24\n",
       "       YES 12  29\n",
       "                                          \n",
       "               Accuracy : 0.7647          \n",
       "                 95% CI : (0.6894, 0.8294)\n",
       "    No Information Rate : 0.6536          \n",
       "    P-Value [Acc > NIR] : 0.001988        \n",
       "                                          \n",
       "                  Kappa : 0.4512          \n",
       " Mcnemar's Test P-Value : 0.066753        \n",
       "                                          \n",
       "            Sensitivity : 0.8800          \n",
       "            Specificity : 0.5472          \n",
       "         Pos Pred Value : 0.7857          \n",
       "         Neg Pred Value : 0.7073          \n",
       "             Prevalence : 0.6536          \n",
       "         Detection Rate : 0.5752          \n",
       "   Detection Prevalence : 0.7320          \n",
       "      Balanced Accuracy : 0.7136          \n",
       "                                          \n",
       "       'Positive' Class : NO              \n",
       "                                          "
      ]
     },
     "metadata": {},
     "output_type": "display_data"
    }
   ],
   "source": [
    "# Use the best model and evaluate on the validation dataset\n",
    "predictions <- predict(fit.rf, validation)\n",
    "confusionMatrix(predictions, validation$Diabetes)"
   ]
  },
  {
   "cell_type": "code",
   "execution_count": null,
   "metadata": {},
   "outputs": [],
   "source": []
  }
 ],
 "metadata": {
  "kernelspec": {
   "display_name": "R",
   "language": "R",
   "name": "ir"
  },
  "language_info": {
   "codemirror_mode": "r",
   "file_extension": ".r",
   "mimetype": "text/x-r-source",
   "name": "R",
   "pygments_lexer": "r",
   "version": "3.4.2"
  }
 },
 "nbformat": 4,
 "nbformat_minor": 2
}
